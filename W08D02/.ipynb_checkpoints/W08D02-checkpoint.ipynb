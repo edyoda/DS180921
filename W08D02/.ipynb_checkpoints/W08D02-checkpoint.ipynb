{
 "cells": [
  {
   "cell_type": "code",
   "execution_count": 26,
   "id": "1bd30387",
   "metadata": {},
   "outputs": [],
   "source": [
    "class A:\n",
    "    def __money(self):\n",
    "        print(\"I've got dollars$$\")\n",
    "    \n",
    "    def drivingSkill(self):\n",
    "        self.__money()\n",
    "        print(\"I know to drive\")\n",
    "\n",
    "class B(A):\n",
    "    def values(self):\n",
    "        super().drivingSkill()\n",
    "        print(\"I've got values\")"
   ]
  },
  {
   "cell_type": "code",
   "execution_count": 30,
   "id": "0b697e09",
   "metadata": {},
   "outputs": [],
   "source": [
    "aditya = A()"
   ]
  },
  {
   "cell_type": "code",
   "execution_count": 31,
   "id": "c0a81706",
   "metadata": {},
   "outputs": [
    {
     "name": "stdout",
     "output_type": "stream",
     "text": [
      "I've got dollars$$\n"
     ]
    }
   ],
   "source": [
    "aditya._A__money()"
   ]
  },
  {
   "cell_type": "code",
   "execution_count": 27,
   "id": "83d5c4ed",
   "metadata": {},
   "outputs": [],
   "source": [
    "pavan = B()"
   ]
  },
  {
   "cell_type": "code",
   "execution_count": 28,
   "id": "d809910f",
   "metadata": {},
   "outputs": [
    {
     "name": "stdout",
     "output_type": "stream",
     "text": [
      "I've got dollars$$\n",
      "I know to drive\n"
     ]
    }
   ],
   "source": [
    "pavan.drivingSkill()"
   ]
  },
  {
   "cell_type": "code",
   "execution_count": null,
   "id": "488d0cc1",
   "metadata": {},
   "outputs": [],
   "source": [
    "print(\" \",pavan)"
   ]
  },
  {
   "cell_type": "code",
   "execution_count": 29,
   "id": "153783cb",
   "metadata": {},
   "outputs": [
    {
     "name": "stdout",
     "output_type": "stream",
     "text": [
      "0\n",
      "2\n",
      "4\n",
      "6\n",
      "8\n"
     ]
    }
   ],
   "source": [
    "for i in range(10):\n",
    "    if i%2 == 0:\n",
    "        print(i)\n",
    "    else:\n",
    "        pass"
   ]
  },
  {
   "cell_type": "markdown",
   "id": "521b20da",
   "metadata": {},
   "source": [
    "# Iterators and Generators"
   ]
  },
  {
   "cell_type": "code",
   "execution_count": null,
   "id": "c8eb0a6d",
   "metadata": {},
   "outputs": [],
   "source": [
    "iterables => list, tuple,string, dict, set, etc..."
   ]
  },
  {
   "cell_type": "code",
   "execution_count": 32,
   "id": "038b9171",
   "metadata": {},
   "outputs": [
    {
     "name": "stdout",
     "output_type": "stream",
     "text": [
      "1\n",
      "2\n",
      "5\n",
      "6\n"
     ]
    }
   ],
   "source": [
    "for i in {1,2,5,6}:\n",
    "    print(i)"
   ]
  },
  {
   "cell_type": "code",
   "execution_count": 33,
   "id": "f6596385",
   "metadata": {},
   "outputs": [],
   "source": [
    "l = iter(['Rahul','Sashi','Pooja','Abhay','Venkat'])"
   ]
  },
  {
   "cell_type": "code",
   "execution_count": 34,
   "id": "6138b2a4",
   "metadata": {},
   "outputs": [
    {
     "data": {
      "text/plain": [
       "<list_iterator at 0x1e5398f9370>"
      ]
     },
     "execution_count": 34,
     "metadata": {},
     "output_type": "execute_result"
    }
   ],
   "source": [
    "l"
   ]
  },
  {
   "cell_type": "code",
   "execution_count": 35,
   "id": "0921881e",
   "metadata": {},
   "outputs": [
    {
     "name": "stdout",
     "output_type": "stream",
     "text": [
      "Rahul\n"
     ]
    }
   ],
   "source": [
    "print(next(l))"
   ]
  },
  {
   "cell_type": "code",
   "execution_count": 36,
   "id": "105a31ff",
   "metadata": {},
   "outputs": [
    {
     "name": "stdout",
     "output_type": "stream",
     "text": [
      "Sashi\n"
     ]
    }
   ],
   "source": [
    "print(next(l))"
   ]
  },
  {
   "cell_type": "code",
   "execution_count": 37,
   "id": "8dfb7033",
   "metadata": {},
   "outputs": [
    {
     "name": "stdout",
     "output_type": "stream",
     "text": [
      "Pooja\n"
     ]
    }
   ],
   "source": [
    "print(next(l))"
   ]
  },
  {
   "cell_type": "code",
   "execution_count": 38,
   "id": "a07f68ec",
   "metadata": {},
   "outputs": [
    {
     "name": "stdout",
     "output_type": "stream",
     "text": [
      "Abhay\n"
     ]
    }
   ],
   "source": [
    "print(next(l))"
   ]
  },
  {
   "cell_type": "code",
   "execution_count": 39,
   "id": "65117302",
   "metadata": {},
   "outputs": [
    {
     "name": "stdout",
     "output_type": "stream",
     "text": [
      "Venkat\n"
     ]
    }
   ],
   "source": [
    "print(next(l))"
   ]
  },
  {
   "cell_type": "code",
   "execution_count": 40,
   "id": "c39a952c",
   "metadata": {},
   "outputs": [
    {
     "ename": "StopIteration",
     "evalue": "",
     "output_type": "error",
     "traceback": [
      "\u001b[1;31m---------------------------------------------------------------------------\u001b[0m",
      "\u001b[1;31mStopIteration\u001b[0m                             Traceback (most recent call last)",
      "\u001b[1;32mC:\\Users\\KUNALC~1\\AppData\\Local\\Temp/ipykernel_31324/2707336220.py\u001b[0m in \u001b[0;36m<module>\u001b[1;34m\u001b[0m\n\u001b[1;32m----> 1\u001b[1;33m \u001b[0mprint\u001b[0m\u001b[1;33m(\u001b[0m\u001b[0mnext\u001b[0m\u001b[1;33m(\u001b[0m\u001b[0ml\u001b[0m\u001b[1;33m)\u001b[0m\u001b[1;33m)\u001b[0m\u001b[1;33m\u001b[0m\u001b[1;33m\u001b[0m\u001b[0m\n\u001b[0m",
      "\u001b[1;31mStopIteration\u001b[0m: "
     ]
    }
   ],
   "source": [
    "print(next(l))"
   ]
  },
  {
   "cell_type": "code",
   "execution_count": 41,
   "id": "152174a4",
   "metadata": {},
   "outputs": [],
   "source": [
    "s = iter({'prem','Rajitha','Vijay','Rambabu','Pratik',\"Bhagvat\"})"
   ]
  },
  {
   "cell_type": "code",
   "execution_count": 42,
   "id": "230284b9",
   "metadata": {},
   "outputs": [
    {
     "name": "stdout",
     "output_type": "stream",
     "text": [
      "Pratik\n"
     ]
    }
   ],
   "source": [
    "print(next(s))"
   ]
  },
  {
   "cell_type": "code",
   "execution_count": 43,
   "id": "d6c5fe6d",
   "metadata": {},
   "outputs": [
    {
     "name": "stdout",
     "output_type": "stream",
     "text": [
      "Bhagvat\n"
     ]
    }
   ],
   "source": [
    "print(next(s))"
   ]
  },
  {
   "cell_type": "code",
   "execution_count": 44,
   "id": "6b4a634d",
   "metadata": {},
   "outputs": [
    {
     "name": "stdout",
     "output_type": "stream",
     "text": [
      "Rajitha\n"
     ]
    }
   ],
   "source": [
    "print(next(s))"
   ]
  },
  {
   "cell_type": "code",
   "execution_count": 45,
   "id": "66fc6c83",
   "metadata": {},
   "outputs": [
    {
     "name": "stdout",
     "output_type": "stream",
     "text": [
      "Rambabu\n"
     ]
    }
   ],
   "source": [
    "print(next(s))"
   ]
  },
  {
   "cell_type": "code",
   "execution_count": 46,
   "id": "67dc39cc",
   "metadata": {},
   "outputs": [
    {
     "name": "stdout",
     "output_type": "stream",
     "text": [
      "Vijay\n"
     ]
    }
   ],
   "source": [
    "print(next(s))"
   ]
  },
  {
   "cell_type": "code",
   "execution_count": 47,
   "id": "2d65cb69",
   "metadata": {},
   "outputs": [
    {
     "name": "stdout",
     "output_type": "stream",
     "text": [
      "prem\n"
     ]
    }
   ],
   "source": [
    "print(next(s))"
   ]
  },
  {
   "cell_type": "code",
   "execution_count": 48,
   "id": "8e85bf0a",
   "metadata": {},
   "outputs": [
    {
     "ename": "StopIteration",
     "evalue": "",
     "output_type": "error",
     "traceback": [
      "\u001b[1;31m---------------------------------------------------------------------------\u001b[0m",
      "\u001b[1;31mStopIteration\u001b[0m                             Traceback (most recent call last)",
      "\u001b[1;32mC:\\Users\\KUNALC~1\\AppData\\Local\\Temp/ipykernel_31324/2848242184.py\u001b[0m in \u001b[0;36m<module>\u001b[1;34m\u001b[0m\n\u001b[1;32m----> 1\u001b[1;33m \u001b[0mprint\u001b[0m\u001b[1;33m(\u001b[0m\u001b[0mnext\u001b[0m\u001b[1;33m(\u001b[0m\u001b[0ms\u001b[0m\u001b[1;33m)\u001b[0m\u001b[1;33m)\u001b[0m\u001b[1;33m\u001b[0m\u001b[1;33m\u001b[0m\u001b[0m\n\u001b[0m",
      "\u001b[1;31mStopIteration\u001b[0m: "
     ]
    }
   ],
   "source": [
    "print(next(s))"
   ]
  },
  {
   "cell_type": "code",
   "execution_count": 63,
   "id": "afaca2d9",
   "metadata": {},
   "outputs": [],
   "source": [
    "d0 = {'abhay':99,'adtiya':93,'anad':83}\n",
    "d = iter(d0)"
   ]
  },
  {
   "cell_type": "code",
   "execution_count": 64,
   "id": "593874b3",
   "metadata": {},
   "outputs": [
    {
     "name": "stdout",
     "output_type": "stream",
     "text": [
      "abhay 99\n"
     ]
    }
   ],
   "source": [
    "s = next(d)\n",
    "print(s,d0[s])"
   ]
  },
  {
   "cell_type": "code",
   "execution_count": 55,
   "id": "da225f48",
   "metadata": {},
   "outputs": [
    {
     "name": "stdout",
     "output_type": "stream",
     "text": [
      "93\n"
     ]
    }
   ],
   "source": [
    "print(d0[next(d)])"
   ]
  },
  {
   "cell_type": "code",
   "execution_count": 56,
   "id": "8a186e9e",
   "metadata": {},
   "outputs": [
    {
     "name": "stdout",
     "output_type": "stream",
     "text": [
      "83\n"
     ]
    }
   ],
   "source": [
    "print(d0[next(d)])"
   ]
  },
  {
   "cell_type": "code",
   "execution_count": 57,
   "id": "0f9cecbb",
   "metadata": {},
   "outputs": [
    {
     "ename": "StopIteration",
     "evalue": "",
     "output_type": "error",
     "traceback": [
      "\u001b[1;31m---------------------------------------------------------------------------\u001b[0m",
      "\u001b[1;31mStopIteration\u001b[0m                             Traceback (most recent call last)",
      "\u001b[1;32mC:\\Users\\KUNALC~1\\AppData\\Local\\Temp/ipykernel_31324/848644115.py\u001b[0m in \u001b[0;36m<module>\u001b[1;34m\u001b[0m\n\u001b[1;32m----> 1\u001b[1;33m \u001b[0mprint\u001b[0m\u001b[1;33m(\u001b[0m\u001b[0md0\u001b[0m\u001b[1;33m[\u001b[0m\u001b[0mnext\u001b[0m\u001b[1;33m(\u001b[0m\u001b[0md\u001b[0m\u001b[1;33m)\u001b[0m\u001b[1;33m]\u001b[0m\u001b[1;33m)\u001b[0m\u001b[1;33m\u001b[0m\u001b[1;33m\u001b[0m\u001b[0m\n\u001b[0m",
      "\u001b[1;31mStopIteration\u001b[0m: "
     ]
    }
   ],
   "source": [
    "print(d0[next(d)])"
   ]
  },
  {
   "cell_type": "code",
   "execution_count": 65,
   "id": "31f41b1e",
   "metadata": {},
   "outputs": [],
   "source": [
    "# An Iterator is an object which contains a countable number of values and \n",
    "# It is used to iterate over iterable objects like lists,tuple, sets,etc"
   ]
  },
  {
   "cell_type": "code",
   "execution_count": null,
   "id": "a2aa6889",
   "metadata": {},
   "outputs": [],
   "source": [
    "It follows lazy evaluation where the evaluation of the expression will be on hold\n",
    "and stored in the memory untill the item is called\n",
    "Specifialy which helps us to avoid repeated evaluation"
   ]
  },
  {
   "cell_type": "code",
   "execution_count": null,
   "id": "96bd121b",
   "metadata": {},
   "outputs": [],
   "source": [
    "iter() --> is used to create an iterator containig an iterable object\n",
    "next() --> is used to call the next element in the iterable object"
   ]
  },
  {
   "cell_type": "markdown",
   "id": "a36ed991",
   "metadata": {},
   "source": [
    "# Revised Map Lambda"
   ]
  },
  {
   "cell_type": "code",
   "execution_count": 67,
   "id": "19b1d744",
   "metadata": {},
   "outputs": [
    {
     "data": {
      "text/plain": [
       "[1, 4, 9]"
      ]
     },
     "execution_count": 67,
     "metadata": {},
     "output_type": "execute_result"
    }
   ],
   "source": [
    "list(map(lambda x:x**2,[1,2,3]))\n"
   ]
  },
  {
   "cell_type": "code",
   "execution_count": 68,
   "id": "e8032702",
   "metadata": {},
   "outputs": [],
   "source": [
    "l = [1, 2, 3, 4, 5, 6, 7, 8, 9, 10]\n",
    "value = list(map(lambda x:x**2 ,l))"
   ]
  },
  {
   "cell_type": "code",
   "execution_count": 69,
   "id": "9b9df73f",
   "metadata": {},
   "outputs": [
    {
     "data": {
      "text/plain": [
       "[1, 4, 9, 16, 25, 36, 49, 64, 81, 100]"
      ]
     },
     "execution_count": 69,
     "metadata": {},
     "output_type": "execute_result"
    }
   ],
   "source": [
    "value"
   ]
  },
  {
   "cell_type": "markdown",
   "id": "5ce972f5",
   "metadata": {},
   "source": [
    "# Generator"
   ]
  },
  {
   "cell_type": "code",
   "execution_count": 80,
   "id": "0b04b72d",
   "metadata": {},
   "outputs": [],
   "source": [
    "def sq_num(n):\n",
    "    for i in range(1,n+1):\n",
    "        yield i*i\n",
    "\n",
    "\n",
    "a = sq_num(3) "
   ]
  },
  {
   "cell_type": "code",
   "execution_count": 81,
   "id": "eb1dd989",
   "metadata": {},
   "outputs": [
    {
     "data": {
      "text/plain": [
       "1"
      ]
     },
     "execution_count": 81,
     "metadata": {},
     "output_type": "execute_result"
    }
   ],
   "source": [
    "next(a)"
   ]
  },
  {
   "cell_type": "code",
   "execution_count": 82,
   "id": "c1a59e25",
   "metadata": {},
   "outputs": [
    {
     "data": {
      "text/plain": [
       "4"
      ]
     },
     "execution_count": 82,
     "metadata": {},
     "output_type": "execute_result"
    }
   ],
   "source": [
    "next(a)"
   ]
  },
  {
   "cell_type": "code",
   "execution_count": 75,
   "id": "0f92839e",
   "metadata": {},
   "outputs": [
    {
     "data": {
      "text/plain": [
       "9"
      ]
     },
     "execution_count": 75,
     "metadata": {},
     "output_type": "execute_result"
    }
   ],
   "source": [
    "next(a)"
   ]
  },
  {
   "cell_type": "code",
   "execution_count": 76,
   "id": "8275ea60",
   "metadata": {},
   "outputs": [
    {
     "ename": "StopIteration",
     "evalue": "",
     "output_type": "error",
     "traceback": [
      "\u001b[1;31m---------------------------------------------------------------------------\u001b[0m",
      "\u001b[1;31mStopIteration\u001b[0m                             Traceback (most recent call last)",
      "\u001b[1;32mC:\\Users\\KUNALC~1\\AppData\\Local\\Temp/ipykernel_31324/1242322984.py\u001b[0m in \u001b[0;36m<module>\u001b[1;34m\u001b[0m\n\u001b[1;32m----> 1\u001b[1;33m \u001b[0mnext\u001b[0m\u001b[1;33m(\u001b[0m\u001b[0ma\u001b[0m\u001b[1;33m)\u001b[0m\u001b[1;33m\u001b[0m\u001b[1;33m\u001b[0m\u001b[0m\n\u001b[0m",
      "\u001b[1;31mStopIteration\u001b[0m: "
     ]
    }
   ],
   "source": [
    "next(a)"
   ]
  },
  {
   "cell_type": "code",
   "execution_count": 86,
   "id": "590b491d",
   "metadata": {},
   "outputs": [],
   "source": [
    "def sq_num(n):\n",
    "    for i in range(1,n+1):\n",
    "        yield i*i\n",
    "        print('Hey multiplication over')\n",
    "        yield i+i\n",
    "        print('Hey Addition is over')\n",
    "\n",
    "a = sq_num(3) "
   ]
  },
  {
   "cell_type": "code",
   "execution_count": 87,
   "id": "e0eb94b5",
   "metadata": {},
   "outputs": [
    {
     "data": {
      "text/plain": [
       "1"
      ]
     },
     "execution_count": 87,
     "metadata": {},
     "output_type": "execute_result"
    }
   ],
   "source": [
    "next(a)"
   ]
  },
  {
   "cell_type": "code",
   "execution_count": 88,
   "id": "a01796cb",
   "metadata": {},
   "outputs": [
    {
     "name": "stdout",
     "output_type": "stream",
     "text": [
      "Hey multiplication over\n"
     ]
    },
    {
     "data": {
      "text/plain": [
       "2"
      ]
     },
     "execution_count": 88,
     "metadata": {},
     "output_type": "execute_result"
    }
   ],
   "source": [
    "next(a)"
   ]
  },
  {
   "cell_type": "code",
   "execution_count": 89,
   "id": "6f3a7553",
   "metadata": {},
   "outputs": [
    {
     "name": "stdout",
     "output_type": "stream",
     "text": [
      "Hey Addition is over\n"
     ]
    },
    {
     "data": {
      "text/plain": [
       "4"
      ]
     },
     "execution_count": 89,
     "metadata": {},
     "output_type": "execute_result"
    }
   ],
   "source": [
    "next(a)"
   ]
  },
  {
   "cell_type": "code",
   "execution_count": 104,
   "id": "f670d253",
   "metadata": {},
   "outputs": [],
   "source": [
    "def func():\n",
    "    print('Go Rahul Go')\n",
    "    yield\n",
    "    print('Go Rahul Go')\n",
    "    yield\n",
    "    print('Khatam Tata Bye bye chala ja')\n",
    "    yield 5"
   ]
  },
  {
   "cell_type": "code",
   "execution_count": 105,
   "id": "d1aee94e",
   "metadata": {},
   "outputs": [],
   "source": [
    "x = func()"
   ]
  },
  {
   "cell_type": "code",
   "execution_count": 106,
   "id": "1c32143f",
   "metadata": {},
   "outputs": [
    {
     "name": "stdout",
     "output_type": "stream",
     "text": [
      "Go Rahul Go\n"
     ]
    }
   ],
   "source": [
    "next(x)"
   ]
  },
  {
   "cell_type": "code",
   "execution_count": 107,
   "id": "a97d7cf8",
   "metadata": {},
   "outputs": [
    {
     "name": "stdout",
     "output_type": "stream",
     "text": [
      "Go Rahul Go\n"
     ]
    }
   ],
   "source": [
    "next(x)"
   ]
  },
  {
   "cell_type": "code",
   "execution_count": 108,
   "id": "e5f6f86b",
   "metadata": {},
   "outputs": [
    {
     "name": "stdout",
     "output_type": "stream",
     "text": [
      "Khatam Tata Bye bye chala ja\n"
     ]
    },
    {
     "data": {
      "text/plain": [
       "5"
      ]
     },
     "execution_count": 108,
     "metadata": {},
     "output_type": "execute_result"
    }
   ],
   "source": [
    "next(x)"
   ]
  },
  {
   "cell_type": "code",
   "execution_count": 109,
   "id": "537572d3",
   "metadata": {},
   "outputs": [
    {
     "ename": "StopIteration",
     "evalue": "",
     "output_type": "error",
     "traceback": [
      "\u001b[1;31m---------------------------------------------------------------------------\u001b[0m",
      "\u001b[1;31mStopIteration\u001b[0m                             Traceback (most recent call last)",
      "\u001b[1;32mC:\\Users\\KUNALC~1\\AppData\\Local\\Temp/ipykernel_31324/3485793935.py\u001b[0m in \u001b[0;36m<module>\u001b[1;34m\u001b[0m\n\u001b[1;32m----> 1\u001b[1;33m \u001b[0mnext\u001b[0m\u001b[1;33m(\u001b[0m\u001b[0mx\u001b[0m\u001b[1;33m)\u001b[0m\u001b[1;33m\u001b[0m\u001b[1;33m\u001b[0m\u001b[0m\n\u001b[0m",
      "\u001b[1;31mStopIteration\u001b[0m: "
     ]
    }
   ],
   "source": [
    "next(x)"
   ]
  },
  {
   "cell_type": "code",
   "execution_count": null,
   "id": "b08c18cf",
   "metadata": {},
   "outputs": [],
   "source": []
  },
  {
   "cell_type": "markdown",
   "id": "da26da1b",
   "metadata": {},
   "source": [
    "# Exception Handling"
   ]
  },
  {
   "cell_type": "code",
   "execution_count": null,
   "id": "c5f14234",
   "metadata": {},
   "outputs": [],
   "source": [
    "TypeError, ZeroDivision, SyntaxError, RuntimeError, StopIteration, IndexError\n",
    "\n",
    "Syntax Error ----  Logical Error ---- Runtime Error\n",
    "before executing   "
   ]
  },
  {
   "cell_type": "code",
   "execution_count": 110,
   "id": "2c201625",
   "metadata": {},
   "outputs": [
    {
     "ename": "SyntaxError",
     "evalue": "invalid syntax (Temp/ipykernel_31324/2318778154.py, line 1)",
     "output_type": "error",
     "traceback": [
      "\u001b[1;36m  File \u001b[1;32m\"C:\\Users\\KUNALC~1\\AppData\\Local\\Temp/ipykernel_31324/2318778154.py\"\u001b[1;36m, line \u001b[1;32m1\u001b[0m\n\u001b[1;33m    for i in range(1,11)\u001b[0m\n\u001b[1;37m                        ^\u001b[0m\n\u001b[1;31mSyntaxError\u001b[0m\u001b[1;31m:\u001b[0m invalid syntax\n"
     ]
    }
   ],
   "source": [
    "for i in range(1,11)\n",
    "    print(i)"
   ]
  },
  {
   "cell_type": "code",
   "execution_count": null,
   "id": "95f460ff",
   "metadata": {},
   "outputs": [],
   "source": [
    "Bugs"
   ]
  },
  {
   "cell_type": "code",
   "execution_count": null,
   "id": "d3637317",
   "metadata": {},
   "outputs": [],
   "source": [
    "try except else finally"
   ]
  },
  {
   "cell_type": "code",
   "execution_count": 113,
   "id": "9d744495",
   "metadata": {},
   "outputs": [
    {
     "name": "stdout",
     "output_type": "stream",
     "text": [
      "Hey you've got an error\n",
      "5.0\n",
      "2.5\n",
      "1.6666666666666667\n",
      "1.25\n",
      "1.0\n",
      "0.8333333333333334\n",
      "0.7142857142857143\n",
      "0.625\n",
      "0.5555555555555556\n"
     ]
    }
   ],
   "source": [
    "for i in range(0,10):\n",
    "    try:\n",
    "        a=5\n",
    "        print(a/i)\n",
    "    except:\n",
    "        print(\"Hey you've got an error\")\n",
    "    "
   ]
  },
  {
   "cell_type": "code",
   "execution_count": 111,
   "id": "c7ffac67",
   "metadata": {},
   "outputs": [
    {
     "ename": "ZeroDivisionError",
     "evalue": "division by zero",
     "output_type": "error",
     "traceback": [
      "\u001b[1;31m---------------------------------------------------------------------------\u001b[0m",
      "\u001b[1;31mZeroDivisionError\u001b[0m                         Traceback (most recent call last)",
      "\u001b[1;32mC:\\Users\\KUNALC~1\\AppData\\Local\\Temp/ipykernel_31324/847819111.py\u001b[0m in \u001b[0;36m<module>\u001b[1;34m\u001b[0m\n\u001b[0;32m      1\u001b[0m \u001b[0ma\u001b[0m \u001b[1;33m=\u001b[0m \u001b[1;36m5\u001b[0m\u001b[1;33m\u001b[0m\u001b[1;33m\u001b[0m\u001b[0m\n\u001b[0;32m      2\u001b[0m \u001b[1;32mfor\u001b[0m \u001b[0mi\u001b[0m \u001b[1;32min\u001b[0m \u001b[0mrange\u001b[0m\u001b[1;33m(\u001b[0m\u001b[1;36m0\u001b[0m\u001b[1;33m,\u001b[0m\u001b[1;36m10\u001b[0m\u001b[1;33m)\u001b[0m\u001b[1;33m:\u001b[0m\u001b[1;33m\u001b[0m\u001b[1;33m\u001b[0m\u001b[0m\n\u001b[1;32m----> 3\u001b[1;33m     \u001b[0mprint\u001b[0m\u001b[1;33m(\u001b[0m\u001b[0ma\u001b[0m\u001b[1;33m/\u001b[0m\u001b[0mi\u001b[0m\u001b[1;33m)\u001b[0m\u001b[1;33m\u001b[0m\u001b[1;33m\u001b[0m\u001b[0m\n\u001b[0m",
      "\u001b[1;31mZeroDivisionError\u001b[0m: division by zero"
     ]
    }
   ],
   "source": [
    "a = 5\n",
    "for i in range(0,10):\n",
    "    print(a/i)"
   ]
  },
  {
   "cell_type": "code",
   "execution_count": 114,
   "id": "232eb2de",
   "metadata": {},
   "outputs": [
    {
     "name": "stdout",
     "output_type": "stream",
     "text": [
      "Cannot divide by Zero\n",
      "5.0\n",
      "Things are running fine\n",
      "2.5\n",
      "Things are running fine\n",
      "1.6666666666666667\n",
      "Things are running fine\n",
      "1.25\n",
      "Things are running fine\n",
      "1.0\n",
      "Things are running fine\n",
      "0.8333333333333334\n",
      "Things are running fine\n",
      "0.7142857142857143\n",
      "Things are running fine\n",
      "0.625\n",
      "Things are running fine\n",
      "0.5555555555555556\n",
      "Things are running fine\n"
     ]
    }
   ],
   "source": [
    "for i in range(0,10):\n",
    "    try:\n",
    "        a = 5\n",
    "        print(a/i)\n",
    "    except:\n",
    "        print(\"Cannot divide by Zero\")\n",
    "    else:\n",
    "        print(\"Things are running fine\")"
   ]
  },
  {
   "cell_type": "code",
   "execution_count": 119,
   "id": "76ccf1c0",
   "metadata": {},
   "outputs": [
    {
     "name": "stdout",
     "output_type": "stream",
     "text": [
      "Cannot divide by Zero\n",
      "the current value of i is  0\n",
      "\n",
      "the value of division is  5.0\n",
      "the current value of i is  1\n",
      "\n",
      "the value of division is  2.5\n",
      "the current value of i is  2\n",
      "\n",
      "the value of division is  1.6666666666666667\n",
      "the current value of i is  3\n",
      "\n",
      "the value of division is  1.25\n",
      "the current value of i is  4\n",
      "\n",
      "the value of division is  1.0\n",
      "the current value of i is  5\n",
      "\n",
      "the value of division is  0.8333333333333334\n",
      "the current value of i is  6\n",
      "\n",
      "the value of division is  0.7142857142857143\n",
      "the current value of i is  7\n",
      "\n",
      "the value of division is  0.625\n",
      "the current value of i is  8\n",
      "\n",
      "the value of division is  0.5555555555555556\n",
      "the current value of i is  9\n",
      "\n"
     ]
    }
   ],
   "source": [
    "for i in range(0,10):\n",
    "    try:\n",
    "        a = 5\n",
    "        d = a/i\n",
    "    except:\n",
    "        print(\"Cannot divide by Zero\")\n",
    "    else:\n",
    "        print(\"the value of division is \",d)\n",
    "    finally:\n",
    "        print(\"the current value of i is \",i)\n",
    "        print()"
   ]
  },
  {
   "cell_type": "code",
   "execution_count": 122,
   "id": "1840a0cf",
   "metadata": {},
   "outputs": [
    {
     "name": "stdout",
     "output_type": "stream",
     "text": [
      "Cannot divide by Zero\n",
      "the current value of i is  0\n",
      "\n",
      "the value of division is  0.4166666666666667\n",
      "the current value of i is  1\n",
      "\n",
      "Cannot divide by Zero\n",
      "the current value of i is  2\n",
      "\n",
      "the value of division is  0.0847457627118644\n",
      "the current value of i is  3\n",
      "\n",
      "the value of division is  0.056179775280898875\n",
      "the current value of i is  4\n",
      "\n",
      "Cannot divide by Zero\n",
      "the current value of i is  5\n",
      "\n",
      "the value of division is  8.333333333333334\n",
      "the current value of i is  6\n",
      "\n",
      "the value of division is  0.2\n",
      "the current value of i is  7\n",
      "\n"
     ]
    }
   ],
   "source": [
    "l = [0,12,0,59,89,0,0.6,25]\n",
    "for i in range(len(l)):\n",
    "    try:\n",
    "        a = 5\n",
    "        d = a/l[i]\n",
    "    except:\n",
    "        print(\"Cannot divide by Zero\")\n",
    "    else:\n",
    "        print(\"the value of division is \",d)\n",
    "    finally:\n",
    "        print(\"the current value of i is \",i)\n",
    "        print()"
   ]
  },
  {
   "cell_type": "code",
   "execution_count": 130,
   "id": "9887e80c",
   "metadata": {},
   "outputs": [
    {
     "name": "stdout",
     "output_type": "stream",
     "text": [
      "divide by zero\n",
      "2.5\n",
      "1.25\n",
      "0.7142857142857143\n",
      "list is flowing  list index out of range\n"
     ]
    }
   ],
   "source": [
    "\n",
    "l = [0,2,4,7]\n",
    "for i in range(len(l)+1):\n",
    "    try:\n",
    "        d = 5/l[i]\n",
    "    except ZeroDivisionError:\n",
    "        print(\"divide by zero\")\n",
    "    except IndexError:\n",
    "        print(\"list is flowing \",e)\n",
    "    else:\n",
    "        print(d)"
   ]
  },
  {
   "cell_type": "code",
   "execution_count": null,
   "id": "fabecb3a",
   "metadata": {},
   "outputs": [],
   "source": []
  }
 ],
 "metadata": {
  "kernelspec": {
   "display_name": "Python 3 (ipykernel)",
   "language": "python",
   "name": "python3"
  },
  "language_info": {
   "codemirror_mode": {
    "name": "ipython",
    "version": 3
   },
   "file_extension": ".py",
   "mimetype": "text/x-python",
   "name": "python",
   "nbconvert_exporter": "python",
   "pygments_lexer": "ipython3",
   "version": "3.9.7"
  }
 },
 "nbformat": 4,
 "nbformat_minor": 5
}
