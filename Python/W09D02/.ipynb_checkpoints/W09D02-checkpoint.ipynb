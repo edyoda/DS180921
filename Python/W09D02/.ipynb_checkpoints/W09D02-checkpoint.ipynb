{
 "cells": [
  {
   "cell_type": "code",
   "execution_count": null,
   "id": "76e8268a",
   "metadata": {},
   "outputs": [],
   "source": [
    "API: APPLICATION PROGRAMMING INTERFACE"
   ]
  },
  {
   "cell_type": "code",
   "execution_count": null,
   "id": "99f3843a",
   "metadata": {},
   "outputs": [],
   "source": [
    "An API is the interface that allows two independent software components to \n",
    "exchange information.\n",
    "\n",
    "Case 1)\n",
    "Chanchal Kumar => wrote some code (Instagram)\n",
    "Yogesh Vaidya => wrote some code (Facebook)\n",
    "\n",
    "Rahul Zukerberg => Instagram and Facebook\n",
    "\n",
    "He created some API's to connect Story Sharing and Post Sharing Options on \n",
    "Instagram for Facebook\n",
    "\n",
    "Case 2)\n",
    "Rambabu had an idea, he wanted to create an app which people can use to \n",
    "book a car on rent to go from one place to another.\n",
    "\n",
    "He named it Luber.\n",
    "\n",
    "He already how google maps are used. He used to see that he can use google maps\n",
    "to see where he is going and all.\n",
    "\n",
    "Luber uses Google Maps API to calculate various information for finding the\n",
    "fare. Also for showinig the user where he is.\n",
    "\n",
    "Case 3)Trivago: Sharing of flight and travel information is also done using \n",
    "    lots of API's to save time. Also to make sure it is real time.\n",
    "    \n",
    "Case 4) Have you ever paid Electicity Bill on Paytm."
   ]
  },
  {
   "cell_type": "code",
   "execution_count": null,
   "id": "368aa51e",
   "metadata": {},
   "outputs": [],
   "source": [
    "# requests: Third Party module, used for making API calls from Python\n",
    "# you can make an http request."
   ]
  },
  {
   "cell_type": "code",
   "execution_count": 1,
   "id": "1848796c",
   "metadata": {},
   "outputs": [
    {
     "name": "stdout",
     "output_type": "stream",
     "text": [
      "Collecting requests\n",
      "  Downloading requests-2.26.0-py2.py3-none-any.whl (62 kB)\n",
      "Collecting certifi>=2017.4.17\n",
      "  Downloading certifi-2021.10.8-py2.py3-none-any.whl (149 kB)\n",
      "Collecting charset-normalizer~=2.0.0\n",
      "  Downloading charset_normalizer-2.0.7-py3-none-any.whl (38 kB)\n",
      "Collecting urllib3<1.27,>=1.21.1\n",
      "  Downloading urllib3-1.26.7-py2.py3-none-any.whl (138 kB)\n",
      "Collecting idna<4,>=2.5\n",
      "  Downloading idna-3.3-py3-none-any.whl (61 kB)\n",
      "Installing collected packages: urllib3, idna, charset-normalizer, certifi, requests\n",
      "Successfully installed certifi-2021.10.8 charset-normalizer-2.0.7 idna-3.3 requests-2.26.0 urllib3-1.26.7\n",
      "Note: you may need to restart the kernel to use updated packages.\n"
     ]
    }
   ],
   "source": [
    "pip install requests"
   ]
  },
  {
   "cell_type": "code",
   "execution_count": null,
   "id": "64a14293",
   "metadata": {},
   "outputs": [],
   "source": [
    "Open/Public API's which are provided for free to use."
   ]
  },
  {
   "cell_type": "code",
   "execution_count": 2,
   "id": "452b4178",
   "metadata": {},
   "outputs": [],
   "source": [
    "import requests"
   ]
  },
  {
   "cell_type": "code",
   "execution_count": 3,
   "id": "0a7df9ff",
   "metadata": {},
   "outputs": [],
   "source": [
    "response = requests.get('https://api.covid19api.com/summary')"
   ]
  },
  {
   "cell_type": "code",
   "execution_count": 4,
   "id": "62cf95df",
   "metadata": {},
   "outputs": [
    {
     "name": "stdout",
     "output_type": "stream",
     "text": [
      "<Response [200]>\n"
     ]
    }
   ],
   "source": [
    "print(response)"
   ]
  },
  {
   "cell_type": "code",
   "execution_count": 6,
   "id": "8c1c2e2e",
   "metadata": {},
   "outputs": [
    {
     "name": "stdout",
     "output_type": "stream",
     "text": [
      "<class 'str'>\n"
     ]
    }
   ],
   "source": [
    "print(type(response.text))"
   ]
  },
  {
   "cell_type": "code",
   "execution_count": 7,
   "id": "984d4880",
   "metadata": {},
   "outputs": [
    {
     "data": {
      "text/plain": [
       "dict"
      ]
     },
     "execution_count": 7,
     "metadata": {},
     "output_type": "execute_result"
    }
   ],
   "source": [
    "type(response.json())"
   ]
  },
  {
   "cell_type": "code",
   "execution_count": 8,
   "id": "a4eec34f",
   "metadata": {},
   "outputs": [],
   "source": [
    "data = response.json()"
   ]
  },
  {
   "cell_type": "code",
   "execution_count": 10,
   "id": "123c4b09",
   "metadata": {},
   "outputs": [],
   "source": [
    "# print(data)"
   ]
  },
  {
   "cell_type": "code",
   "execution_count": 12,
   "id": "831d9550",
   "metadata": {},
   "outputs": [
    {
     "name": "stdout",
     "output_type": "stream",
     "text": [
      "Bhutan\n",
      "Holy See (Vatican City State)\n",
      "Kiribati\n",
      "Marshall Islands\n",
      "Micronesia, Federated States of\n",
      "Palau\n",
      "Samoa\n",
      "Solomon Islands\n",
      "Tonga\n",
      "Vanuatu\n"
     ]
    }
   ],
   "source": [
    "for country in data['Countries']:\n",
    "    if country['TotalDeaths'] < 10:\n",
    "        print(country['Country'])"
   ]
  },
  {
   "cell_type": "code",
   "execution_count": 13,
   "id": "824374e0",
   "metadata": {},
   "outputs": [],
   "source": [
    "x = requests.get('https://pythontutor.com/live.html#mode=edit')"
   ]
  },
  {
   "cell_type": "code",
   "execution_count": 14,
   "id": "0bf3287a",
   "metadata": {},
   "outputs": [
    {
     "name": "stdout",
     "output_type": "stream",
     "text": [
      "<Response [200]>\n"
     ]
    }
   ],
   "source": [
    "print(x)"
   ]
  },
  {
   "cell_type": "code",
   "execution_count": 15,
   "id": "2c61d143",
   "metadata": {},
   "outputs": [
    {
     "data": {
      "text/plain": [
       "'<!DOCTYPE html PUBLIC \"-//W3C//DTD XHTML 1.0 Transitional//EN\" \"http://www.w3.org/TR/xhtml1/DTD/xhtml1-transitional.dtd\">\\n<html xmlns=\"http://www.w3.org/1999/xhtml\">\\n\\n<!--\\n  Python Tutor: Copyright (C) Philip Guo\\n-->\\n\\n<!-- OPT live programming prototype started on 2016-05-30 -->\\n\\n<head>\\n  <title>Live Programming Mode - Python Tutor - Visualize Python and JavaScript code</title>\\n  <meta http-equiv=\"Content-type\" content=\"text/html; charset=UTF-8\"/>\\n\\n  <!-- let Webpack take care of everything. Use the [hash] feature to\\n       create unique filenames for releases:\\n       https://webpack.github.io/docs/long-term-caching.html -->\\n  <script type=\"text/javascript\" src=\"build/opt-live.bundle.js?52dfa8c630\" charset=\"utf-8\"></script>\\n\\n<!-- insert google-analytics.txt contents here -->\\n<script type=\"text/javascript\">\\n\\n  var _gaq = _gaq || [];\\n  _gaq.push([\\'_setAccount\\', \\'UA-34795707-1\\']);\\n  _gaq.push([\\'_trackPageview\\']);\\n\\n  (function() {\\n    var ga = document.createElement(\\'script\\'); ga.type = \\'text/javascript\\'; ga.async = true;\\n    ga.src = (\\'https:\\' == document.location.protocol ? \\'https://ssl\\' : \\'http://www\\') + \\'.google-analytics.com/ga.js\\';\\n    var s = document.getElementsByTagName(\\'script\\')[0]; s.parentNode.insertBefore(ga, s);\\n  })();\\n\\n</script>\\n\\n</head>\\n\\n<body>\\n\\n  <div id=\"liveModeHeader\">\\n  This mode is experimental and limited. Use the <a href=\"visualize.html\" target=\"_blank\">regular Python Tutor</a> to access more features.\\n\\n  <span id=\"surveyPane\"></span>\\n\\n  <!-- taken down on 2016-12-06\\n  <p>Help us improve this live programming mode by filling out this <a\\n  target=\"_blank\"\\n  href=\"https://docs.google.com/forms/d/1XT-rPaWxDRNOPAfBxIqzCXs7nYGUgOjNofmUnuQZYV8/viewform\">two-question\\n  survey</a>.</p>\\n  -->\\n\\n  </div>\\n\\n<table id=\"experimentalHeader\">\\n<tr>\\n<td valign=\"top\" id=\"headerTdLeft\"></td>\\n<td valign=\"top\" id=\"headerTdRight\"></td>\\n</tr>\\n</table>\\n\\n  <table>\\n    <tr>\\n      <td valign=\"top\">\\n        <div id=\"pyInputPane\">\\n          <div id=\"codeInputWarnings\">Write code in\\n            <select id=\"pythonVersionSelector\">\\n              <option value=\"3\" selected>Python 3.6</option>\\n              <option value=\"2\">Python 2.7</option>\\n              <option value=\"js\">JavaScript ES6</option>\\n            </select>\\n\\n            <span id=\"liveModeExtraWarning\" style=\"color: #888; font-size: 8pt; float: right;\">(drag lower right corner to resize code editor)</span>\\n          </div>\\n          <div id=\"someoneIsTypingDiv\" style=\"color: #e93f34; font-weight: bold; display: none;\">Someone is typing ...</div>\\n\\n          <div id=\"codeInputPane\"></div>\\n          <div id=\"legendDiv\"></div>\\n          <div id=\"executionSlider\" style=\"margin-top: 10px;\"></div>\\n\\n          <!-- copied and pasted from pytutor.js\\n               TODO: integrate all this together and modularize -->\\n\\n          <div id=\"vcrControls\" style=\"display: none;\">\\n            <button id=\"jmpFirstInstr\", type=\"button\">&lt;&lt; First</button>\\n            <button id=\"jmpStepBack\", type=\"button\">&lt; Prev</button>\\n            <button id=\"jmpStepFwd\", type=\"button\">Next &gt;</button>\\n            <button id=\"jmpLastInstr\", type=\"button\">Last &gt;&gt;</button>\\n          </div>\\n          <div id=\"curInstr\" style=\"display: none;\"></div>\\n\\n          <div id=\"rawUserInputDiv\" style=\"display: none;\">\\n            <span id=\"userInputPromptStr\"></span>\\n            <input type=\"text\" id=\"raw_input_textbox\" size=\"30\"/>\\n            <button id=\"raw_input_submit_btn\">Submit</button>\\n          </div>\\n\\n          <div id=\"frontendErrorOutput\"></div>\\n        </div>\\n        <div id=\"eurekaSurveyPane\"></div>\\n      </td>\\n      <td valign=\"top\">\\n        <div id=\"pyOutputPane\"/>\\n      </td>\\n    </tr>\\n  </table>\\n\\n<div id=\"footer\">\\n\\n<div id=\"optionsPane\">\\n  <select id=\"cumulativeModeSelector\">\\n    <option value=\"false\">hide exited frames [default]</option>\\n    <option value=\"true\">show exited frames (Python)</option>\\n    <!-- <option value=\"holistic\">holistic mode (experimental)</option> -->\\n  </select>\\n  <select id=\"heapPrimitivesSelector\">\\n    <option value=\"false\">inline primitives and try to nest objects</option>\\n    <option value=\"nevernest\" selected>inline primitives, don\\'t nest objects [default]</option>\\n    <option value=\"true\">render all objects on the heap (Python)</option>\\n  </select>\\n  <select id=\"textualMemoryLabelsSelector\">\\n    <option value=\"false\">draw pointers as arrows [default]</option>\\n    <option value=\"true\">use text labels for pointers</option>\\n  </select>\\n</div>\\n\\n<p>\\n  <button id=\"genUrlBtn\" class=\"smallBtn\" type=\"button\">Generate permanent link</button> <input type=\"text\" id=\"urlOutput\" size=\"65\"/>\\n</p>\\n\\n</div>\\n\\n</body>\\n</html>\\n'"
      ]
     },
     "execution_count": 15,
     "metadata": {},
     "output_type": "execute_result"
    }
   ],
   "source": [
    "x.text"
   ]
  },
  {
   "cell_type": "code",
   "execution_count": null,
   "id": "cf44ae94",
   "metadata": {},
   "outputs": [],
   "source": [
    "post requests in api's"
   ]
  },
  {
   "cell_type": "code",
   "execution_count": 16,
   "id": "3043fb2a",
   "metadata": {},
   "outputs": [
    {
     "name": "stdout",
     "output_type": "stream",
     "text": [
      "{\n",
      "  \"args\": {}, \n",
      "  \"data\": \"{'python':3,'java':8}\", \n",
      "  \"files\": {}, \n",
      "  \"form\": {}, \n",
      "  \"headers\": {\n",
      "    \"Accept\": \"*/*\", \n",
      "    \"Accept-Encoding\": \"gzip, deflate\", \n",
      "    \"Content-Length\": \"21\", \n",
      "    \"Host\": \"httpbin.org\", \n",
      "    \"User-Agent\": \"python-requests/2.26.0\", \n",
      "    \"X-Amzn-Trace-Id\": \"Root=1-618a99f2-4e2ebffd0b04c8e518675f30\"\n",
      "  }, \n",
      "  \"json\": null, \n",
      "  \"origin\": \"157.38.35.215\", \n",
      "  \"url\": \"https://httpbin.org/post\"\n",
      "}\n",
      "\n"
     ]
    }
   ],
   "source": [
    "url = 'https://httpbin.org/post'\n",
    "payload = \"{'python':3,'java':8}\"\n",
    "\n",
    "response = requests.request('POST',url,data=payload)\n",
    "\n",
    "print(response.text)"
   ]
  },
  {
   "cell_type": "code",
   "execution_count": null,
   "id": "7ed8e6a0",
   "metadata": {},
   "outputs": [],
   "source": [
    "HTTP STATUS CODES:\n",
    "    404: NOT FOUND\n",
    "    200: RECEIVED THE DATA SUCCESSFULLY\n",
    "        \n",
    "FOR MORE: https://developer.mozilla.org/en-US/docs/Web/HTTP/Status"
   ]
  },
  {
   "cell_type": "code",
   "execution_count": null,
   "id": "c306c14e",
   "metadata": {},
   "outputs": [],
   "source": []
  }
 ],
 "metadata": {
  "kernelspec": {
   "display_name": "Python 3 (ipykernel)",
   "language": "python",
   "name": "python3"
  },
  "language_info": {
   "codemirror_mode": {
    "name": "ipython",
    "version": 3
   },
   "file_extension": ".py",
   "mimetype": "text/x-python",
   "name": "python",
   "nbconvert_exporter": "python",
   "pygments_lexer": "ipython3",
   "version": "3.8.10"
  }
 },
 "nbformat": 4,
 "nbformat_minor": 5
}
