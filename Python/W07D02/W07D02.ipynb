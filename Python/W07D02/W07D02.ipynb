{
 "cells": [
  {
   "cell_type": "code",
   "execution_count": null,
   "id": "87bc5b56",
   "metadata": {},
   "outputs": [],
   "source": [
    "make a class for things around you use your imagination to create its\n",
    "object atrributes and object method ex : Fan, microwave, oven, Geezer etc.."
   ]
  },
  {
   "cell_type": "code",
   "execution_count": null,
   "id": "c43e28dc",
   "metadata": {},
   "outputs": [],
   "source": [
    "Guys pls do it\n",
    "10 mins"
   ]
  },
  {
   "cell_type": "markdown",
   "id": "ee5273aa",
   "metadata": {},
   "source": [
    "# Self Keyword"
   ]
  },
  {
   "cell_type": "code",
   "execution_count": null,
   "id": "35eebb2c",
   "metadata": {},
   "outputs": [],
   "source": [
    "class Car:\n",
    "    def __init__(self, color, brand, model, engine_type):\n",
    "        print('init is called')\n",
    "        self.COLOR = color\n",
    "        self.BRAND = brand\n",
    "        self.MODEL = model\n",
    "        self.ENGINE_TYPE = engine_type"
   ]
  },
  {
   "cell_type": "code",
   "execution_count": null,
   "id": "33e0b896",
   "metadata": {},
   "outputs": [],
   "source": [
    "1) Self keyword will be the first parameter in all object method\n",
    "2) the self keyword will point to the object itself"
   ]
  },
  {
   "cell_type": "code",
   "execution_count": 93,
   "id": "752d9696",
   "metadata": {},
   "outputs": [],
   "source": [
    "class Car:\n",
    "    def __init__(self,maxspeed):\n",
    "        self.maxspeed=0\n",
    "        self.fuel=0\n",
    "        self.money=10\n",
    "\n",
    "    def refuel(self):\n",
    "        if self.money==0:\n",
    "            print(\"no money\")\n",
    "        else:\n",
    "            self.fuel=self.fuel+10\n",
    "            self.money -=10\n",
    "        \n",
    "    def setSpeed(self,speed):\n",
    "        self.speed = speed\n",
    "    \n",
    "    def drive(self):\n",
    "        if self.fuel == 0:\n",
    "            print('No fuel, you cannot drive!!')\n",
    "        else:\n",
    "            self.setSpeed(10)\n",
    "            self.fuel -= 2\n",
    "            print('Yay ready for the ride')\n",
    "    \n",
    "    def accelerate(self):\n",
    "        self.setSpeed(self.speed +10)\n",
    "        self.fuel -= 2\n",
    "    \n",
    "    def add_payment(self, money):\n",
    "        self.money += money\n",
    "        print('Yay you have added{}'.format(self.money))\n",
    "    \n",
    "    def brake(self):\n",
    "        self.speed=0\n",
    "        print('the car has stopped')\n"
   ]
  },
  {
   "cell_type": "code",
   "execution_count": 94,
   "id": "bc20b590",
   "metadata": {},
   "outputs": [],
   "source": [
    "BMW = Car(200)"
   ]
  },
  {
   "cell_type": "code",
   "execution_count": 95,
   "id": "c0d08047",
   "metadata": {},
   "outputs": [
    {
     "name": "stdout",
     "output_type": "stream",
     "text": [
      "No fuel, you cannot drive!!\n"
     ]
    }
   ],
   "source": [
    "BMW.drive()"
   ]
  },
  {
   "cell_type": "code",
   "execution_count": 96,
   "id": "f94c8789",
   "metadata": {},
   "outputs": [],
   "source": [
    "BMW.refuel()"
   ]
  },
  {
   "cell_type": "code",
   "execution_count": 97,
   "id": "951f0b3d",
   "metadata": {},
   "outputs": [
    {
     "name": "stdout",
     "output_type": "stream",
     "text": [
      "Yay ready for the ride\n"
     ]
    }
   ],
   "source": [
    "BMW.drive()"
   ]
  },
  {
   "cell_type": "code",
   "execution_count": 98,
   "id": "5a83e690",
   "metadata": {},
   "outputs": [
    {
     "name": "stdout",
     "output_type": "stream",
     "text": [
      "Yay ready for the ride\n"
     ]
    }
   ],
   "source": [
    "BMW.drive()"
   ]
  },
  {
   "cell_type": "code",
   "execution_count": 99,
   "id": "0f987c29",
   "metadata": {},
   "outputs": [
    {
     "name": "stdout",
     "output_type": "stream",
     "text": [
      "Yay ready for the ride\n"
     ]
    }
   ],
   "source": [
    "BMW.drive()"
   ]
  },
  {
   "cell_type": "code",
   "execution_count": 100,
   "id": "cd9803f3",
   "metadata": {},
   "outputs": [
    {
     "name": "stdout",
     "output_type": "stream",
     "text": [
      "Yay ready for the ride\n"
     ]
    }
   ],
   "source": [
    "BMW.drive()"
   ]
  },
  {
   "cell_type": "code",
   "execution_count": 101,
   "id": "b42f1923",
   "metadata": {},
   "outputs": [
    {
     "data": {
      "text/plain": [
       "2"
      ]
     },
     "execution_count": 101,
     "metadata": {},
     "output_type": "execute_result"
    }
   ],
   "source": [
    "BMW.fuel"
   ]
  },
  {
   "cell_type": "code",
   "execution_count": 102,
   "id": "442548d4",
   "metadata": {},
   "outputs": [
    {
     "name": "stdout",
     "output_type": "stream",
     "text": [
      "Yay ready for the ride\n"
     ]
    }
   ],
   "source": [
    "BMW.drive()"
   ]
  },
  {
   "cell_type": "code",
   "execution_count": 103,
   "id": "03ea6a72",
   "metadata": {},
   "outputs": [
    {
     "name": "stdout",
     "output_type": "stream",
     "text": [
      "no money\n"
     ]
    }
   ],
   "source": [
    "BMW.refuel()"
   ]
  },
  {
   "cell_type": "code",
   "execution_count": 104,
   "id": "25fe0fea",
   "metadata": {},
   "outputs": [
    {
     "name": "stdout",
     "output_type": "stream",
     "text": [
      "Yay you have added10\n"
     ]
    }
   ],
   "source": [
    "BMW.add_payment(10)"
   ]
  },
  {
   "cell_type": "code",
   "execution_count": 105,
   "id": "7ca8f97f",
   "metadata": {},
   "outputs": [],
   "source": [
    "BMW.refuel()"
   ]
  },
  {
   "cell_type": "code",
   "execution_count": 106,
   "id": "bee59f3d",
   "metadata": {},
   "outputs": [],
   "source": [
    "BMW.accelerate()"
   ]
  },
  {
   "cell_type": "code",
   "execution_count": 107,
   "id": "c1fc3e0e",
   "metadata": {},
   "outputs": [
    {
     "data": {
      "text/plain": [
       "8"
      ]
     },
     "execution_count": 107,
     "metadata": {},
     "output_type": "execute_result"
    }
   ],
   "source": [
    "BMW.fuel"
   ]
  },
  {
   "cell_type": "code",
   "execution_count": 108,
   "id": "d7013fe3",
   "metadata": {},
   "outputs": [
    {
     "name": "stdout",
     "output_type": "stream",
     "text": [
      "Yay you have added10\n"
     ]
    }
   ],
   "source": [
    "BMW.add_payment(10)"
   ]
  },
  {
   "cell_type": "code",
   "execution_count": 109,
   "id": "0a6bd087",
   "metadata": {},
   "outputs": [],
   "source": [
    "BMW.refuel()"
   ]
  },
  {
   "cell_type": "code",
   "execution_count": 110,
   "id": "a308529a",
   "metadata": {},
   "outputs": [
    {
     "data": {
      "text/plain": [
       "18"
      ]
     },
     "execution_count": 110,
     "metadata": {},
     "output_type": "execute_result"
    }
   ],
   "source": [
    "BMW.fuel"
   ]
  },
  {
   "cell_type": "code",
   "execution_count": 111,
   "id": "45e5daee",
   "metadata": {},
   "outputs": [],
   "source": [
    "BMW.accelerate()"
   ]
  },
  {
   "cell_type": "code",
   "execution_count": 112,
   "id": "4472a7fb",
   "metadata": {},
   "outputs": [
    {
     "data": {
      "text/plain": [
       "16"
      ]
     },
     "execution_count": 112,
     "metadata": {},
     "output_type": "execute_result"
    }
   ],
   "source": [
    "BMW.fuel"
   ]
  },
  {
   "cell_type": "code",
   "execution_count": 114,
   "id": "6092375a",
   "metadata": {},
   "outputs": [],
   "source": [
    "class fan:\n",
    "    def __init__(self,speed, cost):\n",
    "        self.speed=0\n",
    "        self.cost = cost\n",
    "        if self.cost> 4: # 4rs --> 1 unit\n",
    "            self.unit=self.cost*1\n",
    "        else:\n",
    "            print('pls pay your bill')\n",
    "    def regulator1(self):\n",
    "          self.speed+=10\n",
    "    def regulator2(self):\n",
    "         self.speed+=20\n",
    "    def regulator3(self):\n",
    "         self.speed+=30\n",
    "    def regulator4(self):\n",
    "         self.speed+=40\n"
   ]
  },
  {
   "cell_type": "code",
   "execution_count": 115,
   "id": "bc34fa64",
   "metadata": {},
   "outputs": [
    {
     "name": "stdout",
     "output_type": "stream",
     "text": [
      "system started\n",
      "system off\n"
     ]
    }
   ],
   "source": [
    "class computer:\n",
    "    def __init__(self,monitor,mouse,cpu,keyboard):\n",
    "        self.monitor=monitor\n",
    "        self.mouse=mouse\n",
    "        self.cpu=cpu\n",
    "        self.keyboard=keyboard\n",
    "        self.cpu=0\n",
    "        self.monitor=0\n",
    "        \n",
    "    def power_on(self):\n",
    "        self.cpu=1\n",
    "        self.monitor=1\n",
    "        print('system started')\n",
    "        \n",
    "    def power_off(self):\n",
    "        self.cpu=0\n",
    "        self.monitor=0\n",
    "        print('system off')\n",
    "        \n",
    "Dell=computer('dell','hp','lenovo','asus')\n",
    "Dell.power_on()\n",
    "Dell.power_off()\n"
   ]
  },
  {
   "cell_type": "code",
   "execution_count": 140,
   "id": "c24b5ac4",
   "metadata": {},
   "outputs": [],
   "source": [
    "class account:\n",
    "    def __init__(self, name, age, mobile_no, balance):\n",
    "        self.Name = name\n",
    "        self.Age = age\n",
    "        self.Mobile_No = mobile_no\n",
    "        self.Balance = balance\n",
    "        \n",
    "    def credit(self, amount):\n",
    "        self.Balance = self.Balance + amount\n",
    "        \n",
    "    def debit(self, amount):\n",
    "        if amount < self.Balance:\n",
    "            self.Balance = self.Balance - amount\n",
    "            print('${} has been debited'.format(amount))\n",
    "            print('${} is remaining'.format(self.Balance))\n",
    "        else:\n",
    "            print(\"Account balance is lesser than required amount\")\n",
    "            \n",
    "    def chk_balance(self):\n",
    "        print('the current account balance is $',self.Balance)\n"
   ]
  },
  {
   "cell_type": "code",
   "execution_count": 141,
   "id": "375d82d7",
   "metadata": {},
   "outputs": [],
   "source": [
    "piyush = account('Piyush', 24, '+9199999999',10800)"
   ]
  },
  {
   "cell_type": "code",
   "execution_count": 142,
   "id": "f344e8b0",
   "metadata": {},
   "outputs": [
    {
     "name": "stdout",
     "output_type": "stream",
     "text": [
      "the current account balance is $ 10800\n"
     ]
    }
   ],
   "source": [
    "piyush.chk_balance()"
   ]
  },
  {
   "cell_type": "code",
   "execution_count": 143,
   "id": "1d0284e4",
   "metadata": {},
   "outputs": [
    {
     "name": "stdout",
     "output_type": "stream",
     "text": [
      "$500 has been debited\n",
      "$10300 is remaining\n"
     ]
    }
   ],
   "source": [
    "piyush.debit(500)"
   ]
  },
  {
   "cell_type": "code",
   "execution_count": 144,
   "id": "35b14214",
   "metadata": {},
   "outputs": [
    {
     "name": "stdout",
     "output_type": "stream",
     "text": [
      "the current account balance is $ 10300\n"
     ]
    }
   ],
   "source": [
    "piyush.chk_balance()"
   ]
  },
  {
   "cell_type": "markdown",
   "id": "b3e70611",
   "metadata": {},
   "source": [
    "# Setters and Getters"
   ]
  },
  {
   "cell_type": "code",
   "execution_count": 152,
   "id": "58cae46f",
   "metadata": {},
   "outputs": [],
   "source": [
    "class Car:\n",
    "    def __init__(self,maxspeed):\n",
    "        self.maxspeed=0\n",
    "        self.fuel=0\n",
    "        self.money=10\n",
    "\n",
    "    def refuel(self):\n",
    "        if self.money==0:\n",
    "            print(\"no money\")\n",
    "        else:\n",
    "            self.fuel=self.fuel+10\n",
    "            self.money -=10\n",
    "        \n",
    "    def setSpeed(self,speed):\n",
    "        self.speed = speed\n",
    "    \n",
    "    def drive(self):\n",
    "        if self.fuel == 0:\n",
    "            print('No fuel, you cannot drive!!')\n",
    "        else:\n",
    "            self.setSpeed(10)\n",
    "            self.fuel -= 2\n",
    "            print('Yay ready for the ride')\n",
    "    \n",
    "    def accelerate(self):\n",
    "        self.setSpeed(self.speed +10)\n",
    "        self.fuel -= 2\n",
    "    \n",
    "    def add_payment(self, money):\n",
    "        self.money += money\n",
    "        print('Yay you have added ',self.money)\n",
    "    \n",
    "    def brake(self):\n",
    "        self.speed=0\n",
    "        print('the car has stopped')\n",
    "    \n",
    "    def get_Amount_status(self):\n",
    "        if self.money==0:\n",
    "            print(\"You don't have enough fund\")\n",
    "        print('the amount left',self.money)"
   ]
  },
  {
   "cell_type": "code",
   "execution_count": 153,
   "id": "b03c64d7",
   "metadata": {},
   "outputs": [],
   "source": [
    "BMW = Car(200)"
   ]
  },
  {
   "cell_type": "code",
   "execution_count": 154,
   "id": "a475df13",
   "metadata": {},
   "outputs": [
    {
     "name": "stdout",
     "output_type": "stream",
     "text": [
      "the amount left 10\n"
     ]
    }
   ],
   "source": [
    "BMW.get_Amount_status()"
   ]
  },
  {
   "cell_type": "code",
   "execution_count": 155,
   "id": "61f59557",
   "metadata": {},
   "outputs": [
    {
     "name": "stdout",
     "output_type": "stream",
     "text": [
      "Yay you have added 15010\n"
     ]
    }
   ],
   "source": [
    "BMW.add_payment(15000)"
   ]
  },
  {
   "cell_type": "code",
   "execution_count": null,
   "id": "d2162f76",
   "metadata": {},
   "outputs": [],
   "source": [
    "Setters -> setters are object methods by which we set object attribute\n",
    "Getters -> getters are onject methods by which we get an object attribute"
   ]
  },
  {
   "cell_type": "code",
   "execution_count": null,
   "id": "e39b36bd",
   "metadata": {},
   "outputs": [],
   "source": []
  },
  {
   "cell_type": "markdown",
   "id": "6dacf8c3",
   "metadata": {},
   "source": [
    "# class Attribute"
   ]
  },
  {
   "cell_type": "code",
   "execution_count": 156,
   "id": "34111388",
   "metadata": {},
   "outputs": [],
   "source": [
    "class Fan:\n",
    "    work = 'Blow Air'\n",
    "    No_of_blades = 3\n",
    "    def __init__(self, brand, rpm, warranty):\n",
    "        print('Hello I am a Fan')\n",
    "        self.brand = brand\n",
    "        self.rpm = rpm\n",
    "        self.warranty = warranty\n",
    "        "
   ]
  },
  {
   "cell_type": "code",
   "execution_count": 157,
   "id": "82d59430",
   "metadata": {},
   "outputs": [
    {
     "name": "stdout",
     "output_type": "stream",
     "text": [
      "Hello I am a Fan\n"
     ]
    }
   ],
   "source": [
    "orientFan = Fan('Orient Electricity', 1500, 2)"
   ]
  },
  {
   "cell_type": "code",
   "execution_count": 158,
   "id": "b376dd94",
   "metadata": {},
   "outputs": [
    {
     "name": "stdout",
     "output_type": "stream",
     "text": [
      "Hello I am a Fan\n"
     ]
    }
   ],
   "source": [
    "UshaFan =  Fan('Usha Fan', 1700, 3)"
   ]
  },
  {
   "cell_type": "code",
   "execution_count": 159,
   "id": "63a9c23d",
   "metadata": {},
   "outputs": [
    {
     "data": {
      "text/plain": [
       "'Orient Electricity'"
      ]
     },
     "execution_count": 159,
     "metadata": {},
     "output_type": "execute_result"
    }
   ],
   "source": [
    "orientFan.brand"
   ]
  },
  {
   "cell_type": "code",
   "execution_count": 160,
   "id": "3ae24873",
   "metadata": {},
   "outputs": [
    {
     "data": {
      "text/plain": [
       "'Usha Fan'"
      ]
     },
     "execution_count": 160,
     "metadata": {},
     "output_type": "execute_result"
    }
   ],
   "source": [
    "UshaFan.brand"
   ]
  },
  {
   "cell_type": "code",
   "execution_count": 161,
   "id": "32735935",
   "metadata": {},
   "outputs": [
    {
     "data": {
      "text/plain": [
       "'Blow Air'"
      ]
     },
     "execution_count": 161,
     "metadata": {},
     "output_type": "execute_result"
    }
   ],
   "source": [
    "UshaFan.work"
   ]
  },
  {
   "cell_type": "code",
   "execution_count": 162,
   "id": "8a2d1cf4",
   "metadata": {},
   "outputs": [
    {
     "data": {
      "text/plain": [
       "'Blow Air'"
      ]
     },
     "execution_count": 162,
     "metadata": {},
     "output_type": "execute_result"
    }
   ],
   "source": [
    "orientFan.work"
   ]
  },
  {
   "cell_type": "code",
   "execution_count": 163,
   "id": "f6f606c0",
   "metadata": {},
   "outputs": [
    {
     "data": {
      "text/plain": [
       "'Blow Air'"
      ]
     },
     "execution_count": 163,
     "metadata": {},
     "output_type": "execute_result"
    }
   ],
   "source": [
    "Fan.work"
   ]
  },
  {
   "cell_type": "code",
   "execution_count": 164,
   "id": "f764a201",
   "metadata": {},
   "outputs": [
    {
     "data": {
      "text/plain": [
       "3"
      ]
     },
     "execution_count": 164,
     "metadata": {},
     "output_type": "execute_result"
    }
   ],
   "source": [
    "Fan.No_of_blades"
   ]
  },
  {
   "cell_type": "code",
   "execution_count": 165,
   "id": "b01700c6",
   "metadata": {},
   "outputs": [],
   "source": [
    "UshaFan.No_of_blades = 5"
   ]
  },
  {
   "cell_type": "code",
   "execution_count": 166,
   "id": "723df705",
   "metadata": {},
   "outputs": [
    {
     "data": {
      "text/plain": [
       "3"
      ]
     },
     "execution_count": 166,
     "metadata": {},
     "output_type": "execute_result"
    }
   ],
   "source": [
    "orientFan.No_of_blades"
   ]
  },
  {
   "cell_type": "code",
   "execution_count": 167,
   "id": "32552c6d",
   "metadata": {},
   "outputs": [
    {
     "data": {
      "text/plain": [
       "5"
      ]
     },
     "execution_count": 167,
     "metadata": {},
     "output_type": "execute_result"
    }
   ],
   "source": [
    "UshaFan.No_of_blades"
   ]
  },
  {
   "cell_type": "code",
   "execution_count": 168,
   "id": "50958ac1",
   "metadata": {},
   "outputs": [],
   "source": [
    "Fan.work = 'Suck air'"
   ]
  },
  {
   "cell_type": "code",
   "execution_count": 169,
   "id": "a52a5075",
   "metadata": {},
   "outputs": [
    {
     "data": {
      "text/plain": [
       "'Suck air'"
      ]
     },
     "execution_count": 169,
     "metadata": {},
     "output_type": "execute_result"
    }
   ],
   "source": [
    "UshaFan.work"
   ]
  },
  {
   "cell_type": "code",
   "execution_count": 170,
   "id": "a4812cc6",
   "metadata": {},
   "outputs": [],
   "source": [
    "Fan.No_of_blades = 6"
   ]
  },
  {
   "cell_type": "code",
   "execution_count": 171,
   "id": "76963c2e",
   "metadata": {},
   "outputs": [
    {
     "data": {
      "text/plain": [
       "6"
      ]
     },
     "execution_count": 171,
     "metadata": {},
     "output_type": "execute_result"
    }
   ],
   "source": [
    "orientFan.No_of_blades"
   ]
  },
  {
   "cell_type": "code",
   "execution_count": null,
   "id": "6d9e6c54",
   "metadata": {},
   "outputs": [],
   "source": [
    "# Homework \n",
    "    implement class Amazon\n",
    "    modifying car class\n",
    "    modying fan class"
   ]
  }
 ],
 "metadata": {
  "kernelspec": {
   "display_name": "Python 3 (ipykernel)",
   "language": "python",
   "name": "python3"
  },
  "language_info": {
   "codemirror_mode": {
    "name": "ipython",
    "version": 3
   },
   "file_extension": ".py",
   "mimetype": "text/x-python",
   "name": "python",
   "nbconvert_exporter": "python",
   "pygments_lexer": "ipython3",
   "version": "3.9.7"
  }
 },
 "nbformat": 4,
 "nbformat_minor": 5
}
