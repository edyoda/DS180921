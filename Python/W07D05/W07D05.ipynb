{
 "cells": [
  {
   "cell_type": "code",
   "execution_count": 1,
   "id": "b5852daa",
   "metadata": {},
   "outputs": [],
   "source": [
    "# Create a class named Vehicle which will do the following things\n",
    "# break() => it should decrease the speed of vehicle\n",
    "# slow_down() => It should slow down the car speed by 10 units\n",
    "# accelerate() => It should increase the speed by 10 units\n",
    "# ignite() => It should start the car with speed 0\n",
    "# gear_up() => It should increase the gear by 1. but total no of gears\n",
    "# a re only 5\n",
    "# gear_down() => it should decrease the gear by 1. but total no of gears\n",
    "# are more than 1"
   ]
  },
  {
   "cell_type": "code",
   "execution_count": 2,
   "id": "3dbfabec",
   "metadata": {},
   "outputs": [],
   "source": [
    "class Vehicle:\n",
    "    def __init__(self,maxspeed):\n",
    "        self.maxspeed = maxspeed\n",
    "        self.fuel=0\n",
    "        self.money=10\n",
    "        self.gear = 0\n",
    "        self.speed = 0\n",
    "\n",
    "    def refuel(self):\n",
    "        if self.money==0:\n",
    "            print(\"No money\")\n",
    "        else:\n",
    "            self.fuel=self.fuel+10\n",
    "            self.money -=10\n",
    "        \n",
    "    def setSpeed(self,speed):\n",
    "        self.speed = speed\n",
    "    \n",
    "    def ignite(self):\n",
    "        if self.fuel == 0:\n",
    "            print('No fuel, you cannot drive!!')\n",
    "        else:\n",
    "            self.setSpeed(0)\n",
    "            self.fuel -= 2\n",
    "            print('You are ready for the ride')\n",
    "    \n",
    "    def accelerate(self):\n",
    "        if self.fuel == 0:\n",
    "            print('No fuel, you cannot drive!!')\n",
    "        else:\n",
    "            self.setSpeed(self.speed +10)\n",
    "            self.gear_up()\n",
    "            print('Your current speed is {}'.format(self.speed))\n",
    "            self.fuel -= 2\n",
    "    \n",
    "    def slow_down(self):\n",
    "        if self.speed==0:\n",
    "            self.brake()\n",
    "        else:\n",
    "            self.setSpeed(self.speed -10)\n",
    "            self.gear_down()\n",
    "            print('Your current speed is {}'.format(self.speed))\n",
    "            self.fuel -= 2\n",
    "        \n",
    "    def brake(self):\n",
    "        self.speed = 0\n",
    "        print('The car has stopped')\n",
    "        \n",
    "    def gear_up(self):\n",
    "        if self.gear<5:\n",
    "            self.gear =self.gear+ 1\n",
    "            print('Your current gear is {}'.format(self.gear))\n",
    "        \n",
    "    def gear_down(self):\n",
    "        if self.gear>0:\n",
    "            self.gear =self.gear- 1\n",
    "            print('Your current gear is {}'.format(self.gear))\n",
    "    \n",
    "    def add_money(self, money):\n",
    "        total_money = self.money+money\n",
    "        self.money = total_money\n",
    "        print('Yay you have added {}'.format(money))\n",
    "        print('Your total money in wallet is {}'.format(total_money))                         \n",
    "    \n"
   ]
  },
  {
   "cell_type": "code",
   "execution_count": 3,
   "id": "df4e44a0",
   "metadata": {},
   "outputs": [],
   "source": [
    "Car = Vehicle(200)"
   ]
  },
  {
   "cell_type": "code",
   "execution_count": 4,
   "id": "a87fa16d",
   "metadata": {},
   "outputs": [
    {
     "name": "stdout",
     "output_type": "stream",
     "text": [
      "No fuel, you cannot drive!!\n"
     ]
    }
   ],
   "source": [
    "Car.ignite()"
   ]
  },
  {
   "cell_type": "code",
   "execution_count": 5,
   "id": "84e826c3",
   "metadata": {},
   "outputs": [],
   "source": [
    "Car.refuel()"
   ]
  },
  {
   "cell_type": "code",
   "execution_count": 6,
   "id": "110b1300",
   "metadata": {},
   "outputs": [
    {
     "name": "stdout",
     "output_type": "stream",
     "text": [
      "You are ready for the ride\n"
     ]
    }
   ],
   "source": [
    "Car.ignite()"
   ]
  },
  {
   "cell_type": "code",
   "execution_count": 7,
   "id": "6630aaf5",
   "metadata": {},
   "outputs": [
    {
     "data": {
      "text/plain": [
       "8"
      ]
     },
     "execution_count": 7,
     "metadata": {},
     "output_type": "execute_result"
    }
   ],
   "source": [
    "Car.fuel"
   ]
  },
  {
   "cell_type": "code",
   "execution_count": 8,
   "id": "3fb6019d",
   "metadata": {},
   "outputs": [
    {
     "name": "stdout",
     "output_type": "stream",
     "text": [
      "Your current gear is 1\n"
     ]
    }
   ],
   "source": [
    "Car.gear_up()"
   ]
  },
  {
   "cell_type": "code",
   "execution_count": 9,
   "id": "988a91ce",
   "metadata": {},
   "outputs": [
    {
     "name": "stdout",
     "output_type": "stream",
     "text": [
      "Your current gear is 2\n"
     ]
    }
   ],
   "source": [
    "Car.gear_up()"
   ]
  },
  {
   "cell_type": "code",
   "execution_count": 10,
   "id": "5c4fc068",
   "metadata": {},
   "outputs": [
    {
     "name": "stdout",
     "output_type": "stream",
     "text": [
      "Your current gear is 3\n"
     ]
    }
   ],
   "source": [
    "Car.gear_up()"
   ]
  },
  {
   "cell_type": "code",
   "execution_count": 11,
   "id": "9f2a94ed",
   "metadata": {},
   "outputs": [
    {
     "name": "stdout",
     "output_type": "stream",
     "text": [
      "Your current gear is 4\n",
      "Your current speed is 10\n"
     ]
    }
   ],
   "source": [
    "Car.accelerate()"
   ]
  },
  {
   "cell_type": "code",
   "execution_count": 12,
   "id": "e3e77269",
   "metadata": {},
   "outputs": [
    {
     "name": "stdout",
     "output_type": "stream",
     "text": [
      "Your current gear is 5\n",
      "Your current speed is 20\n"
     ]
    }
   ],
   "source": [
    "Car.accelerate()"
   ]
  },
  {
   "cell_type": "code",
   "execution_count": 13,
   "id": "f1c3f83d",
   "metadata": {},
   "outputs": [
    {
     "name": "stdout",
     "output_type": "stream",
     "text": [
      "Your current speed is 30\n"
     ]
    }
   ],
   "source": [
    "Car.accelerate()"
   ]
  },
  {
   "cell_type": "code",
   "execution_count": 14,
   "id": "682904e8",
   "metadata": {},
   "outputs": [
    {
     "data": {
      "text/plain": [
       "2"
      ]
     },
     "execution_count": 14,
     "metadata": {},
     "output_type": "execute_result"
    }
   ],
   "source": [
    "Car.fuel"
   ]
  },
  {
   "cell_type": "code",
   "execution_count": 15,
   "id": "ee900ff7",
   "metadata": {},
   "outputs": [
    {
     "name": "stdout",
     "output_type": "stream",
     "text": [
      "Your current speed is 40\n"
     ]
    }
   ],
   "source": [
    "Car.accelerate()"
   ]
  },
  {
   "cell_type": "code",
   "execution_count": 16,
   "id": "064a19bd",
   "metadata": {},
   "outputs": [
    {
     "data": {
      "text/plain": [
       "0"
      ]
     },
     "execution_count": 16,
     "metadata": {},
     "output_type": "execute_result"
    }
   ],
   "source": [
    "Car.fuel"
   ]
  },
  {
   "cell_type": "code",
   "execution_count": 17,
   "id": "81533649",
   "metadata": {},
   "outputs": [
    {
     "name": "stdout",
     "output_type": "stream",
     "text": [
      "No fuel, you cannot drive!!\n"
     ]
    }
   ],
   "source": [
    "Car.accelerate()"
   ]
  },
  {
   "cell_type": "code",
   "execution_count": 18,
   "id": "c58f42c8",
   "metadata": {},
   "outputs": [
    {
     "name": "stdout",
     "output_type": "stream",
     "text": [
      "No money\n"
     ]
    }
   ],
   "source": [
    "Car.refuel()"
   ]
  },
  {
   "cell_type": "code",
   "execution_count": 19,
   "id": "1cd68405",
   "metadata": {},
   "outputs": [
    {
     "name": "stdout",
     "output_type": "stream",
     "text": [
      "Yay you have added 25\n",
      "Your total money in wallet is 25\n"
     ]
    }
   ],
   "source": [
    "Car.add_money(25)"
   ]
  },
  {
   "cell_type": "code",
   "execution_count": 20,
   "id": "49db7f1e",
   "metadata": {},
   "outputs": [],
   "source": [
    "Car.refuel()"
   ]
  },
  {
   "cell_type": "code",
   "execution_count": 21,
   "id": "c2897c3c",
   "metadata": {},
   "outputs": [],
   "source": [
    "Car.refuel()"
   ]
  },
  {
   "cell_type": "code",
   "execution_count": 22,
   "id": "5e422157",
   "metadata": {},
   "outputs": [
    {
     "data": {
      "text/plain": [
       "20"
      ]
     },
     "execution_count": 22,
     "metadata": {},
     "output_type": "execute_result"
    }
   ],
   "source": [
    "Car.fuel"
   ]
  },
  {
   "cell_type": "code",
   "execution_count": 23,
   "id": "06d67d18",
   "metadata": {},
   "outputs": [
    {
     "name": "stdout",
     "output_type": "stream",
     "text": [
      "You are ready for the ride\n"
     ]
    }
   ],
   "source": [
    "Car.ignite()"
   ]
  },
  {
   "cell_type": "code",
   "execution_count": 24,
   "id": "5d84c66d",
   "metadata": {},
   "outputs": [
    {
     "name": "stdout",
     "output_type": "stream",
     "text": [
      "Your current speed is 10\n"
     ]
    }
   ],
   "source": [
    "Car.accelerate()"
   ]
  },
  {
   "cell_type": "code",
   "execution_count": 25,
   "id": "e0ee3ed8",
   "metadata": {},
   "outputs": [
    {
     "name": "stdout",
     "output_type": "stream",
     "text": [
      "The car has stopped\n"
     ]
    }
   ],
   "source": [
    "Car.brake()"
   ]
  },
  {
   "cell_type": "code",
   "execution_count": null,
   "id": "8c34d7d2",
   "metadata": {},
   "outputs": [],
   "source": [
    "#  Create class Animal,\n",
    "# Implemetn following things\n",
    "# animal_obj = Animal()\n",
    "# If I call animal_obj.eat() => obj_name is eating.\n",
    "# animal_obj.walk() => It should print walking with obj_no_of_legs\n",
    "# animal_obj.getname() => return me the animal\n",
    "# animal_obj.set_name() => set the name of the animal\n",
    "# setters and getters for no_of_legs\n"
   ]
  },
  {
   "cell_type": "code",
   "execution_count": 35,
   "id": "8d521f5f",
   "metadata": {},
   "outputs": [],
   "source": [
    "class Animal:\n",
    "    def eat(self):\n",
    "        print(self.name,'is eating.')\n",
    "    def walk(self):\n",
    "        print(self.name,'is walking')\n",
    "    def getName(self):\n",
    "        return self.name\n",
    "    def setName(self,name):\n",
    "        self.name = name\n",
    "    def getNoofLegs(self):\n",
    "        return self.no_of_legs\n",
    "    def setNoofLegs(self, no_of_legs):\n",
    "        self.no_of_legs = no_of_legs"
   ]
  },
  {
   "cell_type": "code",
   "execution_count": 36,
   "id": "fccad69e",
   "metadata": {},
   "outputs": [],
   "source": [
    "obj = Animal()"
   ]
  },
  {
   "cell_type": "code",
   "execution_count": 37,
   "id": "235ffba6",
   "metadata": {},
   "outputs": [],
   "source": [
    "obj.setName('Tommy')"
   ]
  },
  {
   "cell_type": "code",
   "execution_count": 38,
   "id": "74b83a70",
   "metadata": {},
   "outputs": [],
   "source": [
    "obj.setNoofLegs(4)"
   ]
  },
  {
   "cell_type": "code",
   "execution_count": 39,
   "id": "c2533c6d",
   "metadata": {},
   "outputs": [
    {
     "name": "stdout",
     "output_type": "stream",
     "text": [
      "Tommy is eating.\n"
     ]
    }
   ],
   "source": [
    "obj.eat()"
   ]
  },
  {
   "cell_type": "code",
   "execution_count": 40,
   "id": "fb1d62af",
   "metadata": {},
   "outputs": [
    {
     "data": {
      "text/plain": [
       "'Tommy'"
      ]
     },
     "execution_count": 40,
     "metadata": {},
     "output_type": "execute_result"
    }
   ],
   "source": [
    "obj.getName()"
   ]
  },
  {
   "cell_type": "code",
   "execution_count": 41,
   "id": "a1df8ad6",
   "metadata": {},
   "outputs": [
    {
     "data": {
      "text/plain": [
       "4"
      ]
     },
     "execution_count": 41,
     "metadata": {},
     "output_type": "execute_result"
    }
   ],
   "source": [
    "obj.getNoofLegs()"
   ]
  },
  {
   "cell_type": "code",
   "execution_count": 42,
   "id": "94e40e96",
   "metadata": {},
   "outputs": [
    {
     "name": "stdout",
     "output_type": "stream",
     "text": [
      "Tommy is walking\n"
     ]
    }
   ],
   "source": [
    "obj.walk()"
   ]
  },
  {
   "cell_type": "markdown",
   "id": "dacf8e56",
   "metadata": {},
   "source": [
    "# Special Object Methods\n",
    "### --> Dunder methods (Double UnderScore)\n",
    "### --> Magic Methods\n",
    "### --> They are already defined and we cannot change the name"
   ]
  },
  {
   "cell_type": "code",
   "execution_count": null,
   "id": "d07d3dd9",
   "metadata": {},
   "outputs": [],
   "source": [
    "Complex number"
   ]
  },
  {
   "cell_type": "code",
   "execution_count": null,
   "id": "b1241b78",
   "metadata": {},
   "outputs": [],
   "source": [
    "c1 = 4 + i5\n",
    "c2 = 6 + i3\n",
    "c3 = c1+c2 => 10 + i8"
   ]
  },
  {
   "cell_type": "code",
   "execution_count": 63,
   "id": "3d769c7d",
   "metadata": {},
   "outputs": [],
   "source": [
    "class Complex:\n",
    "    def __init__(self,real,imag):\n",
    "        self.real = real\n",
    "        self.imag = imag\n",
    "    \n",
    "    def __add__(self,other):\n",
    "        print('In __add__')\n",
    "        return Complex(self.real+other.real,self.imag+other.imag)"
   ]
  },
  {
   "cell_type": "code",
   "execution_count": 64,
   "id": "1f232779",
   "metadata": {},
   "outputs": [],
   "source": [
    "c1 = Complex(4,5)"
   ]
  },
  {
   "cell_type": "code",
   "execution_count": 65,
   "id": "6449bb10",
   "metadata": {},
   "outputs": [
    {
     "name": "stdout",
     "output_type": "stream",
     "text": [
      "<__main__.Complex object at 0x000002157C60B850>\n"
     ]
    }
   ],
   "source": [
    "print(c1)"
   ]
  },
  {
   "cell_type": "code",
   "execution_count": 51,
   "id": "5408a8af",
   "metadata": {},
   "outputs": [],
   "source": [
    "c2 = Complex(6,3)"
   ]
  },
  {
   "cell_type": "code",
   "execution_count": 54,
   "id": "48d6d93e",
   "metadata": {},
   "outputs": [
    {
     "name": "stdout",
     "output_type": "stream",
     "text": [
      "In __add__\n",
      "In __add__\n"
     ]
    }
   ],
   "source": [
    "c3 = c1 + c2\n",
    "c4 = c1.__add__(c2)"
   ]
  },
  {
   "cell_type": "code",
   "execution_count": 56,
   "id": "5ee6ea45",
   "metadata": {},
   "outputs": [
    {
     "data": {
      "text/plain": [
       "(10, 8)"
      ]
     },
     "execution_count": 56,
     "metadata": {},
     "output_type": "execute_result"
    }
   ],
   "source": [
    "c4.real,c4.imag"
   ]
  },
  {
   "cell_type": "code",
   "execution_count": 48,
   "id": "0ec56efa",
   "metadata": {},
   "outputs": [
    {
     "data": {
      "text/plain": [
       "(10, 8)"
      ]
     },
     "execution_count": 48,
     "metadata": {},
     "output_type": "execute_result"
    }
   ],
   "source": [
    "c3.real,c3.imag"
   ]
  },
  {
   "cell_type": "code",
   "execution_count": 53,
   "id": "6814269f",
   "metadata": {},
   "outputs": [
    {
     "data": {
      "text/plain": [
       "<__main__.Complex at 0x2157c8648b0>"
      ]
     },
     "execution_count": 53,
     "metadata": {},
     "output_type": "execute_result"
    }
   ],
   "source": [
    "c3"
   ]
  },
  {
   "cell_type": "code",
   "execution_count": 75,
   "id": "4035cf44",
   "metadata": {},
   "outputs": [],
   "source": [
    "class Complex:\n",
    "    def __init__(self,real,imag):\n",
    "        self.real = real\n",
    "        self.imag = imag\n",
    "    \n",
    "    def __add__(self,other):\n",
    "        return Complex(self.real+other.real,self.imag+other.imag)\n",
    "    def __sub__(self,other):\n",
    "        return Complex(self.real-other.real,self.imag-other.imag)\n",
    "    \n",
    "    def __neg__(self):\n",
    "        return Complex(-self.real,-self.imag)\n",
    "    def __str__(self):\n",
    "        return str(self.real) + ' + i (' + str(self.imag) +')'\n",
    "    def __repr__(self):\n",
    "        return 'Complex ' + str(self)"
   ]
  },
  {
   "cell_type": "code",
   "execution_count": 76,
   "id": "dc92d5be",
   "metadata": {},
   "outputs": [],
   "source": [
    "c1 = Complex(4,5)\n",
    "c2 = Complex(6,3)"
   ]
  },
  {
   "cell_type": "code",
   "execution_count": 68,
   "id": "c3e25f5c",
   "metadata": {},
   "outputs": [
    {
     "name": "stdout",
     "output_type": "stream",
     "text": [
      "4 + i (5)\n"
     ]
    }
   ],
   "source": [
    "print(c1)"
   ]
  },
  {
   "cell_type": "code",
   "execution_count": 69,
   "id": "ce4532c6",
   "metadata": {},
   "outputs": [
    {
     "name": "stdout",
     "output_type": "stream",
     "text": [
      "-6 + i (-3)\n"
     ]
    }
   ],
   "source": [
    "print(-c2)"
   ]
  },
  {
   "cell_type": "code",
   "execution_count": 78,
   "id": "265a43be",
   "metadata": {},
   "outputs": [],
   "source": [
    "c3 = c1 - c2"
   ]
  },
  {
   "cell_type": "code",
   "execution_count": 73,
   "id": "7018bf5c",
   "metadata": {},
   "outputs": [
    {
     "name": "stdout",
     "output_type": "stream",
     "text": [
      "-2 + i (2)\n"
     ]
    }
   ],
   "source": [
    "print(c3)"
   ]
  },
  {
   "cell_type": "code",
   "execution_count": 79,
   "id": "30a9b7c5",
   "metadata": {},
   "outputs": [
    {
     "data": {
      "text/plain": [
       "Complex -2 + i (2)"
      ]
     },
     "execution_count": 79,
     "metadata": {},
     "output_type": "execute_result"
    }
   ],
   "source": [
    "c3"
   ]
  },
  {
   "cell_type": "markdown",
   "id": "aa1d25ad",
   "metadata": {},
   "source": [
    "# `Inheritence`"
   ]
  },
  {
   "cell_type": "code",
   "execution_count": 80,
   "id": "6461c8d5",
   "metadata": {},
   "outputs": [],
   "source": [
    "class Animal: \n",
    "    def set_name(self,name):\n",
    "        self.name = name\n",
    "    def set_weight(self,weight):\n",
    "        self.weight = weight\n",
    "    def set_height(self,height):\n",
    "        self.height = height\n",
    "        \n",
    "    def get_name(self):\n",
    "        return self.name\n",
    "    def get_weight(self):\n",
    "        return self.weight\n",
    "    def get_height(self):\n",
    "        return self.height\n",
    "    \n",
    "    def eat(self):\n",
    "        print(self.name,'is eating')\n",
    "    def sleep(self):\n",
    "        print(self.name,'is sleeping')"
   ]
  },
  {
   "cell_type": "code",
   "execution_count": null,
   "id": "4f64f90e",
   "metadata": {},
   "outputs": [],
   "source": [
    "All the properties and methods of this animal class will be available to \n",
    "our Dog class as if they were its own properties and methods"
   ]
  },
  {
   "cell_type": "code",
   "execution_count": 81,
   "id": "69ce57aa",
   "metadata": {},
   "outputs": [],
   "source": [
    "class Dog(Animal):\n",
    "    def __init__(self,name,height,weight,breed):\n",
    "        super().set_name(name)\n",
    "        super().set_height(height)\n",
    "        super().set_weight(weight)\n",
    "        self.breed = breed"
   ]
  },
  {
   "cell_type": "code",
   "execution_count": 82,
   "id": "c1a20a8d",
   "metadata": {},
   "outputs": [],
   "source": [
    "dogee = Dog(\"Tommy\", 50, 25,'cocker spaniel')"
   ]
  },
  {
   "cell_type": "code",
   "execution_count": 83,
   "id": "8b89c90b",
   "metadata": {},
   "outputs": [
    {
     "data": {
      "text/plain": [
       "'Tommy'"
      ]
     },
     "execution_count": 83,
     "metadata": {},
     "output_type": "execute_result"
    }
   ],
   "source": [
    "dogee.name"
   ]
  },
  {
   "cell_type": "code",
   "execution_count": 84,
   "id": "126051c8",
   "metadata": {},
   "outputs": [
    {
     "name": "stdout",
     "output_type": "stream",
     "text": [
      "Tommy is eating\n"
     ]
    }
   ],
   "source": [
    "dogee.eat()"
   ]
  },
  {
   "cell_type": "code",
   "execution_count": 85,
   "id": "91d42612",
   "metadata": {},
   "outputs": [
    {
     "name": "stdout",
     "output_type": "stream",
     "text": [
      "Tommy is sleeping\n"
     ]
    }
   ],
   "source": [
    "dogee.sleep()"
   ]
  },
  {
   "cell_type": "code",
   "execution_count": 86,
   "id": "86762f0f",
   "metadata": {},
   "outputs": [],
   "source": [
    "class Cat(Animal):\n",
    "    def __init__(self,name,height,weight,sound):\n",
    "        super().set_name(name)\n",
    "        super().set_height(height)\n",
    "        super().set_weight(weight)\n",
    "        self.sound = sound\n",
    "    def make_sound(self):\n",
    "        print(self.sound,'+++')"
   ]
  },
  {
   "cell_type": "code",
   "execution_count": 87,
   "id": "09beee7f",
   "metadata": {},
   "outputs": [],
   "source": [
    "billa = Cat('Billa', 20, 15,'mew')"
   ]
  },
  {
   "cell_type": "code",
   "execution_count": 88,
   "id": "82a0f56e",
   "metadata": {},
   "outputs": [
    {
     "name": "stdout",
     "output_type": "stream",
     "text": [
      "mew +++\n"
     ]
    }
   ],
   "source": [
    "billa.make_sound()"
   ]
  },
  {
   "cell_type": "code",
   "execution_count": 89,
   "id": "6a720806",
   "metadata": {},
   "outputs": [
    {
     "name": "stdout",
     "output_type": "stream",
     "text": [
      "Billa is eating\n"
     ]
    }
   ],
   "source": [
    "billa.eat()"
   ]
  },
  {
   "cell_type": "code",
   "execution_count": 90,
   "id": "850d3bc9",
   "metadata": {},
   "outputs": [
    {
     "name": "stdout",
     "output_type": "stream",
     "text": [
      "Billa is sleeping\n"
     ]
    }
   ],
   "source": [
    "billa.sleep()"
   ]
  },
  {
   "cell_type": "code",
   "execution_count": null,
   "id": "81c62e70",
   "metadata": {},
   "outputs": [],
   "source": []
  }
 ],
 "metadata": {
  "kernelspec": {
   "display_name": "Python 3 (ipykernel)",
   "language": "python",
   "name": "python3"
  },
  "language_info": {
   "codemirror_mode": {
    "name": "ipython",
    "version": 3
   },
   "file_extension": ".py",
   "mimetype": "text/x-python",
   "name": "python",
   "nbconvert_exporter": "python",
   "pygments_lexer": "ipython3",
   "version": "3.9.7"
  }
 },
 "nbformat": 4,
 "nbformat_minor": 5
}
