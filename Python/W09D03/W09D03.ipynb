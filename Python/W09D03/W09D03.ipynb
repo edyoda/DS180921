{
 "cells": [
  {
   "cell_type": "code",
   "execution_count": null,
   "id": "510480fb",
   "metadata": {},
   "outputs": [],
   "source": [
    "How to create your own APIs and access them.\n",
    "1) pip install sanic\n",
    "2) create a file like our_api_code.py and put the following code:-\n",
    "from sanic import Sanic\n",
    "from sanic.response import json\n",
    "\n",
    "app = Sanic(\"My Hello, world app\")\n",
    "\n",
    "@app.route('/rahul')\n",
    "async def test(request):\n",
    "    return json({'hello': 'world'})\n",
    "\n",
    "@app.route('/mohit')\n",
    "async def test(request):\n",
    "    return json({'python': 3})\n",
    "\n",
    "if __name__ == '__main__':\n",
    "    app.run()\n",
    "    \n",
    "3) run the file our_api_code.py using the command python our_api_code.py\n",
    "which will give you a server url like http://127.0.0.1:8000/\n",
    "        \n",
    "4) Come to the jupyter notebook and run something like\n",
    "import requests\n",
    "response = requests.get('http://127.0.0.1:8000/rahul')\n",
    "print(response.json())\n",
    "\n",
    "Note: http://127.0.0.1:8000/ will be different for your PC."
   ]
  },
  {
   "cell_type": "code",
   "execution_count": 1,
   "id": "b05921f7",
   "metadata": {},
   "outputs": [],
   "source": [
    "import requests\n",
    "response = requests.get('http://127.0.0.1:8000/rahul')"
   ]
  },
  {
   "cell_type": "code",
   "execution_count": 2,
   "id": "e028475b",
   "metadata": {},
   "outputs": [
    {
     "name": "stdout",
     "output_type": "stream",
     "text": [
      "{'hello': 'world'}\n"
     ]
    }
   ],
   "source": [
    "print(response.json())"
   ]
  },
  {
   "cell_type": "code",
   "execution_count": 3,
   "id": "d30f9a30",
   "metadata": {},
   "outputs": [],
   "source": [
    "response2 = requests.get('http://127.0.0.1:8000/mohit')"
   ]
  },
  {
   "cell_type": "code",
   "execution_count": 4,
   "id": "6c987ade",
   "metadata": {},
   "outputs": [
    {
     "name": "stdout",
     "output_type": "stream",
     "text": [
      "{'python': 3}\n"
     ]
    }
   ],
   "source": [
    "print(response2.json())"
   ]
  },
  {
   "cell_type": "markdown",
   "id": "88cf6629",
   "metadata": {},
   "source": [
    "# Collections"
   ]
  },
  {
   "cell_type": "markdown",
   "id": "7c7c8b60",
   "metadata": {},
   "source": [
    "## Deque"
   ]
  },
  {
   "cell_type": "code",
   "execution_count": 5,
   "id": "0631e022",
   "metadata": {},
   "outputs": [],
   "source": [
    "from collections import deque"
   ]
  },
  {
   "cell_type": "code",
   "execution_count": 6,
   "id": "71628a8e",
   "metadata": {},
   "outputs": [],
   "source": [
    "obj = deque([1,2,3,4])"
   ]
  },
  {
   "cell_type": "code",
   "execution_count": 7,
   "id": "31861bad",
   "metadata": {},
   "outputs": [
    {
     "name": "stdout",
     "output_type": "stream",
     "text": [
      "deque([1, 2, 3, 4])\n"
     ]
    }
   ],
   "source": [
    "print(obj)"
   ]
  },
  {
   "cell_type": "code",
   "execution_count": 8,
   "id": "82fe9fda",
   "metadata": {},
   "outputs": [],
   "source": [
    "obj.append(5)"
   ]
  },
  {
   "cell_type": "code",
   "execution_count": 9,
   "id": "5163f08b",
   "metadata": {},
   "outputs": [
    {
     "data": {
      "text/plain": [
       "deque([1, 2, 3, 4, 5])"
      ]
     },
     "execution_count": 9,
     "metadata": {},
     "output_type": "execute_result"
    }
   ],
   "source": [
    "obj"
   ]
  },
  {
   "cell_type": "code",
   "execution_count": 10,
   "id": "36023976",
   "metadata": {},
   "outputs": [],
   "source": [
    "obj.appendleft(800)"
   ]
  },
  {
   "cell_type": "code",
   "execution_count": 11,
   "id": "27242e55",
   "metadata": {},
   "outputs": [
    {
     "data": {
      "text/plain": [
       "deque([800, 1, 2, 3, 4, 5])"
      ]
     },
     "execution_count": 11,
     "metadata": {},
     "output_type": "execute_result"
    }
   ],
   "source": [
    "obj"
   ]
  },
  {
   "cell_type": "code",
   "execution_count": 12,
   "id": "6a790bf0",
   "metadata": {},
   "outputs": [
    {
     "name": "stdout",
     "output_type": "stream",
     "text": [
      "deque([53, 89, 800, 1, 2, 3, 4, 5])\n"
     ]
    }
   ],
   "source": [
    "items = [89,53]\n",
    "obj.extendleft(items)\n",
    "print(obj)"
   ]
  },
  {
   "cell_type": "code",
   "execution_count": 13,
   "id": "4bdfea11",
   "metadata": {},
   "outputs": [],
   "source": [
    "# indexing is possile here"
   ]
  },
  {
   "cell_type": "code",
   "execution_count": 14,
   "id": "a5591dd6",
   "metadata": {},
   "outputs": [
    {
     "data": {
      "text/plain": [
       "53"
      ]
     },
     "execution_count": 14,
     "metadata": {},
     "output_type": "execute_result"
    }
   ],
   "source": [
    "obj[0]"
   ]
  },
  {
   "cell_type": "code",
   "execution_count": 15,
   "id": "90037762",
   "metadata": {},
   "outputs": [
    {
     "data": {
      "text/plain": [
       "89"
      ]
     },
     "execution_count": 15,
     "metadata": {},
     "output_type": "execute_result"
    }
   ],
   "source": [
    "obj[1]"
   ]
  },
  {
   "cell_type": "code",
   "execution_count": 16,
   "id": "3b8248f3",
   "metadata": {},
   "outputs": [
    {
     "data": {
      "text/plain": [
       "5"
      ]
     },
     "execution_count": 16,
     "metadata": {},
     "output_type": "execute_result"
    }
   ],
   "source": [
    "obj[-1]"
   ]
  },
  {
   "cell_type": "code",
   "execution_count": 17,
   "id": "25c7db48",
   "metadata": {},
   "outputs": [
    {
     "data": {
      "text/plain": [
       "5"
      ]
     },
     "execution_count": 17,
     "metadata": {},
     "output_type": "execute_result"
    }
   ],
   "source": [
    "obj.pop()"
   ]
  },
  {
   "cell_type": "code",
   "execution_count": 18,
   "id": "f0a3c7c1",
   "metadata": {},
   "outputs": [
    {
     "data": {
      "text/plain": [
       "deque([53, 89, 800, 1, 2, 3, 4])"
      ]
     },
     "execution_count": 18,
     "metadata": {},
     "output_type": "execute_result"
    }
   ],
   "source": [
    "obj"
   ]
  },
  {
   "cell_type": "code",
   "execution_count": 19,
   "id": "78b90c37",
   "metadata": {},
   "outputs": [
    {
     "data": {
      "text/plain": [
       "4"
      ]
     },
     "execution_count": 19,
     "metadata": {},
     "output_type": "execute_result"
    }
   ],
   "source": [
    "obj.pop()"
   ]
  },
  {
   "cell_type": "code",
   "execution_count": 20,
   "id": "4a9dd821",
   "metadata": {},
   "outputs": [
    {
     "data": {
      "text/plain": [
       "deque([53, 89, 800, 1, 2, 3])"
      ]
     },
     "execution_count": 20,
     "metadata": {},
     "output_type": "execute_result"
    }
   ],
   "source": [
    "obj"
   ]
  },
  {
   "cell_type": "code",
   "execution_count": 21,
   "id": "2c1d6a9c",
   "metadata": {},
   "outputs": [
    {
     "data": {
      "text/plain": [
       "53"
      ]
     },
     "execution_count": 21,
     "metadata": {},
     "output_type": "execute_result"
    }
   ],
   "source": [
    "obj.popleft()"
   ]
  },
  {
   "cell_type": "code",
   "execution_count": 22,
   "id": "7220dde0",
   "metadata": {},
   "outputs": [
    {
     "data": {
      "text/plain": [
       "deque([89, 800, 1, 2, 3])"
      ]
     },
     "execution_count": 22,
     "metadata": {},
     "output_type": "execute_result"
    }
   ],
   "source": [
    "obj"
   ]
  },
  {
   "cell_type": "code",
   "execution_count": 23,
   "id": "eae5f84d",
   "metadata": {},
   "outputs": [],
   "source": [
    "obj.insert(3,6)"
   ]
  },
  {
   "cell_type": "code",
   "execution_count": 24,
   "id": "14d086ff",
   "metadata": {},
   "outputs": [
    {
     "data": {
      "text/plain": [
       "deque([89, 800, 1, 6, 2, 3])"
      ]
     },
     "execution_count": 24,
     "metadata": {},
     "output_type": "execute_result"
    }
   ],
   "source": [
    "obj"
   ]
  },
  {
   "cell_type": "code",
   "execution_count": 25,
   "id": "dd8d8f85",
   "metadata": {},
   "outputs": [
    {
     "name": "stdout",
     "output_type": "stream",
     "text": [
      "Help on deque object:\n",
      "\n",
      "class deque(builtins.object)\n",
      " |  deque([iterable[, maxlen]]) --> deque object\n",
      " |  \n",
      " |  A list-like sequence optimized for data accesses near its endpoints.\n",
      " |  \n",
      " |  Methods defined here:\n",
      " |  \n",
      " |  __add__(self, value, /)\n",
      " |      Return self+value.\n",
      " |  \n",
      " |  __bool__(self, /)\n",
      " |      self != 0\n",
      " |  \n",
      " |  __contains__(self, key, /)\n",
      " |      Return key in self.\n",
      " |  \n",
      " |  __copy__(...)\n",
      " |      Return a shallow copy of a deque.\n",
      " |  \n",
      " |  __delitem__(self, key, /)\n",
      " |      Delete self[key].\n",
      " |  \n",
      " |  __eq__(self, value, /)\n",
      " |      Return self==value.\n",
      " |  \n",
      " |  __ge__(self, value, /)\n",
      " |      Return self>=value.\n",
      " |  \n",
      " |  __getattribute__(self, name, /)\n",
      " |      Return getattr(self, name).\n",
      " |  \n",
      " |  __getitem__(self, key, /)\n",
      " |      Return self[key].\n",
      " |  \n",
      " |  __gt__(self, value, /)\n",
      " |      Return self>value.\n",
      " |  \n",
      " |  __iadd__(self, value, /)\n",
      " |      Implement self+=value.\n",
      " |  \n",
      " |  __imul__(self, value, /)\n",
      " |      Implement self*=value.\n",
      " |  \n",
      " |  __init__(self, /, *args, **kwargs)\n",
      " |      Initialize self.  See help(type(self)) for accurate signature.\n",
      " |  \n",
      " |  __iter__(self, /)\n",
      " |      Implement iter(self).\n",
      " |  \n",
      " |  __le__(self, value, /)\n",
      " |      Return self<=value.\n",
      " |  \n",
      " |  __len__(self, /)\n",
      " |      Return len(self).\n",
      " |  \n",
      " |  __lt__(self, value, /)\n",
      " |      Return self<value.\n",
      " |  \n",
      " |  __mul__(self, value, /)\n",
      " |      Return self*value.\n",
      " |  \n",
      " |  __ne__(self, value, /)\n",
      " |      Return self!=value.\n",
      " |  \n",
      " |  __reduce__(...)\n",
      " |      Return state information for pickling.\n",
      " |  \n",
      " |  __repr__(self, /)\n",
      " |      Return repr(self).\n",
      " |  \n",
      " |  __reversed__(...)\n",
      " |      D.__reversed__() -- return a reverse iterator over the deque\n",
      " |  \n",
      " |  __rmul__(self, value, /)\n",
      " |      Return value*self.\n",
      " |  \n",
      " |  __setitem__(self, key, value, /)\n",
      " |      Set self[key] to value.\n",
      " |  \n",
      " |  __sizeof__(...)\n",
      " |      D.__sizeof__() -- size of D in memory, in bytes\n",
      " |  \n",
      " |  append(...)\n",
      " |      Add an element to the right side of the deque.\n",
      " |  \n",
      " |  appendleft(...)\n",
      " |      Add an element to the left side of the deque.\n",
      " |  \n",
      " |  clear(...)\n",
      " |      Remove all elements from the deque.\n",
      " |  \n",
      " |  copy(...)\n",
      " |      Return a shallow copy of a deque.\n",
      " |  \n",
      " |  count(...)\n",
      " |      D.count(value) -> integer -- return number of occurrences of value\n",
      " |  \n",
      " |  extend(...)\n",
      " |      Extend the right side of the deque with elements from the iterable\n",
      " |  \n",
      " |  extendleft(...)\n",
      " |      Extend the left side of the deque with elements from the iterable\n",
      " |  \n",
      " |  index(...)\n",
      " |      D.index(value, [start, [stop]]) -> integer -- return first index of value.\n",
      " |      Raises ValueError if the value is not present.\n",
      " |  \n",
      " |  insert(...)\n",
      " |      D.insert(index, object) -- insert object before index\n",
      " |  \n",
      " |  pop(...)\n",
      " |      Remove and return the rightmost element.\n",
      " |  \n",
      " |  popleft(...)\n",
      " |      Remove and return the leftmost element.\n",
      " |  \n",
      " |  remove(...)\n",
      " |      D.remove(value) -- remove first occurrence of value.\n",
      " |  \n",
      " |  reverse(...)\n",
      " |      D.reverse() -- reverse *IN PLACE*\n",
      " |  \n",
      " |  rotate(...)\n",
      " |      Rotate the deque n steps to the right (default n=1).  If n is negative, rotates left.\n",
      " |  \n",
      " |  ----------------------------------------------------------------------\n",
      " |  Static methods defined here:\n",
      " |  \n",
      " |  __new__(*args, **kwargs) from builtins.type\n",
      " |      Create and return a new object.  See help(type) for accurate signature.\n",
      " |  \n",
      " |  ----------------------------------------------------------------------\n",
      " |  Data descriptors defined here:\n",
      " |  \n",
      " |  maxlen\n",
      " |      maximum size of a deque or None if unbounded\n",
      " |  \n",
      " |  ----------------------------------------------------------------------\n",
      " |  Data and other attributes defined here:\n",
      " |  \n",
      " |  __hash__ = None\n",
      "\n"
     ]
    }
   ],
   "source": [
    "help(obj)"
   ]
  },
  {
   "cell_type": "markdown",
   "id": "bdc371df",
   "metadata": {},
   "source": [
    "## Counter"
   ]
  },
  {
   "cell_type": "code",
   "execution_count": 26,
   "id": "80757861",
   "metadata": {},
   "outputs": [],
   "source": [
    "from collections import Counter"
   ]
  },
  {
   "cell_type": "code",
   "execution_count": 30,
   "id": "549b1af2",
   "metadata": {},
   "outputs": [],
   "source": [
    "l = [10,'mango','apple',20,20,30,'banana','minions','banana','mango',10,10,10]"
   ]
  },
  {
   "cell_type": "code",
   "execution_count": 31,
   "id": "a1d31d7e",
   "metadata": {},
   "outputs": [],
   "source": [
    "c = Counter(l)"
   ]
  },
  {
   "cell_type": "code",
   "execution_count": 32,
   "id": "98759f36",
   "metadata": {},
   "outputs": [
    {
     "name": "stdout",
     "output_type": "stream",
     "text": [
      "Counter({10: 4, 'mango': 2, 20: 2, 'banana': 2, 'apple': 1, 30: 1, 'minions': 1})\n"
     ]
    }
   ],
   "source": [
    "print(c)"
   ]
  },
  {
   "cell_type": "code",
   "execution_count": 34,
   "id": "0886e06d",
   "metadata": {},
   "outputs": [
    {
     "data": {
      "text/plain": [
       "(10, 4)"
      ]
     },
     "execution_count": 34,
     "metadata": {},
     "output_type": "execute_result"
    }
   ],
   "source": [
    "c.most_common()[0]"
   ]
  },
  {
   "cell_type": "code",
   "execution_count": 35,
   "id": "128be8a1",
   "metadata": {},
   "outputs": [
    {
     "name": "stdout",
     "output_type": "stream",
     "text": [
      "Counter({'c': 9, 'b': 8, 'd': 5, 'a': 1})\n"
     ]
    }
   ],
   "source": [
    "c = Counter('acccccccccbbbbbbbbddddd')\n",
    "print(c)"
   ]
  },
  {
   "cell_type": "code",
   "execution_count": 36,
   "id": "81998846",
   "metadata": {},
   "outputs": [],
   "source": [
    "c.subtract('a')"
   ]
  },
  {
   "cell_type": "code",
   "execution_count": 37,
   "id": "915ec04e",
   "metadata": {},
   "outputs": [
    {
     "name": "stdout",
     "output_type": "stream",
     "text": [
      "Counter({'c': 9, 'b': 8, 'd': 5, 'a': 0})\n"
     ]
    }
   ],
   "source": [
    "print(c)"
   ]
  },
  {
   "cell_type": "code",
   "execution_count": 38,
   "id": "9899cdd3",
   "metadata": {},
   "outputs": [],
   "source": [
    "c.subtract('cccc')"
   ]
  },
  {
   "cell_type": "code",
   "execution_count": 39,
   "id": "cf0cff61",
   "metadata": {},
   "outputs": [
    {
     "name": "stdout",
     "output_type": "stream",
     "text": [
      "Counter({'b': 8, 'c': 5, 'd': 5, 'a': 0})\n"
     ]
    }
   ],
   "source": [
    "print(c)"
   ]
  },
  {
   "cell_type": "code",
   "execution_count": 40,
   "id": "e1ce98eb",
   "metadata": {},
   "outputs": [],
   "source": [
    "c = Counter('the quick brown fox jumps over a lazy dog')\n",
    "\n",
    "# Homework\n",
    "# x = 'the quick brown fox jumps over a lazy dog' => True\n",
    "\n",
    "# Find out if it contains all the small alphabets in English.\n",
    "\n",
    "# y = 'quick mango banana' => False\n",
    "# do this question without using counter"
   ]
  },
  {
   "cell_type": "code",
   "execution_count": 41,
   "id": "2d32bc86",
   "metadata": {},
   "outputs": [
    {
     "data": {
      "text/plain": [
       "Counter({'t': 1,\n",
       "         'h': 1,\n",
       "         'e': 2,\n",
       "         ' ': 8,\n",
       "         'q': 1,\n",
       "         'u': 2,\n",
       "         'i': 1,\n",
       "         'c': 1,\n",
       "         'k': 1,\n",
       "         'b': 1,\n",
       "         'r': 2,\n",
       "         'o': 4,\n",
       "         'w': 1,\n",
       "         'n': 1,\n",
       "         'f': 1,\n",
       "         'x': 1,\n",
       "         'j': 1,\n",
       "         'm': 1,\n",
       "         'p': 1,\n",
       "         's': 1,\n",
       "         'v': 1,\n",
       "         'a': 2,\n",
       "         'l': 1,\n",
       "         'z': 1,\n",
       "         'y': 1,\n",
       "         'd': 1,\n",
       "         'g': 1})"
      ]
     },
     "execution_count": 41,
     "metadata": {},
     "output_type": "execute_result"
    }
   ],
   "source": [
    "c"
   ]
  },
  {
   "cell_type": "code",
   "execution_count": 43,
   "id": "5bf7b889",
   "metadata": {},
   "outputs": [],
   "source": [
    "# help(c)"
   ]
  },
  {
   "cell_type": "markdown",
   "id": "b3e31899",
   "metadata": {},
   "source": [
    "## OrderedDict"
   ]
  },
  {
   "cell_type": "code",
   "execution_count": 44,
   "id": "264ed34a",
   "metadata": {},
   "outputs": [],
   "source": [
    "from collections import OrderedDict"
   ]
  },
  {
   "cell_type": "code",
   "execution_count": 45,
   "id": "78208466",
   "metadata": {},
   "outputs": [],
   "source": [
    "obj_dict = OrderedDict()"
   ]
  },
  {
   "cell_type": "code",
   "execution_count": 47,
   "id": "e468a84d",
   "metadata": {},
   "outputs": [
    {
     "data": {
      "text/plain": [
       "collections.OrderedDict"
      ]
     },
     "execution_count": 47,
     "metadata": {},
     "output_type": "execute_result"
    }
   ],
   "source": [
    "type(obj_dict)"
   ]
  },
  {
   "cell_type": "code",
   "execution_count": 48,
   "id": "22aeaee2",
   "metadata": {},
   "outputs": [],
   "source": [
    "obj_dict['python'] = 3\n",
    "obj_dict['java'] = 8\n",
    "obj_dict['C'] = 4"
   ]
  },
  {
   "cell_type": "code",
   "execution_count": 49,
   "id": "3cd08afb",
   "metadata": {},
   "outputs": [
    {
     "name": "stdout",
     "output_type": "stream",
     "text": [
      "OrderedDict([('python', 3), ('java', 8), ('C', 4)])\n"
     ]
    }
   ],
   "source": [
    "print(obj_dict)"
   ]
  },
  {
   "cell_type": "code",
   "execution_count": 52,
   "id": "09a978e2",
   "metadata": {},
   "outputs": [
    {
     "name": "stdout",
     "output_type": "stream",
     "text": [
      "C 4\n"
     ]
    }
   ],
   "source": [
    "count = 0\n",
    "for x in obj_dict:\n",
    "    count+=1\n",
    "    if count == 3:\n",
    "        print(x,obj_dict[x])"
   ]
  },
  {
   "cell_type": "code",
   "execution_count": 53,
   "id": "a0c28269",
   "metadata": {},
   "outputs": [
    {
     "name": "stdout",
     "output_type": "stream",
     "text": [
      "<class 'dict'>\n"
     ]
    }
   ],
   "source": [
    "original_dict = dict([('python', 3), ('java', 8), ('C', 4)])\n",
    "\n",
    "print(type(original_dict))"
   ]
  },
  {
   "cell_type": "code",
   "execution_count": 57,
   "id": "a92705c5",
   "metadata": {},
   "outputs": [
    {
     "data": {
      "text/plain": [
       "True"
      ]
     },
     "execution_count": 57,
     "metadata": {},
     "output_type": "execute_result"
    }
   ],
   "source": [
    "dict([('python', 3), ('java', 8)]) == dict([('java', 8), ('python', 3)])"
   ]
  },
  {
   "cell_type": "code",
   "execution_count": 58,
   "id": "140e44ea",
   "metadata": {},
   "outputs": [
    {
     "data": {
      "text/plain": [
       "False"
      ]
     },
     "execution_count": 58,
     "metadata": {},
     "output_type": "execute_result"
    }
   ],
   "source": [
    "OrderedDict([('python', 3), ('java', 8)]) == OrderedDict([('java', 8), ('python', 3)])"
   ]
  },
  {
   "cell_type": "code",
   "execution_count": 59,
   "id": "0ae814bd",
   "metadata": {},
   "outputs": [
    {
     "data": {
      "text/plain": [
       "OrderedDict([('python', 3), ('java', 8), ('C', 4)])"
      ]
     },
     "execution_count": 59,
     "metadata": {},
     "output_type": "execute_result"
    }
   ],
   "source": [
    "obj_dict"
   ]
  },
  {
   "cell_type": "code",
   "execution_count": 60,
   "id": "2fc5615c",
   "metadata": {},
   "outputs": [],
   "source": [
    "obj_dict.update({'numpy':1})"
   ]
  },
  {
   "cell_type": "code",
   "execution_count": 61,
   "id": "6d7fb6e5",
   "metadata": {},
   "outputs": [
    {
     "data": {
      "text/plain": [
       "OrderedDict([('python', 3), ('java', 8), ('C', 4), ('numpy', 1)])"
      ]
     },
     "execution_count": 61,
     "metadata": {},
     "output_type": "execute_result"
    }
   ],
   "source": [
    "obj_dict"
   ]
  },
  {
   "cell_type": "code",
   "execution_count": 62,
   "id": "26a1aa70",
   "metadata": {},
   "outputs": [],
   "source": [
    "obj_dict.update({'pandas':1})"
   ]
  },
  {
   "cell_type": "code",
   "execution_count": 63,
   "id": "5c8d8be1",
   "metadata": {},
   "outputs": [
    {
     "data": {
      "text/plain": [
       "OrderedDict([('python', 3),\n",
       "             ('java', 8),\n",
       "             ('C', 4),\n",
       "             ('numpy', 1),\n",
       "             ('pandas', 1)])"
      ]
     },
     "execution_count": 63,
     "metadata": {},
     "output_type": "execute_result"
    }
   ],
   "source": [
    "obj_dict"
   ]
  },
  {
   "cell_type": "code",
   "execution_count": 64,
   "id": "87c38169",
   "metadata": {},
   "outputs": [],
   "source": [
    "obj_dict.move_to_end('java')"
   ]
  },
  {
   "cell_type": "code",
   "execution_count": 65,
   "id": "8c272866",
   "metadata": {},
   "outputs": [
    {
     "data": {
      "text/plain": [
       "OrderedDict([('python', 3),\n",
       "             ('C', 4),\n",
       "             ('numpy', 1),\n",
       "             ('pandas', 1),\n",
       "             ('java', 8)])"
      ]
     },
     "execution_count": 65,
     "metadata": {},
     "output_type": "execute_result"
    }
   ],
   "source": [
    "obj_dict"
   ]
  },
  {
   "cell_type": "code",
   "execution_count": 66,
   "id": "54362aea",
   "metadata": {},
   "outputs": [],
   "source": [
    "x = reversed(obj_dict)"
   ]
  },
  {
   "cell_type": "code",
   "execution_count": 67,
   "id": "43c4c772",
   "metadata": {},
   "outputs": [
    {
     "name": "stdout",
     "output_type": "stream",
     "text": [
      "<odict_iterator object at 0x0000019E7A350DB0>\n"
     ]
    }
   ],
   "source": [
    "print(x)"
   ]
  },
  {
   "cell_type": "code",
   "execution_count": 68,
   "id": "9e4b51fc",
   "metadata": {},
   "outputs": [
    {
     "name": "stdout",
     "output_type": "stream",
     "text": [
      "java\n",
      "pandas\n",
      "numpy\n",
      "C\n",
      "python\n"
     ]
    }
   ],
   "source": [
    "for key in x:\n",
    "    print(key)"
   ]
  },
  {
   "cell_type": "code",
   "execution_count": 69,
   "id": "93caecd2",
   "metadata": {},
   "outputs": [],
   "source": [
    "# .items() .values()"
   ]
  },
  {
   "cell_type": "code",
   "execution_count": 70,
   "id": "d0d7b4b9",
   "metadata": {},
   "outputs": [
    {
     "data": {
      "text/plain": [
       "odict_items([('python', 3), ('C', 4), ('numpy', 1), ('pandas', 1), ('java', 8)])"
      ]
     },
     "execution_count": 70,
     "metadata": {},
     "output_type": "execute_result"
    }
   ],
   "source": [
    "obj_dict.items()"
   ]
  },
  {
   "cell_type": "code",
   "execution_count": 71,
   "id": "23b5ad42",
   "metadata": {},
   "outputs": [
    {
     "data": {
      "text/plain": [
       "odict_values([3, 4, 1, 1, 8])"
      ]
     },
     "execution_count": 71,
     "metadata": {},
     "output_type": "execute_result"
    }
   ],
   "source": [
    "obj_dict.values()"
   ]
  },
  {
   "cell_type": "code",
   "execution_count": 72,
   "id": "a77d91d2",
   "metadata": {},
   "outputs": [
    {
     "data": {
      "text/plain": [
       "odict_keys(['python', 'C', 'numpy', 'pandas', 'java'])"
      ]
     },
     "execution_count": 72,
     "metadata": {},
     "output_type": "execute_result"
    }
   ],
   "source": [
    "obj_dict.keys()"
   ]
  },
  {
   "cell_type": "markdown",
   "id": "5cc21644",
   "metadata": {},
   "source": [
    "## ChainMap"
   ]
  },
  {
   "cell_type": "code",
   "execution_count": 73,
   "id": "ab880864",
   "metadata": {},
   "outputs": [],
   "source": [
    "from collections import ChainMap"
   ]
  },
  {
   "cell_type": "code",
   "execution_count": 74,
   "id": "3966395b",
   "metadata": {},
   "outputs": [],
   "source": [
    "dict1 = {'apple':2,'mango':3}\n",
    "dict2 = {'brown':'sugar','black':'mamba'}"
   ]
  },
  {
   "cell_type": "code",
   "execution_count": 75,
   "id": "84b2f3f2",
   "metadata": {},
   "outputs": [],
   "source": [
    "c = ChainMap(dict1,dict2)"
   ]
  },
  {
   "cell_type": "code",
   "execution_count": 76,
   "id": "fbe1b7fb",
   "metadata": {},
   "outputs": [
    {
     "name": "stdout",
     "output_type": "stream",
     "text": [
      "ChainMap({'apple': 2, 'mango': 3}, {'brown': 'sugar', 'black': 'mamba'})\n"
     ]
    }
   ],
   "source": [
    "print(c)"
   ]
  },
  {
   "cell_type": "code",
   "execution_count": 78,
   "id": "2da11cfd",
   "metadata": {},
   "outputs": [
    {
     "name": "stdout",
     "output_type": "stream",
     "text": [
      "brown\n",
      "black\n",
      "apple\n",
      "mango\n"
     ]
    }
   ],
   "source": [
    "for x in c.keys():\n",
    "    print(x)"
   ]
  },
  {
   "cell_type": "code",
   "execution_count": 79,
   "id": "6726e6ff",
   "metadata": {},
   "outputs": [
    {
     "name": "stdout",
     "output_type": "stream",
     "text": [
      "brown sugar\n",
      "black mamba\n",
      "apple 2\n",
      "mango 3\n"
     ]
    }
   ],
   "source": [
    "for x in c.items():\n",
    "    print(x[0],x[1])"
   ]
  },
  {
   "cell_type": "code",
   "execution_count": 80,
   "id": "a0e4030f",
   "metadata": {},
   "outputs": [
    {
     "data": {
      "text/plain": [
       "'sugar'"
      ]
     },
     "execution_count": 80,
     "metadata": {},
     "output_type": "execute_result"
    }
   ],
   "source": [
    "c['brown']"
   ]
  },
  {
   "cell_type": "code",
   "execution_count": 81,
   "id": "f03c74c4",
   "metadata": {},
   "outputs": [
    {
     "data": {
      "text/plain": [
       "2"
      ]
     },
     "execution_count": 81,
     "metadata": {},
     "output_type": "execute_result"
    }
   ],
   "source": [
    "c['apple']"
   ]
  },
  {
   "cell_type": "code",
   "execution_count": 82,
   "id": "df1cbe41",
   "metadata": {},
   "outputs": [],
   "source": [
    "dict3 = {'white':'limo','grey':'ferrari'}"
   ]
  },
  {
   "cell_type": "code",
   "execution_count": 83,
   "id": "49fe73c4",
   "metadata": {},
   "outputs": [],
   "source": [
    "m = c.new_child(dict3)"
   ]
  },
  {
   "cell_type": "code",
   "execution_count": 84,
   "id": "12474fa8",
   "metadata": {},
   "outputs": [
    {
     "data": {
      "text/plain": [
       "2"
      ]
     },
     "execution_count": 84,
     "metadata": {},
     "output_type": "execute_result"
    }
   ],
   "source": [
    "m['apple']"
   ]
  },
  {
   "cell_type": "code",
   "execution_count": 85,
   "id": "6274c436",
   "metadata": {},
   "outputs": [
    {
     "data": {
      "text/plain": [
       "'sugar'"
      ]
     },
     "execution_count": 85,
     "metadata": {},
     "output_type": "execute_result"
    }
   ],
   "source": [
    "m['brown']"
   ]
  },
  {
   "cell_type": "code",
   "execution_count": 86,
   "id": "834323b4",
   "metadata": {},
   "outputs": [
    {
     "data": {
      "text/plain": [
       "'limo'"
      ]
     },
     "execution_count": 86,
     "metadata": {},
     "output_type": "execute_result"
    }
   ],
   "source": [
    "m['white']"
   ]
  },
  {
   "cell_type": "code",
   "execution_count": 88,
   "id": "89cb4c0b",
   "metadata": {},
   "outputs": [],
   "source": [
    "# help(m)"
   ]
  },
  {
   "cell_type": "markdown",
   "id": "adac822f",
   "metadata": {},
   "source": [
    "# DATETIME"
   ]
  },
  {
   "cell_type": "code",
   "execution_count": 89,
   "id": "71ffa874",
   "metadata": {},
   "outputs": [],
   "source": [
    "import datetime"
   ]
  },
  {
   "cell_type": "code",
   "execution_count": 90,
   "id": "872ddaa2",
   "metadata": {},
   "outputs": [],
   "source": [
    "datetime_obj = datetime.datetime.now()"
   ]
  },
  {
   "cell_type": "code",
   "execution_count": 91,
   "id": "be28836f",
   "metadata": {},
   "outputs": [
    {
     "name": "stdout",
     "output_type": "stream",
     "text": [
      "2021-11-10 20:52:31.010974\n"
     ]
    }
   ],
   "source": [
    "print(datetime_obj)"
   ]
  },
  {
   "cell_type": "code",
   "execution_count": 92,
   "id": "6f0cbebd",
   "metadata": {},
   "outputs": [],
   "source": [
    "date_obj = datetime.date.today()"
   ]
  },
  {
   "cell_type": "code",
   "execution_count": 93,
   "id": "239ab9a5",
   "metadata": {},
   "outputs": [
    {
     "name": "stdout",
     "output_type": "stream",
     "text": [
      "2021-11-10\n"
     ]
    }
   ],
   "source": [
    "print(date_obj)"
   ]
  },
  {
   "cell_type": "code",
   "execution_count": 94,
   "id": "5bf3a8ff",
   "metadata": {},
   "outputs": [],
   "source": [
    "d = datetime.date(1969,5,20)"
   ]
  },
  {
   "cell_type": "code",
   "execution_count": 95,
   "id": "f6d5a28b",
   "metadata": {},
   "outputs": [
    {
     "name": "stdout",
     "output_type": "stream",
     "text": [
      "1969-05-20\n"
     ]
    }
   ],
   "source": [
    "print(d)"
   ]
  },
  {
   "cell_type": "code",
   "execution_count": 96,
   "id": "2b19d32f",
   "metadata": {},
   "outputs": [
    {
     "data": {
      "text/plain": [
       "1969"
      ]
     },
     "execution_count": 96,
     "metadata": {},
     "output_type": "execute_result"
    }
   ],
   "source": [
    "d.year"
   ]
  },
  {
   "cell_type": "code",
   "execution_count": 97,
   "id": "76b0024a",
   "metadata": {},
   "outputs": [
    {
     "data": {
      "text/plain": [
       "20"
      ]
     },
     "execution_count": 97,
     "metadata": {},
     "output_type": "execute_result"
    }
   ],
   "source": [
    "d.day"
   ]
  },
  {
   "cell_type": "code",
   "execution_count": 98,
   "id": "0f437c72",
   "metadata": {},
   "outputs": [
    {
     "data": {
      "text/plain": [
       "5"
      ]
     },
     "execution_count": 98,
     "metadata": {},
     "output_type": "execute_result"
    }
   ],
   "source": [
    "d.month"
   ]
  },
  {
   "cell_type": "code",
   "execution_count": null,
   "id": "671554ea",
   "metadata": {},
   "outputs": [],
   "source": [
    "## Timestamp\n",
    "\n",
    "A unix timestamp is the number of seconds between a particular date and \n",
    "January 1, 1970 at UTC."
   ]
  },
  {
   "cell_type": "code",
   "execution_count": 99,
   "id": "e5bc0d09",
   "metadata": {},
   "outputs": [],
   "source": [
    "from datetime import date"
   ]
  },
  {
   "cell_type": "code",
   "execution_count": 104,
   "id": "a219e294",
   "metadata": {},
   "outputs": [],
   "source": [
    "xolo = date.fromtimestamp(1636558293)"
   ]
  },
  {
   "cell_type": "code",
   "execution_count": 105,
   "id": "4bf2ec97",
   "metadata": {},
   "outputs": [
    {
     "data": {
      "text/plain": [
       "2021"
      ]
     },
     "execution_count": 105,
     "metadata": {},
     "output_type": "execute_result"
    }
   ],
   "source": [
    "xolo.year"
   ]
  },
  {
   "cell_type": "code",
   "execution_count": 106,
   "id": "bfe8c1d2",
   "metadata": {},
   "outputs": [
    {
     "data": {
      "text/plain": [
       "11"
      ]
     },
     "execution_count": 106,
     "metadata": {},
     "output_type": "execute_result"
    }
   ],
   "source": [
    "xolo.month"
   ]
  },
  {
   "cell_type": "code",
   "execution_count": 107,
   "id": "366fb54e",
   "metadata": {},
   "outputs": [
    {
     "data": {
      "text/plain": [
       "10"
      ]
     },
     "execution_count": 107,
     "metadata": {},
     "output_type": "execute_result"
    }
   ],
   "source": [
    "xolo.day"
   ]
  },
  {
   "cell_type": "code",
   "execution_count": 110,
   "id": "3d0d3ac4",
   "metadata": {},
   "outputs": [],
   "source": [
    "from datetime import datetime\n",
    "xolo2 = datetime.fromtimestamp(1636558293)"
   ]
  },
  {
   "cell_type": "code",
   "execution_count": 111,
   "id": "5c3a9bcb",
   "metadata": {},
   "outputs": [
    {
     "data": {
      "text/plain": [
       "21"
      ]
     },
     "execution_count": 111,
     "metadata": {},
     "output_type": "execute_result"
    }
   ],
   "source": [
    "xolo2.hour"
   ]
  },
  {
   "cell_type": "code",
   "execution_count": 113,
   "id": "9bf051df",
   "metadata": {},
   "outputs": [
    {
     "data": {
      "text/plain": [
       "33"
      ]
     },
     "execution_count": 113,
     "metadata": {},
     "output_type": "execute_result"
    }
   ],
   "source": [
    "xolo2.second"
   ]
  },
  {
   "cell_type": "code",
   "execution_count": 114,
   "id": "3ae47ea4",
   "metadata": {},
   "outputs": [
    {
     "data": {
      "text/plain": [
       "1"
      ]
     },
     "execution_count": 114,
     "metadata": {},
     "output_type": "execute_result"
    }
   ],
   "source": [
    "xolo2.minute"
   ]
  },
  {
   "cell_type": "code",
   "execution_count": 118,
   "id": "139087a0",
   "metadata": {},
   "outputs": [
    {
     "data": {
      "text/plain": [
       "datetime.date(2021, 11, 10)"
      ]
     },
     "execution_count": 118,
     "metadata": {},
     "output_type": "execute_result"
    }
   ],
   "source": [
    "xolo2.date()"
   ]
  },
  {
   "cell_type": "markdown",
   "id": "6b1a1731",
   "metadata": {},
   "source": [
    "## Time Difference"
   ]
  },
  {
   "cell_type": "code",
   "execution_count": 121,
   "id": "2483a80a",
   "metadata": {},
   "outputs": [],
   "source": [
    "t1 = date(year=1947,month=8,day=15)\n",
    "t2 = date(year=2021,month=11,day=10)\n",
    "\n",
    "t3 = t2-t1"
   ]
  },
  {
   "cell_type": "code",
   "execution_count": 122,
   "id": "4eda786f",
   "metadata": {},
   "outputs": [
    {
     "name": "stdout",
     "output_type": "stream",
     "text": [
      "27116 days, 0:00:00\n"
     ]
    }
   ],
   "source": [
    "print(t3)"
   ]
  },
  {
   "cell_type": "code",
   "execution_count": 123,
   "id": "6ba7cd62",
   "metadata": {},
   "outputs": [],
   "source": [
    "t1 = date(year=1,month=8,day=15)\n",
    "t2 = date(year=2021,month=11,day=10)\n",
    "\n",
    "t3 = t2-t1"
   ]
  },
  {
   "cell_type": "code",
   "execution_count": 124,
   "id": "dc5335ed",
   "metadata": {},
   "outputs": [
    {
     "name": "stdout",
     "output_type": "stream",
     "text": [
      "737877 days, 0:00:00\n"
     ]
    }
   ],
   "source": [
    "print(t3)"
   ]
  },
  {
   "cell_type": "code",
   "execution_count": 126,
   "id": "03ad1c74",
   "metadata": {},
   "outputs": [],
   "source": [
    "t1 = datetime(year=1,month=8,day=15,hour=10,minute=10,second=10)\n",
    "t2 = datetime(year=2021,month=11,day=10,hour=5,minute=5,second=5)\n",
    "\n",
    "t3 = t2-t1"
   ]
  },
  {
   "cell_type": "code",
   "execution_count": 127,
   "id": "b96cd79c",
   "metadata": {},
   "outputs": [
    {
     "name": "stdout",
     "output_type": "stream",
     "text": [
      "737876 days, 18:54:55\n"
     ]
    }
   ],
   "source": [
    "print(t3)"
   ]
  },
  {
   "cell_type": "code",
   "execution_count": 130,
   "id": "7d4a5941",
   "metadata": {},
   "outputs": [
    {
     "data": {
      "text/plain": [
       "2"
      ]
     },
     "execution_count": 130,
     "metadata": {},
     "output_type": "execute_result"
    }
   ],
   "source": [
    "t1 = date(year=1,month=8,day=15)\n",
    "t1.weekday()"
   ]
  },
  {
   "cell_type": "code",
   "execution_count": 133,
   "id": "4a893769",
   "metadata": {},
   "outputs": [
    {
     "data": {
      "text/plain": [
       "2"
      ]
     },
     "execution_count": 133,
     "metadata": {},
     "output_type": "execute_result"
    }
   ],
   "source": [
    "t2 = date.today()\n",
    "t2.weekday()"
   ]
  },
  {
   "cell_type": "code",
   "execution_count": null,
   "id": "b271be35",
   "metadata": {},
   "outputs": [],
   "source": [
    "0 Mon\n",
    "1 Tue\n",
    "2 Wed\n",
    "3 Thur\n",
    "4 Fri\n",
    "5 Sat\n",
    "6 Sun"
   ]
  },
  {
   "cell_type": "code",
   "execution_count": 134,
   "id": "33b98e52",
   "metadata": {},
   "outputs": [],
   "source": [
    "t4 = date(year=2021,month=11,day=11)"
   ]
  },
  {
   "cell_type": "code",
   "execution_count": 135,
   "id": "2ebf8e55",
   "metadata": {},
   "outputs": [
    {
     "data": {
      "text/plain": [
       "3"
      ]
     },
     "execution_count": 135,
     "metadata": {},
     "output_type": "execute_result"
    }
   ],
   "source": [
    "t4.weekday()"
   ]
  },
  {
   "cell_type": "code",
   "execution_count": 136,
   "id": "c3c46e89",
   "metadata": {},
   "outputs": [],
   "source": [
    "import time\n",
    "ts = time.time()"
   ]
  },
  {
   "cell_type": "code",
   "execution_count": 137,
   "id": "8fddca32",
   "metadata": {},
   "outputs": [
    {
     "name": "stdout",
     "output_type": "stream",
     "text": [
      "1636559385.6116142\n"
     ]
    }
   ],
   "source": [
    "print(ts)"
   ]
  },
  {
   "cell_type": "code",
   "execution_count": 138,
   "id": "35869b3f",
   "metadata": {},
   "outputs": [
    {
     "name": "stdout",
     "output_type": "stream",
     "text": [
      "1636559450.382337\n"
     ]
    }
   ],
   "source": [
    "now = datetime.now()\n",
    "ts2 = datetime.timestamp(now)\n",
    "print(ts2)"
   ]
  },
  {
   "cell_type": "code",
   "execution_count": 145,
   "id": "a6fcef8e",
   "metadata": {},
   "outputs": [
    {
     "data": {
      "text/plain": [
       "'28 April 1997 was a Monday'"
      ]
     },
     "execution_count": 145,
     "metadata": {},
     "output_type": "execute_result"
    }
   ],
   "source": [
    "import datetime\n",
    "x = datetime.date(1997,4,28)\n",
    "\n",
    "x.strftime(\"%d %B %Y was a %A\")"
   ]
  },
  {
   "cell_type": "code",
   "execution_count": null,
   "id": "7142f3a3",
   "metadata": {},
   "outputs": [],
   "source": []
  }
 ],
 "metadata": {
  "kernelspec": {
   "display_name": "Python 3 (ipykernel)",
   "language": "python",
   "name": "python3"
  },
  "language_info": {
   "codemirror_mode": {
    "name": "ipython",
    "version": 3
   },
   "file_extension": ".py",
   "mimetype": "text/x-python",
   "name": "python",
   "nbconvert_exporter": "python",
   "pygments_lexer": "ipython3",
   "version": "3.8.10"
  }
 },
 "nbformat": 4,
 "nbformat_minor": 5
}
