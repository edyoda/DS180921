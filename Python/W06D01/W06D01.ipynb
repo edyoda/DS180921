{
 "cells": [
  {
   "cell_type": "markdown",
   "id": "69ea4cec",
   "metadata": {},
   "source": [
    "## with"
   ]
  },
  {
   "cell_type": "code",
   "execution_count": 1,
   "id": "d9d9f889",
   "metadata": {},
   "outputs": [],
   "source": [
    "fp = open(\"Saurabh.txt\",\"w+\")"
   ]
  },
  {
   "cell_type": "code",
   "execution_count": 2,
   "id": "d8abde47",
   "metadata": {},
   "outputs": [
    {
     "data": {
      "text/plain": [
       "37"
      ]
     },
     "execution_count": 2,
     "metadata": {},
     "output_type": "execute_result"
    }
   ],
   "source": [
    "fp.write(\"Saurabh will become a data scientist\\n\")"
   ]
  },
  {
   "cell_type": "code",
   "execution_count": 3,
   "id": "65957fcb",
   "metadata": {},
   "outputs": [],
   "source": [
    "fp.close()"
   ]
  },
  {
   "cell_type": "code",
   "execution_count": 6,
   "id": "d2a32184",
   "metadata": {},
   "outputs": [],
   "source": [
    "with open(\"Jyotsana.py\",'w+') as fp:\n",
    "    # with\n",
    "    fp.write(\"print('Jyotsana included space and said hello world!!')\")"
   ]
  },
  {
   "cell_type": "code",
   "execution_count": 7,
   "id": "d240c971",
   "metadata": {},
   "outputs": [
    {
     "name": "stdout",
     "output_type": "stream",
     "text": [
      "Jyotsana included space and said hello world!!\n"
     ]
    }
   ],
   "source": [
    "import Jyotsana"
   ]
  },
  {
   "cell_type": "code",
   "execution_count": 8,
   "id": "611d4cb6",
   "metadata": {},
   "outputs": [
    {
     "name": "stdout",
     "output_type": "stream",
     "text": [
      "21\n"
     ]
    }
   ],
   "source": [
    "with open(\"pavan.txt\",\"w+\") as x:\n",
    "    a = x.write(\"Ashish is smart guy!!\")\n",
    "    print(a)"
   ]
  },
  {
   "cell_type": "code",
   "execution_count": 9,
   "id": "9cd42cee",
   "metadata": {},
   "outputs": [
    {
     "name": "stdout",
     "output_type": "stream",
     "text": [
      "Ashish is smart guy!!\n"
     ]
    }
   ],
   "source": [
    "with open(\"pavan.txt\",\"r\") as x:\n",
    "    print(x.read())"
   ]
  },
  {
   "cell_type": "code",
   "execution_count": 13,
   "id": "3baa0efd",
   "metadata": {},
   "outputs": [
    {
     "name": "stdout",
     "output_type": "stream",
     "text": [
      "\n",
      "Ashish is smart guy!!\n",
      "ish is smart guy!!\n"
     ]
    },
    {
     "ename": "ValueError",
     "evalue": "negative seek position -1",
     "output_type": "error",
     "traceback": [
      "\u001b[1;31m---------------------------------------------------------------------------\u001b[0m",
      "\u001b[1;31mValueError\u001b[0m                                Traceback (most recent call last)",
      "\u001b[1;32mC:\\Users\\KUNALC~1\\AppData\\Local\\Temp/ipykernel_1696/2751767811.py\u001b[0m in \u001b[0;36m<module>\u001b[1;34m\u001b[0m\n\u001b[0;32m      5\u001b[0m     \u001b[0mx\u001b[0m\u001b[1;33m.\u001b[0m\u001b[0mseek\u001b[0m\u001b[1;33m(\u001b[0m\u001b[1;36m3\u001b[0m\u001b[1;33m)\u001b[0m\u001b[1;33m\u001b[0m\u001b[1;33m\u001b[0m\u001b[0m\n\u001b[0;32m      6\u001b[0m     \u001b[0mprint\u001b[0m\u001b[1;33m(\u001b[0m\u001b[0mx\u001b[0m\u001b[1;33m.\u001b[0m\u001b[0mread\u001b[0m\u001b[1;33m(\u001b[0m\u001b[1;33m)\u001b[0m\u001b[1;33m)\u001b[0m\u001b[1;33m\u001b[0m\u001b[1;33m\u001b[0m\u001b[0m\n\u001b[1;32m----> 7\u001b[1;33m     \u001b[0mx\u001b[0m\u001b[1;33m.\u001b[0m\u001b[0mseek\u001b[0m\u001b[1;33m(\u001b[0m\u001b[1;33m-\u001b[0m\u001b[1;36m1\u001b[0m\u001b[1;33m)\u001b[0m\u001b[1;33m\u001b[0m\u001b[1;33m\u001b[0m\u001b[0m\n\u001b[0m\u001b[0;32m      8\u001b[0m     \u001b[0mprint\u001b[0m\u001b[1;33m(\u001b[0m\u001b[0mx\u001b[0m\u001b[1;33m.\u001b[0m\u001b[0mread\u001b[0m\u001b[1;33m(\u001b[0m\u001b[1;33m)\u001b[0m\u001b[1;33m)\u001b[0m\u001b[1;33m\u001b[0m\u001b[1;33m\u001b[0m\u001b[0m\n",
      "\u001b[1;31mValueError\u001b[0m: negative seek position -1"
     ]
    }
   ],
   "source": [
    "with open(\"pavan.txt\",\"a+\") as x:\n",
    "    print(x.read())\n",
    "    x.seek(0)\n",
    "    print(x.read())\n",
    "    x.seek(3)\n",
    "    print(x.read())\n",
    "    x.seek(-1)\n",
    "    print(x.read())"
   ]
  },
  {
   "cell_type": "markdown",
   "id": "c24de6c1",
   "metadata": {},
   "source": [
    "# Tell()"
   ]
  },
  {
   "cell_type": "code",
   "execution_count": 19,
   "id": "26182fcb",
   "metadata": {},
   "outputs": [
    {
     "name": "stdout",
     "output_type": "stream",
     "text": [
      "\n",
      "after read() 21\n",
      "after seek() 0\n",
      "0\n",
      "Ashish is smart guy!!\n",
      "after read() 21\n",
      "after seek() 3\n",
      "ish is smart guy!!\n",
      "after read() 21\n"
     ]
    }
   ],
   "source": [
    "with open(\"pavan.txt\",\"a+\") as x:\n",
    "    print(x.read())\n",
    "    print(\"after read()\",x.tell())\n",
    "    x.seek(0)\n",
    "    print(\"after seek()\",x.tell())\n",
    "    print(x.tell())\n",
    "    print(x.read())\n",
    "    print(\"after read()\",x.tell())\n",
    "    x.seek(3)\n",
    "    print(\"after seek()\",x.tell())\n",
    "    print(x.read())\n",
    "    print(\"after read()\",x.tell())"
   ]
  },
  {
   "cell_type": "code",
   "execution_count": null,
   "id": "81de0f0b",
   "metadata": {},
   "outputs": [],
   "source": [
    "how to find what is last of file\n",
    "i mean last pointer? - clear\n"
   ]
  },
  {
   "cell_type": "markdown",
   "id": "2dfcd99f",
   "metadata": {},
   "source": [
    "## Difference between a+ and w+ in open()"
   ]
  },
  {
   "cell_type": "code",
   "execution_count": null,
   "id": "5be1840c",
   "metadata": {},
   "outputs": [],
   "source": [
    "w+ -->  It deletes all the content of the file\n",
    "        keeps the point at the beginning of the file (saurabh)\n",
    "        create a new file then open it for reading and writing (Kusum)\n",
    "\n",
    "a+ --> a+ file pointer is at end (hetvi)\n",
    "       creates a new file or open (kusum)\n",
    "       a+ add thing without removing previous statment (divya)\n",
    "       a+ it inherited the append mode (Kunal raju)"
   ]
  },
  {
   "cell_type": "markdown",
   "id": "2ef2ca9a",
   "metadata": {},
   "source": [
    "# Regular Expression"
   ]
  },
  {
   "cell_type": "code",
   "execution_count": null,
   "id": "4a865676",
   "metadata": {},
   "outputs": [],
   "source": [
    "what is re?\n",
    "It is a String containing some rules to match or define particular patterns\n",
    "Everything around re is put inside a module in python named as re."
   ]
  },
  {
   "cell_type": "code",
   "execution_count": null,
   "id": "cad6c548",
   "metadata": {},
   "outputs": [],
   "source": [
    "Pattern Validation\n",
    "Pattern Extraction\n",
    "String matching and finding\n"
   ]
  },
  {
   "cell_type": "markdown",
   "id": "845d5146",
   "metadata": {},
   "source": [
    "# Metacharacters"
   ]
  },
  {
   "cell_type": "code",
   "execution_count": null,
   "id": "a6c59f2f",
   "metadata": {},
   "outputs": [],
   "source": [
    ". -> (dot) matches with all the characters (which is alphabets digits special symbols,etc) except \n",
    "the new line charecters\n",
    "\n",
    "[] ->Character class. A set of characters\n",
    "[A-Z] -> all capital letters\n",
    "[a-z] -> all lower letters\n",
    "[0-9] -> all single digit occurence\n",
    "[A-Za-z] -> both upper and lower case alphabets\n",
    "[@#Mt] -> either @, #, M or t\n",
    "[0-9a-z] -> all lower alphabets or digits\n",
    "[A-Za-z0-9] -> alphanumeric"
   ]
  },
  {
   "cell_type": "code",
   "execution_count": null,
   "id": "cd26116f",
   "metadata": {},
   "outputs": [],
   "source": [
    "[0-9A-Z]"
   ]
  },
  {
   "cell_type": "markdown",
   "id": "d5da43ec",
   "metadata": {},
   "source": [
    "#### Quantifiers"
   ]
  },
  {
   "cell_type": "code",
   "execution_count": null,
   "id": "99fb8553",
   "metadata": {},
   "outputs": [],
   "source": [
    "+ -> atleast 1 or more occurences []\n",
    "    ([0-9]+ means that it is going to match a single digit or more than 1 digits)\n",
    "string = '124587a556'   \n",
    "[0-9]+ -> 124587\n",
    "[0-9] -> 1\n",
    "[a-z] -> a\n",
    "\n"
   ]
  },
  {
   "cell_type": "code",
   "execution_count": null,
   "id": "befaa2c9",
   "metadata": {},
   "outputs": [],
   "source": [
    "20"
   ]
  }
 ],
 "metadata": {
  "kernelspec": {
   "display_name": "Python 3 (ipykernel)",
   "language": "python",
   "name": "python3"
  },
  "language_info": {
   "codemirror_mode": {
    "name": "ipython",
    "version": 3
   },
   "file_extension": ".py",
   "mimetype": "text/x-python",
   "name": "python",
   "nbconvert_exporter": "python",
   "pygments_lexer": "ipython3",
   "version": "3.9.7"
  }
 },
 "nbformat": 4,
 "nbformat_minor": 5
}
