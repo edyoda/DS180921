{
 "cells": [
  {
   "cell_type": "code",
   "execution_count": 4,
   "id": "5cce040c",
   "metadata": {},
   "outputs": [],
   "source": [
    "fp = open(\"Saurabh.txt\")"
   ]
  },
  {
   "cell_type": "code",
   "execution_count": 5,
   "id": "727018ec",
   "metadata": {},
   "outputs": [
    {
     "data": {
      "text/plain": [
       "'Infinity is the truth'"
      ]
     },
     "execution_count": 5,
     "metadata": {},
     "output_type": "execute_result"
    }
   ],
   "source": [
    "fp.read()"
   ]
  },
  {
   "cell_type": "code",
   "execution_count": 6,
   "id": "6b9f558e",
   "metadata": {},
   "outputs": [],
   "source": [
    "fp.close()"
   ]
  },
  {
   "cell_type": "markdown",
   "id": "a95694b9",
   "metadata": {},
   "source": [
    "# with"
   ]
  },
  {
   "cell_type": "code",
   "execution_count": null,
   "id": "a34d5b35",
   "metadata": {},
   "outputs": [],
   "source": [
    "while using with we need not mention the mode like r,w or a?\n",
    "\n",
    "print function is necessary here?"
   ]
  },
  {
   "cell_type": "code",
   "execution_count": 14,
   "id": "882679bb",
   "metadata": {},
   "outputs": [
    {
     "name": "stdout",
     "output_type": "stream",
     "text": [
      "\n",
      "\n",
      "Infinity is the truth\\Entry writing\\Entry writing\n",
      "Entry writing\n"
     ]
    }
   ],
   "source": [
    "with open(\"Saurabh.txt\",\"a+\") as f:\n",
    "    print(f.read())\n",
    "    f.write(\"\\nEntry writing\")\n",
    "    print(f.read())\n",
    "    f.seek(0)\n",
    "    print(f.read())\n"
   ]
  },
  {
   "cell_type": "markdown",
   "id": "98d0e604",
   "metadata": {},
   "source": [
    "# Regular Expression"
   ]
  },
  {
   "cell_type": "code",
   "execution_count": null,
   "id": "8325837f",
   "metadata": {},
   "outputs": [],
   "source": [
    "what is re?\n",
    "It is a String containing some rules to match or define particular patterns\n",
    "Everything around re is put inside a module in python named as re."
   ]
  },
  {
   "cell_type": "code",
   "execution_count": null,
   "id": "66995f99",
   "metadata": {},
   "outputs": [],
   "source": [
    "Pattern Validation\n",
    "Pattern Extraction\n",
    "String matching and finding"
   ]
  },
  {
   "cell_type": "markdown",
   "id": "7431b9ea",
   "metadata": {},
   "source": [
    "# Metacharacters"
   ]
  },
  {
   "cell_type": "code",
   "execution_count": null,
   "id": "c6325fbc",
   "metadata": {},
   "outputs": [],
   "source": [
    "1) . -> (dot) matches with all the characters (which is alphabets digits special symbols,etc) except \n",
    "the new line charecters\n",
    "\n",
    "2)  [] ->Character class. A set of characters\n",
    "2a) [A-Z] -> all capital letters\n",
    "2b) [a-z] -> all lower letters\n",
    "2c) [0-9] -> all single digit occurence\n",
    "[A-Za-z] -> both upper and lower case alphabets\n",
    "[@#Mt] -> either @, #, M or t\n",
    "[0-9a-z] -> all lower alphabets or digits\n",
    "[A-Za-z0-9] -> alphanumeric"
   ]
  },
  {
   "cell_type": "code",
   "execution_count": null,
   "id": "9fb5352d",
   "metadata": {},
   "outputs": [],
   "source": [
    "# Quantifiers\n",
    "\n",
    "3) + -> atleast 1 or more occurences []\n",
    "    ([0-9]+ means that it is going to match a single digit or more than 1 digits)\n",
    "string = '124587a556'   \n",
    "[0-9] -> 1\n",
    "[a-z] -> a\n",
    "[0-9]+ -> 124587\n",
    "\n",
    "4) * -> 0 or more occurences \n",
    "5) ? -> optional (once or not at all)\n",
    "\n",
    "Anchors:\n",
    "    ^ -> start of the string\n",
    "    $ -> end of the string\n",
    "\n",
    "6) {} => counting stuff\n",
    "\n",
    "7) compliment (reversal)"
   ]
  },
  {
   "cell_type": "code",
   "execution_count": 15,
   "id": "2b5687cf",
   "metadata": {},
   "outputs": [],
   "source": [
    "import re"
   ]
  },
  {
   "cell_type": "code",
   "execution_count": 16,
   "id": "a350ea87",
   "metadata": {},
   "outputs": [],
   "source": [
    "# re.search(REGX, String_in_which_we_want_to_search_the_pattern)\n",
    "#re.search() matches the first pattern according to the regx inside the string\n",
    "# and returns a match object"
   ]
  },
  {
   "cell_type": "code",
   "execution_count": 19,
   "id": "bbe64b3f",
   "metadata": {},
   "outputs": [
    {
     "data": {
      "text/plain": [
       "<re.Match object; span=(0, 1), match='8'>"
      ]
     },
     "execution_count": 19,
     "metadata": {},
     "output_type": "execute_result"
    }
   ],
   "source": [
    "regx = '.'\n",
    "re.search(regx, '899')"
   ]
  },
  {
   "cell_type": "code",
   "execution_count": 20,
   "id": "c4d4caeb",
   "metadata": {},
   "outputs": [
    {
     "data": {
      "text/plain": [
       "<re.Match object; span=(0, 1), match='a'>"
      ]
     },
     "execution_count": 20,
     "metadata": {},
     "output_type": "execute_result"
    }
   ],
   "source": [
    "regx = '.'\n",
    "re.search(regx, 'a899')"
   ]
  },
  {
   "cell_type": "code",
   "execution_count": 21,
   "id": "ebcd0969",
   "metadata": {},
   "outputs": [
    {
     "data": {
      "text/plain": [
       "<re.Match object; span=(0, 1), match='#'>"
      ]
     },
     "execution_count": 21,
     "metadata": {},
     "output_type": "execute_result"
    }
   ],
   "source": [
    "regx = '.'\n",
    "re.search(regx, '#899')"
   ]
  },
  {
   "cell_type": "code",
   "execution_count": 22,
   "id": "00f5ce49",
   "metadata": {},
   "outputs": [
    {
     "data": {
      "text/plain": [
       "<re.Match object; span=(0, 2), match='89'>"
      ]
     },
     "execution_count": 22,
     "metadata": {},
     "output_type": "execute_result"
    }
   ],
   "source": [
    "regx = '..'\n",
    "re.search(regx, '899')"
   ]
  },
  {
   "cell_type": "code",
   "execution_count": 23,
   "id": "b467eda0",
   "metadata": {},
   "outputs": [
    {
     "data": {
      "text/plain": [
       "<re.Match object; span=(0, 3), match='899'>"
      ]
     },
     "execution_count": 23,
     "metadata": {},
     "output_type": "execute_result"
    }
   ],
   "source": [
    "regx = '...'\n",
    "re.search(regx, '899')"
   ]
  },
  {
   "cell_type": "code",
   "execution_count": 24,
   "id": "4c4cbee6",
   "metadata": {},
   "outputs": [],
   "source": [
    "regx = '....'\n",
    "re.search(regx, '899')"
   ]
  },
  {
   "cell_type": "code",
   "execution_count": 26,
   "id": "0a3b8d8d",
   "metadata": {},
   "outputs": [
    {
     "data": {
      "text/plain": [
       "<re.Match object; span=(0, 3), match='899'>"
      ]
     },
     "execution_count": 26,
     "metadata": {},
     "output_type": "execute_result"
    }
   ],
   "source": [
    "regx = '.99'\n",
    "re.search(regx, '899')"
   ]
  },
  {
   "cell_type": "code",
   "execution_count": 27,
   "id": "a389e2d8",
   "metadata": {},
   "outputs": [
    {
     "data": {
      "text/plain": [
       "<re.Match object; span=(0, 4), match='#899'>"
      ]
     },
     "execution_count": 27,
     "metadata": {},
     "output_type": "execute_result"
    }
   ],
   "source": [
    "regx = '..99'\n",
    "re.search(regx, '#899')"
   ]
  },
  {
   "cell_type": "code",
   "execution_count": 28,
   "id": "6faf7d1b",
   "metadata": {},
   "outputs": [
    {
     "data": {
      "text/plain": [
       "<re.Match object; span=(0, 2), match='#a'>"
      ]
     },
     "execution_count": 28,
     "metadata": {},
     "output_type": "execute_result"
    }
   ],
   "source": [
    "regx = '.[a]'\n",
    "re.search(regx, '#a899')"
   ]
  },
  {
   "cell_type": "code",
   "execution_count": 29,
   "id": "83b7bfa7",
   "metadata": {},
   "outputs": [
    {
     "data": {
      "text/plain": [
       "<re.Match object; span=(0, 2), match='#a'>"
      ]
     },
     "execution_count": 29,
     "metadata": {},
     "output_type": "execute_result"
    }
   ],
   "source": [
    "regx = '.[a-z]'\n",
    "re.search(regx, '#a899')"
   ]
  },
  {
   "cell_type": "code",
   "execution_count": 30,
   "id": "49f8c841",
   "metadata": {},
   "outputs": [
    {
     "data": {
      "text/plain": [
       "<re.Match object; span=(0, 3), match='#a8'>"
      ]
     },
     "execution_count": 30,
     "metadata": {},
     "output_type": "execute_result"
    }
   ],
   "source": [
    "regx = '.[a-z].'\n",
    "re.search(regx, '#a899')"
   ]
  },
  {
   "cell_type": "code",
   "execution_count": 31,
   "id": "6aacaf9b",
   "metadata": {},
   "outputs": [
    {
     "data": {
      "text/plain": [
       "<re.Match object; span=(1, 3), match='a8'>"
      ]
     },
     "execution_count": 31,
     "metadata": {},
     "output_type": "execute_result"
    }
   ],
   "source": [
    "regx = '.[0-9]'\n",
    "re.search(regx, '#a899')"
   ]
  },
  {
   "cell_type": "code",
   "execution_count": 32,
   "id": "4a74a8de",
   "metadata": {},
   "outputs": [
    {
     "data": {
      "text/plain": [
       "<re.Match object; span=(1, 3), match='a8'>"
      ]
     },
     "execution_count": 32,
     "metadata": {},
     "output_type": "execute_result"
    }
   ],
   "source": [
    "regx = '[a-z].'\n",
    "re.search(regx, '#a899')"
   ]
  },
  {
   "cell_type": "code",
   "execution_count": 33,
   "id": "7cb62bfd",
   "metadata": {},
   "outputs": [
    {
     "data": {
      "text/plain": [
       "<re.Match object; span=(0, 3), match='#a8'>"
      ]
     },
     "execution_count": 33,
     "metadata": {},
     "output_type": "execute_result"
    }
   ],
   "source": [
    "regx = '.[a-z].'\n",
    "re.search(regx, '#a899')"
   ]
  },
  {
   "cell_type": "code",
   "execution_count": 34,
   "id": "60fa6fcd",
   "metadata": {},
   "outputs": [],
   "source": [
    "# span gives the location of the match"
   ]
  },
  {
   "cell_type": "code",
   "execution_count": 35,
   "id": "cfaa4fc6",
   "metadata": {},
   "outputs": [
    {
     "data": {
      "text/plain": [
       "<re.Match object; span=(2, 5), match='899'>"
      ]
     },
     "execution_count": 35,
     "metadata": {},
     "output_type": "execute_result"
    }
   ],
   "source": [
    "regx = '[0-9]..'\n",
    "re.search(regx, '#a899')\n",
    "\n",
    "# 899\n",
    "#[0-9]..\n",
    "#[0-9][0-9].\n",
    "#[0-9][0-9][0-9]"
   ]
  },
  {
   "cell_type": "code",
   "execution_count": 36,
   "id": "44c70c1f",
   "metadata": {},
   "outputs": [
    {
     "data": {
      "text/plain": [
       "<re.Match object; span=(2, 5), match='899'>"
      ]
     },
     "execution_count": 36,
     "metadata": {},
     "output_type": "execute_result"
    }
   ],
   "source": [
    "regx = '[0-9][0-9].'\n",
    "re.search(regx, '#a899')"
   ]
  },
  {
   "cell_type": "code",
   "execution_count": 37,
   "id": "05e861b8",
   "metadata": {},
   "outputs": [
    {
     "data": {
      "text/plain": [
       "<re.Match object; span=(2, 5), match='899'>"
      ]
     },
     "execution_count": 37,
     "metadata": {},
     "output_type": "execute_result"
    }
   ],
   "source": [
    "regx = '[0-9][0-9][0-9]'\n",
    "re.search(regx, '#a899')"
   ]
  },
  {
   "cell_type": "code",
   "execution_count": 38,
   "id": "57ac072f",
   "metadata": {},
   "outputs": [
    {
     "data": {
      "text/plain": [
       "<re.Match object; span=(2, 5), match='899'>"
      ]
     },
     "execution_count": 38,
     "metadata": {},
     "output_type": "execute_result"
    }
   ],
   "source": [
    "regx = '[0-9][0-9]9'\n",
    "re.search(regx, '#a899')"
   ]
  },
  {
   "cell_type": "code",
   "execution_count": 39,
   "id": "4d93f422",
   "metadata": {},
   "outputs": [
    {
     "data": {
      "text/plain": [
       "<re.Match object; span=(1, 4), match='a89'>"
      ]
     },
     "execution_count": 39,
     "metadata": {},
     "output_type": "execute_result"
    }
   ],
   "source": [
    "regx = '.[0-9][0-9]'\n",
    "re.search(regx, '#a899')"
   ]
  },
  {
   "cell_type": "code",
   "execution_count": 40,
   "id": "e07ce255",
   "metadata": {},
   "outputs": [
    {
     "data": {
      "text/plain": [
       "<re.Match object; span=(0, 5), match='#a899'>"
      ]
     },
     "execution_count": 40,
     "metadata": {},
     "output_type": "execute_result"
    }
   ],
   "source": [
    "regx = '...[0-9][0-9]'\n",
    "re.search(regx, '#a899')"
   ]
  },
  {
   "cell_type": "code",
   "execution_count": 43,
   "id": "59608ba1",
   "metadata": {},
   "outputs": [
    {
     "data": {
      "text/plain": [
       "<re.Match object; span=(0, 1), match='k'>"
      ]
     },
     "execution_count": 43,
     "metadata": {},
     "output_type": "execute_result"
    }
   ],
   "source": [
    "# regx = '[^a899]'\n",
    "# re.search(regx, 'ki#a899')"
   ]
  },
  {
   "cell_type": "markdown",
   "id": "997cbf91",
   "metadata": {},
   "source": [
    "# Quantifiers"
   ]
  },
  {
   "cell_type": "code",
   "execution_count": null,
   "id": "896b91c1",
   "metadata": {},
   "outputs": [],
   "source": [
    "* -> zero or more occurences"
   ]
  },
  {
   "cell_type": "code",
   "execution_count": 44,
   "id": "cfcb3ced",
   "metadata": {},
   "outputs": [
    {
     "data": {
      "text/plain": [
       "<re.Match object; span=(0, 39), match='#a899sndsdkccecjwjcbscbsdchkcbsicchsdbe'>"
      ]
     },
     "execution_count": 44,
     "metadata": {},
     "output_type": "execute_result"
    }
   ],
   "source": [
    "regx = '.*'\n",
    "re.search(regx, '#a899sndsdkccecjwjcbscbsdchkcbsicchsdbe')"
   ]
  },
  {
   "cell_type": "code",
   "execution_count": 45,
   "id": "7676dbf1",
   "metadata": {},
   "outputs": [
    {
     "data": {
      "text/plain": [
       "<re.Match object; span=(0, 0), match=''>"
      ]
     },
     "execution_count": 45,
     "metadata": {},
     "output_type": "execute_result"
    }
   ],
   "source": [
    "regx = '[0-9]*'\n",
    "re.search(regx, '#a899')"
   ]
  },
  {
   "cell_type": "code",
   "execution_count": null,
   "id": "d56e9c4d",
   "metadata": {},
   "outputs": [],
   "source": [
    "either everything in between 0-9 or nothing"
   ]
  },
  {
   "cell_type": "code",
   "execution_count": 46,
   "id": "0ea50f41",
   "metadata": {},
   "outputs": [
    {
     "data": {
      "text/plain": [
       "<re.Match object; span=(0, 9), match='454981985'>"
      ]
     },
     "execution_count": 46,
     "metadata": {},
     "output_type": "execute_result"
    }
   ],
   "source": [
    "regx = '[0-9]*'\n",
    "re.search(regx, '454981985asdasd5#a899')"
   ]
  },
  {
   "cell_type": "code",
   "execution_count": 48,
   "id": "4550c900",
   "metadata": {},
   "outputs": [
    {
     "data": {
      "text/plain": [
       "<re.Match object; span=(1, 2), match='4'>"
      ]
     },
     "execution_count": 48,
     "metadata": {},
     "output_type": "execute_result"
    }
   ],
   "source": [
    "regx = '[0-9]'\n",
    "re.search(regx, 'f454981985asdasd5#a899')"
   ]
  },
  {
   "cell_type": "code",
   "execution_count": null,
   "id": "a2f55555",
   "metadata": {},
   "outputs": [],
   "source": [
    "+ -> 1 or more occurences 1+"
   ]
  },
  {
   "cell_type": "code",
   "execution_count": 49,
   "id": "915cba9a",
   "metadata": {},
   "outputs": [
    {
     "data": {
      "text/plain": [
       "<re.Match object; span=(13, 22), match='454981985'>"
      ]
     },
     "execution_count": 49,
     "metadata": {},
     "output_type": "execute_result"
    }
   ],
   "source": [
    "regx = '[0-9]+'\n",
    "re.search(regx, '#blasmsdjdddn454981985asdasd5#a899')"
   ]
  },
  {
   "cell_type": "code",
   "execution_count": 50,
   "id": "26f9ce4a",
   "metadata": {},
   "outputs": [
    {
     "data": {
      "text/plain": [
       "<re.Match object; span=(0, 0), match=''>"
      ]
     },
     "execution_count": 50,
     "metadata": {},
     "output_type": "execute_result"
    }
   ],
   "source": [
    "regx = '[0-9]*'\n",
    "re.search(regx, '#blasmsdjdddn454981985asdasd5#a899')"
   ]
  },
  {
   "cell_type": "code",
   "execution_count": 53,
   "id": "985f74e9",
   "metadata": {},
   "outputs": [
    {
     "data": {
      "text/plain": [
       "<re.Match object; span=(13, 29), match='454981985asdasd5'>"
      ]
     },
     "execution_count": 53,
     "metadata": {},
     "output_type": "execute_result"
    }
   ],
   "source": [
    "regx = '[0-9]+......[0-9]'\n",
    "re.search(regx, '#blasmsdjdddn454981985asdasd5#a899')"
   ]
  },
  {
   "cell_type": "code",
   "execution_count": 54,
   "id": "31307328",
   "metadata": {},
   "outputs": [
    {
     "data": {
      "text/plain": [
       "['454981985', '5', '899']"
      ]
     },
     "execution_count": 54,
     "metadata": {},
     "output_type": "execute_result"
    }
   ],
   "source": [
    "regx = '[0-9]+'\n",
    "re.findall(regx, '#blasmsdjdddn454981985asdasd5#a899')"
   ]
  },
  {
   "cell_type": "code",
   "execution_count": 58,
   "id": "96251c48",
   "metadata": {},
   "outputs": [],
   "source": [
    "regx = '[0-9]*'\n",
    "l = re.findall(regx, '#blasmsdjdddn454981985asdasd5#a899')"
   ]
  },
  {
   "cell_type": "code",
   "execution_count": 60,
   "id": "b738d341",
   "metadata": {},
   "outputs": [
    {
     "name": "stdout",
     "output_type": "stream",
     "text": [
      "['', '', '', '', '', '', '', '', '', '', '', '', '', '454981985', '', '', '', '', '', '', '5', '', '', '899', '']\n"
     ]
    }
   ],
   "source": [
    "print(l)"
   ]
  },
  {
   "cell_type": "markdown",
   "id": "72f4a32d",
   "metadata": {},
   "source": [
    "# ?"
   ]
  },
  {
   "cell_type": "code",
   "execution_count": null,
   "id": "cbbdf509",
   "metadata": {},
   "outputs": [],
   "source": [
    "the question mark matches zero or more occerences"
   ]
  },
  {
   "cell_type": "code",
   "execution_count": 61,
   "id": "8953d984",
   "metadata": {},
   "outputs": [
    {
     "data": {
      "text/plain": [
       "<re.Match object; span=(0, 2), match='mn'>"
      ]
     },
     "execution_count": 61,
     "metadata": {},
     "output_type": "execute_result"
    }
   ],
   "source": [
    "regx = 'ma?n'\n",
    "re.search(regx,'mn')"
   ]
  },
  {
   "cell_type": "code",
   "execution_count": 62,
   "id": "dfefa7bf",
   "metadata": {},
   "outputs": [
    {
     "data": {
      "text/plain": [
       "<re.Match object; span=(0, 3), match='man'>"
      ]
     },
     "execution_count": 62,
     "metadata": {},
     "output_type": "execute_result"
    }
   ],
   "source": [
    "regx = 'ma?n'\n",
    "re.search(regx,'man')"
   ]
  },
  {
   "cell_type": "code",
   "execution_count": 64,
   "id": "5c8a243c",
   "metadata": {},
   "outputs": [
    {
     "data": {
      "text/plain": [
       "<re.Match object; span=(0, 3), match='man'>"
      ]
     },
     "execution_count": 64,
     "metadata": {},
     "output_type": "execute_result"
    }
   ],
   "source": [
    "regx = 'maa?n'\n",
    "re.search(regx,'man')"
   ]
  },
  {
   "cell_type": "code",
   "execution_count": 65,
   "id": "afcf5a91",
   "metadata": {},
   "outputs": [
    {
     "data": {
      "text/plain": [
       "<re.Match object; span=(2, 5), match='man'>"
      ]
     },
     "execution_count": 65,
     "metadata": {},
     "output_type": "execute_result"
    }
   ],
   "source": [
    "regx = 'maa?n'\n",
    "re.search(regx,'woman')"
   ]
  },
  {
   "cell_type": "code",
   "execution_count": 66,
   "id": "66a23e15",
   "metadata": {},
   "outputs": [],
   "source": [
    "regx = 'maa?n'\n",
    "re.search(regx,'main')"
   ]
  },
  {
   "cell_type": "code",
   "execution_count": 69,
   "id": "1d8caaaf",
   "metadata": {},
   "outputs": [
    {
     "data": {
      "text/plain": [
       "<re.Match object; span=(0, 4), match='ahul'>"
      ]
     },
     "execution_count": 69,
     "metadata": {},
     "output_type": "execute_result"
    }
   ],
   "source": [
    "regx = 'R?ahul'\n",
    "re.search(regx,'ahul')"
   ]
  },
  {
   "cell_type": "code",
   "execution_count": 73,
   "id": "442ba686",
   "metadata": {},
   "outputs": [
    {
     "data": {
      "text/plain": [
       "<re.Match object; span=(0, 4), match='Rahu'>"
      ]
     },
     "execution_count": 73,
     "metadata": {},
     "output_type": "execute_result"
    }
   ],
   "source": [
    "regx = 'Rahul?'\n",
    "re.search(regx,'Rahu')"
   ]
  },
  {
   "cell_type": "code",
   "execution_count": 74,
   "id": "ceb298a7",
   "metadata": {},
   "outputs": [
    {
     "data": {
      "text/plain": [
       "['Rahu']"
      ]
     },
     "execution_count": 74,
     "metadata": {},
     "output_type": "execute_result"
    }
   ],
   "source": [
    "regx = 'Rahul?'\n",
    "re.findall(regx,'Rahu')"
   ]
  },
  {
   "cell_type": "code",
   "execution_count": 79,
   "id": "954541d8",
   "metadata": {},
   "outputs": [
    {
     "data": {
      "text/plain": [
       "<re.Match object; span=(2, 12), match='654158749h'>"
      ]
     },
     "execution_count": 79,
     "metadata": {},
     "output_type": "execute_result"
    }
   ],
   "source": [
    "regx = '[0-9]*?h'\n",
    "re.search(regx,'Ra654158749hu')"
   ]
  },
  {
   "cell_type": "code",
   "execution_count": 80,
   "id": "1d2cc9b7",
   "metadata": {},
   "outputs": [
    {
     "data": {
      "text/plain": [
       "<re.Match object; span=(2, 3), match='h'>"
      ]
     },
     "execution_count": 80,
     "metadata": {},
     "output_type": "execute_result"
    }
   ],
   "source": [
    "regx = '[0-9]*?h'\n",
    "re.search(regx,'Rahu')"
   ]
  },
  {
   "cell_type": "markdown",
   "id": "34f911a6",
   "metadata": {},
   "source": [
    "# Counting "
   ]
  },
  {
   "cell_type": "code",
   "execution_count": 82,
   "id": "0f814405",
   "metadata": {},
   "outputs": [
    {
     "data": {
      "text/plain": [
       "<re.Match object; span=(0, 2), match='ok'>"
      ]
     },
     "execution_count": 82,
     "metadata": {},
     "output_type": "execute_result"
    }
   ],
   "source": [
    "regx = '[a-z]{2}'\n",
    "# match all lowercase alphabets occuring 2 times\n",
    "re.search(regx,'okamksxkscbyhckzzcdcsks5486')"
   ]
  },
  {
   "cell_type": "code",
   "execution_count": 83,
   "id": "025d3323",
   "metadata": {},
   "outputs": [
    {
     "data": {
      "text/plain": [
       "<re.Match object; span=(0, 4), match='okam'>"
      ]
     },
     "execution_count": 83,
     "metadata": {},
     "output_type": "execute_result"
    }
   ],
   "source": [
    "regx = '[a-z]{2,4}'\n",
    "# match lowercase alphabets continuesly 2-4 times\n",
    "# 2 times , 3 times, 4 times\n",
    "re.search(regx,'okamksxkscbyhckzzcdcsks5486')"
   ]
  },
  {
   "cell_type": "code",
   "execution_count": 84,
   "id": "eca01347",
   "metadata": {},
   "outputs": [
    {
     "data": {
      "text/plain": [
       "<re.Match object; span=(0, 2), match='ok'>"
      ]
     },
     "execution_count": 84,
     "metadata": {},
     "output_type": "execute_result"
    }
   ],
   "source": [
    "regx = '[a-z]{2,4}'\n",
    "# match lowercase alphabets continuesly 2-4 times\n",
    "# 2 times , 3 times, 4 times\n",
    "re.search(regx,'ok5298amksxkscbyhckzzcdcsks5486')"
   ]
  },
  {
   "cell_type": "code",
   "execution_count": 85,
   "id": "cb7c7fd9",
   "metadata": {},
   "outputs": [
    {
     "data": {
      "text/plain": [
       "<re.Match object; span=(0, 3), match='oka'>"
      ]
     },
     "execution_count": 85,
     "metadata": {},
     "output_type": "execute_result"
    }
   ],
   "source": [
    "regx = '[a-z]{2,4}'\n",
    "# match lowercase alphabets continuesly 2-4 times\n",
    "# 2 times , 3 times, 4 times\n",
    "re.search(regx,'oka252mksxkscbyhckzzcdcsks5486')"
   ]
  },
  {
   "cell_type": "code",
   "execution_count": 86,
   "id": "9182e3a3",
   "metadata": {},
   "outputs": [
    {
     "data": {
      "text/plain": [
       "<re.Match object; span=(0, 4), match='okam'>"
      ]
     },
     "execution_count": 86,
     "metadata": {},
     "output_type": "execute_result"
    }
   ],
   "source": [
    "regx = '[a-z]{4}'\n",
    "# match lowercase alphabets continuesly 2-4 times\n",
    "# 2 times , 3 times, 4 times\n",
    "re.search(regx,'okamksxkscbyhckzzcdcsks5486')"
   ]
  },
  {
   "cell_type": "code",
   "execution_count": 87,
   "id": "aa4421b4",
   "metadata": {},
   "outputs": [
    {
     "data": {
      "text/plain": [
       "['okam', 'ksxk', 'scby', 'hckz', 'zcdc', 'sks']"
      ]
     },
     "execution_count": 87,
     "metadata": {},
     "output_type": "execute_result"
    }
   ],
   "source": [
    "regx = '[a-z]{2,4}'\n",
    "# match lowercase alphabets continuesly 2-4 times\n",
    "# 2 times , 3 times, 4 times\n",
    "re.findall(regx,'okamksxkscbyhckzzcdcsks5486')"
   ]
  },
  {
   "cell_type": "code",
   "execution_count": 88,
   "id": "2c5bd23d",
   "metadata": {},
   "outputs": [
    {
     "data": {
      "text/plain": [
       "['raju', 'anad', 'adit', 'rahu', 'sank', 'et']"
      ]
     },
     "execution_count": 88,
     "metadata": {},
     "output_type": "execute_result"
    }
   ],
   "source": [
    "regx = '[a-z]{2,4}'\n",
    "# match lowercase alphabets continuesly 2-4 times\n",
    "# 2 times , 3 times, 4 times\n",
    "re.findall(regx,'raju45Kanad87adit4455rahul8745sanket')"
   ]
  },
  {
   "cell_type": "code",
   "execution_count": 89,
   "id": "18ced5e6",
   "metadata": {},
   "outputs": [
    {
     "data": {
      "text/plain": [
       "['raju', 'Kana', 'adit', 'rahu', 'sank', 'etAJ', 'DISB', 'JBCA']"
      ]
     },
     "execution_count": 89,
     "metadata": {},
     "output_type": "execute_result"
    }
   ],
   "source": [
    "regx = '[a-zA-Z]{2,4}'\n",
    "# match lowercase alphabets continuesly 2-4 times\n",
    "# 2 times , 3 times, 4 times\n",
    "re.findall(regx,'raju45Kanad87adit4455rahul8745sanketAJDISBJBCA')"
   ]
  },
  {
   "cell_type": "code",
   "execution_count": 90,
   "id": "b4f7a63d",
   "metadata": {},
   "outputs": [
    {
     "data": {
      "text/plain": [
       "['raju', 'Kana', 'd', 'adit', 'rahu', 'l', 'sank', 'etAJ', 'DISB', 'JBCA']"
      ]
     },
     "execution_count": 90,
     "metadata": {},
     "output_type": "execute_result"
    }
   ],
   "source": [
    "regx = '[a-zA-Z]{1,4}'\n",
    "# match lowercase alphabets continuesly 2-4 times\n",
    "# 2 times , 3 times, 4 times\n",
    "re.findall(regx,'raju45Kanad87adit4455rahul8745sanketAJDISBJBCA')"
   ]
  },
  {
   "cell_type": "code",
   "execution_count": null,
   "id": "e80e612a",
   "metadata": {},
   "outputs": [],
   "source": []
  }
 ],
 "metadata": {
  "kernelspec": {
   "display_name": "Python 3 (ipykernel)",
   "language": "python",
   "name": "python3"
  },
  "language_info": {
   "codemirror_mode": {
    "name": "ipython",
    "version": 3
   },
   "file_extension": ".py",
   "mimetype": "text/x-python",
   "name": "python",
   "nbconvert_exporter": "python",
   "pygments_lexer": "ipython3",
   "version": "3.9.7"
  }
 },
 "nbformat": 4,
 "nbformat_minor": 5
}
