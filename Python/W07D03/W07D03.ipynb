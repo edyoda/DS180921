{
 "cells": [
  {
   "attachments": {},
   "cell_type": "markdown",
   "id": "b3da0d2e",
   "metadata": {},
   "source": [
    "# Class Method"
   ]
  },
  {
   "cell_type": "code",
   "execution_count": 69,
   "id": "54772604",
   "metadata": {},
   "outputs": [],
   "source": [
    "class Person:\n",
    "    SPECIES = 'homosapien'\n",
    "    def __init__(self, gender):\n",
    "        print('Family is blessed with baby ', gender)\n",
    "        self.gender = gender\n",
    "        self.friend = []\n",
    "        self.nameofPerson = None\n",
    "    \n",
    "    def setName(self, name):\n",
    "        self.nameofPerson = name\n",
    "    \n",
    "    def makefriends(self, friend):\n",
    "        self.friend.append(friend)\n",
    "        print(self.nameofPerson,' have got a new firnd', friend.nameofPerson)\n",
    "        \n",
    "    def getName(self):\n",
    "        if self.nameofPerson != None:\n",
    "            return self.nameofPerson\n",
    "        \n",
    "    @classmethod           #--> decorator\n",
    "    def changeSpecies(cls, newSpecies):\n",
    "        cls.SPECIES = newSpecies\n",
    "    \n",
    "    @classmethod\n",
    "    def getSpecies(cls):\n",
    "        return cls.SPECIES\n",
    "    \n",
    "# what are the object attributes -> nameofPerson,gender,friend\n",
    "# what are the object methods -> __init__,getname,setname,makefriends,\n",
    "    \n",
    "# what are class attributes -> SPECIES\n",
    "#what are class methods -> changeSpecies,getSpecies"
   ]
  },
  {
   "cell_type": "code",
   "execution_count": 70,
   "id": "b9b89443",
   "metadata": {},
   "outputs": [
    {
     "name": "stdout",
     "output_type": "stream",
     "text": [
      "Family is blessed with baby  girl\n"
     ]
    }
   ],
   "source": [
    "person1 = Person('girl')"
   ]
  },
  {
   "cell_type": "code",
   "execution_count": 71,
   "id": "8dc1aaa8",
   "metadata": {},
   "outputs": [],
   "source": [
    "person1.getName()"
   ]
  },
  {
   "cell_type": "code",
   "execution_count": 72,
   "id": "0ee8daa2",
   "metadata": {},
   "outputs": [],
   "source": [
    "person1.setName('Anamika')"
   ]
  },
  {
   "cell_type": "code",
   "execution_count": 73,
   "id": "33ed9c29",
   "metadata": {},
   "outputs": [
    {
     "data": {
      "text/plain": [
       "'Anamika'"
      ]
     },
     "execution_count": 73,
     "metadata": {},
     "output_type": "execute_result"
    }
   ],
   "source": [
    "person1.getName()"
   ]
  },
  {
   "cell_type": "code",
   "execution_count": 74,
   "id": "63d9bf9e",
   "metadata": {},
   "outputs": [
    {
     "name": "stdout",
     "output_type": "stream",
     "text": [
      "Family is blessed with baby  male\n"
     ]
    }
   ],
   "source": [
    "person2 = Person('male')"
   ]
  },
  {
   "cell_type": "code",
   "execution_count": 75,
   "id": "0c3f1da5",
   "metadata": {},
   "outputs": [],
   "source": [
    "person2.setName('Vinay')"
   ]
  },
  {
   "cell_type": "code",
   "execution_count": 76,
   "id": "cc09865a",
   "metadata": {},
   "outputs": [
    {
     "data": {
      "text/plain": [
       "'Vinay'"
      ]
     },
     "execution_count": 76,
     "metadata": {},
     "output_type": "execute_result"
    }
   ],
   "source": [
    "person2.getName()"
   ]
  },
  {
   "cell_type": "code",
   "execution_count": 77,
   "id": "bff5fe49",
   "metadata": {},
   "outputs": [
    {
     "name": "stdout",
     "output_type": "stream",
     "text": [
      "Anamika  have got a new firnd Vinay\n"
     ]
    }
   ],
   "source": [
    "person1.makefriends(person2)"
   ]
  },
  {
   "cell_type": "code",
   "execution_count": 78,
   "id": "b1a0abed",
   "metadata": {},
   "outputs": [
    {
     "data": {
      "text/plain": [
       "<__main__.Person at 0x22e1a9aafa0>"
      ]
     },
     "execution_count": 78,
     "metadata": {},
     "output_type": "execute_result"
    }
   ],
   "source": [
    "person2"
   ]
  },
  {
   "cell_type": "code",
   "execution_count": 79,
   "id": "8dd0de77",
   "metadata": {},
   "outputs": [
    {
     "data": {
      "text/plain": [
       "[<__main__.Person at 0x22e1a9aafa0>]"
      ]
     },
     "execution_count": 79,
     "metadata": {},
     "output_type": "execute_result"
    }
   ],
   "source": [
    "person1.friend"
   ]
  },
  {
   "cell_type": "code",
   "execution_count": 80,
   "id": "58882cce",
   "metadata": {},
   "outputs": [
    {
     "data": {
      "text/plain": [
       "True"
      ]
     },
     "execution_count": 80,
     "metadata": {},
     "output_type": "execute_result"
    }
   ],
   "source": [
    "person1.friend[0] == person2"
   ]
  },
  {
   "cell_type": "code",
   "execution_count": 81,
   "id": "141f31fd",
   "metadata": {},
   "outputs": [
    {
     "name": "stdout",
     "output_type": "stream",
     "text": [
      "Family is blessed with baby  male\n"
     ]
    }
   ],
   "source": [
    "person3 = Person('male')"
   ]
  },
  {
   "cell_type": "code",
   "execution_count": 82,
   "id": "e10a35a2",
   "metadata": {},
   "outputs": [],
   "source": [
    "person3.setName('Kunal')"
   ]
  },
  {
   "cell_type": "code",
   "execution_count": 83,
   "id": "36fab282",
   "metadata": {},
   "outputs": [
    {
     "name": "stdout",
     "output_type": "stream",
     "text": [
      "Anamika  have got a new firnd Kunal\n"
     ]
    }
   ],
   "source": [
    "person1.makefriends(person3)"
   ]
  },
  {
   "cell_type": "code",
   "execution_count": 62,
   "id": "3229230b",
   "metadata": {},
   "outputs": [
    {
     "data": {
      "text/plain": [
       "[<__main__.Person at 0x22e1aa5de80>, <__main__.Person at 0x22e1a9bcbb0>]"
      ]
     },
     "execution_count": 62,
     "metadata": {},
     "output_type": "execute_result"
    }
   ],
   "source": [
    "person1.friend"
   ]
  },
  {
   "cell_type": "code",
   "execution_count": 63,
   "id": "6cf71cc0",
   "metadata": {},
   "outputs": [
    {
     "data": {
      "text/plain": [
       "'homosapien'"
      ]
     },
     "execution_count": 63,
     "metadata": {},
     "output_type": "execute_result"
    }
   ],
   "source": [
    "person1.SPECIES"
   ]
  },
  {
   "cell_type": "code",
   "execution_count": 64,
   "id": "c7c01a1d",
   "metadata": {},
   "outputs": [
    {
     "data": {
      "text/plain": [
       "'homosapien'"
      ]
     },
     "execution_count": 64,
     "metadata": {},
     "output_type": "execute_result"
    }
   ],
   "source": [
    "person2.SPECIES"
   ]
  },
  {
   "cell_type": "code",
   "execution_count": 65,
   "id": "53f0e555",
   "metadata": {},
   "outputs": [
    {
     "data": {
      "text/plain": [
       "'homosapien'"
      ]
     },
     "execution_count": 65,
     "metadata": {},
     "output_type": "execute_result"
    }
   ],
   "source": [
    "person3.SPECIES"
   ]
  },
  {
   "cell_type": "code",
   "execution_count": 66,
   "id": "3795a860",
   "metadata": {},
   "outputs": [],
   "source": [
    "person3.SPECIES = 'Homosapien ++'"
   ]
  },
  {
   "cell_type": "code",
   "execution_count": 67,
   "id": "1f5fe616",
   "metadata": {},
   "outputs": [
    {
     "data": {
      "text/plain": [
       "'homosapien'"
      ]
     },
     "execution_count": 67,
     "metadata": {},
     "output_type": "execute_result"
    }
   ],
   "source": [
    "person1.SPECIES"
   ]
  },
  {
   "cell_type": "code",
   "execution_count": 68,
   "id": "ed124cd7",
   "metadata": {},
   "outputs": [
    {
     "data": {
      "text/plain": [
       "'homosapien'"
      ]
     },
     "execution_count": 68,
     "metadata": {},
     "output_type": "execute_result"
    }
   ],
   "source": [
    "person2.SPECIES"
   ]
  },
  {
   "cell_type": "code",
   "execution_count": 84,
   "id": "ca462d70",
   "metadata": {},
   "outputs": [],
   "source": [
    "Person.SPECIES = 'Homosapien advanced'"
   ]
  },
  {
   "cell_type": "code",
   "execution_count": 85,
   "id": "cdcb5fd2",
   "metadata": {},
   "outputs": [
    {
     "data": {
      "text/plain": [
       "'Homosapien advanced'"
      ]
     },
     "execution_count": 85,
     "metadata": {},
     "output_type": "execute_result"
    }
   ],
   "source": [
    "person2.SPECIES"
   ]
  },
  {
   "cell_type": "code",
   "execution_count": 86,
   "id": "ffdd3934",
   "metadata": {},
   "outputs": [],
   "source": [
    "Person.changeSpecies('HomoSapien Advanced ++')"
   ]
  },
  {
   "cell_type": "code",
   "execution_count": 87,
   "id": "17a46100",
   "metadata": {},
   "outputs": [
    {
     "data": {
      "text/plain": [
       "'HomoSapien Advanced ++'"
      ]
     },
     "execution_count": 87,
     "metadata": {},
     "output_type": "execute_result"
    }
   ],
   "source": [
    "Person.getSpecies()"
   ]
  },
  {
   "cell_type": "code",
   "execution_count": 88,
   "id": "7deb1c7e",
   "metadata": {},
   "outputs": [],
   "source": [
    "person1.changeSpecies('Homosapien Advanced pro max ++')"
   ]
  },
  {
   "cell_type": "code",
   "execution_count": 89,
   "id": "c92718b5",
   "metadata": {},
   "outputs": [
    {
     "data": {
      "text/plain": [
       "'Homosapien Advanced pro max ++'"
      ]
     },
     "execution_count": 89,
     "metadata": {},
     "output_type": "execute_result"
    }
   ],
   "source": [
    "person2.getSpecies()"
   ]
  },
  {
   "cell_type": "code",
   "execution_count": 90,
   "id": "304d0c18",
   "metadata": {},
   "outputs": [],
   "source": [
    "Person.changeSpecies('HomoSapien Advanced ++')"
   ]
  },
  {
   "cell_type": "code",
   "execution_count": 91,
   "id": "0d74215a",
   "metadata": {},
   "outputs": [
    {
     "data": {
      "text/plain": [
       "'HomoSapien Advanced ++'"
      ]
     },
     "execution_count": 91,
     "metadata": {},
     "output_type": "execute_result"
    }
   ],
   "source": [
    "person2.getSpecies()"
   ]
  },
  {
   "cell_type": "code",
   "execution_count": null,
   "id": "69c3883e",
   "metadata": {},
   "outputs": [],
   "source": []
  },
  {
   "cell_type": "code",
   "execution_count": 92,
   "id": "df27d96b",
   "metadata": {},
   "outputs": [],
   "source": [
    "# Question"
   ]
  },
  {
   "cell_type": "code",
   "execution_count": null,
   "id": "62d2a2b5",
   "metadata": {},
   "outputs": [],
   "source": [
    "create a class Student:\n",
    "    name\n",
    "    roll_no\n",
    "    marks = {'history':0,'chemistry':0,'mechanics':0}\n",
    "    student_obj.add_marks({'history':50,'chemistry':70,'mechanics':60})\n",
    "    \n",
    "    find_topper()\n",
    "    percentage()\n",
    "    \n",
    "10 mins 21:07-->9:07PM"
   ]
  },
  {
   "cell_type": "code",
   "execution_count": 93,
   "id": "0f3cfc8f",
   "metadata": {},
   "outputs": [],
   "source": [
    "class Student:\n",
    "    student_list = []\n",
    "    total_marks = 300\n",
    "    fail_percentage = 33\n",
    "    def __init__(self, name, roll_no):\n",
    "        self.name = name\n",
    "        self.roll_no = roll_no\n",
    "        self.marks = {'history':0,'chemistry':0,'mechanics':0}\n",
    "        Student.student_list.append(self)\n",
    "        \n",
    "    def add_marks(self, marks):\n",
    "        self.marks = marks\n",
    "        self.percentage = (sum(self.marks.values())/Student.total_marks)*100\n",
    "        if self.percentage < Student.fail_percentage:\n",
    "            self.fail = True\n",
    "        else:\n",
    "            self.fail = False\n",
    "    \n",
    "    @classmethod\n",
    "    def find_topper(cls):\n",
    "        heighest_percent = float('-inf')\n",
    "        current_topper = cls.student_list[0]\n",
    "        for obj in cls.student_list:\n",
    "            if obj.percentage > heighest_percent:\n",
    "                heighest_percent = obj.percentage\n",
    "                current_topper = obj\n",
    "        return current_topper"
   ]
  },
  {
   "cell_type": "code",
   "execution_count": 94,
   "id": "71caf3f3",
   "metadata": {},
   "outputs": [],
   "source": [
    "shashi = Student('Shashi', 5)"
   ]
  },
  {
   "cell_type": "code",
   "execution_count": 95,
   "id": "9738dba9",
   "metadata": {},
   "outputs": [],
   "source": [
    "shashi.add_marks({'history':50,'chemistry':70,'mechanics':60})"
   ]
  },
  {
   "cell_type": "code",
   "execution_count": 96,
   "id": "a0d0467d",
   "metadata": {},
   "outputs": [
    {
     "data": {
      "text/plain": [
       "False"
      ]
     },
     "execution_count": 96,
     "metadata": {},
     "output_type": "execute_result"
    }
   ],
   "source": [
    "shashi.fail"
   ]
  },
  {
   "cell_type": "code",
   "execution_count": 97,
   "id": "484f44ae",
   "metadata": {},
   "outputs": [
    {
     "data": {
      "text/plain": [
       "60.0"
      ]
     },
     "execution_count": 97,
     "metadata": {},
     "output_type": "execute_result"
    }
   ],
   "source": [
    "shashi.percentage"
   ]
  },
  {
   "cell_type": "code",
   "execution_count": 98,
   "id": "31fb1025",
   "metadata": {},
   "outputs": [],
   "source": [
    "Rahul = Student('Rahul',10)"
   ]
  },
  {
   "cell_type": "code",
   "execution_count": 99,
   "id": "e6b12713",
   "metadata": {},
   "outputs": [],
   "source": [
    "Rahul.add_marks({'history':70,'chemistry':60,'mechanics':90})"
   ]
  },
  {
   "cell_type": "code",
   "execution_count": 100,
   "id": "8c9fc62a",
   "metadata": {},
   "outputs": [
    {
     "data": {
      "text/plain": [
       "False"
      ]
     },
     "execution_count": 100,
     "metadata": {},
     "output_type": "execute_result"
    }
   ],
   "source": [
    "Rahul.fail"
   ]
  },
  {
   "cell_type": "code",
   "execution_count": 101,
   "id": "e59401d7",
   "metadata": {},
   "outputs": [
    {
     "data": {
      "text/plain": [
       "73.33333333333333"
      ]
     },
     "execution_count": 101,
     "metadata": {},
     "output_type": "execute_result"
    }
   ],
   "source": [
    "Rahul.percentage"
   ]
  },
  {
   "cell_type": "code",
   "execution_count": 102,
   "id": "75f870d5",
   "metadata": {},
   "outputs": [],
   "source": [
    "topper = Student.find_topper()"
   ]
  },
  {
   "cell_type": "code",
   "execution_count": 103,
   "id": "1a73520d",
   "metadata": {},
   "outputs": [
    {
     "data": {
      "text/plain": [
       "<__main__.Student at 0x22e1afdee50>"
      ]
     },
     "execution_count": 103,
     "metadata": {},
     "output_type": "execute_result"
    }
   ],
   "source": [
    "topper"
   ]
  },
  {
   "cell_type": "code",
   "execution_count": 104,
   "id": "799c6dc3",
   "metadata": {},
   "outputs": [
    {
     "data": {
      "text/plain": [
       "'Rahul'"
      ]
     },
     "execution_count": 104,
     "metadata": {},
     "output_type": "execute_result"
    }
   ],
   "source": [
    "topper.name"
   ]
  },
  {
   "cell_type": "code",
   "execution_count": 105,
   "id": "a2385c45",
   "metadata": {},
   "outputs": [
    {
     "data": {
      "text/plain": [
       "[<__main__.Student at 0x22e1b0af490>, <__main__.Student at 0x22e1afdee50>]"
      ]
     },
     "execution_count": 105,
     "metadata": {},
     "output_type": "execute_result"
    }
   ],
   "source": [
    "Student.student_list"
   ]
  },
  {
   "cell_type": "code",
   "execution_count": null,
   "id": "1c693c75",
   "metadata": {},
   "outputs": [],
   "source": []
  },
  {
   "cell_type": "code",
   "execution_count": null,
   "id": "151523c0",
   "metadata": {},
   "outputs": [],
   "source": []
  }
 ],
 "metadata": {
  "kernelspec": {
   "display_name": "Python 3 (ipykernel)",
   "language": "python",
   "name": "python3"
  },
  "language_info": {
   "codemirror_mode": {
    "name": "ipython",
    "version": 3
   },
   "file_extension": ".py",
   "mimetype": "text/x-python",
   "name": "python",
   "nbconvert_exporter": "python",
   "pygments_lexer": "ipython3",
   "version": "3.9.7"
  }
 },
 "nbformat": 4,
 "nbformat_minor": 5
}
