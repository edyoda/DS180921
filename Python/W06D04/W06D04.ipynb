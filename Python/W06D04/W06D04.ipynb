{
 "cells": [
  {
   "cell_type": "code",
   "execution_count": 1,
   "id": "fa90f1b7",
   "metadata": {},
   "outputs": [],
   "source": [
    "import re"
   ]
  },
  {
   "cell_type": "code",
   "execution_count": 2,
   "id": "1c1debda",
   "metadata": {},
   "outputs": [
    {
     "data": {
      "text/plain": [
       "['Pooja', 'Kanad', 'Satyam']"
      ]
     },
     "execution_count": 2,
     "metadata": {},
     "output_type": "execute_result"
    }
   ],
   "source": [
    "string = 'Pooja5264Kanad4561Satyam65465'\n",
    "regx = '[A-Za-z]+'\n",
    "re.findall(regx, string)"
   ]
  },
  {
   "cell_type": "code",
   "execution_count": 3,
   "id": "55ad6c35",
   "metadata": {
    "collapsed": true
   },
   "outputs": [
    {
     "data": {
      "text/plain": [
       "['Pooja',\n",
       " '',\n",
       " '',\n",
       " '',\n",
       " '',\n",
       " 'Kanad',\n",
       " '',\n",
       " '',\n",
       " '',\n",
       " '',\n",
       " 'Satyam',\n",
       " '',\n",
       " '',\n",
       " '',\n",
       " '',\n",
       " '',\n",
       " '']"
      ]
     },
     "execution_count": 3,
     "metadata": {},
     "output_type": "execute_result"
    }
   ],
   "source": [
    "string = 'Pooja5264Kanad4561Satyam65465'\n",
    "regx = '[A-Za-z]*'\n",
    "re.findall(regx, string)"
   ]
  },
  {
   "cell_type": "code",
   "execution_count": null,
   "id": "7c39e9f2",
   "metadata": {},
   "outputs": [],
   "source": [
    "if we have to find a match of charachters starting with a or A"
   ]
  },
  {
   "cell_type": "code",
   "execution_count": 5,
   "id": "6d45f7f4",
   "metadata": {},
   "outputs": [
    {
     "data": {
      "text/plain": [
       "['Adit']"
      ]
     },
     "execution_count": 5,
     "metadata": {},
     "output_type": "execute_result"
    }
   ],
   "source": [
    "regx = '^[aA][a-z]+'\n",
    "re.findall(regx,'Adit')"
   ]
  },
  {
   "cell_type": "code",
   "execution_count": null,
   "id": "4654a457",
   "metadata": {},
   "outputs": [],
   "source": [
    "if we want to match a sub string which ends with t"
   ]
  },
  {
   "cell_type": "code",
   "execution_count": 9,
   "id": "1b62f504",
   "metadata": {},
   "outputs": [
    {
     "data": {
      "text/plain": [
       "['t']"
      ]
     },
     "execution_count": 9,
     "metadata": {},
     "output_type": "execute_result"
    }
   ],
   "source": [
    "regx = 't$'\n",
    "re.findall(regx,'Sanket')"
   ]
  },
  {
   "cell_type": "code",
   "execution_count": 10,
   "id": "e456b1c9",
   "metadata": {},
   "outputs": [
    {
     "data": {
      "text/plain": [
       "['Sanket']"
      ]
     },
     "execution_count": 10,
     "metadata": {},
     "output_type": "execute_result"
    }
   ],
   "source": [
    "regx = '[A-Za-z]*t$'\n",
    "re.findall(regx,'Sanket')"
   ]
  },
  {
   "cell_type": "code",
   "execution_count": 15,
   "id": "2eeaa5b5",
   "metadata": {},
   "outputs": [
    {
     "data": {
      "text/plain": [
       "['S#nket']"
      ]
     },
     "execution_count": 15,
     "metadata": {},
     "output_type": "execute_result"
    }
   ],
   "source": [
    "regx = '......$'\n",
    "re.findall(regx,'S#nket')"
   ]
  },
  {
   "cell_type": "markdown",
   "id": "a5d5a1ac",
   "metadata": {},
   "source": [
    "# Write a Program to print hello world if given string starts with a and ends with z(make a function to do this task)"
   ]
  },
  {
   "cell_type": "code",
   "execution_count": null,
   "id": "2d167c47",
   "metadata": {},
   "outputs": [],
   "source": [
    "5 mins 19:50 - 19:57"
   ]
  },
  {
   "cell_type": "code",
   "execution_count": 20,
   "id": "ea54df71",
   "metadata": {},
   "outputs": [],
   "source": [
    "def check_fun(string):\n",
    "    import re\n",
    "    if re.search('^a[a-z]+z$',string):\n",
    "        print(\"hello world\")"
   ]
  },
  {
   "cell_type": "code",
   "execution_count": 21,
   "id": "1c7311d3",
   "metadata": {},
   "outputs": [
    {
     "name": "stdout",
     "output_type": "stream",
     "text": [
      "hello world\n"
     ]
    }
   ],
   "source": [
    "check_fun('ajefieniuz')"
   ]
  },
  {
   "cell_type": "code",
   "execution_count": null,
   "id": "4e61b78a",
   "metadata": {},
   "outputs": [],
   "source": [
    "What we wanted"
   ]
  },
  {
   "cell_type": "code",
   "execution_count": 23,
   "id": "b9716766",
   "metadata": {},
   "outputs": [],
   "source": [
    "s ='a wecewicef77324324.43423?%535358y2 z'"
   ]
  },
  {
   "cell_type": "code",
   "execution_count": 22,
   "id": "378f929f",
   "metadata": {},
   "outputs": [],
   "source": [
    "import re\n",
    "def string_match(string):\n",
    "    regx = '^a.*z$'\n",
    "    if re.search(regx,string):\n",
    "        return('Hello World')"
   ]
  },
  {
   "cell_type": "code",
   "execution_count": 24,
   "id": "88fcb3e9",
   "metadata": {},
   "outputs": [
    {
     "data": {
      "text/plain": [
       "'Hello World'"
      ]
     },
     "execution_count": 24,
     "metadata": {},
     "output_type": "execute_result"
    }
   ],
   "source": [
    "string_match(s)"
   ]
  },
  {
   "cell_type": "code",
   "execution_count": null,
   "id": "376d846f",
   "metadata": {},
   "outputs": [],
   "source": [
    "# cleaning txt file not a question\n",
    "# name:Aditya.\n",
    "# name:Rambabu.\n",
    "# name:Akansha.\n",
    "# name:Deepak.\n",
    "# txt2\n",
    "# phn:+919522459\n",
    "# phn:+154823554\n",
    "# phn:+916284548"
   ]
  },
  {
   "cell_type": "code",
   "execution_count": null,
   "id": "79650e06",
   "metadata": {},
   "outputs": [],
   "source": [
    "# span(),start(),end() ? not a question"
   ]
  },
  {
   "cell_type": "markdown",
   "id": "6d7bb2ba",
   "metadata": {},
   "source": [
    "# Map"
   ]
  },
  {
   "cell_type": "code",
   "execution_count": null,
   "id": "f2247976",
   "metadata": {},
   "outputs": [],
   "source": [
    "# map(function, iterable)"
   ]
  },
  {
   "cell_type": "code",
   "execution_count": 25,
   "id": "a1b60cf8",
   "metadata": {},
   "outputs": [],
   "source": [
    "def square(num):\n",
    "    return num**2"
   ]
  },
  {
   "cell_type": "code",
   "execution_count": 26,
   "id": "0478a73c",
   "metadata": {},
   "outputs": [],
   "source": [
    "l = [1,2,4,5,7,8]"
   ]
  },
  {
   "cell_type": "code",
   "execution_count": 27,
   "id": "f8e8e230",
   "metadata": {},
   "outputs": [
    {
     "data": {
      "text/plain": [
       "<map at 0x2750deaa6a0>"
      ]
     },
     "execution_count": 27,
     "metadata": {},
     "output_type": "execute_result"
    }
   ],
   "source": [
    "map(square, l)"
   ]
  },
  {
   "cell_type": "code",
   "execution_count": 28,
   "id": "0bd1be3f",
   "metadata": {},
   "outputs": [
    {
     "data": {
      "text/plain": [
       "[1, 4, 16, 25, 49, 64]"
      ]
     },
     "execution_count": 28,
     "metadata": {},
     "output_type": "execute_result"
    }
   ],
   "source": [
    "list(map(square, l))"
   ]
  },
  {
   "cell_type": "code",
   "execution_count": 29,
   "id": "79a00827",
   "metadata": {},
   "outputs": [],
   "source": [
    "def cat(string):\n",
    "    return string+\" cat\"\n",
    "fruits = ['mango','apple','banana','pineapple']"
   ]
  },
  {
   "cell_type": "code",
   "execution_count": 30,
   "id": "a0040c72",
   "metadata": {},
   "outputs": [
    {
     "data": {
      "text/plain": [
       "['mango cat', 'apple cat', 'banana cat', 'pineapple cat']"
      ]
     },
     "execution_count": 30,
     "metadata": {},
     "output_type": "execute_result"
    }
   ],
   "source": [
    "list(map(cat,fruits))"
   ]
  },
  {
   "cell_type": "code",
   "execution_count": 40,
   "id": "b9e3f8f9",
   "metadata": {},
   "outputs": [
    {
     "data": {
      "text/plain": [
       "['Pratush', 'Shashi', 'Pratik']"
      ]
     },
     "execution_count": 40,
     "metadata": {},
     "output_type": "execute_result"
    }
   ],
   "source": [
    "'Pratush Shashi Pratik'.split(' ')"
   ]
  },
  {
   "cell_type": "code",
   "execution_count": 42,
   "id": "47f56dc9",
   "metadata": {},
   "outputs": [
    {
     "name": "stdout",
     "output_type": "stream",
     "text": [
      "1 2 3 4 5 6 8\n"
     ]
    }
   ],
   "source": [
    "num = input().split(' ')"
   ]
  },
  {
   "cell_type": "code",
   "execution_count": 43,
   "id": "e81c86c1",
   "metadata": {},
   "outputs": [
    {
     "data": {
      "text/plain": [
       "['1', '2', '3', '4', '5', '6', '8']"
      ]
     },
     "execution_count": 43,
     "metadata": {},
     "output_type": "execute_result"
    }
   ],
   "source": [
    "num"
   ]
  },
  {
   "cell_type": "code",
   "execution_count": 44,
   "id": "cf330d90",
   "metadata": {},
   "outputs": [
    {
     "data": {
      "text/plain": [
       "3"
      ]
     },
     "execution_count": 44,
     "metadata": {},
     "output_type": "execute_result"
    }
   ],
   "source": [
    "int(num[2])"
   ]
  },
  {
   "cell_type": "code",
   "execution_count": 45,
   "id": "776e2575",
   "metadata": {},
   "outputs": [
    {
     "name": "stdout",
     "output_type": "stream",
     "text": [
      "1 2 4 56 87\n"
     ]
    }
   ],
   "source": [
    "val = list(map(int, input().split(' ')))"
   ]
  },
  {
   "cell_type": "code",
   "execution_count": 46,
   "id": "24deceba",
   "metadata": {},
   "outputs": [
    {
     "data": {
      "text/plain": [
       "[1, 2, 4, 56, 87]"
      ]
     },
     "execution_count": 46,
     "metadata": {},
     "output_type": "execute_result"
    }
   ],
   "source": [
    "val"
   ]
  },
  {
   "cell_type": "code",
   "execution_count": null,
   "id": "e2d22763",
   "metadata": {},
   "outputs": [],
   "source": []
  },
  {
   "cell_type": "markdown",
   "id": "b6ae51d6",
   "metadata": {},
   "source": [
    "# tuple unPacking"
   ]
  },
  {
   "cell_type": "code",
   "execution_count": 31,
   "id": "617cee27",
   "metadata": {},
   "outputs": [],
   "source": [
    "t = (1,2,3)"
   ]
  },
  {
   "cell_type": "code",
   "execution_count": 32,
   "id": "c6a28312",
   "metadata": {},
   "outputs": [],
   "source": [
    "a,b,c = t"
   ]
  },
  {
   "cell_type": "code",
   "execution_count": 33,
   "id": "f8bac8a2",
   "metadata": {},
   "outputs": [
    {
     "data": {
      "text/plain": [
       "1"
      ]
     },
     "execution_count": 33,
     "metadata": {},
     "output_type": "execute_result"
    }
   ],
   "source": [
    "a"
   ]
  },
  {
   "cell_type": "code",
   "execution_count": 34,
   "id": "72c7613b",
   "metadata": {},
   "outputs": [
    {
     "data": {
      "text/plain": [
       "2"
      ]
     },
     "execution_count": 34,
     "metadata": {},
     "output_type": "execute_result"
    }
   ],
   "source": [
    "b"
   ]
  },
  {
   "cell_type": "code",
   "execution_count": 35,
   "id": "edff6a2f",
   "metadata": {},
   "outputs": [
    {
     "data": {
      "text/plain": [
       "3"
      ]
     },
     "execution_count": 35,
     "metadata": {},
     "output_type": "execute_result"
    }
   ],
   "source": [
    "c"
   ]
  },
  {
   "cell_type": "code",
   "execution_count": 36,
   "id": "2a72f54c",
   "metadata": {},
   "outputs": [],
   "source": [
    "l = [1,2,6]"
   ]
  },
  {
   "cell_type": "code",
   "execution_count": 37,
   "id": "7a4b853b",
   "metadata": {},
   "outputs": [],
   "source": [
    "a,b,c = l"
   ]
  },
  {
   "cell_type": "code",
   "execution_count": 38,
   "id": "1ed9236a",
   "metadata": {},
   "outputs": [
    {
     "data": {
      "text/plain": [
       "1"
      ]
     },
     "execution_count": 38,
     "metadata": {},
     "output_type": "execute_result"
    }
   ],
   "source": [
    "a"
   ]
  },
  {
   "cell_type": "code",
   "execution_count": 39,
   "id": "30ef5a31",
   "metadata": {},
   "outputs": [
    {
     "data": {
      "text/plain": [
       "6"
      ]
     },
     "execution_count": 39,
     "metadata": {},
     "output_type": "execute_result"
    }
   ],
   "source": [
    "c"
   ]
  },
  {
   "cell_type": "code",
   "execution_count": 47,
   "id": "60ce360c",
   "metadata": {},
   "outputs": [
    {
     "name": "stdout",
     "output_type": "stream",
     "text": [
      "1 2 4 5 9\n"
     ]
    }
   ],
   "source": [
    "val = set(map(int, input().split(' ')))"
   ]
  },
  {
   "cell_type": "code",
   "execution_count": 48,
   "id": "2f84497f",
   "metadata": {},
   "outputs": [
    {
     "data": {
      "text/plain": [
       "{1, 2, 4, 5, 9}"
      ]
     },
     "execution_count": 48,
     "metadata": {},
     "output_type": "execute_result"
    }
   ],
   "source": [
    "val"
   ]
  },
  {
   "cell_type": "code",
   "execution_count": null,
   "id": "c2c98097",
   "metadata": {},
   "outputs": [],
   "source": [
    "a = int(input())\n",
    "b = int(input())"
   ]
  },
  {
   "cell_type": "code",
   "execution_count": 49,
   "id": "7a1ba2d1",
   "metadata": {},
   "outputs": [
    {
     "name": "stdout",
     "output_type": "stream",
     "text": [
      "1 5\n"
     ]
    }
   ],
   "source": [
    "a,b = list(map(int,input().split(' ')))"
   ]
  },
  {
   "cell_type": "code",
   "execution_count": 50,
   "id": "c8d46414",
   "metadata": {},
   "outputs": [
    {
     "data": {
      "text/plain": [
       "1"
      ]
     },
     "execution_count": 50,
     "metadata": {},
     "output_type": "execute_result"
    }
   ],
   "source": [
    "a"
   ]
  },
  {
   "cell_type": "code",
   "execution_count": 51,
   "id": "b070869e",
   "metadata": {},
   "outputs": [
    {
     "data": {
      "text/plain": [
       "5"
      ]
     },
     "execution_count": 51,
     "metadata": {},
     "output_type": "execute_result"
    }
   ],
   "source": [
    "b"
   ]
  },
  {
   "cell_type": "code",
   "execution_count": 52,
   "id": "68bcf2b9",
   "metadata": {},
   "outputs": [
    {
     "name": "stdout",
     "output_type": "stream",
     "text": [
      "1 5 7 9 9\n"
     ]
    }
   ],
   "source": [
    "a = input()"
   ]
  },
  {
   "cell_type": "code",
   "execution_count": 53,
   "id": "ca94a6dc",
   "metadata": {},
   "outputs": [
    {
     "data": {
      "text/plain": [
       "str"
      ]
     },
     "execution_count": 53,
     "metadata": {},
     "output_type": "execute_result"
    }
   ],
   "source": [
    "type(a)"
   ]
  },
  {
   "cell_type": "markdown",
   "id": "c3312145",
   "metadata": {},
   "source": [
    "# filter"
   ]
  },
  {
   "cell_type": "code",
   "execution_count": null,
   "id": "88f50482",
   "metadata": {},
   "outputs": [],
   "source": [
    "filter(funct, iterable)"
   ]
  },
  {
   "cell_type": "code",
   "execution_count": 58,
   "id": "a2ec49f4",
   "metadata": {},
   "outputs": [],
   "source": [
    "def even_odd(num):\n",
    "    if num%2==0:\n",
    "        return False\n",
    "    else:\n",
    "        return True"
   ]
  },
  {
   "cell_type": "code",
   "execution_count": 55,
   "id": "e7ed8a3f",
   "metadata": {},
   "outputs": [],
   "source": [
    "l = [1,2,3,4,5,6,7,8]"
   ]
  },
  {
   "cell_type": "code",
   "execution_count": 59,
   "id": "603e2743",
   "metadata": {},
   "outputs": [
    {
     "data": {
      "text/plain": [
       "[1, 3, 5, 7]"
      ]
     },
     "execution_count": 59,
     "metadata": {},
     "output_type": "execute_result"
    }
   ],
   "source": [
    "list(filter(even_odd,l))"
   ]
  },
  {
   "cell_type": "code",
   "execution_count": 57,
   "id": "cbd65cd2",
   "metadata": {},
   "outputs": [
    {
     "data": {
      "text/plain": [
       "[False, True, False, True, False, True, False, True]"
      ]
     },
     "execution_count": 57,
     "metadata": {},
     "output_type": "execute_result"
    }
   ],
   "source": [
    "list(map(even_odd,l))"
   ]
  },
  {
   "cell_type": "code",
   "execution_count": null,
   "id": "facb01c5",
   "metadata": {},
   "outputs": [],
   "source": []
  },
  {
   "cell_type": "code",
   "execution_count": 60,
   "id": "7640c173",
   "metadata": {},
   "outputs": [],
   "source": [
    "def multipies(num):\n",
    "    return num * 2\n",
    "l = [4, 5, 8, 9 ,10]"
   ]
  },
  {
   "cell_type": "code",
   "execution_count": 61,
   "id": "0884d896",
   "metadata": {},
   "outputs": [
    {
     "data": {
      "text/plain": [
       "[8, 10, 16, 18, 20]"
      ]
     },
     "execution_count": 61,
     "metadata": {},
     "output_type": "execute_result"
    }
   ],
   "source": [
    "list(map(multipies, l))"
   ]
  },
  {
   "cell_type": "markdown",
   "id": "c719dafc",
   "metadata": {},
   "source": [
    "#### 1. Write a Python program to triple all numbers of a given list of integers.\n",
    "   Use Python map\n"
   ]
  },
  {
   "cell_type": "code",
   "execution_count": 62,
   "id": "92f8c7f1",
   "metadata": {},
   "outputs": [],
   "source": [
    "def triple(num):\n",
    "    return num**3\n",
    "l=[1,2,3,4,5]"
   ]
  },
  {
   "cell_type": "code",
   "execution_count": 63,
   "id": "1e178f62",
   "metadata": {},
   "outputs": [
    {
     "data": {
      "text/plain": [
       "[1, 8, 27, 64, 125]"
      ]
     },
     "execution_count": 63,
     "metadata": {},
     "output_type": "execute_result"
    }
   ],
   "source": [
    "list(map(triple,l))"
   ]
  },
  {
   "cell_type": "code",
   "execution_count": null,
   "id": "71531f9d",
   "metadata": {},
   "outputs": [],
   "source": [
    "2. Write a Python program to add three given lists using Python map\n"
   ]
  },
  {
   "cell_type": "code",
   "execution_count": 64,
   "id": "b6ee6ce9",
   "metadata": {},
   "outputs": [],
   "source": [
    "def add_3(num):\n",
    "    return num+3\n",
    "\n",
    "l = [1,2,3]"
   ]
  },
  {
   "cell_type": "code",
   "execution_count": 65,
   "id": "2e2dcec9",
   "metadata": {},
   "outputs": [
    {
     "data": {
      "text/plain": [
       "[4, 5, 6]"
      ]
     },
     "execution_count": 65,
     "metadata": {},
     "output_type": "execute_result"
    }
   ],
   "source": [
    "list(map(add_3,l))"
   ]
  },
  {
   "cell_type": "code",
   "execution_count": 1,
   "id": "3493f996",
   "metadata": {},
   "outputs": [],
   "source": [
    "numbers = [1,2,3,4,5]"
   ]
  },
  {
   "cell_type": "code",
   "execution_count": 2,
   "id": "a2d69f2a",
   "metadata": {},
   "outputs": [
    {
     "data": {
      "text/plain": [
       "[2, 4]"
      ]
     },
     "execution_count": 2,
     "metadata": {},
     "output_type": "execute_result"
    }
   ],
   "source": [
    "list(filter(lambda x: (x % 2 == 0), numbers))"
   ]
  },
  {
   "cell_type": "code",
   "execution_count": 3,
   "id": "c06d98c1",
   "metadata": {},
   "outputs": [
    {
     "data": {
      "text/plain": [
       "[2, 3, 4, 5]"
      ]
     },
     "execution_count": 3,
     "metadata": {},
     "output_type": "execute_result"
    }
   ],
   "source": [
    "list(filter(lambda x: x > 1, numbers))"
   ]
  },
  {
   "cell_type": "code",
   "execution_count": 4,
   "id": "378d316c",
   "metadata": {},
   "outputs": [
    {
     "data": {
      "text/plain": [
       "[1, 2, 3, 4, 5]"
      ]
     },
     "execution_count": 4,
     "metadata": {},
     "output_type": "execute_result"
    }
   ],
   "source": [
    "list(filter(lambda x: 2, numbers))"
   ]
  },
  {
   "cell_type": "code",
   "execution_count": null,
   "id": "b8dbab72",
   "metadata": {},
   "outputs": [],
   "source": []
  }
 ],
 "metadata": {
  "kernelspec": {
   "display_name": "Python 3 (ipykernel)",
   "language": "python",
   "name": "python3"
  },
  "language_info": {
   "codemirror_mode": {
    "name": "ipython",
    "version": 3
   },
   "file_extension": ".py",
   "mimetype": "text/x-python",
   "name": "python",
   "nbconvert_exporter": "python",
   "pygments_lexer": "ipython3",
   "version": "3.9.7"
  }
 },
 "nbformat": 4,
 "nbformat_minor": 5
}
