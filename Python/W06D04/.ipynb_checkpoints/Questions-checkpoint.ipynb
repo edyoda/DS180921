{
 "cells": [
  {
   "cell_type": "code",
   "execution_count": null,
   "id": "63107d64",
   "metadata": {},
   "outputs": [],
   "source": [
    "1. Write a Python program to triple all numbers of a given list of integers.\n",
    "   Use Python map\n",
    "\n",
    "2. Write a Python program to add three given lists using Python map\n",
    "\n",
    "3.Write a Python program to compute the sum of elements \n",
    "   of a given list of integers, use map() function\n",
    "    \n",
    "4.Write a Python program to convert a given list of strings \n",
    "  into list of lists using map function."
   ]
  }
 ],
 "metadata": {
  "kernelspec": {
   "display_name": "Python 3 (ipykernel)",
   "language": "python",
   "name": "python3"
  },
  "language_info": {
   "codemirror_mode": {
    "name": "ipython",
    "version": 3
   },
   "file_extension": ".py",
   "mimetype": "text/x-python",
   "name": "python",
   "nbconvert_exporter": "python",
   "pygments_lexer": "ipython3",
   "version": "3.9.7"
  }
 },
 "nbformat": 4,
 "nbformat_minor": 5
}
