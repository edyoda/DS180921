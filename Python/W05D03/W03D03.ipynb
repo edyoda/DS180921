{
 "cells": [
  {
   "cell_type": "code",
   "execution_count": 1,
   "id": "4dbb2097",
   "metadata": {},
   "outputs": [],
   "source": [
    "import mod1"
   ]
  },
  {
   "cell_type": "code",
   "execution_count": 2,
   "id": "37796e9a",
   "metadata": {},
   "outputs": [
    {
     "data": {
      "text/plain": [
       "['Elon Musk', 'Elon Musk take us to mars']"
      ]
     },
     "execution_count": 2,
     "metadata": {},
     "output_type": "execute_result"
    }
   ],
   "source": [
    "mod1.spacex(\"Elon Musk take us to mars\")"
   ]
  },
  {
   "cell_type": "code",
   "execution_count": 3,
   "id": "e4624a98",
   "metadata": {},
   "outputs": [],
   "source": [
    "import sys\n"
   ]
  },
  {
   "cell_type": "code",
   "execution_count": 4,
   "id": "82b1b238",
   "metadata": {},
   "outputs": [
    {
     "name": "stdout",
     "output_type": "stream",
     "text": [
      "E:\\Python Trainer\\Edyoda Python Batch\n",
      "C:\\Users\\KunalCogni\\AppData\\Local\\Programs\\Python\\Python39\\python39.zip\n",
      "C:\\Users\\KunalCogni\\AppData\\Local\\Programs\\Python\\Python39\\DLLs\n",
      "C:\\Users\\KunalCogni\\AppData\\Local\\Programs\\Python\\Python39\\lib\n",
      "C:\\Users\\KunalCogni\\AppData\\Local\\Programs\\Python\\Python39\n",
      "\n",
      "C:\\Users\\KunalCogni\\AppData\\Local\\Programs\\Python\\Python39\\lib\\site-packages\n",
      "C:\\Users\\KunalCogni\\AppData\\Local\\Programs\\Python\\Python39\\lib\\site-packages\\win32\n",
      "C:\\Users\\KunalCogni\\AppData\\Local\\Programs\\Python\\Python39\\lib\\site-packages\\win32\\lib\n",
      "C:\\Users\\KunalCogni\\AppData\\Local\\Programs\\Python\\Python39\\lib\\site-packages\\Pythonwin\n",
      "C:\\Users\\KunalCogni\\AppData\\Local\\Programs\\Python\\Python39\\lib\\site-packages\\IPython\\extensions\n",
      "C:\\Users\\KunalCogni\\.ipython\n"
     ]
    }
   ],
   "source": [
    "for i in sys.path:\n",
    "    print(i)"
   ]
  },
  {
   "cell_type": "code",
   "execution_count": null,
   "id": "ed2e3f3b",
   "metadata": {},
   "outputs": [],
   "source": [
    "Create a module Fruits inside that have functions\n",
    "        fruits with 1 seed, fruit with multiple seeds\n",
    "Create another module Human \n",
    "            function boy(2) ->one parameter\n",
    "                    --> the boy eats fruits with 2 seed fruit\n",
    "        21:08 --> 21:18 10 mins"
   ]
  },
  {
   "cell_type": "code",
   "execution_count": 5,
   "id": "df01cbc6",
   "metadata": {},
   "outputs": [
    {
     "name": "stdout",
     "output_type": "stream",
     "text": [
      "Mango is a one seed fruit\n"
     ]
    }
   ],
   "source": [
    "import human as h #Alias"
   ]
  },
  {
   "cell_type": "code",
   "execution_count": 6,
   "id": "a2409e7a",
   "metadata": {},
   "outputs": [
    {
     "name": "stdout",
     "output_type": "stream",
     "text": [
      "Banana is a seedless fruit\n"
     ]
    }
   ],
   "source": [
    "h.boy(0)"
   ]
  },
  {
   "cell_type": "code",
   "execution_count": null,
   "id": "b1be8203",
   "metadata": {},
   "outputs": [],
   "source": []
  },
  {
   "cell_type": "code",
   "execution_count": 9,
   "id": "c8742794",
   "metadata": {},
   "outputs": [],
   "source": [
    "import mod1"
   ]
  },
  {
   "cell_type": "code",
   "execution_count": 10,
   "id": "df7356dc",
   "metadata": {},
   "outputs": [
    {
     "data": {
      "text/plain": [
       "['In',\n",
       " 'Out',\n",
       " '_',\n",
       " '_2',\n",
       " '__',\n",
       " '___',\n",
       " '__builtin__',\n",
       " '__builtins__',\n",
       " '__doc__',\n",
       " '__loader__',\n",
       " '__name__',\n",
       " '__package__',\n",
       " '__spec__',\n",
       " '_dh',\n",
       " '_i',\n",
       " '_i1',\n",
       " '_i10',\n",
       " '_i2',\n",
       " '_i3',\n",
       " '_i4',\n",
       " '_i5',\n",
       " '_i6',\n",
       " '_i7',\n",
       " '_i8',\n",
       " '_i9',\n",
       " '_ih',\n",
       " '_ii',\n",
       " '_iii',\n",
       " '_oh',\n",
       " 'exit',\n",
       " 'get_ipython',\n",
       " 'h',\n",
       " 'i',\n",
       " 'mod1',\n",
       " 'quit',\n",
       " 'sys']"
      ]
     },
     "execution_count": 10,
     "metadata": {},
     "output_type": "execute_result"
    }
   ],
   "source": [
    "dir()"
   ]
  },
  {
   "cell_type": "code",
   "execution_count": 11,
   "id": "be37067d",
   "metadata": {},
   "outputs": [
    {
     "data": {
      "text/plain": [
       "['Elon Musk', 'Pls take us in moon']"
      ]
     },
     "execution_count": 11,
     "metadata": {},
     "output_type": "execute_result"
    }
   ],
   "source": [
    "mod1.spacex(\"Pls take us in moon\")"
   ]
  },
  {
   "cell_type": "code",
   "execution_count": null,
   "id": "72c5b2b6",
   "metadata": {},
   "outputs": [],
   "source": []
  }
 ],
 "metadata": {
  "kernelspec": {
   "display_name": "Python 3 (ipykernel)",
   "language": "python",
   "name": "python3"
  },
  "language_info": {
   "codemirror_mode": {
    "name": "ipython",
    "version": 3
   },
   "file_extension": ".py",
   "mimetype": "text/x-python",
   "name": "python",
   "nbconvert_exporter": "python",
   "pygments_lexer": "ipython3",
   "version": "3.9.7"
  }
 },
 "nbformat": 4,
 "nbformat_minor": 5
}
