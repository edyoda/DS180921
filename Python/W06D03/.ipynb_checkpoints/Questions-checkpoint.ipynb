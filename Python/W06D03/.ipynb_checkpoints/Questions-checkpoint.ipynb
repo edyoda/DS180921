{
 "cells": [
  {
   "cell_type": "markdown",
   "id": "a3244904",
   "metadata": {},
   "source": [
    "### Q1) Write a regx to match a 3 digit number followed by abc"
   ]
  },
  {
   "cell_type": "markdown",
   "id": "51251a27",
   "metadata": {},
   "source": [
    "### Q2) Write a regx to match a 3 digit number followed by 3 alphabets"
   ]
  },
  {
   "cell_type": "markdown",
   "id": "9139ad1c",
   "metadata": {},
   "source": [
    "### Q3) Write a regx that should match a pattern having atmost 3 occurences of small alphabets (atmost?? 0-till limit)"
   ]
  },
  {
   "cell_type": "markdown",
   "id": "13dafd26",
   "metadata": {},
   "source": [
    "### Q4) Write a regx that should match a pattern having atmost 3 occurences of small alphabets or atleast 1 occurence of lower alphabet. (atmost?? 1-till limit)"
   ]
  },
  {
   "cell_type": "markdown",
   "id": "740bee3f",
   "metadata": {},
   "source": [
    "### Q5) Find all the substrings of two characters each containing letters from a to l in the string \n",
    "\n",
    "### abz514cfdbzvlkyuj58f4hf6bdf15v1m4nm"
   ]
  },
  {
   "cell_type": "code",
   "execution_count": null,
   "id": "3aa10a3d",
   "metadata": {},
   "outputs": [],
   "source": []
  },
  {
   "cell_type": "code",
   "execution_count": 31,
   "id": "a01a43e7",
   "metadata": {},
   "outputs": [],
   "source": []
  },
  {
   "cell_type": "code",
   "execution_count": null,
   "id": "222da409",
   "metadata": {},
   "outputs": [],
   "source": []
  },
  {
   "cell_type": "code",
   "execution_count": null,
   "id": "74bec080",
   "metadata": {},
   "outputs": [],
   "source": []
  }
 ],
 "metadata": {
  "kernelspec": {
   "display_name": "Python 3 (ipykernel)",
   "language": "python",
   "name": "python3"
  },
  "language_info": {
   "codemirror_mode": {
    "name": "ipython",
    "version": 3
   },
   "file_extension": ".py",
   "mimetype": "text/x-python",
   "name": "python",
   "nbconvert_exporter": "python",
   "pygments_lexer": "ipython3",
   "version": "3.9.7"
  }
 },
 "nbformat": 4,
 "nbformat_minor": 5
}
