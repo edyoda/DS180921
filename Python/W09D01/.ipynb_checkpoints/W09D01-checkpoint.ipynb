{
 "cells": [
  {
   "cell_type": "code",
   "execution_count": 2,
   "id": "f91f873d",
   "metadata": {},
   "outputs": [],
   "source": [
    "fp = open('space_astro.json','r')\n",
    "content = fp.read()"
   ]
  },
  {
   "cell_type": "code",
   "execution_count": 3,
   "id": "c301086f",
   "metadata": {},
   "outputs": [
    {
     "name": "stdout",
     "output_type": "stream",
     "text": [
      "<class 'str'>\n"
     ]
    }
   ],
   "source": [
    "print(type(content))"
   ]
  },
  {
   "cell_type": "code",
   "execution_count": 4,
   "id": "aac7fa0b",
   "metadata": {},
   "outputs": [],
   "source": [
    "import json"
   ]
  },
  {
   "cell_type": "code",
   "execution_count": 5,
   "id": "7ecff847",
   "metadata": {},
   "outputs": [],
   "source": [
    "dict_content = json.loads(content)"
   ]
  },
  {
   "cell_type": "code",
   "execution_count": 6,
   "id": "9cf0b951",
   "metadata": {},
   "outputs": [
    {
     "name": "stdout",
     "output_type": "stream",
     "text": [
      "<class 'dict'>\n"
     ]
    }
   ],
   "source": [
    "print(type(dict_content))"
   ]
  },
  {
   "cell_type": "code",
   "execution_count": 7,
   "id": "106949f3",
   "metadata": {},
   "outputs": [
    {
     "data": {
      "text/plain": [
       "{'number': 4,\n",
       " 'people': [{'craft': 'ISS', 'name': 'Chris Cassidy'}],\n",
       " 'message': 'success'}"
      ]
     },
     "execution_count": 7,
     "metadata": {},
     "output_type": "execute_result"
    }
   ],
   "source": [
    "dict_content"
   ]
  },
  {
   "cell_type": "code",
   "execution_count": 9,
   "id": "cd1f6489",
   "metadata": {},
   "outputs": [],
   "source": [
    "dict_content['people'].append({'craft':'rock', 'name':'Rahul Dey'})"
   ]
  },
  {
   "cell_type": "code",
   "execution_count": 10,
   "id": "d10c36db",
   "metadata": {},
   "outputs": [
    {
     "name": "stdout",
     "output_type": "stream",
     "text": [
      "{'number': 4, 'people': [{'craft': 'ISS', 'name': 'Chris Cassidy'}, {'craft': 'rock', 'name': 'Rahul Dey'}], 'message': 'success'}\n"
     ]
    }
   ],
   "source": [
    "print(dict_content)"
   ]
  },
  {
   "cell_type": "code",
   "execution_count": 11,
   "id": "3f463882",
   "metadata": {},
   "outputs": [],
   "source": [
    "dump_data = json.dumps(dict_content)"
   ]
  },
  {
   "cell_type": "code",
   "execution_count": 13,
   "id": "6a78980b",
   "metadata": {},
   "outputs": [
    {
     "data": {
      "text/plain": [
       "130"
      ]
     },
     "execution_count": 13,
     "metadata": {},
     "output_type": "execute_result"
    }
   ],
   "source": [
    "fp.close()\n",
    "fp = open('space_astro.json','w')\n",
    "fp.write(dump_data)"
   ]
  },
  {
   "cell_type": "code",
   "execution_count": 14,
   "id": "5b81a661",
   "metadata": {},
   "outputs": [],
   "source": [
    "fp.close()"
   ]
  },
  {
   "cell_type": "code",
   "execution_count": null,
   "id": "32765c39",
   "metadata": {},
   "outputs": [],
   "source": [
    "JSON is a format which is universal and used by all the programming languages.\n",
    "But it was created by Javascript. So when it is stored, it stores the data\n",
    "types in format which javascript accepts.\n",
    "boolean in javascript are true and false\n",
    "boolean in Python are True and False"
   ]
  },
  {
   "cell_type": "code",
   "execution_count": 18,
   "id": "dd7b80f4",
   "metadata": {},
   "outputs": [
    {
     "data": {
      "text/plain": [
       "{'number': 4,\n",
       " 'people': [{'craft': 'ISS', 'name': 'Chris Cassidy'},\n",
       "  {'craft': 'rock', 'name': 'Rahul Dey'}],\n",
       " 'message': 'success',\n",
       " 'Yogesh_Vaidya': True}"
      ]
     },
     "execution_count": 18,
     "metadata": {},
     "output_type": "execute_result"
    }
   ],
   "source": [
    "dict_content"
   ]
  },
  {
   "cell_type": "code",
   "execution_count": 17,
   "id": "2da21d2d",
   "metadata": {},
   "outputs": [],
   "source": [
    "dict_content['Yogesh_Vaidya'] = True"
   ]
  },
  {
   "cell_type": "code",
   "execution_count": 19,
   "id": "507dc6a1",
   "metadata": {},
   "outputs": [
    {
     "data": {
      "text/plain": [
       "{'number': 4,\n",
       " 'people': [{'craft': 'ISS', 'name': 'Chris Cassidy'},\n",
       "  {'craft': 'rock', 'name': 'Rahul Dey'}],\n",
       " 'message': 'success',\n",
       " 'Yogesh_Vaidya': True}"
      ]
     },
     "execution_count": 19,
     "metadata": {},
     "output_type": "execute_result"
    }
   ],
   "source": [
    "dict_content"
   ]
  },
  {
   "cell_type": "code",
   "execution_count": 20,
   "id": "78a24559",
   "metadata": {},
   "outputs": [
    {
     "data": {
      "text/plain": [
       "153"
      ]
     },
     "execution_count": 20,
     "metadata": {},
     "output_type": "execute_result"
    }
   ],
   "source": [
    "dump_data = json.dumps(dict_content)\n",
    "fp = open('space_astro.json','w')\n",
    "fp.write(dump_data)"
   ]
  },
  {
   "cell_type": "code",
   "execution_count": 21,
   "id": "4eac6eec",
   "metadata": {},
   "outputs": [],
   "source": [
    "fp.close()"
   ]
  },
  {
   "cell_type": "code",
   "execution_count": null,
   "id": "4a997deb",
   "metadata": {},
   "outputs": [],
   "source": [
    "# XML FILES\n",
    "\n",
    "INTERCHANGING THE DATA\n",
    "xml tags are not predefined. you can create your own.\n",
    "RULES:-\n",
    "    1) THERE SHOULD BE A ROOT TAG.\n",
    "    2) Case Sensitive\n",
    "    3) Opening and Closing tags should be same."
   ]
  },
  {
   "cell_type": "code",
   "execution_count": null,
   "id": "038fec29",
   "metadata": {},
   "outputs": [],
   "source": [
    "<Chanchal> => Opening Tag\n",
    "\n",
    "</Chanchal> => Closing Tag"
   ]
  },
  {
   "cell_type": "code",
   "execution_count": null,
   "id": "39a47ab5",
   "metadata": {},
   "outputs": [],
   "source": [
    "<root>\n",
    "    <branch1>\n",
    "      <stem1>\n",
    "      </stem1>\n",
    "      <stem2>\n",
    "      </stem2>\n",
    "    </branch1>\n",
    "    <branch2>\n",
    "    </branch2>\n",
    "</root>\n",
    "\n",
    "# This is an example to show that outermost tag is root tag. You don't have\n",
    "# to name a tag as root."
   ]
  },
  {
   "cell_type": "code",
   "execution_count": 22,
   "id": "6783917d",
   "metadata": {},
   "outputs": [
    {
     "name": "stdout",
     "output_type": "stream",
     "text": [
      "Collecting beautifulsoup4\n",
      "  Using cached beautifulsoup4-4.10.0-py3-none-any.whl (97 kB)\n",
      "Collecting soupsieve>1.2\n",
      "  Using cached soupsieve-2.3-py3-none-any.whl (37 kB)\n",
      "Installing collected packages: soupsieve, beautifulsoup4\n",
      "Successfully installed beautifulsoup4-4.10.0 soupsieve-2.3\n",
      "Note: you may need to restart the kernel to use updated packages.\n"
     ]
    }
   ],
   "source": [
    "pip install beautifulsoup4"
   ]
  },
  {
   "cell_type": "code",
   "execution_count": 23,
   "id": "5af53dab",
   "metadata": {},
   "outputs": [],
   "source": [
    "from bs4 import BeautifulSoup\n",
    "with open('test_file.xml','r') as fp:\n",
    "    soup = BeautifulSoup(fp,'html.parser')"
   ]
  },
  {
   "cell_type": "code",
   "execution_count": 25,
   "id": "3a95fa4f",
   "metadata": {},
   "outputs": [
    {
     "name": "stdout",
     "output_type": "stream",
     "text": [
      "<class 'bs4.BeautifulSoup'>\n"
     ]
    }
   ],
   "source": [
    "print(type(soup))"
   ]
  },
  {
   "cell_type": "code",
   "execution_count": 28,
   "id": "e4e87e27",
   "metadata": {},
   "outputs": [],
   "source": [
    "list_of_foods = soup.find_all('food')"
   ]
  },
  {
   "cell_type": "code",
   "execution_count": 30,
   "id": "1bb68847",
   "metadata": {},
   "outputs": [],
   "source": [
    "food1 = list_of_foods[0]"
   ]
  },
  {
   "cell_type": "code",
   "execution_count": 32,
   "id": "4b0757e7",
   "metadata": {},
   "outputs": [
    {
     "data": {
      "text/plain": [
       "'Belgian Waffles'"
      ]
     },
     "execution_count": 32,
     "metadata": {},
     "output_type": "execute_result"
    }
   ],
   "source": [
    "food1.find('name').text"
   ]
  },
  {
   "cell_type": "code",
   "execution_count": 33,
   "id": "de2b0c2f",
   "metadata": {},
   "outputs": [
    {
     "name": "stdout",
     "output_type": "stream",
     "text": [
      "----------Waffles ka Dhaba------------\n",
      "Belgian Waffles $5.95\n",
      "Strawberry Belgian Waffles $7.95\n",
      "Berry-Berry Belgian Waffles $8.95\n",
      "French Toast $4.50\n",
      "Homestyle Breakfast $6.95\n"
     ]
    }
   ],
   "source": [
    "print('----------Waffles ka Dhaba------------')\n",
    "food_list = soup.find_all('food')\n",
    "for food in food_list:\n",
    "    print(food.find('name').text,food.find('price').text)"
   ]
  },
  {
   "cell_type": "code",
   "execution_count": null,
   "id": "1c664fdd",
   "metadata": {},
   "outputs": [],
   "source": [
    "CSV:COMMA SEPARATED VALUES"
   ]
  },
  {
   "cell_type": "code",
   "execution_count": null,
   "id": "df99a921",
   "metadata": {},
   "outputs": [],
   "source": [
    "Name,Subject,Marks\n",
    "'Mohit','Maths',100\n",
    "'Rohit','Science',99"
   ]
  },
  {
   "cell_type": "code",
   "execution_count": 34,
   "id": "a18b3f06",
   "metadata": {},
   "outputs": [],
   "source": [
    "import csv"
   ]
  },
  {
   "cell_type": "code",
   "execution_count": 35,
   "id": "e5b8f222",
   "metadata": {},
   "outputs": [
    {
     "name": "stdout",
     "output_type": "stream",
     "text": [
      "<class '_csv.reader'>\n",
      "['Name', 'Age', 'Gender']\n",
      "['Mohit', '47', 'M']\n",
      "['Rohit', '37', 'M']\n",
      "['Monika', '27', 'F']\n"
     ]
    }
   ],
   "source": [
    "with open('whiteboard_data.csv') as fp:\n",
    "    csv_reader = csv.reader(fp,delimiter=',')\n",
    "    print(type(csv_reader))\n",
    "    for row in csv_reader:\n",
    "        print(row)"
   ]
  },
  {
   "cell_type": "code",
   "execution_count": null,
   "id": "3f1fbb80",
   "metadata": {},
   "outputs": [],
   "source": []
  }
 ],
 "metadata": {
  "kernelspec": {
   "display_name": "Python 3 (ipykernel)",
   "language": "python",
   "name": "python3"
  },
  "language_info": {
   "codemirror_mode": {
    "name": "ipython",
    "version": 3
   },
   "file_extension": ".py",
   "mimetype": "text/x-python",
   "name": "python",
   "nbconvert_exporter": "python",
   "pygments_lexer": "ipython3",
   "version": "3.8.10"
  }
 },
 "nbformat": 4,
 "nbformat_minor": 5
}
