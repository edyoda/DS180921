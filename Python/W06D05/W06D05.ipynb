{
 "cells": [
  {
   "cell_type": "code",
   "execution_count": 6,
   "id": "984a47af",
   "metadata": {},
   "outputs": [],
   "source": [
    "fruits = ['apple','pineapple','lol','grapes','oranges','guava','kiwi','pear','fig']"
   ]
  },
  {
   "cell_type": "code",
   "execution_count": 7,
   "id": "93dca284",
   "metadata": {},
   "outputs": [],
   "source": [
    "def remove_small_string(fruit):\n",
    "    if len(fruit) >4:\n",
    "        return True"
   ]
  },
  {
   "cell_type": "code",
   "execution_count": 8,
   "id": "dfbaad99",
   "metadata": {},
   "outputs": [],
   "source": [
    "final_fruit = tuple(filter(remove_small_string,fruits))"
   ]
  },
  {
   "cell_type": "code",
   "execution_count": 9,
   "id": "5edd2c3b",
   "metadata": {},
   "outputs": [
    {
     "data": {
      "text/plain": [
       "('apple', 'pineapple', 'grapes', 'oranges', 'guava')"
      ]
     },
     "execution_count": 9,
     "metadata": {},
     "output_type": "execute_result"
    }
   ],
   "source": [
    "final_fruit"
   ]
  },
  {
   "cell_type": "markdown",
   "id": "cc242507",
   "metadata": {},
   "source": [
    "## Lambda"
   ]
  },
  {
   "cell_type": "code",
   "execution_count": null,
   "id": "eb5bf925",
   "metadata": {},
   "outputs": [],
   "source": [
    "lambda x:x**2"
   ]
  },
  {
   "cell_type": "code",
   "execution_count": 17,
   "id": "70cd1089",
   "metadata": {},
   "outputs": [],
   "source": [
    "def square(x):\n",
    "    return x**2"
   ]
  },
  {
   "cell_type": "code",
   "execution_count": 18,
   "id": "f29d0aaa",
   "metadata": {},
   "outputs": [],
   "source": [
    "veg = 'Raddish'\n",
    "value = lambda vaishak:print(vaishak)"
   ]
  },
  {
   "cell_type": "code",
   "execution_count": 19,
   "id": "c648511c",
   "metadata": {},
   "outputs": [
    {
     "name": "stdout",
     "output_type": "stream",
     "text": [
      "Raddish\n"
     ]
    }
   ],
   "source": [
    "value(veg)"
   ]
  },
  {
   "cell_type": "code",
   "execution_count": 14,
   "id": "fe02ecaf",
   "metadata": {},
   "outputs": [
    {
     "data": {
      "text/plain": [
       "<function __main__.<lambda>(v)>"
      ]
     },
     "execution_count": 14,
     "metadata": {},
     "output_type": "execute_result"
    }
   ],
   "source": [
    "value"
   ]
  },
  {
   "cell_type": "code",
   "execution_count": 16,
   "id": "a8fa2f39",
   "metadata": {},
   "outputs": [
    {
     "data": {
      "text/plain": [
       "<function __main__.square(x)>"
      ]
     },
     "execution_count": 16,
     "metadata": {},
     "output_type": "execute_result"
    }
   ],
   "source": [
    "square"
   ]
  },
  {
   "cell_type": "code",
   "execution_count": 20,
   "id": "f707fb8c",
   "metadata": {},
   "outputs": [],
   "source": [
    "y = lambda x:x**2"
   ]
  },
  {
   "cell_type": "code",
   "execution_count": null,
   "id": "ab816340",
   "metadata": {},
   "outputs": [],
   "source": [
    "square of number 4"
   ]
  },
  {
   "cell_type": "code",
   "execution_count": 21,
   "id": "197922dc",
   "metadata": {},
   "outputs": [
    {
     "data": {
      "text/plain": [
       "16"
      ]
     },
     "execution_count": 21,
     "metadata": {},
     "output_type": "execute_result"
    }
   ],
   "source": [
    "y(4)"
   ]
  },
  {
   "cell_type": "code",
   "execution_count": null,
   "id": "79e9c5e5",
   "metadata": {},
   "outputs": [],
   "source": [
    "check if the given number is a even"
   ]
  },
  {
   "cell_type": "code",
   "execution_count": 22,
   "id": "c58501f5",
   "metadata": {},
   "outputs": [],
   "source": [
    "chk_evn = lambda e:e%2==0"
   ]
  },
  {
   "cell_type": "code",
   "execution_count": 24,
   "id": "80f407d8",
   "metadata": {},
   "outputs": [
    {
     "name": "stdout",
     "output_type": "stream",
     "text": [
      "True\n"
     ]
    }
   ],
   "source": [
    "print(chk_evn(4))"
   ]
  },
  {
   "cell_type": "code",
   "execution_count": 26,
   "id": "42efa31b",
   "metadata": {},
   "outputs": [
    {
     "name": "stdout",
     "output_type": "stream",
     "text": [
      "False\n"
     ]
    }
   ],
   "source": [
    "print(chk_evn(3))"
   ]
  },
  {
   "cell_type": "code",
   "execution_count": 28,
   "id": "ec7d6fbf",
   "metadata": {},
   "outputs": [
    {
     "name": "stdout",
     "output_type": "stream",
     "text": [
      "False\n",
      "True\n",
      "False\n",
      "False\n",
      "True\n",
      "True\n",
      "True\n",
      "True\n"
     ]
    }
   ],
   "source": [
    "l = [19,8,5,59,4,98,974,6]\n",
    "for i in l:\n",
    "    v = lambda x:x%2==0\n",
    "    print(v(i))"
   ]
  },
  {
   "cell_type": "code",
   "execution_count": 29,
   "id": "ae737a53",
   "metadata": {},
   "outputs": [
    {
     "data": {
      "text/plain": [
       "function"
      ]
     },
     "execution_count": 29,
     "metadata": {},
     "output_type": "execute_result"
    }
   ],
   "source": [
    "type(v)"
   ]
  },
  {
   "cell_type": "code",
   "execution_count": null,
   "id": "f6af6a27",
   "metadata": {},
   "outputs": [],
   "source": [
    "l = [19,8,5,59,4,98,974,6]\n",
    "for i in l:\n",
    "    v = lambda x:x%2==0\n",
    "    print(v(i))"
   ]
  },
  {
   "cell_type": "code",
   "execution_count": 30,
   "id": "d0a65399",
   "metadata": {},
   "outputs": [
    {
     "name": "stdout",
     "output_type": "stream",
     "text": [
      "False\n",
      "True\n",
      "False\n",
      "False\n",
      "True\n",
      "True\n",
      "True\n",
      "True\n"
     ]
    }
   ],
   "source": [
    "l = [19,8,5,59,4,98,974,6]\n",
    "for i in l:\n",
    "    print((lambda x:x%2==0)(i))"
   ]
  },
  {
   "cell_type": "markdown",
   "id": "d077a1a1",
   "metadata": {},
   "source": [
    "# use lambda with map"
   ]
  },
  {
   "cell_type": "code",
   "execution_count": null,
   "id": "a86ec79f",
   "metadata": {},
   "outputs": [],
   "source": [
    "#map(func, iterable) -> map object"
   ]
  },
  {
   "cell_type": "code",
   "execution_count": 31,
   "id": "a49a4f76",
   "metadata": {},
   "outputs": [],
   "source": [
    "l = [19,8,5,59,4,98,974,6]"
   ]
  },
  {
   "cell_type": "code",
   "execution_count": 32,
   "id": "dd489281",
   "metadata": {},
   "outputs": [],
   "source": [
    "value = list(map(lambda x:x%2==0,l))"
   ]
  },
  {
   "cell_type": "code",
   "execution_count": 33,
   "id": "fa4ee45b",
   "metadata": {},
   "outputs": [
    {
     "name": "stdout",
     "output_type": "stream",
     "text": [
      "[False, True, False, False, True, True, True, True]\n"
     ]
    }
   ],
   "source": [
    "print(value)"
   ]
  },
  {
   "cell_type": "code",
   "execution_count": 34,
   "id": "7ed07dc4",
   "metadata": {},
   "outputs": [],
   "source": [
    "value = list(filter(lambda x:x%2==0,l))"
   ]
  },
  {
   "cell_type": "code",
   "execution_count": 35,
   "id": "1d7812c6",
   "metadata": {},
   "outputs": [
    {
     "name": "stdout",
     "output_type": "stream",
     "text": [
      "[8, 4, 98, 974, 6]\n"
     ]
    }
   ],
   "source": [
    "print(value)"
   ]
  },
  {
   "cell_type": "code",
   "execution_count": 36,
   "id": "45df9282",
   "metadata": {},
   "outputs": [],
   "source": [
    "fruits = ['apple','pineapple','lol','grapes','oranges','guava','kiwi','pear','fig']"
   ]
  },
  {
   "cell_type": "code",
   "execution_count": 37,
   "id": "1563370c",
   "metadata": {},
   "outputs": [],
   "source": [
    "small_lenth_fruits = list(filter(lambda fruit:len(fruit)<5,fruits))"
   ]
  },
  {
   "cell_type": "code",
   "execution_count": 38,
   "id": "0cb85cc9",
   "metadata": {},
   "outputs": [
    {
     "name": "stdout",
     "output_type": "stream",
     "text": [
      "['lol', 'kiwi', 'pear', 'fig']\n"
     ]
    }
   ],
   "source": [
    "print(small_lenth_fruits)"
   ]
  },
  {
   "cell_type": "code",
   "execution_count": null,
   "id": "edb96ac9",
   "metadata": {},
   "outputs": [],
   "source": [
    "1.) Write a Python program to filter a list of integers containig  odd numbers\n",
    "using Lambda.\n",
    "Original list of integers:\n",
    "[1, 2, 3, 4, 5, 6, 7, 8, 9, 10]\n",
    "Even numbers from the said list:\n",
    "[1, 3, 5, 7, 9]\n",
    "\n",
    "\n",
    "2) Write a Python program to cube every number in a given list \n",
    "of integers using Lambda.\n",
    "Original list of integers:\n",
    "[1, 2, 3, 4, 5, 6, 7, 8, 9, 10]\n",
    "Cube every number of the said list:\n",
    "[1, 8, 27, 64, 125, 216, 343, 512, 729, 1000]"
   ]
  },
  {
   "cell_type": "code",
   "execution_count": null,
   "id": "278cd177",
   "metadata": {},
   "outputs": [],
   "source": [
    "10mins 20:54 -21:04"
   ]
  },
  {
   "cell_type": "code",
   "execution_count": 40,
   "id": "12dabed2",
   "metadata": {},
   "outputs": [],
   "source": [
    "list_of_numbers = [1, 2, 3, 4, 5, 6, 7, 8, 9, 10]"
   ]
  },
  {
   "cell_type": "code",
   "execution_count": 41,
   "id": "fa28e5b5",
   "metadata": {},
   "outputs": [
    {
     "name": "stdout",
     "output_type": "stream",
     "text": [
      "[1, 3, 5, 7, 9]\n"
     ]
    }
   ],
   "source": [
    "print(list(filter(lambda num:num%2!=0,list_of_numbers)))"
   ]
  },
  {
   "cell_type": "code",
   "execution_count": 42,
   "id": "c448a053",
   "metadata": {},
   "outputs": [
    {
     "name": "stdout",
     "output_type": "stream",
     "text": [
      "[1, 3, 5, 7, 9]\n"
     ]
    }
   ],
   "source": [
    "a = [1,2,3,4,5,6,7,8,9,10]\n",
    "value = list(filter(lambda x:x%2==1,a))\n",
    "print(value)"
   ]
  },
  {
   "cell_type": "code",
   "execution_count": 44,
   "id": "5d5fa385",
   "metadata": {},
   "outputs": [
    {
     "name": "stdout",
     "output_type": "stream",
     "text": [
      "[1, 3, 5, 7, 9]\n"
     ]
    }
   ],
   "source": [
    "value = list(filter(lambda x:x%2==1,a))\n",
    "print(value)"
   ]
  },
  {
   "cell_type": "code",
   "execution_count": 45,
   "id": "b81d479b",
   "metadata": {},
   "outputs": [],
   "source": [
    "list_of_numbers_set_2 = [1, 2, 3, 4, 5, 6, 7, 8, 9, 10]"
   ]
  },
  {
   "cell_type": "code",
   "execution_count": 46,
   "id": "4c6721d5",
   "metadata": {},
   "outputs": [
    {
     "name": "stdout",
     "output_type": "stream",
     "text": [
      "[1, 8, 27, 64, 125, 216, 343, 512, 729, 1000]\n"
     ]
    }
   ],
   "source": [
    "print(list(map(lambda x:x**3,list_of_numbers_set_2)))"
   ]
  },
  {
   "cell_type": "code",
   "execution_count": null,
   "id": "9e00a4f8",
   "metadata": {},
   "outputs": [],
   "source": []
  },
  {
   "cell_type": "markdown",
   "id": "321ef920",
   "metadata": {},
   "source": [
    "## List Comprehension"
   ]
  },
  {
   "cell_type": "code",
   "execution_count": null,
   "id": "60c45d32",
   "metadata": {},
   "outputs": [],
   "source": [
    "# newlist = [expression for item in iterable if condition == True]"
   ]
  },
  {
   "cell_type": "code",
   "execution_count": null,
   "id": "af2f7087",
   "metadata": {},
   "outputs": [],
   "source": [
    "write a function which prints all the fruits not starting with letter a from\n",
    "the given list and save them inside another list"
   ]
  },
  {
   "cell_type": "code",
   "execution_count": 47,
   "id": "8edce220",
   "metadata": {},
   "outputs": [],
   "source": [
    "fruits = ['apple','pineapple','lol','grapes','oranges','guava','kiwi','pear','fig']"
   ]
  },
  {
   "cell_type": "code",
   "execution_count": 48,
   "id": "4aa9f812",
   "metadata": {},
   "outputs": [],
   "source": [
    "fruits_without_a = []"
   ]
  },
  {
   "cell_type": "code",
   "execution_count": 50,
   "id": "938ad816",
   "metadata": {},
   "outputs": [],
   "source": [
    "for i in fruits:\n",
    "    if i[0] != 'a':\n",
    "        fruits_without_a.append(i)"
   ]
  },
  {
   "cell_type": "code",
   "execution_count": 51,
   "id": "79558598",
   "metadata": {},
   "outputs": [
    {
     "name": "stdout",
     "output_type": "stream",
     "text": [
      "['pineapple', 'lol', 'grapes', 'oranges', 'guava', 'kiwi', 'pear', 'fig']\n"
     ]
    }
   ],
   "source": [
    "print(fruits_without_a)"
   ]
  },
  {
   "cell_type": "code",
   "execution_count": 52,
   "id": "4d9d09e2",
   "metadata": {},
   "outputs": [],
   "source": [
    "fruits_set_2 = [i for i in fruits if i[0]!= 'a']"
   ]
  },
  {
   "cell_type": "code",
   "execution_count": 53,
   "id": "ca14a7ed",
   "metadata": {},
   "outputs": [
    {
     "data": {
      "text/plain": [
       "['pineapple', 'lol', 'grapes', 'oranges', 'guava', 'kiwi', 'pear', 'fig']"
      ]
     },
     "execution_count": 53,
     "metadata": {},
     "output_type": "execute_result"
    }
   ],
   "source": [
    "fruits_set_2"
   ]
  },
  {
   "cell_type": "code",
   "execution_count": 54,
   "id": "a4b3cf1c",
   "metadata": {},
   "outputs": [],
   "source": [
    "fruits_set_3 = [i for i in fruits]"
   ]
  },
  {
   "cell_type": "code",
   "execution_count": 55,
   "id": "45ec058a",
   "metadata": {},
   "outputs": [
    {
     "name": "stdout",
     "output_type": "stream",
     "text": [
      "['apple', 'pineapple', 'lol', 'grapes', 'oranges', 'guava', 'kiwi', 'pear', 'fig']\n"
     ]
    }
   ],
   "source": [
    "print(fruits_set_3)"
   ]
  },
  {
   "cell_type": "code",
   "execution_count": 56,
   "id": "8d76d022",
   "metadata": {},
   "outputs": [
    {
     "name": "stdout",
     "output_type": "stream",
     "text": [
      "apple\n",
      "pineapple\n",
      "lol\n",
      "grapes\n",
      "oranges\n",
      "guava\n",
      "kiwi\n",
      "pear\n",
      "fig\n"
     ]
    }
   ],
   "source": [
    "fruits_set_3 = [print(i) for i in fruits]"
   ]
  },
  {
   "cell_type": "code",
   "execution_count": 57,
   "id": "1ea844e4",
   "metadata": {},
   "outputs": [
    {
     "data": {
      "text/plain": [
       "[None, None, None, None, None, None, None, None, None]"
      ]
     },
     "execution_count": 57,
     "metadata": {},
     "output_type": "execute_result"
    }
   ],
   "source": [
    "fruits_set_3"
   ]
  },
  {
   "cell_type": "code",
   "execution_count": 58,
   "id": "96f7ed64",
   "metadata": {},
   "outputs": [],
   "source": [
    "fruits_set_3 = [i for i in fruits]"
   ]
  },
  {
   "cell_type": "code",
   "execution_count": 59,
   "id": "b0e7d3b6",
   "metadata": {},
   "outputs": [],
   "source": [
    "x = [x for x in range(10)]"
   ]
  },
  {
   "cell_type": "code",
   "execution_count": 60,
   "id": "8c90e6c4",
   "metadata": {},
   "outputs": [
    {
     "name": "stdout",
     "output_type": "stream",
     "text": [
      "[0, 1, 2, 3, 4, 5, 6, 7, 8, 9]\n"
     ]
    }
   ],
   "source": [
    "print(x)"
   ]
  },
  {
   "cell_type": "code",
   "execution_count": 61,
   "id": "e0c645e0",
   "metadata": {},
   "outputs": [],
   "source": [
    "x = [x for x in range(10) if x<5]"
   ]
  },
  {
   "cell_type": "code",
   "execution_count": 62,
   "id": "a17a516f",
   "metadata": {},
   "outputs": [
    {
     "data": {
      "text/plain": [
       "[0, 1, 2, 3, 4]"
      ]
     },
     "execution_count": 62,
     "metadata": {},
     "output_type": "execute_result"
    }
   ],
   "source": [
    "x"
   ]
  },
  {
   "cell_type": "code",
   "execution_count": 63,
   "id": "a7d4110a",
   "metadata": {},
   "outputs": [],
   "source": [
    "fruits_set_4 = [i.upper() for i in fruits]"
   ]
  },
  {
   "cell_type": "code",
   "execution_count": 64,
   "id": "44e3dc62",
   "metadata": {},
   "outputs": [
    {
     "data": {
      "text/plain": [
       "['APPLE',\n",
       " 'PINEAPPLE',\n",
       " 'LOL',\n",
       " 'GRAPES',\n",
       " 'ORANGES',\n",
       " 'GUAVA',\n",
       " 'KIWI',\n",
       " 'PEAR',\n",
       " 'FIG']"
      ]
     },
     "execution_count": 64,
     "metadata": {},
     "output_type": "execute_result"
    }
   ],
   "source": [
    "fruits_set_4"
   ]
  },
  {
   "cell_type": "code",
   "execution_count": 65,
   "id": "2212bcaa",
   "metadata": {},
   "outputs": [],
   "source": [
    "fruits_set_4 = [i.lower() for i in fruits]"
   ]
  },
  {
   "cell_type": "code",
   "execution_count": 66,
   "id": "c6a56907",
   "metadata": {},
   "outputs": [
    {
     "data": {
      "text/plain": [
       "['apple',\n",
       " 'pineapple',\n",
       " 'lol',\n",
       " 'grapes',\n",
       " 'oranges',\n",
       " 'guava',\n",
       " 'kiwi',\n",
       " 'pear',\n",
       " 'fig']"
      ]
     },
     "execution_count": 66,
     "metadata": {},
     "output_type": "execute_result"
    }
   ],
   "source": [
    "fruits_set_4"
   ]
  },
  {
   "cell_type": "code",
   "execution_count": 67,
   "id": "ff399478",
   "metadata": {},
   "outputs": [],
   "source": [
    "fruits_set_5 = [i.title() for i in fruits]"
   ]
  },
  {
   "cell_type": "code",
   "execution_count": 68,
   "id": "7812d5f9",
   "metadata": {},
   "outputs": [
    {
     "data": {
      "text/plain": [
       "['Apple',\n",
       " 'Pineapple',\n",
       " 'Lol',\n",
       " 'Grapes',\n",
       " 'Oranges',\n",
       " 'Guava',\n",
       " 'Kiwi',\n",
       " 'Pear',\n",
       " 'Fig']"
      ]
     },
     "execution_count": 68,
     "metadata": {},
     "output_type": "execute_result"
    }
   ],
   "source": [
    "fruits_set_5"
   ]
  },
  {
   "cell_type": "code",
   "execution_count": null,
   "id": "f932cdd4",
   "metadata": {},
   "outputs": [],
   "source": []
  },
  {
   "cell_type": "code",
   "execution_count": 71,
   "id": "532f7e2f",
   "metadata": {},
   "outputs": [
    {
     "data": {
      "text/plain": [
       "'Saikiran'"
      ]
     },
     "execution_count": 71,
     "metadata": {},
     "output_type": "execute_result"
    }
   ],
   "source": [
    "'saikiran'.capitalize()"
   ]
  },
  {
   "cell_type": "code",
   "execution_count": null,
   "id": "e039c757",
   "metadata": {},
   "outputs": [],
   "source": []
  }
 ],
 "metadata": {
  "kernelspec": {
   "display_name": "Python 3 (ipykernel)",
   "language": "python",
   "name": "python3"
  },
  "language_info": {
   "codemirror_mode": {
    "name": "ipython",
    "version": 3
   },
   "file_extension": ".py",
   "mimetype": "text/x-python",
   "name": "python",
   "nbconvert_exporter": "python",
   "pygments_lexer": "ipython3",
   "version": "3.9.7"
  }
 },
 "nbformat": 4,
 "nbformat_minor": 5
}
