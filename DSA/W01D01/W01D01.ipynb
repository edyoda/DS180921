{
 "cells": [
  {
   "cell_type": "code",
   "execution_count": null,
   "id": "88adf275",
   "metadata": {},
   "outputs": [],
   "source": [
    "# ARRAY IMPLEMENTATION"
   ]
  },
  {
   "cell_type": "code",
   "execution_count": 22,
   "id": "a9b0b374",
   "metadata": {},
   "outputs": [],
   "source": [
    "class array:\n",
    "    def __init__(self, size):\n",
    "        self.final_size = size\n",
    "        self.length = 0\n",
    "        self.data = []\n",
    "    \n",
    "    def add(self, element):\n",
    "        if self.final_size > self.length:\n",
    "            self.data.append(element)\n",
    "            self.length += 1\n",
    "            print('Added',element)\n",
    "        else:\n",
    "            print('Array is Full')\n",
    "            \n",
    "    def deleteAt(self, index):\n",
    "        for i in range(index, self.length-1):\n",
    "            self.data[i] = self.data[i+1]\n",
    "        del self.data[self.length-1]\n",
    "        self.length -= 1\n",
    "        \n",
    "    def insertAt(self, index, item):\n",
    "        if self.final_size > self.length:\n",
    "            self.data.append(None)\n",
    "            for i in range(self.length, index, -1):\n",
    "                self.data[i] = self.data[i-1]\n",
    "            self.data[index] = item\n",
    "            self.length += 1\n",
    "        else:\n",
    "            print('Array is Full')"
   ]
  },
  {
   "cell_type": "code",
   "execution_count": 23,
   "id": "d2ae3d57",
   "metadata": {},
   "outputs": [
    {
     "name": "stdout",
     "output_type": "stream",
     "text": [
      "Added apple\n",
      "Added apple\n",
      "Added apple\n",
      "Added apple\n",
      "Added apple\n",
      "Array is Full\n",
      "Array is Full\n",
      "Array is Full\n",
      "Array is Full\n",
      "Array is Full\n"
     ]
    }
   ],
   "source": [
    "array_obj = array(5)\n",
    "for i in range(10):\n",
    "    array_obj.add('apple')"
   ]
  },
  {
   "cell_type": "code",
   "execution_count": 24,
   "id": "7e8e9f48",
   "metadata": {},
   "outputs": [
    {
     "name": "stdout",
     "output_type": "stream",
     "text": [
      "Added apple\n",
      "Added mango\n",
      "Added kiwi\n"
     ]
    }
   ],
   "source": [
    "array_obj2 = array(10)\n",
    "for i in ['apple','mango','kiwi']:\n",
    "    array_obj2.add(i)"
   ]
  },
  {
   "cell_type": "code",
   "execution_count": 25,
   "id": "12e68df0",
   "metadata": {},
   "outputs": [
    {
     "data": {
      "text/plain": [
       "['apple', 'mango', 'kiwi']"
      ]
     },
     "execution_count": 25,
     "metadata": {},
     "output_type": "execute_result"
    }
   ],
   "source": [
    "array_obj2.data"
   ]
  },
  {
   "cell_type": "code",
   "execution_count": 26,
   "id": "3a7791a3",
   "metadata": {},
   "outputs": [],
   "source": [
    "array_obj2.insertAt(1,'Pineapple')"
   ]
  },
  {
   "cell_type": "code",
   "execution_count": 27,
   "id": "3220d9db",
   "metadata": {},
   "outputs": [
    {
     "data": {
      "text/plain": [
       "['apple', 'Pineapple', 'mango', 'kiwi']"
      ]
     },
     "execution_count": 27,
     "metadata": {},
     "output_type": "execute_result"
    }
   ],
   "source": [
    "array_obj2.data"
   ]
  },
  {
   "cell_type": "code",
   "execution_count": 28,
   "id": "f12e0e8b",
   "metadata": {},
   "outputs": [],
   "source": [
    "array_obj2.deleteAt(2)"
   ]
  },
  {
   "cell_type": "code",
   "execution_count": 29,
   "id": "aa365efd",
   "metadata": {},
   "outputs": [
    {
     "data": {
      "text/plain": [
       "['apple', 'Pineapple', 'kiwi']"
      ]
     },
     "execution_count": 29,
     "metadata": {},
     "output_type": "execute_result"
    }
   ],
   "source": [
    "array_obj2.data"
   ]
  },
  {
   "cell_type": "code",
   "execution_count": null,
   "id": "3ea880b3",
   "metadata": {},
   "outputs": [],
   "source": [
    "Array Applications:\n",
    "    Fast Access to elements.\n",
    "    Math operations like Matrix multiplications and others can be performed easily.\n",
    "    CPU Scheduling\n",
    "    Sort the numbers"
   ]
  },
  {
   "cell_type": "code",
   "execution_count": 30,
   "id": "a62d37d2",
   "metadata": {},
   "outputs": [
    {
     "data": {
      "text/plain": [
       "[7, 12, 28, 34, 63, 90]"
      ]
     },
     "execution_count": 30,
     "metadata": {},
     "output_type": "execute_result"
    }
   ],
   "source": [
    "no = [34,28,12,7,90,63]\n",
    "sorted(no)"
   ]
  },
  {
   "cell_type": "code",
   "execution_count": null,
   "id": "0c7c06c8",
   "metadata": {},
   "outputs": [],
   "source": []
  }
 ],
 "metadata": {
  "kernelspec": {
   "display_name": "Python 3 (ipykernel)",
   "language": "python",
   "name": "python3"
  },
  "language_info": {
   "codemirror_mode": {
    "name": "ipython",
    "version": 3
   },
   "file_extension": ".py",
   "mimetype": "text/x-python",
   "name": "python",
   "nbconvert_exporter": "python",
   "pygments_lexer": "ipython3",
   "version": "3.8.9"
  }
 },
 "nbformat": 4,
 "nbformat_minor": 5
}
