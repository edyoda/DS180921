{
 "cells": [
  {
   "cell_type": "code",
   "execution_count": null,
   "id": "123e2445",
   "metadata": {},
   "outputs": [],
   "source": [
    "# Linked List Revision\n",
    "class node():\n",
    "    def __init__(self, data, link=None):\n",
    "        self.data = data\n",
    "        self.link = link\n",
    "\n",
    "class LinkedList():\n",
    "    def __init__(self):\n",
    "        self.head = None\n",
    "        \n",
    "    def is_empty(self):\n",
    "        if self.head == None:\n",
    "            return True\n",
    "        \n",
    "    def append(self, value):\n",
    "        new_node = node(value)\n",
    "        if self.is_empty():\n",
    "            self.head = new_node\n",
    "        else:\n",
    "            temp = self.head\n",
    "            while temp.link != None:\n",
    "                temp = temp.link\n",
    "            temp.link = new_node\n",
    "        print('Node have been inserted')\n",
    "        \n",
    "    def printList(self):\n",
    "        temp = self.head\n",
    "        while temp.link != None:\n",
    "            print(temp.data)\n",
    "            temp = temp.link\n",
    "        print(temp.data)"
   ]
  },
  {
   "cell_type": "code",
   "execution_count": 1,
   "id": "da874016",
   "metadata": {},
   "outputs": [
    {
     "name": "stdout",
     "output_type": "stream",
     "text": [
      "4.0\n"
     ]
    }
   ],
   "source": [
    "# Problem Solving\n",
    "# Q1\n",
    "n = 5\n",
    "a = [1,2,3,5]\n",
    "sumn = (n*(n+1))/2\n",
    "asum = sum(a)\n",
    "missno = sumn - asum\n",
    "print(missno)"
   ]
  },
  {
   "cell_type": "code",
   "execution_count": 2,
   "id": "50a7bcda",
   "metadata": {},
   "outputs": [
    {
     "name": "stdout",
     "output_type": "stream",
     "text": [
      "0 0 1 2 2 "
     ]
    }
   ],
   "source": [
    "# Q2 APPROACH 1\n",
    "a=[0,2,1,2,0]\n",
    "zeros=0\n",
    "onces=0\n",
    "twos=0\n",
    "for num in a:\n",
    "    if num==0:\n",
    "        zeros+=1\n",
    "    elif num==1:\n",
    "        onces+=1\n",
    "    else:\n",
    "        twos+=1\n",
    "for i in range(zeros): \n",
    "    print(0,end=\" \")\n",
    "for i in range(onces): \n",
    "    print(1,end=\" \")\n",
    "for i in range(twos):\n",
    "    print(2,end=\" \")"
   ]
  },
  {
   "cell_type": "code",
   "execution_count": 3,
   "id": "edd2a377",
   "metadata": {},
   "outputs": [
    {
     "name": "stdout",
     "output_type": "stream",
     "text": [
      "Array after segregation :\n",
      "0\n",
      "0\n",
      "0\n",
      "0\n",
      "0\n",
      "1\n",
      "1\n",
      "1\n",
      "1\n",
      "1\n",
      "2\n",
      "2\n"
     ]
    }
   ],
   "source": [
    "# Q2 APPROACH 2\n",
    "def sort012(a, arr_size):\n",
    "    lo = 0\n",
    "    hi = arr_size - 1\n",
    "    mid = 0\n",
    "    while mid <= hi:\n",
    "        if a[mid] == 0:\n",
    "            a[lo], a[mid] = a[mid], a[lo]\n",
    "            lo = lo + 1\n",
    "            mid = mid + 1\n",
    "        elif a[mid] == 1:\n",
    "            mid = mid + 1\n",
    "        else:\n",
    "            a[mid], a[hi] = a[hi], a[mid]\n",
    "            hi = hi - 1\n",
    "    return a\n",
    "def printArray( a):\n",
    "    for k in a:\n",
    "        print(k)\n",
    "arr = [0, 1, 1, 0, 1, 2, 1, 2, 0, 0, 0, 1]\n",
    "arr_size = len(arr)\n",
    "arr = sort012( arr, arr_size)\n",
    "print(\"Array after segregation :\")\n",
    "printArray(arr)"
   ]
  },
  {
   "cell_type": "code",
   "execution_count": 4,
   "id": "15ac60be",
   "metadata": {},
   "outputs": [],
   "source": [
    "a = 10\n",
    "b = 20"
   ]
  },
  {
   "cell_type": "code",
   "execution_count": 5,
   "id": "60a3b8b6",
   "metadata": {},
   "outputs": [],
   "source": [
    "a,b = b,a"
   ]
  },
  {
   "cell_type": "code",
   "execution_count": 6,
   "id": "41166b7f",
   "metadata": {},
   "outputs": [
    {
     "data": {
      "text/plain": [
       "20"
      ]
     },
     "execution_count": 6,
     "metadata": {},
     "output_type": "execute_result"
    }
   ],
   "source": [
    "a"
   ]
  },
  {
   "cell_type": "code",
   "execution_count": null,
   "id": "df85342d",
   "metadata": {},
   "outputs": [],
   "source": [
    "Q3 : Delete the last node from the linked list.\n",
    "\n",
    "Q4 : Delete the first node from the linked list.\n",
    "    \n",
    "Q5 : Create a doubly linked list, which means it will have link on both\n",
    "    the sides. Also create a tail which will be pointing to the last\n",
    "    node in this linked list."
   ]
  },
  {
   "cell_type": "code",
   "execution_count": 23,
   "id": "5217b1ec",
   "metadata": {},
   "outputs": [],
   "source": [
    "# Linked List Revision\n",
    "class node():\n",
    "    def __init__(self, data, link=None):\n",
    "        self.data = data\n",
    "        self.link = link\n",
    "\n",
    "class LinkedList():\n",
    "    def __init__(self):\n",
    "        self.head = None\n",
    "        \n",
    "    def is_empty(self):\n",
    "        if self.head == None:\n",
    "            return True\n",
    "        \n",
    "    def append(self, value):\n",
    "        new_node = node(value)\n",
    "        if self.is_empty():\n",
    "            self.head = new_node\n",
    "        else:\n",
    "            temp = self.head\n",
    "            while temp.link != None:\n",
    "                temp = temp.link\n",
    "            temp.link = new_node\n",
    "        print('Node have been inserted')\n",
    "        \n",
    "    def printList(self):\n",
    "        temp = self.head\n",
    "        while temp.link != None:\n",
    "            print(temp.data)\n",
    "            temp = temp.link\n",
    "        print(temp.data)\n",
    "    \n",
    "    def deleteLastNode(self):\n",
    "        temp = self.head\n",
    "        temp2 = temp\n",
    "        while temp.link != None:\n",
    "            temp2 = temp\n",
    "            temp = temp.link\n",
    "        temp2.link = None\n",
    "    \n",
    "    def deleteFirstNode(self):\n",
    "        self.head = self.head.link"
   ]
  },
  {
   "cell_type": "code",
   "execution_count": 24,
   "id": "baf0e408",
   "metadata": {},
   "outputs": [
    {
     "name": "stdout",
     "output_type": "stream",
     "text": [
      "Node have been inserted\n",
      "Node have been inserted\n",
      "Node have been inserted\n",
      "Node have been inserted\n",
      "500\n",
      "40\n",
      "786\n",
      "390\n"
     ]
    }
   ],
   "source": [
    "lol = LinkedList()\n",
    "lol.append(500)\n",
    "lol.append(40)\n",
    "lol.append(786)\n",
    "lol.append(390)\n",
    "lol.printList()"
   ]
  },
  {
   "cell_type": "code",
   "execution_count": 16,
   "id": "daa5a07e",
   "metadata": {},
   "outputs": [
    {
     "name": "stdout",
     "output_type": "stream",
     "text": [
      "500\n",
      "40\n",
      "786\n"
     ]
    }
   ],
   "source": [
    "lol.deleteLastNode()\n",
    "lol.printList()"
   ]
  },
  {
   "cell_type": "code",
   "execution_count": 25,
   "id": "d58808c0",
   "metadata": {},
   "outputs": [
    {
     "name": "stdout",
     "output_type": "stream",
     "text": [
      "40\n",
      "786\n",
      "390\n"
     ]
    }
   ],
   "source": [
    "lol.deleteFirstNode()\n",
    "lol.printList()"
   ]
  },
  {
   "cell_type": "code",
   "execution_count": 29,
   "id": "bdc444f7",
   "metadata": {},
   "outputs": [],
   "source": [
    "class nodeforD:\n",
    "    def __init__(self, data, nexti=None, prev=None):\n",
    "        self.data = data\n",
    "        self.prev = prev\n",
    "        self.next = nexti\n",
    "\n",
    "class DoublyLinkedList:\n",
    "    def __init__(self):\n",
    "        self.head = None\n",
    "        self.tail = None\n",
    "        \n",
    "    def isEmpty(self):\n",
    "        if self.head == None:\n",
    "            return True\n",
    "        \n",
    "    def append(self,value):\n",
    "        new_node = nodeforD(value)\n",
    "        self.tail = new_node\n",
    "        if self.isEmpty():\n",
    "            self.head = new_node\n",
    "        else:\n",
    "            temp = self.head\n",
    "            while temp.next != None:\n",
    "                temp = temp.next\n",
    "            temp.next = new_node\n",
    "            new_node.prev = temp\n",
    "        print('Node have been inserted')\n",
    "        \n",
    "    def printListReverse(self):\n",
    "        temp = self.tail\n",
    "        while temp.prev != None:\n",
    "            print(temp.data)\n",
    "            temp = temp.prev\n",
    "        print(temp.data)"
   ]
  },
  {
   "cell_type": "code",
   "execution_count": 30,
   "id": "d7418ec9",
   "metadata": {},
   "outputs": [],
   "source": [
    "lol2 = DoublyLinkedList()"
   ]
  },
  {
   "cell_type": "code",
   "execution_count": 31,
   "id": "95c1f6b6",
   "metadata": {},
   "outputs": [
    {
     "name": "stdout",
     "output_type": "stream",
     "text": [
      "Node have been inserted\n",
      "Node have been inserted\n",
      "Node have been inserted\n",
      "Node have been inserted\n",
      "Node have been inserted\n",
      "786\n",
      "209\n",
      "-30\n",
      "560\n",
      "400\n"
     ]
    }
   ],
   "source": [
    "lol2.append(400)\n",
    "lol2.append(560)\n",
    "lol2.append(-30)\n",
    "lol2.append(209)\n",
    "lol2.append(786)\n",
    "lol2.printListReverse()"
   ]
  },
  {
   "cell_type": "code",
   "execution_count": null,
   "id": "0762fa86",
   "metadata": {},
   "outputs": [],
   "source": []
  }
 ],
 "metadata": {
  "kernelspec": {
   "display_name": "Python 3 (ipykernel)",
   "language": "python",
   "name": "python3"
  },
  "language_info": {
   "codemirror_mode": {
    "name": "ipython",
    "version": 3
   },
   "file_extension": ".py",
   "mimetype": "text/x-python",
   "name": "python",
   "nbconvert_exporter": "python",
   "pygments_lexer": "ipython3",
   "version": "3.8.9"
  }
 },
 "nbformat": 4,
 "nbformat_minor": 5
}
