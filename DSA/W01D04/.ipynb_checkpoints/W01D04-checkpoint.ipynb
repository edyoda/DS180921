{
 "cells": [
  {
   "cell_type": "code",
   "execution_count": null,
   "id": "3d5feee3",
   "metadata": {},
   "outputs": [],
   "source": [
    "Linked List"
   ]
  },
  {
   "cell_type": "code",
   "execution_count": 1,
   "id": "0a9a0728",
   "metadata": {},
   "outputs": [],
   "source": [
    "# Node"
   ]
  },
  {
   "cell_type": "code",
   "execution_count": 2,
   "id": "f56247aa",
   "metadata": {},
   "outputs": [],
   "source": [
    "class node():\n",
    "    def __init__(self, data, link=None):\n",
    "        self.data = data\n",
    "        self.link = link"
   ]
  },
  {
   "cell_type": "code",
   "execution_count": null,
   "id": "25b6f822",
   "metadata": {},
   "outputs": [],
   "source": [
    "class LinkedList():\n",
    "    def __init__(self):\n",
    "        self.head = None\n",
    "        \n",
    "    def is_empty(self):\n",
    "        if self.head == None:\n",
    "            return True\n",
    "        \n",
    "    def append(self, value):\n",
    "        new_node = node(value)\n",
    "        if self.is_empty():\n",
    "            self.head = new_node\n",
    "        else:\n",
    "            temp = self.head\n",
    "            while temp.link != None:\n",
    "                temp = temp.link\n",
    "            temp.link = new_node\n",
    "        print('Node have been inserted')\n",
    "        \n",
    "    def printList(self):\n",
    "        temp = self.head\n",
    "        while temp.link != None:\n",
    "            print(temp.data)\n",
    "            temp = temp.link\n",
    "        print(temp.data)\n",
    "        \n"
   ]
  },
  {
   "cell_type": "code",
   "execution_count": null,
   "id": "db13938c",
   "metadata": {},
   "outputs": [],
   "source": [
    "Is my screen properly visible??\n",
    "Type yes in the chat guys.\n",
    "lets continue with the screen.\n",
    "see what we are doing is adding an element at the end of the linked list.\n",
    "right, so this can easily be done by going to the end of the linked list, \n",
    "which we can go by starting from the first node which is stored at head.\n",
    "Makes sense right??\n",
    "Type yes or no in chat??\n",
    "okkay.\n",
    "So we are starting from the first node and we will continue till we reach\n",
    "the node where link value is None, Can anybody tell me why?\n",
    "let me tell you, see the last node have the link as None, so to reach at \n",
    "the end we will have to continue till we reach a node whose link\n",
    "contains None.\n",
    "Clear??\n",
    "Yes or no?\n",
    "Let me show you this on blackboard\n",
    "now read the code. You will get it.\n",
    "My screen visible?\n",
    "Okay lets see the blackboard once more with code there itself?\n",
    "Or do you want to have a session tomorrow morning?\n",
    "TOMORROW??\n",
    "TOMORROW NOON?? (SEE WE CAN STILL HAVE A CLASS TOMORROW IF WE HAVE A \n",
    "                 HOLIDAY)\n",
    "ANY PROBLEM WITH TOMORROW NOON?\n",
    "ANYBODY? OKAY LETS HAVE THE SESSION AT 6:30PM THAN? EVENING?\n",
    "ALRIGHT LETS SEE YOU GUYS AT 6:30PM TOMORROW. "
   ]
  }
 ],
 "metadata": {
  "kernelspec": {
   "display_name": "Python 3 (ipykernel)",
   "language": "python",
   "name": "python3"
  },
  "language_info": {
   "codemirror_mode": {
    "name": "ipython",
    "version": 3
   },
   "file_extension": ".py",
   "mimetype": "text/x-python",
   "name": "python",
   "nbconvert_exporter": "python",
   "pygments_lexer": "ipython3",
   "version": "3.8.9"
  }
 },
 "nbformat": 4,
 "nbformat_minor": 5
}
