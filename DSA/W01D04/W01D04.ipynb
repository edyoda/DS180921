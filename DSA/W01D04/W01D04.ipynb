{
 "cells": [
  {
   "cell_type": "code",
   "execution_count": null,
   "id": "3d5feee3",
   "metadata": {},
   "outputs": [],
   "source": [
    "Linked List"
   ]
  },
  {
   "cell_type": "code",
   "execution_count": 1,
   "id": "0a9a0728",
   "metadata": {},
   "outputs": [],
   "source": [
    "# Node"
   ]
  },
  {
   "cell_type": "code",
   "execution_count": 2,
   "id": "f56247aa",
   "metadata": {},
   "outputs": [],
   "source": [
    "class node():\n",
    "    def __init__(self, data, link=None):\n",
    "        self.data = data\n",
    "        self.link = link"
   ]
  },
  {
   "cell_type": "code",
   "execution_count": null,
   "id": "25b6f822",
   "metadata": {},
   "outputs": [],
   "source": [
    "class LinkedList():\n",
    "    def __init__(self):\n",
    "        self.head = None\n",
    "        \n",
    "    def is_empty(self):\n",
    "        if self.head == None:\n",
    "            return True\n",
    "        \n",
    "    def append(self, value):\n",
    "        new_node = node(value)\n",
    "        if self.is_empty():\n",
    "            self.head = new_node\n",
    "        else:\n",
    "            temp = self.head\n",
    "            while temp.link != None:\n",
    "                temp = temp.link\n",
    "            temp.link = new_node\n",
    "        print('Node have been inserted')\n",
    "        \n",
    "    def printList(self):\n",
    "        temp = self.head\n",
    "        while temp.link != None:\n",
    "            print(temp.data)\n",
    "            temp = temp.link\n",
    "        print(temp.data)"
   ]
  }
 ],
 "metadata": {
  "kernelspec": {
   "display_name": "Python 3 (ipykernel)",
   "language": "python",
   "name": "python3"
  },
  "language_info": {
   "codemirror_mode": {
    "name": "ipython",
    "version": 3
   },
   "file_extension": ".py",
   "mimetype": "text/x-python",
   "name": "python",
   "nbconvert_exporter": "python",
   "pygments_lexer": "ipython3",
   "version": "3.8.9"
  }
 },
 "nbformat": 4,
 "nbformat_minor": 5
}
