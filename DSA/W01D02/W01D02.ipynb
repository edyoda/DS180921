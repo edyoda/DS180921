{
 "cells": [
  {
   "cell_type": "code",
   "execution_count": 1,
   "id": "52467493",
   "metadata": {},
   "outputs": [],
   "source": [
    "## STACK IMPLEMENTATION"
   ]
  },
  {
   "cell_type": "code",
   "execution_count": 15,
   "id": "00865dd0",
   "metadata": {},
   "outputs": [],
   "source": [
    "class Stack():\n",
    "    def __init__(self, size):\n",
    "        self.data = []\n",
    "        self.size = size\n",
    "        self.length = 0\n",
    "        self.top = None\n",
    "        \n",
    "    def push(self, item):\n",
    "        if self.length < self.size:\n",
    "            self.data.append(item)\n",
    "            self.length += 1\n",
    "            self.top = item\n",
    "        else:\n",
    "            print('STACK OVERFLOW!!')\n",
    "    \n",
    "    def pop(self):\n",
    "        if self.length == 0:\n",
    "            print('STACK UNDERFLOW!!')\n",
    "        else:\n",
    "            self.data.pop()\n",
    "            self.length -= 1\n",
    "            if self.length == 0:\n",
    "                self.top = None\n",
    "            else:\n",
    "                self.top = self.data[-1]\n",
    "    \n",
    "    def peek(self):\n",
    "        return self.top\n",
    "    \n",
    "    def isEmpty(self):\n",
    "        return not bool(self.length)\n",
    "    \n",
    "    def length(self):\n",
    "        return self.length\n",
    "    \n",
    "    def display(self):\n",
    "        print('Printing items from top to bottom...')\n",
    "        for i in self.data[::-1]:\n",
    "            print(i)"
   ]
  },
  {
   "cell_type": "code",
   "execution_count": 16,
   "id": "befedc20",
   "metadata": {},
   "outputs": [],
   "source": [
    "stack_obj = Stack(5)"
   ]
  },
  {
   "cell_type": "code",
   "execution_count": 17,
   "id": "fde44220",
   "metadata": {},
   "outputs": [],
   "source": [
    "for i in ['apple','mango','banana','kiwi']:\n",
    "    stack_obj.push(i)"
   ]
  },
  {
   "cell_type": "code",
   "execution_count": 18,
   "id": "09cd7de7",
   "metadata": {},
   "outputs": [
    {
     "name": "stdout",
     "output_type": "stream",
     "text": [
      "Printing items from top to bottom...\n",
      "kiwi\n",
      "banana\n",
      "mango\n",
      "apple\n"
     ]
    }
   ],
   "source": [
    "stack_obj.display()"
   ]
  },
  {
   "cell_type": "code",
   "execution_count": 19,
   "id": "11cd7259",
   "metadata": {},
   "outputs": [],
   "source": [
    "stack_obj.pop()"
   ]
  },
  {
   "cell_type": "code",
   "execution_count": 20,
   "id": "9c2933d8",
   "metadata": {},
   "outputs": [
    {
     "name": "stdout",
     "output_type": "stream",
     "text": [
      "Printing items from top to bottom...\n",
      "banana\n",
      "mango\n",
      "apple\n"
     ]
    }
   ],
   "source": [
    "stack_obj.display()"
   ]
  },
  {
   "cell_type": "code",
   "execution_count": 21,
   "id": "58a2f77b",
   "metadata": {},
   "outputs": [
    {
     "data": {
      "text/plain": [
       "'banana'"
      ]
     },
     "execution_count": 21,
     "metadata": {},
     "output_type": "execute_result"
    }
   ],
   "source": [
    "stack_obj.peek()"
   ]
  },
  {
   "cell_type": "code",
   "execution_count": 22,
   "id": "0ab93ce9",
   "metadata": {},
   "outputs": [
    {
     "data": {
      "text/plain": [
       "False"
      ]
     },
     "execution_count": 22,
     "metadata": {},
     "output_type": "execute_result"
    }
   ],
   "source": [
    "stack_obj.isEmpty()"
   ]
  },
  {
   "cell_type": "code",
   "execution_count": 23,
   "id": "86391691",
   "metadata": {},
   "outputs": [],
   "source": [
    "stack_obj.pop()\n",
    "stack_obj.pop()\n",
    "stack_obj.pop()"
   ]
  },
  {
   "cell_type": "code",
   "execution_count": 24,
   "id": "d1bc584b",
   "metadata": {},
   "outputs": [
    {
     "data": {
      "text/plain": [
       "True"
      ]
     },
     "execution_count": 24,
     "metadata": {},
     "output_type": "execute_result"
    }
   ],
   "source": [
    "stack_obj.isEmpty()"
   ]
  },
  {
   "cell_type": "code",
   "execution_count": 25,
   "id": "a3ffa7ed",
   "metadata": {},
   "outputs": [],
   "source": [
    "class max_stack():\n",
    "    def __init__(self):\n",
    "        self.main_stack = []\n",
    "        self.help_stack = []\n",
    "        \n",
    "    def push(self, item):\n",
    "        self.main_stack.append(item)\n",
    "        if len(self.help_stack) >= 1:\n",
    "            if self.help_stack[-1] <= item:\n",
    "                self.help_stack.append(item)\n",
    "        else:\n",
    "            self.help_stack.append(item)\n",
    "    \n",
    "    def pop(self):\n",
    "        if len(self.main_stack) >= 1:\n",
    "            popped_value = self.main_stack.pop()\n",
    "            if popped_value == self.help_stack[-1]:\n",
    "                self.help_stack.pop()\n",
    "    \n",
    "    def max(self):\n",
    "        if len(self.help_stack) >= 1:\n",
    "            return self.help_stack[-1]\n",
    "        else:\n",
    "            return None"
   ]
  },
  {
   "cell_type": "code",
   "execution_count": 26,
   "id": "82b12796",
   "metadata": {},
   "outputs": [],
   "source": [
    "obj = max_stack()"
   ]
  },
  {
   "cell_type": "code",
   "execution_count": 28,
   "id": "2839246d",
   "metadata": {},
   "outputs": [
    {
     "name": "stdout",
     "output_type": "stream",
     "text": [
      "None\n"
     ]
    }
   ],
   "source": [
    "print(obj.max())"
   ]
  },
  {
   "cell_type": "code",
   "execution_count": 29,
   "id": "e70b54e3",
   "metadata": {},
   "outputs": [
    {
     "data": {
      "text/plain": [
       "3"
      ]
     },
     "execution_count": 29,
     "metadata": {},
     "output_type": "execute_result"
    }
   ],
   "source": [
    "obj.push(3)\n",
    "obj.max()"
   ]
  },
  {
   "cell_type": "code",
   "execution_count": 30,
   "id": "0348b533",
   "metadata": {},
   "outputs": [
    {
     "data": {
      "text/plain": [
       "3"
      ]
     },
     "execution_count": 30,
     "metadata": {},
     "output_type": "execute_result"
    }
   ],
   "source": [
    "obj.push(1)\n",
    "obj.max()"
   ]
  },
  {
   "cell_type": "code",
   "execution_count": 31,
   "id": "65b7dcd9",
   "metadata": {},
   "outputs": [],
   "source": [
    "obj.pop()"
   ]
  },
  {
   "cell_type": "code",
   "execution_count": 32,
   "id": "32ae78bb",
   "metadata": {},
   "outputs": [
    {
     "data": {
      "text/plain": [
       "3"
      ]
     },
     "execution_count": 32,
     "metadata": {},
     "output_type": "execute_result"
    }
   ],
   "source": [
    "obj.max()"
   ]
  },
  {
   "cell_type": "code",
   "execution_count": 33,
   "id": "dd991e26",
   "metadata": {},
   "outputs": [],
   "source": [
    "obj.push(13)"
   ]
  },
  {
   "cell_type": "code",
   "execution_count": 34,
   "id": "f4840ccf",
   "metadata": {},
   "outputs": [
    {
     "data": {
      "text/plain": [
       "13"
      ]
     },
     "execution_count": 34,
     "metadata": {},
     "output_type": "execute_result"
    }
   ],
   "source": [
    "obj.max()"
   ]
  },
  {
   "cell_type": "code",
   "execution_count": 35,
   "id": "8c5102f9",
   "metadata": {},
   "outputs": [],
   "source": [
    "obj.pop()"
   ]
  },
  {
   "cell_type": "code",
   "execution_count": 36,
   "id": "96af6742",
   "metadata": {},
   "outputs": [
    {
     "data": {
      "text/plain": [
       "3"
      ]
     },
     "execution_count": 36,
     "metadata": {},
     "output_type": "execute_result"
    }
   ],
   "source": [
    "obj.max()"
   ]
  },
  {
   "cell_type": "code",
   "execution_count": null,
   "id": "f75ee5cb",
   "metadata": {},
   "outputs": [],
   "source": []
  }
 ],
 "metadata": {
  "kernelspec": {
   "display_name": "Python 3 (ipykernel)",
   "language": "python",
   "name": "python3"
  },
  "language_info": {
   "codemirror_mode": {
    "name": "ipython",
    "version": 3
   },
   "file_extension": ".py",
   "mimetype": "text/x-python",
   "name": "python",
   "nbconvert_exporter": "python",
   "pygments_lexer": "ipython3",
   "version": "3.8.9"
  }
 },
 "nbformat": 4,
 "nbformat_minor": 5
}
