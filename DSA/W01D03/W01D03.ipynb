{
 "cells": [
  {
   "cell_type": "code",
   "execution_count": 75,
   "id": "8bac3ab8",
   "metadata": {},
   "outputs": [
    {
     "name": "stdout",
     "output_type": "stream",
     "text": [
      "{{\n",
      "Parenthesis are Balanced!\n"
     ]
    }
   ],
   "source": [
    "class Stack():\n",
    "    def __init__(self, size):\n",
    "        self.data = []\n",
    "        self.size = size\n",
    "        self.length = 0\n",
    "        self.top = None\n",
    "        \n",
    "    def push(self, item):\n",
    "        if self.length < self.size:\n",
    "            self.data.append(item)\n",
    "            self.length += 1\n",
    "            self.top = item\n",
    "        else:\n",
    "            print('STACK OVERFLOW!!')\n",
    "    \n",
    "    def pop(self):\n",
    "        if self.length == 0:\n",
    "            print('STACK UNDERFLOW!!')\n",
    "            return None\n",
    "        else:\n",
    "            popped_item = self.data.pop()\n",
    "            self.length -= 1\n",
    "            if self.length == 0:\n",
    "                self.top = None\n",
    "            else:\n",
    "                self.top = self.data[-1]\n",
    "            return popped_item\n",
    "    \n",
    "    def peek(self):\n",
    "        return self.top\n",
    "    \n",
    "    def isEmpty(self):\n",
    "        return not bool(self.length)\n",
    "    \n",
    "    def length(self):\n",
    "        return self.length\n",
    "    \n",
    "    def display(self):\n",
    "        print('Printing items from top to bottom...')\n",
    "        for i in self.data[::-1]:\n",
    "            print(i)\n",
    "            \n",
    "stack_obj = Stack(20)\n",
    "expression = input()\n",
    "partner = {']':'[',')':'(','}':'{'}\n",
    "for char in expression:\n",
    "    if char in partner.values():\n",
    "        stack_obj.push(char)\n",
    "    else:\n",
    "        if stack_obj.length == 0:\n",
    "            print('Parenthesis are not Balanced!')\n",
    "            break\n",
    "        else:\n",
    "            if partner[char] == stack_obj.peek():\n",
    "                stack_obj.pop()\n",
    "            else:\n",
    "                print('Parenthesis are not Balanced!')\n",
    "                break\n",
    "else:\n",
    "    if stack_obj.length != 0:\n",
    "        print('Parenthesis are Balanced!')\n",
    "    else:\n",
    "        print('Parenthesis are not Balanced!')"
   ]
  },
  {
   "cell_type": "code",
   "execution_count": 30,
   "id": "d969f153",
   "metadata": {},
   "outputs": [],
   "source": [
    "class Queue:\n",
    "    def __init__(self, size):\n",
    "        self.data = []\n",
    "        self.size = size\n",
    "    \n",
    "    def enqueue(self, item):\n",
    "        if self.size > self.current_size():\n",
    "            self.data.insert(0,item)\n",
    "        else:\n",
    "            print('Queue is Full')\n",
    "        \n",
    "    def dequeue(self):\n",
    "        if self.current_size() > 0:\n",
    "            self.data.pop()\n",
    "        else:\n",
    "            print('Queue is Empty')\n",
    "        \n",
    "    def peek(self):\n",
    "        if len(self.data) != 0:\n",
    "            return self.data[-1]\n",
    "    \n",
    "    def current_size(self):\n",
    "        return len(self.data)\n",
    "    \n",
    "    def isEmpty(self):\n",
    "        return not bool(self.data)\n",
    "    \n",
    "    def isFull(self):\n",
    "        return self.current_size() == self.size"
   ]
  },
  {
   "cell_type": "code",
   "execution_count": 31,
   "id": "1d4546b6",
   "metadata": {},
   "outputs": [],
   "source": [
    "obj = Queue(10)\n",
    "obj.enqueue('Md')\n",
    "obj.enqueue('MdsGF')\n",
    "obj.enqueue('Mohit')\n",
    "obj.enqueue('MohitsGF')"
   ]
  },
  {
   "cell_type": "code",
   "execution_count": 32,
   "id": "885a6754",
   "metadata": {},
   "outputs": [
    {
     "data": {
      "text/plain": [
       "['MohitsGF', 'Mohit', 'MdsGF', 'Md']"
      ]
     },
     "execution_count": 32,
     "metadata": {},
     "output_type": "execute_result"
    }
   ],
   "source": [
    "obj.data"
   ]
  },
  {
   "cell_type": "code",
   "execution_count": 33,
   "id": "2faedbc1",
   "metadata": {},
   "outputs": [],
   "source": [
    "obj.dequeue()"
   ]
  },
  {
   "cell_type": "code",
   "execution_count": 34,
   "id": "7d0e4c29",
   "metadata": {},
   "outputs": [
    {
     "data": {
      "text/plain": [
       "['MohitsGF', 'Mohit', 'MdsGF']"
      ]
     },
     "execution_count": 34,
     "metadata": {},
     "output_type": "execute_result"
    }
   ],
   "source": [
    "obj.data"
   ]
  },
  {
   "cell_type": "code",
   "execution_count": 35,
   "id": "768642b7",
   "metadata": {},
   "outputs": [],
   "source": [
    "obj.dequeue()"
   ]
  },
  {
   "cell_type": "code",
   "execution_count": 36,
   "id": "a793e433",
   "metadata": {},
   "outputs": [
    {
     "data": {
      "text/plain": [
       "['MohitsGF', 'Mohit']"
      ]
     },
     "execution_count": 36,
     "metadata": {},
     "output_type": "execute_result"
    }
   ],
   "source": [
    "obj.data"
   ]
  },
  {
   "cell_type": "code",
   "execution_count": 37,
   "id": "bc798fb6",
   "metadata": {},
   "outputs": [],
   "source": [
    "obj.enqueue('RahulsGF')"
   ]
  },
  {
   "cell_type": "code",
   "execution_count": 38,
   "id": "52e28a97",
   "metadata": {},
   "outputs": [],
   "source": [
    "obj.enqueue('Rahul')"
   ]
  },
  {
   "cell_type": "code",
   "execution_count": 39,
   "id": "93d3a067",
   "metadata": {},
   "outputs": [],
   "source": [
    "obj.dequeue()"
   ]
  },
  {
   "cell_type": "code",
   "execution_count": 40,
   "id": "ba901de4",
   "metadata": {},
   "outputs": [
    {
     "data": {
      "text/plain": [
       "['Rahul', 'RahulsGF', 'MohitsGF']"
      ]
     },
     "execution_count": 40,
     "metadata": {},
     "output_type": "execute_result"
    }
   ],
   "source": [
    "obj.data"
   ]
  },
  {
   "cell_type": "code",
   "execution_count": 41,
   "id": "49e9ffbe",
   "metadata": {},
   "outputs": [
    {
     "data": {
      "text/plain": [
       "False"
      ]
     },
     "execution_count": 41,
     "metadata": {},
     "output_type": "execute_result"
    }
   ],
   "source": [
    "obj.isEmpty()"
   ]
  },
  {
   "cell_type": "code",
   "execution_count": 42,
   "id": "181f87ed",
   "metadata": {},
   "outputs": [
    {
     "data": {
      "text/plain": [
       "False"
      ]
     },
     "execution_count": 42,
     "metadata": {},
     "output_type": "execute_result"
    }
   ],
   "source": [
    "obj.isFull()"
   ]
  },
  {
   "cell_type": "code",
   "execution_count": 76,
   "id": "152125de",
   "metadata": {},
   "outputs": [],
   "source": [
    "class Queue_from_Stacks():\n",
    "    def __init__(self):\n",
    "        self.prime = Stack(20)\n",
    "        self.second = Stack(20)\n",
    "    \n",
    "    def enqueue(self, item):\n",
    "        if self.prime.isEmpty():\n",
    "            self.prime.push(item)\n",
    "        else:\n",
    "            while not self.prime.isEmpty():\n",
    "                popped_item = self.prime.pop()\n",
    "                self.second.push(popped_item)\n",
    "            self.prime.push(item)\n",
    "            while not self.second.isEmpty():\n",
    "                popped_item = self.second.pop()\n",
    "                self.prime.push(popped_item)\n",
    "    def dequeue(self):\n",
    "        if self.prime.isEmpty():\n",
    "            print('Queue is Empty')\n",
    "        else:\n",
    "            self.prime.pop()"
   ]
  },
  {
   "cell_type": "code",
   "execution_count": 77,
   "id": "c19e47f9",
   "metadata": {},
   "outputs": [],
   "source": [
    "obj2 = Queue_from_Stacks()"
   ]
  },
  {
   "cell_type": "code",
   "execution_count": 78,
   "id": "85f10fee",
   "metadata": {},
   "outputs": [
    {
     "data": {
      "text/plain": [
       "[45]"
      ]
     },
     "execution_count": 78,
     "metadata": {},
     "output_type": "execute_result"
    }
   ],
   "source": [
    "obj2.enqueue(45)\n",
    "obj2.prime.data"
   ]
  },
  {
   "cell_type": "code",
   "execution_count": 79,
   "id": "ea3a0188",
   "metadata": {},
   "outputs": [
    {
     "data": {
      "text/plain": [
       "[50, 45]"
      ]
     },
     "execution_count": 79,
     "metadata": {},
     "output_type": "execute_result"
    }
   ],
   "source": [
    "obj2.enqueue(50)\n",
    "obj2.prime.data"
   ]
  },
  {
   "cell_type": "code",
   "execution_count": 80,
   "id": "4d091633",
   "metadata": {},
   "outputs": [
    {
     "data": {
      "text/plain": [
       "[14, 50, 45]"
      ]
     },
     "execution_count": 80,
     "metadata": {},
     "output_type": "execute_result"
    }
   ],
   "source": [
    "obj2.enqueue(14)\n",
    "obj2.prime.data"
   ]
  },
  {
   "cell_type": "code",
   "execution_count": 81,
   "id": "14ea81d7",
   "metadata": {},
   "outputs": [],
   "source": [
    "obj2.dequeue()"
   ]
  },
  {
   "cell_type": "code",
   "execution_count": 82,
   "id": "dc01a7cf",
   "metadata": {},
   "outputs": [
    {
     "data": {
      "text/plain": [
       "[14, 50]"
      ]
     },
     "execution_count": 82,
     "metadata": {},
     "output_type": "execute_result"
    }
   ],
   "source": [
    "obj2.prime.data"
   ]
  },
  {
   "cell_type": "code",
   "execution_count": null,
   "id": "7b7d5dad",
   "metadata": {},
   "outputs": [],
   "source": []
  }
 ],
 "metadata": {
  "kernelspec": {
   "display_name": "Python 3 (ipykernel)",
   "language": "python",
   "name": "python3"
  },
  "language_info": {
   "codemirror_mode": {
    "name": "ipython",
    "version": 3
   },
   "file_extension": ".py",
   "mimetype": "text/x-python",
   "name": "python",
   "nbconvert_exporter": "python",
   "pygments_lexer": "ipython3",
   "version": "3.8.9"
  }
 },
 "nbformat": 4,
 "nbformat_minor": 5
}
