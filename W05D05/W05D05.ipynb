{
 "cells": [
  {
   "cell_type": "markdown",
   "id": "bc2839a3",
   "metadata": {},
   "source": [
    "# File Handling"
   ]
  },
  {
   "cell_type": "code",
   "execution_count": null,
   "id": "54f0cbf5",
   "metadata": {},
   "outputs": [],
   "source": [
    "File is a named location on the system stoarge which records data for \n",
    "later access"
   ]
  },
  {
   "cell_type": "code",
   "execution_count": null,
   "id": "3e244992",
   "metadata": {},
   "outputs": [],
   "source": [
    "open\n",
    "read/write\n",
    "close"
   ]
  },
  {
   "cell_type": "markdown",
   "id": "a54f1d99",
   "metadata": {},
   "source": [
    "## opening the file"
   ]
  },
  {
   "cell_type": "code",
   "execution_count": 113,
   "id": "596de008",
   "metadata": {},
   "outputs": [
    {
     "ename": "FileNotFoundError",
     "evalue": "[Errno 2] No such file or directory: 'Sample.txt'",
     "output_type": "error",
     "traceback": [
      "\u001b[1;31m---------------------------------------------------------------------------\u001b[0m",
      "\u001b[1;31mFileNotFoundError\u001b[0m                         Traceback (most recent call last)",
      "\u001b[1;32mC:\\Users\\KUNALC~1\\AppData\\Local\\Temp/ipykernel_19936/3857535477.py\u001b[0m in \u001b[0;36m<module>\u001b[1;34m\u001b[0m\n\u001b[1;32m----> 1\u001b[1;33m \u001b[0mfp\u001b[0m \u001b[1;33m=\u001b[0m \u001b[0mopen\u001b[0m\u001b[1;33m(\u001b[0m\u001b[1;34m\"Sample.txt\"\u001b[0m\u001b[1;33m)\u001b[0m\u001b[1;33m\u001b[0m\u001b[1;33m\u001b[0m\u001b[0m\n\u001b[0m",
      "\u001b[1;31mFileNotFoundError\u001b[0m: [Errno 2] No such file or directory: 'Sample.txt'"
     ]
    }
   ],
   "source": [
    "fp = open(\"Sample.txt\")"
   ]
  },
  {
   "cell_type": "code",
   "execution_count": 1,
   "id": "d732c8eb",
   "metadata": {},
   "outputs": [],
   "source": [
    "fp = open(\"Sample.txt\")"
   ]
  },
  {
   "cell_type": "code",
   "execution_count": 2,
   "id": "3998fa9a",
   "metadata": {},
   "outputs": [
    {
     "data": {
      "text/plain": [
       "'Dharmendra is taking Python class'"
      ]
     },
     "execution_count": 2,
     "metadata": {},
     "output_type": "execute_result"
    }
   ],
   "source": [
    "fp.read()"
   ]
  },
  {
   "cell_type": "code",
   "execution_count": 3,
   "id": "17d0f1c7",
   "metadata": {},
   "outputs": [],
   "source": [
    "fp.close()"
   ]
  },
  {
   "cell_type": "code",
   "execution_count": 4,
   "id": "9ed98f7f",
   "metadata": {},
   "outputs": [
    {
     "ename": "ValueError",
     "evalue": "I/O operation on closed file.",
     "output_type": "error",
     "traceback": [
      "\u001b[1;31m---------------------------------------------------------------------------\u001b[0m",
      "\u001b[1;31mValueError\u001b[0m                                Traceback (most recent call last)",
      "\u001b[1;32mC:\\Users\\KUNALC~1\\AppData\\Local\\Temp/ipykernel_19936/3668392485.py\u001b[0m in \u001b[0;36m<module>\u001b[1;34m\u001b[0m\n\u001b[1;32m----> 1\u001b[1;33m \u001b[0mfp\u001b[0m\u001b[1;33m.\u001b[0m\u001b[0mread\u001b[0m\u001b[1;33m(\u001b[0m\u001b[1;33m)\u001b[0m\u001b[1;33m\u001b[0m\u001b[1;33m\u001b[0m\u001b[0m\n\u001b[0m",
      "\u001b[1;31mValueError\u001b[0m: I/O operation on closed file."
     ]
    }
   ],
   "source": [
    "fp.read()"
   ]
  },
  {
   "cell_type": "code",
   "execution_count": null,
   "id": "91989a0e",
   "metadata": {},
   "outputs": [],
   "source": [
    "read(number) -->Reads the specified number of characters from the files and \n",
    "                returns them as string.\n",
    "                If num is ommitted then it reads the entire file"
   ]
  },
  {
   "cell_type": "code",
   "execution_count": 26,
   "id": "c7dff6c8",
   "metadata": {},
   "outputs": [],
   "source": [
    "fp = open(\"Sample.txt\")"
   ]
  },
  {
   "cell_type": "code",
   "execution_count": 27,
   "id": "f080b7a9",
   "metadata": {},
   "outputs": [
    {
     "data": {
      "text/plain": [
       "'Dharm'"
      ]
     },
     "execution_count": 27,
     "metadata": {},
     "output_type": "execute_result"
    }
   ],
   "source": [
    "fp.read(5)"
   ]
  },
  {
   "cell_type": "code",
   "execution_count": 28,
   "id": "cb87ad29",
   "metadata": {},
   "outputs": [
    {
     "data": {
      "text/plain": [
       "'endra'"
      ]
     },
     "execution_count": 28,
     "metadata": {},
     "output_type": "execute_result"
    }
   ],
   "source": [
    "fp.read(5)"
   ]
  },
  {
   "cell_type": "code",
   "execution_count": null,
   "id": "16329262",
   "metadata": {},
   "outputs": [],
   "source": []
  },
  {
   "cell_type": "code",
   "execution_count": null,
   "id": "96b5823d",
   "metadata": {},
   "outputs": [],
   "source": []
  },
  {
   "cell_type": "code",
   "execution_count": 5,
   "id": "0d808e18",
   "metadata": {},
   "outputs": [],
   "source": [
    "fp = open(\"Sample.txt\")"
   ]
  },
  {
   "cell_type": "code",
   "execution_count": 6,
   "id": "aa5fe018",
   "metadata": {},
   "outputs": [
    {
     "data": {
      "text/plain": [
       "'Dharmendra is taking Python class\\nPavan Kumar is a Data Scientist\\n'"
      ]
     },
     "execution_count": 6,
     "metadata": {},
     "output_type": "execute_result"
    }
   ],
   "source": [
    "fp.read()"
   ]
  },
  {
   "cell_type": "code",
   "execution_count": 7,
   "id": "ca87a57b",
   "metadata": {},
   "outputs": [],
   "source": [
    "fp.close()"
   ]
  },
  {
   "cell_type": "code",
   "execution_count": null,
   "id": "1e6a2805",
   "metadata": {},
   "outputs": [],
   "source": [
    "readline()\n",
    "readlines()"
   ]
  },
  {
   "cell_type": "markdown",
   "id": "956685a0",
   "metadata": {},
   "source": [
    "### readline() --> Reads a single line and returns it as a string"
   ]
  },
  {
   "cell_type": "code",
   "execution_count": 8,
   "id": "4c94bac1",
   "metadata": {},
   "outputs": [],
   "source": [
    "fp = open(\"Sample.txt\")"
   ]
  },
  {
   "cell_type": "code",
   "execution_count": 9,
   "id": "1ffb5d29",
   "metadata": {},
   "outputs": [
    {
     "data": {
      "text/plain": [
       "'Dharmendra is taking Python class\\n'"
      ]
     },
     "execution_count": 9,
     "metadata": {},
     "output_type": "execute_result"
    }
   ],
   "source": [
    "fp.readline()"
   ]
  },
  {
   "cell_type": "code",
   "execution_count": 10,
   "id": "79b54ec1",
   "metadata": {},
   "outputs": [
    {
     "data": {
      "text/plain": [
       "'Pavan Kumar is a Data Scientist\\n'"
      ]
     },
     "execution_count": 10,
     "metadata": {},
     "output_type": "execute_result"
    }
   ],
   "source": [
    "fp.readline()"
   ]
  },
  {
   "cell_type": "code",
   "execution_count": 12,
   "id": "adf929a6",
   "metadata": {},
   "outputs": [
    {
     "data": {
      "text/plain": [
       "''"
      ]
     },
     "execution_count": 12,
     "metadata": {},
     "output_type": "execute_result"
    }
   ],
   "source": [
    "fp.readline()"
   ]
  },
  {
   "cell_type": "code",
   "execution_count": 13,
   "id": "56f0e74f",
   "metadata": {},
   "outputs": [],
   "source": [
    "fp.close()"
   ]
  },
  {
   "cell_type": "markdown",
   "id": "472549ce",
   "metadata": {},
   "source": [
    "### readlines() --> Reads the content of the file and returns them as a list of strings"
   ]
  },
  {
   "cell_type": "code",
   "execution_count": 24,
   "id": "82c3bfde",
   "metadata": {},
   "outputs": [],
   "source": [
    "fp = open(\"Sample.txt\")"
   ]
  },
  {
   "cell_type": "code",
   "execution_count": 21,
   "id": "5fa61912",
   "metadata": {},
   "outputs": [],
   "source": [
    "l = fp.readlines()"
   ]
  },
  {
   "cell_type": "code",
   "execution_count": 17,
   "id": "8d278144",
   "metadata": {},
   "outputs": [
    {
     "data": {
      "text/plain": [
       "list"
      ]
     },
     "execution_count": 17,
     "metadata": {},
     "output_type": "execute_result"
    }
   ],
   "source": [
    "type(l)"
   ]
  },
  {
   "cell_type": "code",
   "execution_count": 18,
   "id": "4e25cc0c",
   "metadata": {},
   "outputs": [
    {
     "data": {
      "text/plain": [
       "[]"
      ]
     },
     "execution_count": 18,
     "metadata": {},
     "output_type": "execute_result"
    }
   ],
   "source": [
    "l"
   ]
  },
  {
   "cell_type": "code",
   "execution_count": 29,
   "id": "1ba766cd",
   "metadata": {},
   "outputs": [],
   "source": [
    "fp.close()"
   ]
  },
  {
   "cell_type": "code",
   "execution_count": 22,
   "id": "da3b8a7e",
   "metadata": {},
   "outputs": [
    {
     "data": {
      "text/plain": [
       "['Dharmendra is taking Python class\\n', 'Pavan Kumar is a Data Scientist\\n']"
      ]
     },
     "execution_count": 22,
     "metadata": {},
     "output_type": "execute_result"
    }
   ],
   "source": [
    "l"
   ]
  },
  {
   "cell_type": "code",
   "execution_count": null,
   "id": "043b6a23",
   "metadata": {},
   "outputs": [],
   "source": [
    "r -> open read only youa can read the file but cannot edit it\n",
    "this is the default mode for the open function"
   ]
  },
  {
   "cell_type": "markdown",
   "id": "d86d914a",
   "metadata": {},
   "source": [
    "# r mode"
   ]
  },
  {
   "cell_type": "code",
   "execution_count": 30,
   "id": "0b69b048",
   "metadata": {},
   "outputs": [],
   "source": [
    "fp = open(\"Sample.txt\",\"r\")"
   ]
  },
  {
   "cell_type": "code",
   "execution_count": 31,
   "id": "2dec2fed",
   "metadata": {},
   "outputs": [
    {
     "data": {
      "text/plain": [
       "'Dharmendra is taking Python class\\nPavan Kumar is a Data Scientist\\n'"
      ]
     },
     "execution_count": 31,
     "metadata": {},
     "output_type": "execute_result"
    }
   ],
   "source": [
    "fp.read()"
   ]
  },
  {
   "cell_type": "code",
   "execution_count": 32,
   "id": "0dd5c2ce",
   "metadata": {},
   "outputs": [],
   "source": [
    "fp.close()"
   ]
  },
  {
   "cell_type": "code",
   "execution_count": null,
   "id": "874c2836",
   "metadata": {},
   "outputs": [],
   "source": []
  },
  {
   "cell_type": "code",
   "execution_count": null,
   "id": "183af3c1",
   "metadata": {},
   "outputs": [],
   "source": [
    "write() function returns the total count of charachters in the file"
   ]
  },
  {
   "cell_type": "code",
   "execution_count": 35,
   "id": "1c46ec48",
   "metadata": {},
   "outputs": [
    {
     "ename": "UnsupportedOperation",
     "evalue": "not readable",
     "output_type": "error",
     "traceback": [
      "\u001b[1;31m---------------------------------------------------------------------------\u001b[0m",
      "\u001b[1;31mUnsupportedOperation\u001b[0m                      Traceback (most recent call last)",
      "\u001b[1;32mC:\\Users\\KUNALC~1\\AppData\\Local\\Temp/ipykernel_19936/3668392485.py\u001b[0m in \u001b[0;36m<module>\u001b[1;34m\u001b[0m\n\u001b[1;32m----> 1\u001b[1;33m \u001b[0mfp\u001b[0m\u001b[1;33m.\u001b[0m\u001b[0mread\u001b[0m\u001b[1;33m(\u001b[0m\u001b[1;33m)\u001b[0m\u001b[1;33m\u001b[0m\u001b[1;33m\u001b[0m\u001b[0m\n\u001b[0m",
      "\u001b[1;31mUnsupportedOperation\u001b[0m: not readable"
     ]
    }
   ],
   "source": [
    "fp.read()"
   ]
  },
  {
   "cell_type": "code",
   "execution_count": 36,
   "id": "621e8557",
   "metadata": {},
   "outputs": [],
   "source": [
    "fp.close()"
   ]
  },
  {
   "cell_type": "code",
   "execution_count": 37,
   "id": "b1dfc414",
   "metadata": {},
   "outputs": [],
   "source": [
    "fp = open(\"Sample.txt\",\"r\")"
   ]
  },
  {
   "cell_type": "code",
   "execution_count": 38,
   "id": "785f0177",
   "metadata": {},
   "outputs": [
    {
     "data": {
      "text/plain": [
       "'Lets see what it does\\nDivya is a Data Scientist\\n'"
      ]
     },
     "execution_count": 38,
     "metadata": {},
     "output_type": "execute_result"
    }
   ],
   "source": [
    "fp.read()"
   ]
  },
  {
   "cell_type": "code",
   "execution_count": 39,
   "id": "46b93010",
   "metadata": {},
   "outputs": [
    {
     "data": {
      "text/plain": [
       "''"
      ]
     },
     "execution_count": 39,
     "metadata": {},
     "output_type": "execute_result"
    }
   ],
   "source": [
    "fp.read()"
   ]
  },
  {
   "cell_type": "code",
   "execution_count": 40,
   "id": "72f6b8ed",
   "metadata": {},
   "outputs": [],
   "source": [
    "fp.close()"
   ]
  },
  {
   "cell_type": "code",
   "execution_count": 41,
   "id": "402df141",
   "metadata": {},
   "outputs": [],
   "source": [
    "fp = open(\"Sample.txt\",'r')"
   ]
  },
  {
   "cell_type": "code",
   "execution_count": 46,
   "id": "0c874e15",
   "metadata": {},
   "outputs": [],
   "source": [
    "str_val = fp.read()"
   ]
  },
  {
   "cell_type": "code",
   "execution_count": 47,
   "id": "35fa0552",
   "metadata": {},
   "outputs": [
    {
     "data": {
      "text/plain": [
       "0"
      ]
     },
     "execution_count": 47,
     "metadata": {},
     "output_type": "execute_result"
    }
   ],
   "source": [
    "len(str_val)"
   ]
  },
  {
   "cell_type": "code",
   "execution_count": 45,
   "id": "a8336be0",
   "metadata": {},
   "outputs": [
    {
     "data": {
      "text/plain": [
       "str"
      ]
     },
     "execution_count": 45,
     "metadata": {},
     "output_type": "execute_result"
    }
   ],
   "source": [
    "type(str_val)"
   ]
  },
  {
   "cell_type": "code",
   "execution_count": 48,
   "id": "8e96f73f",
   "metadata": {},
   "outputs": [],
   "source": [
    "fp.close()"
   ]
  },
  {
   "cell_type": "markdown",
   "id": "72e201fc",
   "metadata": {},
   "source": [
    "# w mode"
   ]
  },
  {
   "cell_type": "code",
   "execution_count": null,
   "id": "521e110c",
   "metadata": {},
   "outputs": [],
   "source": [
    "w -> open with write power, if the file exists then it delets all\n",
    "     the contents and overwrite"
   ]
  },
  {
   "cell_type": "code",
   "execution_count": 49,
   "id": "de11ed0c",
   "metadata": {},
   "outputs": [],
   "source": [
    "fp = open(\"Sample.txt\",\"w\")"
   ]
  },
  {
   "cell_type": "code",
   "execution_count": 50,
   "id": "ee5a2033",
   "metadata": {},
   "outputs": [
    {
     "data": {
      "text/plain": [
       "48"
      ]
     },
     "execution_count": 50,
     "metadata": {},
     "output_type": "execute_result"
    }
   ],
   "source": [
    "fp.write(\"Lets see what it does\\nDivya is a Data Scientist\\n\")"
   ]
  },
  {
   "cell_type": "code",
   "execution_count": 51,
   "id": "51d950d6",
   "metadata": {},
   "outputs": [],
   "source": [
    "fp.close()"
   ]
  },
  {
   "cell_type": "markdown",
   "id": "89c90364",
   "metadata": {},
   "source": [
    "# a mode"
   ]
  },
  {
   "cell_type": "code",
   "execution_count": null,
   "id": "23a8d22d",
   "metadata": {},
   "outputs": [],
   "source": [
    "a --> opens the file in append mode\n",
    "      it creates a new file if file is not available\n",
    "      or opens an existing file for writing \n",
    "      but with file pointer at the end of the file"
   ]
  },
  {
   "cell_type": "code",
   "execution_count": 52,
   "id": "470ba26f",
   "metadata": {},
   "outputs": [],
   "source": [
    "fp = open(\"Sample.txt\",\"a\")"
   ]
  },
  {
   "cell_type": "code",
   "execution_count": 53,
   "id": "56a9c2ab",
   "metadata": {},
   "outputs": [
    {
     "data": {
      "text/plain": [
       "44"
      ]
     },
     "execution_count": 53,
     "metadata": {},
     "output_type": "execute_result"
    }
   ],
   "source": [
    "fp.write(\"Heyy I am starting from\\n the end of the file\")"
   ]
  },
  {
   "cell_type": "code",
   "execution_count": 54,
   "id": "3631a054",
   "metadata": {},
   "outputs": [
    {
     "ename": "UnsupportedOperation",
     "evalue": "not readable",
     "output_type": "error",
     "traceback": [
      "\u001b[1;31m---------------------------------------------------------------------------\u001b[0m",
      "\u001b[1;31mUnsupportedOperation\u001b[0m                      Traceback (most recent call last)",
      "\u001b[1;32mC:\\Users\\KUNALC~1\\AppData\\Local\\Temp/ipykernel_19936/3668392485.py\u001b[0m in \u001b[0;36m<module>\u001b[1;34m\u001b[0m\n\u001b[1;32m----> 1\u001b[1;33m \u001b[0mfp\u001b[0m\u001b[1;33m.\u001b[0m\u001b[0mread\u001b[0m\u001b[1;33m(\u001b[0m\u001b[1;33m)\u001b[0m\u001b[1;33m\u001b[0m\u001b[1;33m\u001b[0m\u001b[0m\n\u001b[0m",
      "\u001b[1;31mUnsupportedOperation\u001b[0m: not readable"
     ]
    }
   ],
   "source": [
    "fp.read()"
   ]
  },
  {
   "cell_type": "code",
   "execution_count": 55,
   "id": "144aba7a",
   "metadata": {},
   "outputs": [],
   "source": [
    "fp.close()"
   ]
  },
  {
   "cell_type": "code",
   "execution_count": 56,
   "id": "38a3853a",
   "metadata": {},
   "outputs": [],
   "source": [
    "fp = open(\"Sample.txt\",\"r\")"
   ]
  },
  {
   "cell_type": "code",
   "execution_count": 57,
   "id": "67d5f80e",
   "metadata": {},
   "outputs": [
    {
     "data": {
      "text/plain": [
       "'Lets see what it does\\nDivya is a Data Scientist\\nHeyy I am starting from\\n the end of the file'"
      ]
     },
     "execution_count": 57,
     "metadata": {},
     "output_type": "execute_result"
    }
   ],
   "source": [
    "fp.read()"
   ]
  },
  {
   "cell_type": "code",
   "execution_count": 58,
   "id": "7a33a92f",
   "metadata": {},
   "outputs": [],
   "source": [
    "fp.close()"
   ]
  },
  {
   "cell_type": "code",
   "execution_count": 59,
   "id": "df5cee20",
   "metadata": {},
   "outputs": [
    {
     "ename": "FileNotFoundError",
     "evalue": "[Errno 2] No such file or directory: 'Sample.txt'",
     "output_type": "error",
     "traceback": [
      "\u001b[1;31m---------------------------------------------------------------------------\u001b[0m",
      "\u001b[1;31mFileNotFoundError\u001b[0m                         Traceback (most recent call last)",
      "\u001b[1;32mC:\\Users\\KUNALC~1\\AppData\\Local\\Temp/ipykernel_19936/2896957385.py\u001b[0m in \u001b[0;36m<module>\u001b[1;34m\u001b[0m\n\u001b[1;32m----> 1\u001b[1;33m \u001b[0mfp\u001b[0m \u001b[1;33m=\u001b[0m \u001b[0mopen\u001b[0m\u001b[1;33m(\u001b[0m\u001b[1;34m\"Sample.txt\"\u001b[0m\u001b[1;33m,\u001b[0m\u001b[1;34m'r'\u001b[0m\u001b[1;33m)\u001b[0m\u001b[1;33m\u001b[0m\u001b[1;33m\u001b[0m\u001b[0m\n\u001b[0m",
      "\u001b[1;31mFileNotFoundError\u001b[0m: [Errno 2] No such file or directory: 'Sample.txt'"
     ]
    }
   ],
   "source": [
    "fp = open(\"Sample.txt\",'r')"
   ]
  },
  {
   "cell_type": "code",
   "execution_count": 60,
   "id": "2292b676",
   "metadata": {},
   "outputs": [],
   "source": [
    "fp = open(\"Sample.txt\",'w')"
   ]
  },
  {
   "cell_type": "code",
   "execution_count": 61,
   "id": "193b00ae",
   "metadata": {},
   "outputs": [],
   "source": [
    "fp.close()"
   ]
  },
  {
   "cell_type": "code",
   "execution_count": 62,
   "id": "654c1507",
   "metadata": {},
   "outputs": [],
   "source": [
    "fp = open(\"Sample.txt\",'a')"
   ]
  },
  {
   "cell_type": "code",
   "execution_count": 63,
   "id": "a7c5f484",
   "metadata": {},
   "outputs": [],
   "source": [
    "fp.close()"
   ]
  },
  {
   "cell_type": "code",
   "execution_count": 64,
   "id": "cb03b446",
   "metadata": {},
   "outputs": [],
   "source": [
    "new_fp = open(\"New_Sample.txt\",\"a\")"
   ]
  },
  {
   "cell_type": "code",
   "execution_count": 65,
   "id": "f11d7fc7",
   "metadata": {},
   "outputs": [],
   "source": [
    "new_fp.close()"
   ]
  },
  {
   "cell_type": "markdown",
   "id": "3ef0bb27",
   "metadata": {},
   "source": [
    "# difference between append and write"
   ]
  },
  {
   "cell_type": "code",
   "execution_count": null,
   "id": "bf749e00",
   "metadata": {},
   "outputs": [],
   "source": [
    "W mode                              |   A mode\n",
    "                                    |   file pointer starts at eof\n",
    "write overwrites                    |   append allow us to add\n",
    "file pointer start from beggining   |   append is a savior\n",
    "\n"
   ]
  },
  {
   "cell_type": "markdown",
   "id": "667025ca",
   "metadata": {},
   "source": [
    "# w+ mode"
   ]
  },
  {
   "cell_type": "code",
   "execution_count": null,
   "id": "322c975c",
   "metadata": {},
   "outputs": [],
   "source": [
    "w+ --> it creates a new file or truncates an existing file,\n",
    "       then it opens it for reading as well as writing;\n",
    "       the file pointer position is at the begining"
   ]
  },
  {
   "cell_type": "code",
   "execution_count": 69,
   "id": "dad49831",
   "metadata": {},
   "outputs": [],
   "source": [
    "fp = open(\"Sample.txt\",'w+')"
   ]
  },
  {
   "cell_type": "code",
   "execution_count": 70,
   "id": "bd33c173",
   "metadata": {},
   "outputs": [
    {
     "data": {
      "text/plain": [
       "10"
      ]
     },
     "execution_count": 70,
     "metadata": {},
     "output_type": "execute_result"
    }
   ],
   "source": [
    "fp.write(\"Okk Thanks\")"
   ]
  },
  {
   "cell_type": "code",
   "execution_count": 71,
   "id": "88f567d0",
   "metadata": {},
   "outputs": [
    {
     "data": {
      "text/plain": [
       "13"
      ]
     },
     "execution_count": 71,
     "metadata": {},
     "output_type": "execute_result"
    }
   ],
   "source": [
    "fp.write(\"happy dussera\")"
   ]
  },
  {
   "cell_type": "code",
   "execution_count": 72,
   "id": "b31dd503",
   "metadata": {},
   "outputs": [
    {
     "data": {
      "text/plain": [
       "''"
      ]
     },
     "execution_count": 72,
     "metadata": {},
     "output_type": "execute_result"
    }
   ],
   "source": [
    "fp.read()"
   ]
  },
  {
   "cell_type": "code",
   "execution_count": 73,
   "id": "2d203f11",
   "metadata": {},
   "outputs": [],
   "source": [
    "fp.close()"
   ]
  },
  {
   "cell_type": "code",
   "execution_count": null,
   "id": "458b107e",
   "metadata": {},
   "outputs": [],
   "source": [
    "#Q1 why Okk thanks is not overwritten"
   ]
  },
  {
   "cell_type": "code",
   "execution_count": 82,
   "id": "a94db1a3",
   "metadata": {},
   "outputs": [],
   "source": [
    "fp = open(\"Sample.txt\",'w+')"
   ]
  },
  {
   "cell_type": "code",
   "execution_count": 83,
   "id": "1e3bfb25",
   "metadata": {},
   "outputs": [
    {
     "data": {
      "text/plain": [
       "10"
      ]
     },
     "execution_count": 83,
     "metadata": {},
     "output_type": "execute_result"
    }
   ],
   "source": [
    "fp.write(\"Okk thanks\")"
   ]
  },
  {
   "cell_type": "code",
   "execution_count": 84,
   "id": "443fe7fe",
   "metadata": {},
   "outputs": [
    {
     "data": {
      "text/plain": [
       "13"
      ]
     },
     "execution_count": 84,
     "metadata": {},
     "output_type": "execute_result"
    }
   ],
   "source": [
    "fp.write(\"Happy Dussera\")"
   ]
  },
  {
   "cell_type": "code",
   "execution_count": 81,
   "id": "583a70a8",
   "metadata": {},
   "outputs": [],
   "source": [
    "fp.close()"
   ]
  },
  {
   "cell_type": "code",
   "execution_count": 79,
   "id": "09fab5b5",
   "metadata": {},
   "outputs": [],
   "source": [
    "fp = open(\"Sample.txt\",'w+')"
   ]
  },
  {
   "cell_type": "code",
   "execution_count": 91,
   "id": "ae1c5c69",
   "metadata": {},
   "outputs": [
    {
     "data": {
      "text/plain": [
       "2"
      ]
     },
     "execution_count": 91,
     "metadata": {},
     "output_type": "execute_result"
    }
   ],
   "source": [
    "fp.seek(2)"
   ]
  },
  {
   "cell_type": "code",
   "execution_count": 92,
   "id": "b66b004c",
   "metadata": {},
   "outputs": [],
   "source": [
    "line = fp.read()"
   ]
  },
  {
   "cell_type": "code",
   "execution_count": 93,
   "id": "a1e3c0d2",
   "metadata": {},
   "outputs": [
    {
     "data": {
      "text/plain": [
       "'k thanksHappy Dussera'"
      ]
     },
     "execution_count": 93,
     "metadata": {},
     "output_type": "execute_result"
    }
   ],
   "source": [
    "line"
   ]
  },
  {
   "cell_type": "code",
   "execution_count": 95,
   "id": "d26094ba",
   "metadata": {},
   "outputs": [
    {
     "name": "stdout",
     "output_type": "stream",
     "text": [
      "Okk thanksHappy Dussera\n"
     ]
    }
   ],
   "source": [
    "fp = open(\"Sample.txt\",'w+')\n",
    "fp.write(\"Okk thanks\")\n",
    "fp.write(\"Happy Dussera\")\n",
    "fp.seek(0)\n",
    "line = fp.read()\n",
    "print(line)\n"
   ]
  },
  {
   "cell_type": "code",
   "execution_count": 96,
   "id": "3dad6c68",
   "metadata": {},
   "outputs": [],
   "source": [
    "fp.close()"
   ]
  },
  {
   "cell_type": "code",
   "execution_count": 97,
   "id": "e16b2c45",
   "metadata": {},
   "outputs": [
    {
     "ename": "ValueError",
     "evalue": "I/O operation on closed file.",
     "output_type": "error",
     "traceback": [
      "\u001b[1;31m---------------------------------------------------------------------------\u001b[0m",
      "\u001b[1;31mValueError\u001b[0m                                Traceback (most recent call last)",
      "\u001b[1;32mC:\\Users\\KUNALC~1\\AppData\\Local\\Temp/ipykernel_19936/3668392485.py\u001b[0m in \u001b[0;36m<module>\u001b[1;34m\u001b[0m\n\u001b[1;32m----> 1\u001b[1;33m \u001b[0mfp\u001b[0m\u001b[1;33m.\u001b[0m\u001b[0mread\u001b[0m\u001b[1;33m(\u001b[0m\u001b[1;33m)\u001b[0m\u001b[1;33m\u001b[0m\u001b[1;33m\u001b[0m\u001b[0m\n\u001b[0m",
      "\u001b[1;31mValueError\u001b[0m: I/O operation on closed file."
     ]
    }
   ],
   "source": [
    "fp.read()"
   ]
  },
  {
   "cell_type": "code",
   "execution_count": null,
   "id": "21ee6ae8",
   "metadata": {},
   "outputs": [],
   "source": [
    "r read-only\n",
    "write w\n",
    "a appends the file if file is present"
   ]
  },
  {
   "cell_type": "markdown",
   "id": "908333c0",
   "metadata": {},
   "source": [
    "# a+ mode"
   ]
  },
  {
   "cell_type": "code",
   "execution_count": null,
   "id": "c3b36187",
   "metadata": {},
   "outputs": [],
   "source": [
    "a+ --> it creates a new file or opens an existing file for reading and writing\n",
    "       and the file pointer position position is at the end of the file"
   ]
  },
  {
   "cell_type": "code",
   "execution_count": 98,
   "id": "b274c746",
   "metadata": {},
   "outputs": [],
   "source": [
    "fp = open(\"Exercise.txt\",\"a+\")"
   ]
  },
  {
   "cell_type": "code",
   "execution_count": 101,
   "id": "ddceb120",
   "metadata": {},
   "outputs": [
    {
     "data": {
      "text/plain": [
       "49"
      ]
     },
     "execution_count": 101,
     "metadata": {},
     "output_type": "execute_result"
    }
   ],
   "source": [
    "fp.write(\"haha I have spelling mistake\\nwhy is it happening\\n\")"
   ]
  },
  {
   "cell_type": "code",
   "execution_count": 102,
   "id": "8c1f4edd",
   "metadata": {},
   "outputs": [
    {
     "data": {
      "text/plain": [
       "0"
      ]
     },
     "execution_count": 102,
     "metadata": {},
     "output_type": "execute_result"
    }
   ],
   "source": [
    "fp.seek(0)"
   ]
  },
  {
   "cell_type": "code",
   "execution_count": 103,
   "id": "58750a39",
   "metadata": {},
   "outputs": [
    {
     "data": {
      "text/plain": [
       "'haha I have spelling mistake\\nwhy is it happening\\nhaha I have spelling mistake\\nwhy is it happening\\n'"
      ]
     },
     "execution_count": 103,
     "metadata": {},
     "output_type": "execute_result"
    }
   ],
   "source": [
    "fp.read()"
   ]
  },
  {
   "cell_type": "code",
   "execution_count": 104,
   "id": "db5cffdc",
   "metadata": {},
   "outputs": [],
   "source": [
    "fp.close()"
   ]
  },
  {
   "cell_type": "code",
   "execution_count": 105,
   "id": "a689bca2",
   "metadata": {},
   "outputs": [],
   "source": [
    "fp = open(\"Exercise.txt\",'a+')"
   ]
  },
  {
   "cell_type": "code",
   "execution_count": 106,
   "id": "7c338f49",
   "metadata": {},
   "outputs": [
    {
     "data": {
      "text/plain": [
       "29"
      ]
     },
     "execution_count": 106,
     "metadata": {},
     "output_type": "execute_result"
    }
   ],
   "source": [
    "fp.write(\"Heyy Pavan How are You doing?\")"
   ]
  },
  {
   "cell_type": "code",
   "execution_count": 107,
   "id": "3d3e681a",
   "metadata": {},
   "outputs": [
    {
     "data": {
      "text/plain": [
       "0"
      ]
     },
     "execution_count": 107,
     "metadata": {},
     "output_type": "execute_result"
    }
   ],
   "source": [
    "fp.seek(0)"
   ]
  },
  {
   "cell_type": "code",
   "execution_count": 108,
   "id": "588fd4a8",
   "metadata": {},
   "outputs": [
    {
     "data": {
      "text/plain": [
       "'haha I have spelling mistake\\nwhy is it happening\\nhaha I have spelling mistake\\nwhy is it happening\\nHeyy Pavan How are You doing?'"
      ]
     },
     "execution_count": 108,
     "metadata": {},
     "output_type": "execute_result"
    }
   ],
   "source": [
    "fp.read()"
   ]
  },
  {
   "cell_type": "code",
   "execution_count": 112,
   "id": "8c87fc6f",
   "metadata": {},
   "outputs": [],
   "source": [
    "fp.close()"
   ]
  },
  {
   "cell_type": "code",
   "execution_count": null,
   "id": "454b8646",
   "metadata": {},
   "outputs": [],
   "source": [
    "file handling\n",
    "file pointer\n",
    "open()\n",
    "modes - read --> r\n",
    "        write --> w\n",
    "        append --> a\n",
    "        read/write --> w+\n",
    "        read/append --> a+\n",
    "read(), read([num])\n",
    "readline() --> it returns one line into string format\n",
    "readlines() --> it returns each line into lists\n",
    "close() --> we must close the file when work is done\n",
    "seek() --> adjusts the currrent file pointer \n",
    "write() --> it writes the charater to the file"
   ]
  }
 ],
 "metadata": {
  "kernelspec": {
   "display_name": "Python 3 (ipykernel)",
   "language": "python",
   "name": "python3"
  },
  "language_info": {
   "codemirror_mode": {
    "name": "ipython",
    "version": 3
   },
   "file_extension": ".py",
   "mimetype": "text/x-python",
   "name": "python",
   "nbconvert_exporter": "python",
   "pygments_lexer": "ipython3",
   "version": "3.9.7"
  }
 },
 "nbformat": 4,
 "nbformat_minor": 5
}
