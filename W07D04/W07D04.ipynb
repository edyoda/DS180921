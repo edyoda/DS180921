{
 "cells": [
  {
   "cell_type": "code",
   "execution_count": null,
   "id": "2505294c",
   "metadata": {},
   "outputs": [],
   "source": [
    "What is OOP?\n",
    "type of programmng paradigm -> Pavan\n",
    "written around concept of obj --> Saikiran\n",
    "proramme that uses class and objects --> Divya\n",
    "consists of class, methods, attributes and objects --> Pratush\n",
    "\n"
   ]
  },
  {
   "cell_type": "code",
   "execution_count": null,
   "id": "e1464cdb",
   "metadata": {},
   "outputs": [],
   "source": [
    "What is class?\n",
    "Its is a blueprint on which various objects are created\n",
    "Design for an object\n",
    "collection of objects , methods and attributes\n",
    "\n",
    "A class is a user-defined blueprint or prototype from which objects are created.\n"
   ]
  },
  {
   "cell_type": "code",
   "execution_count": null,
   "id": "34aea6fd",
   "metadata": {},
   "outputs": [],
   "source": [
    "What is object?\n",
    "\n",
    "instance of class"
   ]
  },
  {
   "cell_type": "code",
   "execution_count": null,
   "id": "58854cec",
   "metadata": {},
   "outputs": [],
   "source": [
    "what is class Attribute ?\n",
    "Class attributes are those which are shared for all obkects\n",
    "\n",
    "A class attribute is a Python variable that belongs to a class \n",
    "rather than a particular object."
   ]
  },
  {
   "cell_type": "code",
   "execution_count": null,
   "id": "f39ff59e",
   "metadata": {},
   "outputs": [],
   "source": [
    "What is object Attribute?\n",
    "\n",
    "fields related to obj\n",
    "attributes related to objects\n"
   ]
  },
  {
   "cell_type": "code",
   "execution_count": null,
   "id": "28345acc",
   "metadata": {},
   "outputs": [],
   "source": [
    "What is object Method?\n",
    "\n",
    "Object methods are those which is related to object\n",
    "\n",
    "Object method is a procedure associated with a message and an object.\n"
   ]
  },
  {
   "cell_type": "code",
   "execution_count": null,
   "id": "473c8278",
   "metadata": {},
   "outputs": [],
   "source": [
    "what is class method?\n",
    "\n",
    "class methods are those related to all objects related in that class. --> Sai\n",
    "\n",
    "class method which bound to class not to objects of class --> Divya\n",
    "\n",
    "\n",
    "to define class method we use decorator @classmethod"
   ]
  },
  {
   "cell_type": "code",
   "execution_count": null,
   "id": "c01603b5",
   "metadata": {},
   "outputs": [],
   "source": []
  },
  {
   "cell_type": "code",
   "execution_count": 7,
   "id": "4bd58c8f",
   "metadata": {},
   "outputs": [],
   "source": [
    "class Student:\n",
    "    student_list = [] #class attribute\n",
    "    total_marks = 300\n",
    "    fail_percentage = 33\n",
    "    def __init__(self, name, roll_no): #constructor method, object method\n",
    "        self.name = name #object attribute\n",
    "        self.roll_no = roll_no\n",
    "        self.marks = {'history':0,'chemistry':0,'mechanics':0}\n",
    "        \n",
    "        Student.student_list.append(self)\n",
    "        \n",
    "    def add_marks(self, marks): #object method\n",
    "        self.marks = marks\n",
    "        self.percentage = (sum(self.marks.values())/Student.total_marks)*100\n",
    "        if self.percentage < Student.fail_percentage:\n",
    "            self.fail = True\n",
    "        else:\n",
    "            self.fail = False\n",
    "    \n",
    "    @classmethod        \n",
    "    def find_topper(cls):  # class method\n",
    "        heighest_percent = float('-inf') \n",
    "        current_topper = cls.student_list[0]\n",
    "        for obj in cls.student_list:\n",
    "            if obj.percentage > heighest_percent:\n",
    "                heighest_percent = obj.percentage\n",
    "                current_topper = obj\n",
    "        return current_topper"
   ]
  },
  {
   "cell_type": "code",
   "execution_count": 8,
   "id": "571f9c9d",
   "metadata": {},
   "outputs": [],
   "source": [
    "Deepak = Student('Deepak',1)\n",
    "Rahul = Student('Rahul',2)\n",
    "Saikiran = Student('Saikiran',3)"
   ]
  },
  {
   "cell_type": "code",
   "execution_count": 9,
   "id": "78896850",
   "metadata": {},
   "outputs": [
    {
     "data": {
      "text/plain": [
       "[<__main__.Student at 0x21b2154a040>,\n",
       " <__main__.Student at 0x21b2154ac10>,\n",
       " <__main__.Student at 0x21b2154a8e0>]"
      ]
     },
     "execution_count": 9,
     "metadata": {},
     "output_type": "execute_result"
    }
   ],
   "source": [
    "Student.student_list"
   ]
  },
  {
   "cell_type": "code",
   "execution_count": 66,
   "id": "120b04ae",
   "metadata": {},
   "outputs": [],
   "source": [
    "Deepak.add_marks({'history':60,'chemistry':70,'mechanics':90})"
   ]
  },
  {
   "cell_type": "code",
   "execution_count": 67,
   "id": "71240a84",
   "metadata": {},
   "outputs": [],
   "source": [
    "Rahul.add_marks({'history':50,'chemistry':80,'mechanics':100})"
   ]
  },
  {
   "cell_type": "code",
   "execution_count": 68,
   "id": "050c3044",
   "metadata": {},
   "outputs": [],
   "source": [
    "Saikiran.add_marks({'history':60,'chemistry':70,'mechanics':80})"
   ]
  },
  {
   "cell_type": "code",
   "execution_count": 14,
   "id": "35d86f9c",
   "metadata": {},
   "outputs": [
    {
     "data": {
      "text/plain": [
       "73.33333333333333"
      ]
     },
     "execution_count": 14,
     "metadata": {},
     "output_type": "execute_result"
    }
   ],
   "source": [
    "Deepak.percentage"
   ]
  },
  {
   "cell_type": "code",
   "execution_count": 15,
   "id": "c314f49d",
   "metadata": {},
   "outputs": [
    {
     "data": {
      "text/plain": [
       "76.66666666666667"
      ]
     },
     "execution_count": 15,
     "metadata": {},
     "output_type": "execute_result"
    }
   ],
   "source": [
    "Rahul.percentage"
   ]
  },
  {
   "cell_type": "code",
   "execution_count": 16,
   "id": "140842fa",
   "metadata": {},
   "outputs": [
    {
     "data": {
      "text/plain": [
       "70.0"
      ]
     },
     "execution_count": 16,
     "metadata": {},
     "output_type": "execute_result"
    }
   ],
   "source": [
    "Saikiran.percentage"
   ]
  },
  {
   "cell_type": "code",
   "execution_count": 69,
   "id": "ac459af7",
   "metadata": {},
   "outputs": [
    {
     "data": {
      "text/plain": [
       "'Rahul'"
      ]
     },
     "execution_count": 69,
     "metadata": {},
     "output_type": "execute_result"
    }
   ],
   "source": [
    "Rahul.find_topper().name"
   ]
  },
  {
   "cell_type": "code",
   "execution_count": 19,
   "id": "30dbefd9",
   "metadata": {},
   "outputs": [
    {
     "data": {
      "text/plain": [
       "'Rahul'"
      ]
     },
     "execution_count": 19,
     "metadata": {},
     "output_type": "execute_result"
    }
   ],
   "source": [
    "Saikiran.find_topper().name"
   ]
  },
  {
   "cell_type": "code",
   "execution_count": 22,
   "id": "6026f54b",
   "metadata": {},
   "outputs": [
    {
     "data": {
      "text/plain": [
       "'Deepak'"
      ]
     },
     "execution_count": 22,
     "metadata": {},
     "output_type": "execute_result"
    }
   ],
   "source": [
    "Deepak.name"
   ]
  },
  {
   "cell_type": "code",
   "execution_count": 24,
   "id": "d28dff7b",
   "metadata": {},
   "outputs": [
    {
     "data": {
      "text/plain": [
       "'Rahul'"
      ]
     },
     "execution_count": 24,
     "metadata": {},
     "output_type": "execute_result"
    }
   ],
   "source": [
    "Student.find_topper().name"
   ]
  },
  {
   "cell_type": "code",
   "execution_count": 61,
   "id": "1bcf257d",
   "metadata": {},
   "outputs": [],
   "source": [
    "class Student:\n",
    "    student_list = [] #class attribute\n",
    "    total_marks = 300\n",
    "    fail_percentage = 33\n",
    "    def __init__(self, name, roll_no): #constructor method, object method\n",
    "        self.name = name #object attribute\n",
    "        self.roll_no = roll_no\n",
    "        self.marks = {'history':0,'chemistry':0,'mechanics':0}\n",
    "        \n",
    "        Student.student_list.append(self)\n",
    "        \n",
    "    def add_marks(self, marks): #object method\n",
    "        self.marks = marks\n",
    "        self.percentage = (sum(self.marks.values())/Student.total_marks)*100\n",
    "        if self.percentage < Student.fail_percentage:\n",
    "            self.fail = True\n",
    "        else:\n",
    "            self.fail = False\n",
    "    \n",
    "    @classmethod        \n",
    "    def find_topper(cls):  # class method\n",
    "        heighest_percent = -9999999\n",
    "        current_topper = cls.student_list[0]\n",
    "        for obj in cls.student_list:\n",
    "            if obj.percentage > heighest_percent:\n",
    "                heighest_percent = obj.percentage\n",
    "                current_topper = obj\n",
    "        return current_topper"
   ]
  },
  {
   "cell_type": "code",
   "execution_count": 62,
   "id": "84be0354",
   "metadata": {},
   "outputs": [],
   "source": [
    "obj = Student('Aditya',2)\n"
   ]
  },
  {
   "cell_type": "code",
   "execution_count": 63,
   "id": "1d6041da",
   "metadata": {},
   "outputs": [
    {
     "data": {
      "text/plain": [
       "[<__main__.Student at 0x21b21419220>]"
      ]
     },
     "execution_count": 63,
     "metadata": {},
     "output_type": "execute_result"
    }
   ],
   "source": [
    "Student.student_list"
   ]
  },
  {
   "cell_type": "code",
   "execution_count": 64,
   "id": "da4d62a3",
   "metadata": {},
   "outputs": [],
   "source": [
    "obj.add_marks({'history':50,'chemistry':70,'mechanics':60})"
   ]
  },
  {
   "cell_type": "code",
   "execution_count": 65,
   "id": "5f5c2b5f",
   "metadata": {},
   "outputs": [
    {
     "data": {
      "text/plain": [
       "'Aditya'"
      ]
     },
     "execution_count": 65,
     "metadata": {},
     "output_type": "execute_result"
    }
   ],
   "source": [
    "obj.find_topper().name"
   ]
  },
  {
   "cell_type": "code",
   "execution_count": 48,
   "id": "fa50adbc",
   "metadata": {},
   "outputs": [],
   "source": [
    "class Student:\n",
    "    student_list = [] #class attribute\n",
    "    total_marks = 300\n",
    "    fail_percentage = 33\n",
    "    def __init__(self, name, roll_no): #constructor method, object method\n",
    "        self.name = name #object attribute\n",
    "        self.roll_no = roll_no\n",
    "        self.marks = {'history':0,'chemistry':0,'mechanics':0}\n",
    "        \n",
    "        Student.student_list.append(self)\n",
    "        \n",
    "    def add_marks(self, marks): #object method\n",
    "        self.marks = marks\n",
    "        self.percentage = (sum(self.marks.values())/Student.total_marks)*100\n",
    "        if self.percentage < Student.fail_percentage:\n",
    "            self.fail = True\n",
    "        else:\n",
    "            self.fail = False\n",
    "    \n",
    "    @classmethod        \n",
    "    def find_topper(cls):  # class method\n",
    "        heighest_percent = float('-inf') \n",
    "        current_topper = cls.student_list[0]\n",
    "        for obj in cls.student_list:\n",
    "            if obj.percentage > heighest_percent:\n",
    "                heighest_percent = obj.percentage\n",
    "                current_topper = obj\n",
    "        return current_topper\n",
    "    \n",
    "    @classmethod\n",
    "    def find_failure(cls):\n",
    "        l = []\n",
    "        for obj in cls.student_list:\n",
    "            if obj.fail == True:\n",
    "                l.append(obj)\n",
    "        return l"
   ]
  },
  {
   "cell_type": "code",
   "execution_count": 49,
   "id": "22b310ae",
   "metadata": {},
   "outputs": [],
   "source": [
    "Deepak = Student('Deepak',1)\n",
    "Rahul = Student('Rahul',2)\n",
    "Saikiran = Student('Saikiran',3)\n",
    "\n",
    "Kunal = Student('Kunal', 4)\n",
    "Vijay = Student('Vijay',5)"
   ]
  },
  {
   "cell_type": "code",
   "execution_count": 50,
   "id": "06e32f39",
   "metadata": {},
   "outputs": [],
   "source": [
    "Saikiran.add_marks({'history':60,'chemistry':70,'mechanics':80})\n",
    "Rahul.add_marks({'history':50,'chemistry':80,'mechanics':100})\n",
    "Deepak.add_marks({'history':60,'chemistry':70,'mechanics':90})\n",
    "\n",
    "Kunal.add_marks({'history':20,'chemistry':19,'mechanics':7})\n",
    "Vijay.add_marks({'history':21,'chemistry':10,'mechanics':18})"
   ]
  },
  {
   "cell_type": "code",
   "execution_count": 54,
   "id": "e6addfcc",
   "metadata": {},
   "outputs": [
    {
     "data": {
      "text/plain": [
       "[<__main__.Student at 0x21b2193be50>, <__main__.Student at 0x21b2193bfa0>]"
      ]
     },
     "execution_count": 54,
     "metadata": {},
     "output_type": "execute_result"
    }
   ],
   "source": [
    "Student.find_failure()"
   ]
  },
  {
   "cell_type": "code",
   "execution_count": 46,
   "id": "038c1e25",
   "metadata": {},
   "outputs": [
    {
     "data": {
      "text/plain": [
       "True"
      ]
     },
     "execution_count": 46,
     "metadata": {},
     "output_type": "execute_result"
    }
   ],
   "source": [
    "Kunal.fail"
   ]
  },
  {
   "cell_type": "code",
   "execution_count": 47,
   "id": "4c4c91d3",
   "metadata": {},
   "outputs": [
    {
     "data": {
      "text/plain": [
       "True"
      ]
     },
     "execution_count": 47,
     "metadata": {},
     "output_type": "execute_result"
    }
   ],
   "source": [
    "Vijay.fail"
   ]
  },
  {
   "cell_type": "code",
   "execution_count": 60,
   "id": "85c760a6",
   "metadata": {},
   "outputs": [
    {
     "name": "stdout",
     "output_type": "stream",
     "text": [
      "Kunal {'history': 20, 'chemistry': 19, 'mechanics': 7} True 15.333333333333332\n",
      "Vijay {'history': 21, 'chemistry': 10, 'mechanics': 18} True 16.333333333333332\n"
     ]
    }
   ],
   "source": [
    "for i in Student.find_failure():\n",
    "    print(i.name, i.marks, i.fail, i.percentage)"
   ]
  },
  {
   "cell_type": "code",
   "execution_count": 57,
   "id": "45c461ea",
   "metadata": {},
   "outputs": [
    {
     "data": {
      "text/plain": [
       "list"
      ]
     },
     "execution_count": 57,
     "metadata": {},
     "output_type": "execute_result"
    }
   ],
   "source": [
    "type(Student.find_failure())"
   ]
  },
  {
   "cell_type": "markdown",
   "id": "7698e769",
   "metadata": {},
   "source": [
    "# Static Method"
   ]
  },
  {
   "cell_type": "code",
   "execution_count": 73,
   "id": "0f124d5f",
   "metadata": {},
   "outputs": [],
   "source": [
    "class Student:\n",
    "    student_list = [] #class attribute\n",
    "    total_marks = 300\n",
    "    fail_percentage = 33\n",
    "    def __init__(self, name, roll_no): #constructor method, object method\n",
    "        self.name = name #object attribute\n",
    "        self.roll_no = roll_no\n",
    "        self.marks = {'history':0,'chemistry':0,'mechanics':0}\n",
    "        \n",
    "        Student.student_list.append(self)\n",
    "        \n",
    "    def add_marks(self, marks): #object method\n",
    "        self.marks = marks\n",
    "        self.percentage = self.percentage_formula(sum(self.marks.values()),Student.total_marks,5)\n",
    "        if self.percentage < Student.fail_percentage:\n",
    "            self.fail = True\n",
    "        else:\n",
    "            self.fail = False\n",
    "    \n",
    "    @classmethod        \n",
    "    def find_topper(cls):  # class method\n",
    "        heighest_percent = -9999999\n",
    "        current_topper = cls.student_list[0]\n",
    "        for obj in cls.student_list:\n",
    "            if obj.percentage > heighest_percent:\n",
    "                heighest_percent = obj.percentage\n",
    "                current_topper = obj\n",
    "        return current_topper\n",
    "    \n",
    "    @staticmethod\n",
    "    def percentage_formula(obt_marks, total_marks, offer):\n",
    "        return (obt_marks/total_marks)*100 + offer"
   ]
  },
  {
   "cell_type": "code",
   "execution_count": 74,
   "id": "74ffb280",
   "metadata": {},
   "outputs": [],
   "source": [
    "Deepak = Student('Deepak',1)\n",
    "Rahul = Student('Rahul',2)\n",
    "Saikiran = Student('Saikiran',3)\n",
    "\n",
    "Kunal = Student('Kunal', 4)\n",
    "Vijay = Student('Vijay',5)"
   ]
  },
  {
   "cell_type": "code",
   "execution_count": 75,
   "id": "9661c2f1",
   "metadata": {},
   "outputs": [],
   "source": [
    "Saikiran.add_marks({'history':60,'chemistry':70,'mechanics':80})\n",
    "Rahul.add_marks({'history':50,'chemistry':80,'mechanics':100})\n",
    "Deepak.add_marks({'history':60,'chemistry':70,'mechanics':90})\n",
    "\n",
    "Kunal.add_marks({'history':20,'chemistry':19,'mechanics':7})\n",
    "Vijay.add_marks({'history':21,'chemistry':10,'mechanics':18})"
   ]
  },
  {
   "cell_type": "code",
   "execution_count": 76,
   "id": "80e2f4f6",
   "metadata": {},
   "outputs": [
    {
     "data": {
      "text/plain": [
       "70.0"
      ]
     },
     "execution_count": 76,
     "metadata": {},
     "output_type": "execute_result"
    }
   ],
   "source": [
    "Saikiran.percentage_formula(60,100,10)"
   ]
  },
  {
   "cell_type": "code",
   "execution_count": 77,
   "id": "ec928b0e",
   "metadata": {},
   "outputs": [
    {
     "data": {
      "text/plain": [
       "False"
      ]
     },
     "execution_count": 77,
     "metadata": {},
     "output_type": "execute_result"
    }
   ],
   "source": [
    "Saikiran.fail"
   ]
  },
  {
   "cell_type": "code",
   "execution_count": 78,
   "id": "6cc5f6a6",
   "metadata": {},
   "outputs": [
    {
     "data": {
      "text/plain": [
       "True"
      ]
     },
     "execution_count": 78,
     "metadata": {},
     "output_type": "execute_result"
    }
   ],
   "source": [
    "Kunal.fail"
   ]
  },
  {
   "cell_type": "code",
   "execution_count": 79,
   "id": "a6f0e407",
   "metadata": {},
   "outputs": [
    {
     "data": {
      "text/plain": [
       "True"
      ]
     },
     "execution_count": 79,
     "metadata": {},
     "output_type": "execute_result"
    }
   ],
   "source": [
    "Vijay.fail"
   ]
  },
  {
   "cell_type": "code",
   "execution_count": 80,
   "id": "c82302f2",
   "metadata": {},
   "outputs": [],
   "source": [
    "def calculate_percent(num,total):\n",
    "    return num*100/total"
   ]
  },
  {
   "cell_type": "code",
   "execution_count": 81,
   "id": "09d13923",
   "metadata": {},
   "outputs": [
    {
     "data": {
      "text/plain": [
       "30.0"
      ]
     },
     "execution_count": 81,
     "metadata": {},
     "output_type": "execute_result"
    }
   ],
   "source": [
    "calculate_percent(15,50)"
   ]
  },
  {
   "cell_type": "code",
   "execution_count": null,
   "id": "10616e40",
   "metadata": {},
   "outputs": [],
   "source": [
    "# Create a class named Vehicle which will do the following things\n",
    "# break() => it should decrease the speed of vehicle\n",
    "# slow_down() => It should slow down the car speed by 10 units\n",
    "# accelerate() => It should increase the speed by 10 units\n",
    "# ignite() => It should start the car with speed 0\n",
    "# gear_up() => It should increase the gear by 1. but total no of gears\n",
    "# a re only 5\n",
    "# gear_down() => it should decrease the gear by 1. but total no of gears\n",
    "# are more than 1\n",
    "\n",
    "\n",
    "#  Create class Animal,\n",
    "# Implemetn following things\n",
    "# animal_obj = Animal()\n",
    "# If I call animal_obj.eat() => obj_name is eating.\n",
    "# animal_obj.walk() => It should print walking with obj_no_of_legs\n",
    "# animal_obj.getname() => return me the animal\n",
    "# animal_obj.set_name() => set the name of the animal\n",
    "# setters and getters for no_of_legs\n"
   ]
  }
 ],
 "metadata": {
  "kernelspec": {
   "display_name": "Python 3 (ipykernel)",
   "language": "python",
   "name": "python3"
  },
  "language_info": {
   "codemirror_mode": {
    "name": "ipython",
    "version": 3
   },
   "file_extension": ".py",
   "mimetype": "text/x-python",
   "name": "python",
   "nbconvert_exporter": "python",
   "pygments_lexer": "ipython3",
   "version": "3.9.7"
  }
 },
 "nbformat": 4,
 "nbformat_minor": 5
}
