{
 "cells": [
  {
   "cell_type": "code",
   "execution_count": 8,
   "id": "24fd4abd",
   "metadata": {},
   "outputs": [],
   "source": [
    "class Car:\n",
    "    def __init__(self, color, brand, model, engine_type):\n",
    "        print('init is called')\n",
    "        self.COLOR = color\n",
    "        self.BRAND = brand\n",
    "        self.MODEL = model\n",
    "        self.ENGINE_TYPE = engine_type"
   ]
  },
  {
   "cell_type": "code",
   "execution_count": 9,
   "id": "f34b09fc",
   "metadata": {},
   "outputs": [
    {
     "name": "stdout",
     "output_type": "stream",
     "text": [
      "init is called\n"
     ]
    }
   ],
   "source": [
    "x = Car('green', 'ford', 'mustang', 'gasolene')"
   ]
  },
  {
   "cell_type": "code",
   "execution_count": 3,
   "id": "715f49bf",
   "metadata": {},
   "outputs": [
    {
     "name": "stdout",
     "output_type": "stream",
     "text": [
      "<__main__.Car object at 0x000001F2776CA1F0>\n"
     ]
    }
   ],
   "source": [
    "print(x)"
   ]
  },
  {
   "cell_type": "code",
   "execution_count": 4,
   "id": "be26a452",
   "metadata": {},
   "outputs": [
    {
     "data": {
      "text/plain": [
       "'ford'"
      ]
     },
     "execution_count": 4,
     "metadata": {},
     "output_type": "execute_result"
    }
   ],
   "source": [
    "x.BRAND"
   ]
  },
  {
   "cell_type": "code",
   "execution_count": 5,
   "id": "900735d4",
   "metadata": {},
   "outputs": [
    {
     "data": {
      "text/plain": [
       "'mustang'"
      ]
     },
     "execution_count": 5,
     "metadata": {},
     "output_type": "execute_result"
    }
   ],
   "source": [
    "x.MODEL"
   ]
  },
  {
   "cell_type": "code",
   "execution_count": 6,
   "id": "51ac54f4",
   "metadata": {},
   "outputs": [
    {
     "data": {
      "text/plain": [
       "'gasolene'"
      ]
     },
     "execution_count": 6,
     "metadata": {},
     "output_type": "execute_result"
    }
   ],
   "source": [
    "x.ENGINE_TYPE"
   ]
  },
  {
   "cell_type": "code",
   "execution_count": 7,
   "id": "fbde3eb6",
   "metadata": {},
   "outputs": [],
   "source": [
    "y = Car('red', 'ford', 'mustang', 'gasolene')"
   ]
  },
  {
   "cell_type": "code",
   "execution_count": null,
   "id": "56450a13",
   "metadata": {},
   "outputs": [],
   "source": [
    "Question:\n",
    "    create a class dog and have fields color name age breed\n",
    "    and create multiple dogs objects from it including one yuki \n",
    "    which is silver in color and it 6 years old today.\n",
    "    create atleast 3 dogs\n",
    "    \n",
    "5 mins\n",
    "8:18PM"
   ]
  },
  {
   "cell_type": "code",
   "execution_count": null,
   "id": "6b1bd44e",
   "metadata": {},
   "outputs": [],
   "source": [
    "class Car:\n",
    "    def __init__(self, color, brand, model, engine_type):\n",
    "        print('init is called')\n",
    "        self.COLOR = color\n",
    "        self.BRAND = brand\n",
    "        self.MODEL = model\n",
    "        self.ENGINE_TYPE = engine_type"
   ]
  },
  {
   "cell_type": "code",
   "execution_count": 10,
   "id": "e68d57e9",
   "metadata": {},
   "outputs": [],
   "source": [
    "class dog:\n",
    "    def __init__(self, color, name, age, breed):\n",
    "        self.COLOR = color\n",
    "        self.NAME = name\n",
    "        self.AGE = age\n",
    "        self.BREED = breed\n",
    "z=dog('black','tommy', '12', 'german shepherd')\n",
    "x=dog('white', 'mylo', '10', 'husky')\n",
    "\n",
    "Husky=dog('silver','yuki',6,'husky')\n",
    "GS=dog('gold','stella',5,'German shepherd')\n",
    "Bulldog=dog('black','blacky',4,'bull dog')\n"
   ]
  },
  {
   "cell_type": "code",
   "execution_count": 11,
   "id": "00dab09a",
   "metadata": {},
   "outputs": [
    {
     "data": {
      "text/plain": [
       "6"
      ]
     },
     "execution_count": 11,
     "metadata": {},
     "output_type": "execute_result"
    }
   ],
   "source": [
    "Husky.AGE"
   ]
  },
  {
   "cell_type": "code",
   "execution_count": 12,
   "id": "60ab62af",
   "metadata": {},
   "outputs": [
    {
     "data": {
      "text/plain": [
       "5"
      ]
     },
     "execution_count": 12,
     "metadata": {},
     "output_type": "execute_result"
    }
   ],
   "source": [
    "GS.AGE"
   ]
  },
  {
   "cell_type": "code",
   "execution_count": null,
   "id": "54ba4497",
   "metadata": {},
   "outputs": [],
   "source": [
    "Question:\n",
    "    Create a class Bike with fields => color,Horsepower,Engine_CC,\n",
    "    optimal-> if the Milage is greater than 60 then optimal will be true\n",
    "    and if Milage is less than or equal to 60 then optimal will be false\n",
    "    \n",
    "    #Note: you don't have to pass the optimal value, you have to\n",
    "    #create it when you are creating the object automaticly"
   ]
  },
  {
   "cell_type": "code",
   "execution_count": 16,
   "id": "759c05df",
   "metadata": {},
   "outputs": [],
   "source": [
    "class Bike:\n",
    "    def __init__(self, Color, Horsepower, Engine_CC, Milage):\n",
    "        if Milage>60:\n",
    "            self.Optimal = True\n",
    "            print('This Bike is Optimal')\n",
    "        else:\n",
    "            self.Optimal = False\n",
    "            print('This Bike is not Optimal')\n",
    "        self.Color = Color\n",
    "        self.Horsepower = Horsepower\n",
    "        self.Engine_CC = Engine_CC\n",
    "        self.Milage = Milage"
   ]
  },
  {
   "cell_type": "code",
   "execution_count": 17,
   "id": "e96c653f",
   "metadata": {},
   "outputs": [
    {
     "name": "stdout",
     "output_type": "stream",
     "text": [
      "This Bike is not Optimal\n"
     ]
    }
   ],
   "source": [
    "apche = Bike('White',200,150,5)"
   ]
  },
  {
   "cell_type": "code",
   "execution_count": 18,
   "id": "d0fbb7ca",
   "metadata": {},
   "outputs": [
    {
     "name": "stdout",
     "output_type": "stream",
     "text": [
      "This Bike is Optimal\n"
     ]
    }
   ],
   "source": [
    "platina = Bike('Blue and Silver',4,125,70)"
   ]
  },
  {
   "cell_type": "code",
   "execution_count": 20,
   "id": "04e1f8d8",
   "metadata": {},
   "outputs": [
    {
     "data": {
      "text/plain": [
       "'White'"
      ]
     },
     "execution_count": 20,
     "metadata": {},
     "output_type": "execute_result"
    }
   ],
   "source": [
    "apche.Color"
   ]
  },
  {
   "cell_type": "code",
   "execution_count": 21,
   "id": "c5bea910",
   "metadata": {},
   "outputs": [],
   "source": [
    "class bike:\n",
    "    def __init__(self, colour, Horsepower, Engine_CC, Millage):\n",
    "        if Millage>60:\n",
    "            self.optimal = True\n",
    "            print('the bike is optimal')\n",
    "        else:\n",
    "            self.optimal = False\n",
    "            print('the bike is not optimal')\n",
    "        self.colour = colour\n",
    "        self.Horsepower = Horsepower\n",
    "        self.Engine_CC = Engine_CC\n",
    "        self.Millage = Millage\n",
    "    \n"
   ]
  },
  {
   "cell_type": "code",
   "execution_count": 22,
   "id": "c3eb4839",
   "metadata": {},
   "outputs": [
    {
     "ename": "TypeError",
     "evalue": "'>' not supported between instances of 'str' and 'int'",
     "output_type": "error",
     "traceback": [
      "\u001b[1;31m---------------------------------------------------------------------------\u001b[0m",
      "\u001b[1;31mTypeError\u001b[0m                                 Traceback (most recent call last)",
      "\u001b[1;32mC:\\Users\\KUNALC~1\\AppData\\Local\\Temp/ipykernel_14684/2469757156.py\u001b[0m in \u001b[0;36m<module>\u001b[1;34m\u001b[0m\n\u001b[1;32m----> 1\u001b[1;33m \u001b[0mplatina\u001b[0m \u001b[1;33m=\u001b[0m \u001b[0mBike\u001b[0m\u001b[1;33m(\u001b[0m\u001b[1;34m'Blue and Silver'\u001b[0m\u001b[1;33m,\u001b[0m\u001b[1;36m4\u001b[0m\u001b[1;33m,\u001b[0m\u001b[1;36m125\u001b[0m\u001b[1;33m,\u001b[0m\u001b[1;34m'70'\u001b[0m\u001b[1;33m)\u001b[0m\u001b[1;33m\u001b[0m\u001b[1;33m\u001b[0m\u001b[0m\n\u001b[0m",
      "\u001b[1;32mC:\\Users\\KUNALC~1\\AppData\\Local\\Temp/ipykernel_14684/973799178.py\u001b[0m in \u001b[0;36m__init__\u001b[1;34m(self, Color, Horsepower, Engine_CC, Milage)\u001b[0m\n\u001b[0;32m      1\u001b[0m \u001b[1;32mclass\u001b[0m \u001b[0mBike\u001b[0m\u001b[1;33m:\u001b[0m\u001b[1;33m\u001b[0m\u001b[1;33m\u001b[0m\u001b[0m\n\u001b[0;32m      2\u001b[0m     \u001b[1;32mdef\u001b[0m \u001b[0m__init__\u001b[0m\u001b[1;33m(\u001b[0m\u001b[0mself\u001b[0m\u001b[1;33m,\u001b[0m \u001b[0mColor\u001b[0m\u001b[1;33m,\u001b[0m \u001b[0mHorsepower\u001b[0m\u001b[1;33m,\u001b[0m \u001b[0mEngine_CC\u001b[0m\u001b[1;33m,\u001b[0m \u001b[0mMilage\u001b[0m\u001b[1;33m)\u001b[0m\u001b[1;33m:\u001b[0m\u001b[1;33m\u001b[0m\u001b[1;33m\u001b[0m\u001b[0m\n\u001b[1;32m----> 3\u001b[1;33m         \u001b[1;32mif\u001b[0m \u001b[0mMilage\u001b[0m\u001b[1;33m>\u001b[0m\u001b[1;36m60\u001b[0m\u001b[1;33m:\u001b[0m\u001b[1;33m\u001b[0m\u001b[1;33m\u001b[0m\u001b[0m\n\u001b[0m\u001b[0;32m      4\u001b[0m             \u001b[0mself\u001b[0m\u001b[1;33m.\u001b[0m\u001b[0mOptimal\u001b[0m \u001b[1;33m=\u001b[0m \u001b[1;32mTrue\u001b[0m\u001b[1;33m\u001b[0m\u001b[1;33m\u001b[0m\u001b[0m\n\u001b[0;32m      5\u001b[0m             \u001b[0mprint\u001b[0m\u001b[1;33m(\u001b[0m\u001b[1;34m'This Bike is Optimal'\u001b[0m\u001b[1;33m)\u001b[0m\u001b[1;33m\u001b[0m\u001b[1;33m\u001b[0m\u001b[0m\n",
      "\u001b[1;31mTypeError\u001b[0m: '>' not supported between instances of 'str' and 'int'"
     ]
    }
   ],
   "source": [
    "platina = Bike('Blue and Silver',4,125,70)"
   ]
  },
  {
   "cell_type": "code",
   "execution_count": 23,
   "id": "fb612e07",
   "metadata": {},
   "outputs": [],
   "source": [
    "class bike:\n",
    "    def __init__(self,color,horsepower,engine_cc,mileage):\n",
    "        self.COLOR = color\n",
    "        self.HORSEPOWER = horsepower\n",
    "        self.ENGINE_CC = engine_cc\n",
    "        self.MILEAGE = mileage\n",
    "        if mileage > 60:\n",
    "            print('Optimal is true')\n",
    "        else:\n",
    "            print('Optimal is false')\n"
   ]
  },
  {
   "cell_type": "code",
   "execution_count": 25,
   "id": "916bcd42",
   "metadata": {},
   "outputs": [
    {
     "name": "stdout",
     "output_type": "stream",
     "text": [
      "This Bike is not Optimal\n"
     ]
    }
   ],
   "source": [
    "Hornet = Bike('Green','200HP','165CC',40)"
   ]
  },
  {
   "cell_type": "code",
   "execution_count": 49,
   "id": "b6bf5ee1",
   "metadata": {},
   "outputs": [],
   "source": [
    "class Car:\n",
    "    def __init__(self,maxspeed):\n",
    "        self.maxspeed = 0\n",
    "        self.fuel = 0\n",
    "    \n",
    "    def refuel(self):\n",
    "        self.fuel = self.fuel + 10\n",
    "        \n",
    "    def setSpeed(self,speed):\n",
    "        self.speed = speed\n",
    "    \n",
    "    def drive(self):\n",
    "        if self.fuel == 0:\n",
    "            print('No fuel, you cannot drive!!')\n",
    "        else:\n",
    "            self.setSpeed(10)\n",
    "            self.fuel -= 2\n",
    "            print('Yay ready for the ride')\n",
    "    \n",
    "    def accelerate(self):\n",
    "        self.accelerate(self.speed +10)"
   ]
  },
  {
   "cell_type": "code",
   "execution_count": 50,
   "id": "b2d5d3d6",
   "metadata": {},
   "outputs": [],
   "source": [
    "Suzuki_Breeza = Car(220)"
   ]
  },
  {
   "cell_type": "code",
   "execution_count": 51,
   "id": "14953b5a",
   "metadata": {},
   "outputs": [
    {
     "data": {
      "text/plain": [
       "0"
      ]
     },
     "execution_count": 51,
     "metadata": {},
     "output_type": "execute_result"
    }
   ],
   "source": [
    "Suzuki_Breeza.fuel"
   ]
  },
  {
   "cell_type": "code",
   "execution_count": 52,
   "id": "491d9e7d",
   "metadata": {},
   "outputs": [
    {
     "name": "stdout",
     "output_type": "stream",
     "text": [
      "No fuel, you cannot drive!!\n"
     ]
    }
   ],
   "source": [
    "Suzuki_Breeza.drive()"
   ]
  },
  {
   "cell_type": "code",
   "execution_count": 53,
   "id": "784e31b7",
   "metadata": {},
   "outputs": [],
   "source": [
    "Suzuki_Breeza.refuel()"
   ]
  },
  {
   "cell_type": "code",
   "execution_count": 54,
   "id": "94ef2d1d",
   "metadata": {},
   "outputs": [
    {
     "name": "stdout",
     "output_type": "stream",
     "text": [
      "Yay ready for the ride\n"
     ]
    }
   ],
   "source": [
    "Suzuki_Breeza.drive()"
   ]
  },
  {
   "cell_type": "code",
   "execution_count": 56,
   "id": "d4ede4e9",
   "metadata": {},
   "outputs": [
    {
     "data": {
      "text/plain": [
       "8"
      ]
     },
     "execution_count": 56,
     "metadata": {},
     "output_type": "execute_result"
    }
   ],
   "source": [
    "Suzuki_Breeza.fuel"
   ]
  },
  {
   "cell_type": "code",
   "execution_count": 57,
   "id": "e73a5032",
   "metadata": {},
   "outputs": [
    {
     "name": "stdout",
     "output_type": "stream",
     "text": [
      "Yay ready for the ride\n",
      "Yay ready for the ride\n",
      "Yay ready for the ride\n",
      "Yay ready for the ride\n"
     ]
    }
   ],
   "source": [
    "for i in range(4):\n",
    "    Suzuki_Breeza.drive()"
   ]
  },
  {
   "cell_type": "code",
   "execution_count": 58,
   "id": "b2f7c435",
   "metadata": {},
   "outputs": [
    {
     "name": "stdout",
     "output_type": "stream",
     "text": [
      "No fuel, you cannot drive!!\n"
     ]
    }
   ],
   "source": [
    "Suzuki_Breeza.drive()"
   ]
  },
  {
   "cell_type": "code",
   "execution_count": 59,
   "id": "ab51888e",
   "metadata": {},
   "outputs": [],
   "source": [
    "#petrol pump\n",
    "Suzuki_Breeza.refuel()"
   ]
  },
  {
   "cell_type": "code",
   "execution_count": 60,
   "id": "367a8a83",
   "metadata": {},
   "outputs": [
    {
     "name": "stdout",
     "output_type": "stream",
     "text": [
      "Yay ready for the ride\n",
      "Yay ready for the ride\n",
      "Yay ready for the ride\n",
      "Yay ready for the ride\n"
     ]
    }
   ],
   "source": [
    "for i in range(4):\n",
    "    Suzuki_Breeza.drive()"
   ]
  },
  {
   "cell_type": "code",
   "execution_count": 61,
   "id": "68a886a0",
   "metadata": {},
   "outputs": [
    {
     "data": {
      "text/plain": [
       "2"
      ]
     },
     "execution_count": 61,
     "metadata": {},
     "output_type": "execute_result"
    }
   ],
   "source": [
    "Suzuki_Breeza.fuel"
   ]
  },
  {
   "cell_type": "code",
   "execution_count": 64,
   "id": "7d7a3461",
   "metadata": {},
   "outputs": [],
   "source": [
    "BMW = Car(200)"
   ]
  },
  {
   "cell_type": "code",
   "execution_count": 65,
   "id": "8105da2f",
   "metadata": {},
   "outputs": [],
   "source": [
    "Audi = Car(300)"
   ]
  },
  {
   "cell_type": "code",
   "execution_count": 66,
   "id": "5f105ac8",
   "metadata": {},
   "outputs": [],
   "source": [
    "lamborgini = Car(400)"
   ]
  },
  {
   "cell_type": "code",
   "execution_count": 63,
   "id": "4df5da32",
   "metadata": {},
   "outputs": [
    {
     "name": "stdout",
     "output_type": "stream",
     "text": [
      "Two\n"
     ]
    }
   ],
   "source": [
    "# class Bike:\n",
    "#     def __init__(self,color):\n",
    "#         print(\"One\")\n",
    "        \n",
    "#     def __init__(self,color):\n",
    "#         print(\"Two\")\n",
    "# b=Bike('black')"
   ]
  },
  {
   "cell_type": "code",
   "execution_count": null,
   "id": "1644b35b",
   "metadata": {},
   "outputs": [],
   "source": [
    "just with one class of car we had so many diff brand and\n",
    "color and other attributes of car\n",
    "we need not make all these attributes again\n",
    "and again for diff students one class if for different objects\n"
   ]
  },
  {
   "cell_type": "code",
   "execution_count": null,
   "id": "cdc6dbbb",
   "metadata": {},
   "outputs": [],
   "source": []
  },
  {
   "cell_type": "code",
   "execution_count": null,
   "id": "221e7009",
   "metadata": {},
   "outputs": [],
   "source": []
  },
  {
   "cell_type": "code",
   "execution_count": null,
   "id": "297f5de9",
   "metadata": {},
   "outputs": [],
   "source": []
  },
  {
   "cell_type": "code",
   "execution_count": null,
   "id": "a7034b0e",
   "metadata": {},
   "outputs": [],
   "source": []
  },
  {
   "cell_type": "code",
   "execution_count": null,
   "id": "cfef3682",
   "metadata": {},
   "outputs": [],
   "source": []
  },
  {
   "cell_type": "code",
   "execution_count": 68,
   "id": "723dac5f",
   "metadata": {},
   "outputs": [],
   "source": [
    "import re"
   ]
  },
  {
   "cell_type": "code",
   "execution_count": 86,
   "id": "d726dda0",
   "metadata": {},
   "outputs": [],
   "source": [
    "regx = '[^\\w]+'"
   ]
  },
  {
   "cell_type": "code",
   "execution_count": 87,
   "id": "08fb58d1",
   "metadata": {},
   "outputs": [
    {
     "data": {
      "text/plain": [
       "[',', ' ', '# ']"
      ]
     },
     "execution_count": 87,
     "metadata": {},
     "output_type": "execute_result"
    }
   ],
   "source": [
    "re.findall(regx, \"guru99,education is# fun\")"
   ]
  },
  {
   "cell_type": "code",
   "execution_count": 117,
   "id": "6a96b43d",
   "metadata": {},
   "outputs": [],
   "source": [
    "regx = '[\\w\\.-]+@.com'"
   ]
  },
  {
   "cell_type": "code",
   "execution_count": 118,
   "id": "6e734ca3",
   "metadata": {},
   "outputs": [
    {
     "data": {
      "text/plain": [
       "[('gmail', '')]"
      ]
     },
     "execution_count": 118,
     "metadata": {},
     "output_type": "execute_result"
    }
   ],
   "source": [
    "re.findall(regx,\"tushar-k39@gmail.com,kdhf@jdbb.com\")"
   ]
  },
  {
   "cell_type": "code",
   "execution_count": 154,
   "id": "6e4b983c",
   "metadata": {},
   "outputs": [
    {
     "data": {
      "text/plain": [
       "<re.Match object; span=(0, 11), match='jon jim jim'>"
      ]
     },
     "execution_count": 154,
     "metadata": {},
     "output_type": "execute_result"
    }
   ],
   "source": [
    "re.search('(j..) (j..)\\s+\\\\2', 'jon jim jim jim')"
   ]
  },
  {
   "cell_type": "code",
   "execution_count": null,
   "id": "1f2e4946",
   "metadata": {},
   "outputs": [],
   "source": [
    "re.search(r'[\\w]')"
   ]
  }
 ],
 "metadata": {
  "kernelspec": {
   "display_name": "Python 3 (ipykernel)",
   "language": "python",
   "name": "python3"
  },
  "language_info": {
   "codemirror_mode": {
    "name": "ipython",
    "version": 3
   },
   "file_extension": ".py",
   "mimetype": "text/x-python",
   "name": "python",
   "nbconvert_exporter": "python",
   "pygments_lexer": "ipython3",
   "version": "3.9.7"
  }
 },
 "nbformat": 4,
 "nbformat_minor": 5
}
