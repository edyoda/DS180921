{
 "cells": [
  {
   "cell_type": "code",
   "execution_count": 1,
   "id": "dba037db",
   "metadata": {},
   "outputs": [],
   "source": [
    "import re"
   ]
  },
  {
   "cell_type": "code",
   "execution_count": 2,
   "id": "c4476902",
   "metadata": {},
   "outputs": [
    {
     "data": {
      "text/plain": [
       "['Pooja', 'Kanad', 'Satyam']"
      ]
     },
     "execution_count": 2,
     "metadata": {},
     "output_type": "execute_result"
    }
   ],
   "source": [
    "string = 'Pooja5264Kanad4561Satyam65465'\n",
    "regx = '[A-Za-z]+'\n",
    "re.findall(regx, string)"
   ]
  },
  {
   "cell_type": "code",
   "execution_count": 3,
   "id": "f06c23ed",
   "metadata": {
    "collapsed": true
   },
   "outputs": [
    {
     "data": {
      "text/plain": [
       "['Pooja',\n",
       " '',\n",
       " '',\n",
       " '',\n",
       " '',\n",
       " 'Kanad',\n",
       " '',\n",
       " '',\n",
       " '',\n",
       " '',\n",
       " 'Satyam',\n",
       " '',\n",
       " '',\n",
       " '',\n",
       " '',\n",
       " '',\n",
       " '']"
      ]
     },
     "execution_count": 3,
     "metadata": {},
     "output_type": "execute_result"
    }
   ],
   "source": [
    "string = 'Pooja5264Kanad4561Satyam65465'\n",
    "regx = '[A-Za-z]*'\n",
    "re.findall(regx, string)"
   ]
  },
  {
   "cell_type": "code",
   "execution_count": null,
   "id": "b98ba969",
   "metadata": {},
   "outputs": [],
   "source": [
    "if we have to find a match of charachters starting with a or A"
   ]
  },
  {
   "cell_type": "code",
   "execution_count": 5,
   "id": "c46b0140",
   "metadata": {},
   "outputs": [
    {
     "data": {
      "text/plain": [
       "['Adit']"
      ]
     },
     "execution_count": 5,
     "metadata": {},
     "output_type": "execute_result"
    }
   ],
   "source": [
    "regx = '^[aA][a-z]+'\n",
    "re.findall(regx,'Adit')"
   ]
  },
  {
   "cell_type": "code",
   "execution_count": null,
   "id": "a55331d8",
   "metadata": {},
   "outputs": [],
   "source": [
    "if we want to match a sub string which ends with t"
   ]
  },
  {
   "cell_type": "code",
   "execution_count": 9,
   "id": "223ce9be",
   "metadata": {},
   "outputs": [
    {
     "data": {
      "text/plain": [
       "['t']"
      ]
     },
     "execution_count": 9,
     "metadata": {},
     "output_type": "execute_result"
    }
   ],
   "source": [
    "regx = 't$'\n",
    "re.findall(regx,'Sanket')"
   ]
  },
  {
   "cell_type": "code",
   "execution_count": 10,
   "id": "a03399b4",
   "metadata": {},
   "outputs": [
    {
     "data": {
      "text/plain": [
       "['Sanket']"
      ]
     },
     "execution_count": 10,
     "metadata": {},
     "output_type": "execute_result"
    }
   ],
   "source": [
    "regx = '[A-Za-z]*t$'\n",
    "re.findall(regx,'Sanket')"
   ]
  },
  {
   "cell_type": "code",
   "execution_count": 15,
   "id": "0bed75dc",
   "metadata": {},
   "outputs": [
    {
     "data": {
      "text/plain": [
       "['S#nket']"
      ]
     },
     "execution_count": 15,
     "metadata": {},
     "output_type": "execute_result"
    }
   ],
   "source": [
    "regx = '......$'\n",
    "re.findall(regx,'S#nket')"
   ]
  },
  {
   "cell_type": "markdown",
   "id": "693e0bcb",
   "metadata": {},
   "source": [
    "# Write a Program to print hello world if given string starts with a and ends with z(make a function to do this task)"
   ]
  },
  {
   "cell_type": "code",
   "execution_count": null,
   "id": "c715baf6",
   "metadata": {},
   "outputs": [],
   "source": [
    "5 mins 19:50 - 19:57"
   ]
  },
  {
   "cell_type": "code",
   "execution_count": 20,
   "id": "4368ae58",
   "metadata": {},
   "outputs": [],
   "source": [
    "def check_fun(string):\n",
    "    import re\n",
    "    if re.search('^a[a-z]+z$',string):\n",
    "        print(\"hello world\")"
   ]
  },
  {
   "cell_type": "code",
   "execution_count": 21,
   "id": "f17e4608",
   "metadata": {},
   "outputs": [
    {
     "name": "stdout",
     "output_type": "stream",
     "text": [
      "hello world\n"
     ]
    }
   ],
   "source": [
    "check_fun('ajefieniuz')"
   ]
  },
  {
   "cell_type": "code",
   "execution_count": null,
   "id": "57cc0929",
   "metadata": {},
   "outputs": [],
   "source": [
    "What we wanted"
   ]
  },
  {
   "cell_type": "code",
   "execution_count": 23,
   "id": "920f6611",
   "metadata": {},
   "outputs": [],
   "source": [
    "s ='a wecewicef77324324.43423?%535358y2 z'"
   ]
  },
  {
   "cell_type": "code",
   "execution_count": 22,
   "id": "a878ac17",
   "metadata": {},
   "outputs": [],
   "source": [
    "import re\n",
    "def string_match(string):\n",
    "    regx = '^a.*z$'\n",
    "    if re.search(regx,string):\n",
    "        return('Hello World')"
   ]
  },
  {
   "cell_type": "code",
   "execution_count": 24,
   "id": "5d67a5a5",
   "metadata": {},
   "outputs": [
    {
     "data": {
      "text/plain": [
       "'Hello World'"
      ]
     },
     "execution_count": 24,
     "metadata": {},
     "output_type": "execute_result"
    }
   ],
   "source": [
    "string_match(s)"
   ]
  },
  {
   "cell_type": "code",
   "execution_count": null,
   "id": "10337933",
   "metadata": {},
   "outputs": [],
   "source": [
    "# cleaning txt file not a question\n",
    "# name:Aditya.\n",
    "# name:Rambabu.\n",
    "# name:Akansha.\n",
    "# name:Deepak.\n",
    "# txt2\n",
    "# phn:+919522459\n",
    "# phn:+154823554\n",
    "# phn:+916284548"
   ]
  },
  {
   "cell_type": "code",
   "execution_count": null,
   "id": "9cd5b60d",
   "metadata": {},
   "outputs": [],
   "source": [
    "# span(),start(),end() ? not a question"
   ]
  },
  {
   "cell_type": "markdown",
   "id": "ae8d3c85",
   "metadata": {},
   "source": [
    "# Map"
   ]
  },
  {
   "cell_type": "code",
   "execution_count": null,
   "id": "cbb7c1cb",
   "metadata": {},
   "outputs": [],
   "source": [
    "# map(function, iterable)"
   ]
  },
  {
   "cell_type": "code",
   "execution_count": 25,
   "id": "83da480e",
   "metadata": {},
   "outputs": [],
   "source": [
    "def square(num):\n",
    "    return num**2"
   ]
  },
  {
   "cell_type": "code",
   "execution_count": 26,
   "id": "662262d0",
   "metadata": {},
   "outputs": [],
   "source": [
    "l = [1,2,4,5,7,8]"
   ]
  },
  {
   "cell_type": "code",
   "execution_count": 27,
   "id": "e9d9ca05",
   "metadata": {},
   "outputs": [
    {
     "data": {
      "text/plain": [
       "<map at 0x2750deaa6a0>"
      ]
     },
     "execution_count": 27,
     "metadata": {},
     "output_type": "execute_result"
    }
   ],
   "source": [
    "map(square, l)"
   ]
  },
  {
   "cell_type": "code",
   "execution_count": 28,
   "id": "c63b8dd0",
   "metadata": {},
   "outputs": [
    {
     "data": {
      "text/plain": [
       "[1, 4, 16, 25, 49, 64]"
      ]
     },
     "execution_count": 28,
     "metadata": {},
     "output_type": "execute_result"
    }
   ],
   "source": [
    "list(map(square, l))"
   ]
  },
  {
   "cell_type": "code",
   "execution_count": 29,
   "id": "9a0571fc",
   "metadata": {},
   "outputs": [],
   "source": [
    "def cat(string):\n",
    "    return string+\" cat\"\n",
    "fruits = ['mango','apple','banana','pineapple']"
   ]
  },
  {
   "cell_type": "code",
   "execution_count": 30,
   "id": "cf779104",
   "metadata": {},
   "outputs": [
    {
     "data": {
      "text/plain": [
       "['mango cat', 'apple cat', 'banana cat', 'pineapple cat']"
      ]
     },
     "execution_count": 30,
     "metadata": {},
     "output_type": "execute_result"
    }
   ],
   "source": [
    "list(map(cat,fruits))"
   ]
  },
  {
   "cell_type": "code",
   "execution_count": 40,
   "id": "4d3f5c0e",
   "metadata": {},
   "outputs": [
    {
     "data": {
      "text/plain": [
       "['Pratush', 'Shashi', 'Pratik']"
      ]
     },
     "execution_count": 40,
     "metadata": {},
     "output_type": "execute_result"
    }
   ],
   "source": [
    "'Pratush Shashi Pratik'.split(' ')"
   ]
  },
  {
   "cell_type": "code",
   "execution_count": 42,
   "id": "449b2eb8",
   "metadata": {},
   "outputs": [
    {
     "name": "stdout",
     "output_type": "stream",
     "text": [
      "1 2 3 4 5 6 8\n"
     ]
    }
   ],
   "source": [
    "num = input().split(' ')"
   ]
  },
  {
   "cell_type": "code",
   "execution_count": 43,
   "id": "6119af2e",
   "metadata": {},
   "outputs": [
    {
     "data": {
      "text/plain": [
       "['1', '2', '3', '4', '5', '6', '8']"
      ]
     },
     "execution_count": 43,
     "metadata": {},
     "output_type": "execute_result"
    }
   ],
   "source": [
    "num"
   ]
  },
  {
   "cell_type": "code",
   "execution_count": 44,
   "id": "c59b213a",
   "metadata": {},
   "outputs": [
    {
     "data": {
      "text/plain": [
       "3"
      ]
     },
     "execution_count": 44,
     "metadata": {},
     "output_type": "execute_result"
    }
   ],
   "source": [
    "int(num[2])"
   ]
  },
  {
   "cell_type": "code",
   "execution_count": 45,
   "id": "15327e32",
   "metadata": {},
   "outputs": [
    {
     "name": "stdout",
     "output_type": "stream",
     "text": [
      "1 2 4 56 87\n"
     ]
    }
   ],
   "source": [
    "val = list(map(int, input().split(' ')))"
   ]
  },
  {
   "cell_type": "code",
   "execution_count": 46,
   "id": "324e1aaa",
   "metadata": {},
   "outputs": [
    {
     "data": {
      "text/plain": [
       "[1, 2, 4, 56, 87]"
      ]
     },
     "execution_count": 46,
     "metadata": {},
     "output_type": "execute_result"
    }
   ],
   "source": [
    "val"
   ]
  },
  {
   "cell_type": "code",
   "execution_count": null,
   "id": "0dd55481",
   "metadata": {},
   "outputs": [],
   "source": []
  },
  {
   "cell_type": "markdown",
   "id": "6d69b81b",
   "metadata": {},
   "source": [
    "# tuple unPacking"
   ]
  },
  {
   "cell_type": "code",
   "execution_count": 31,
   "id": "7fecc257",
   "metadata": {},
   "outputs": [],
   "source": [
    "t = (1,2,3)"
   ]
  },
  {
   "cell_type": "code",
   "execution_count": 32,
   "id": "1d503b43",
   "metadata": {},
   "outputs": [],
   "source": [
    "a,b,c = t"
   ]
  },
  {
   "cell_type": "code",
   "execution_count": 33,
   "id": "38026f69",
   "metadata": {},
   "outputs": [
    {
     "data": {
      "text/plain": [
       "1"
      ]
     },
     "execution_count": 33,
     "metadata": {},
     "output_type": "execute_result"
    }
   ],
   "source": [
    "a"
   ]
  },
  {
   "cell_type": "code",
   "execution_count": 34,
   "id": "e891b960",
   "metadata": {},
   "outputs": [
    {
     "data": {
      "text/plain": [
       "2"
      ]
     },
     "execution_count": 34,
     "metadata": {},
     "output_type": "execute_result"
    }
   ],
   "source": [
    "b"
   ]
  },
  {
   "cell_type": "code",
   "execution_count": 35,
   "id": "3b02c4bd",
   "metadata": {},
   "outputs": [
    {
     "data": {
      "text/plain": [
       "3"
      ]
     },
     "execution_count": 35,
     "metadata": {},
     "output_type": "execute_result"
    }
   ],
   "source": [
    "c"
   ]
  },
  {
   "cell_type": "code",
   "execution_count": 36,
   "id": "37720692",
   "metadata": {},
   "outputs": [],
   "source": [
    "l = [1,2,6]"
   ]
  },
  {
   "cell_type": "code",
   "execution_count": 37,
   "id": "68a55903",
   "metadata": {},
   "outputs": [],
   "source": [
    "a,b,c = l"
   ]
  },
  {
   "cell_type": "code",
   "execution_count": 38,
   "id": "17722e65",
   "metadata": {},
   "outputs": [
    {
     "data": {
      "text/plain": [
       "1"
      ]
     },
     "execution_count": 38,
     "metadata": {},
     "output_type": "execute_result"
    }
   ],
   "source": [
    "a"
   ]
  },
  {
   "cell_type": "code",
   "execution_count": 39,
   "id": "5b91c0e9",
   "metadata": {},
   "outputs": [
    {
     "data": {
      "text/plain": [
       "6"
      ]
     },
     "execution_count": 39,
     "metadata": {},
     "output_type": "execute_result"
    }
   ],
   "source": [
    "c"
   ]
  },
  {
   "cell_type": "code",
   "execution_count": 47,
   "id": "cbc067d2",
   "metadata": {},
   "outputs": [
    {
     "name": "stdout",
     "output_type": "stream",
     "text": [
      "1 2 4 5 9\n"
     ]
    }
   ],
   "source": [
    "val = set(map(int, input().split(' ')))"
   ]
  },
  {
   "cell_type": "code",
   "execution_count": 48,
   "id": "feb7fb1c",
   "metadata": {},
   "outputs": [
    {
     "data": {
      "text/plain": [
       "{1, 2, 4, 5, 9}"
      ]
     },
     "execution_count": 48,
     "metadata": {},
     "output_type": "execute_result"
    }
   ],
   "source": [
    "val"
   ]
  },
  {
   "cell_type": "code",
   "execution_count": null,
   "id": "3a8c383d",
   "metadata": {},
   "outputs": [],
   "source": [
    "a = int(input())\n",
    "b = int(input())"
   ]
  },
  {
   "cell_type": "code",
   "execution_count": 49,
   "id": "2481729d",
   "metadata": {},
   "outputs": [
    {
     "name": "stdout",
     "output_type": "stream",
     "text": [
      "1 5\n"
     ]
    }
   ],
   "source": [
    "a,b = list(map(int,input().split(' ')))"
   ]
  },
  {
   "cell_type": "code",
   "execution_count": 50,
   "id": "5b4281ff",
   "metadata": {},
   "outputs": [
    {
     "data": {
      "text/plain": [
       "1"
      ]
     },
     "execution_count": 50,
     "metadata": {},
     "output_type": "execute_result"
    }
   ],
   "source": [
    "a"
   ]
  },
  {
   "cell_type": "code",
   "execution_count": 51,
   "id": "0bad1c68",
   "metadata": {},
   "outputs": [
    {
     "data": {
      "text/plain": [
       "5"
      ]
     },
     "execution_count": 51,
     "metadata": {},
     "output_type": "execute_result"
    }
   ],
   "source": [
    "b"
   ]
  },
  {
   "cell_type": "code",
   "execution_count": 52,
   "id": "1860353a",
   "metadata": {},
   "outputs": [
    {
     "name": "stdout",
     "output_type": "stream",
     "text": [
      "1 5 7 9 9\n"
     ]
    }
   ],
   "source": [
    "a = input()"
   ]
  },
  {
   "cell_type": "code",
   "execution_count": 53,
   "id": "a288fa8a",
   "metadata": {},
   "outputs": [
    {
     "data": {
      "text/plain": [
       "str"
      ]
     },
     "execution_count": 53,
     "metadata": {},
     "output_type": "execute_result"
    }
   ],
   "source": [
    "type(a)"
   ]
  },
  {
   "cell_type": "markdown",
   "id": "ff2bbd84",
   "metadata": {},
   "source": [
    "# filter"
   ]
  },
  {
   "cell_type": "code",
   "execution_count": null,
   "id": "6192b537",
   "metadata": {},
   "outputs": [],
   "source": [
    "filter(funct, iterable)"
   ]
  },
  {
   "cell_type": "code",
   "execution_count": 58,
   "id": "b432d575",
   "metadata": {},
   "outputs": [],
   "source": [
    "def even_odd(num):\n",
    "    if num%2==0:\n",
    "        return False\n",
    "    else:\n",
    "        return True"
   ]
  },
  {
   "cell_type": "code",
   "execution_count": 55,
   "id": "b0156831",
   "metadata": {},
   "outputs": [],
   "source": [
    "l = [1,2,3,4,5,6,7,8]"
   ]
  },
  {
   "cell_type": "code",
   "execution_count": 59,
   "id": "9ca1f9a1",
   "metadata": {},
   "outputs": [
    {
     "data": {
      "text/plain": [
       "[1, 3, 5, 7]"
      ]
     },
     "execution_count": 59,
     "metadata": {},
     "output_type": "execute_result"
    }
   ],
   "source": [
    "list(filter(even_odd,l))"
   ]
  },
  {
   "cell_type": "code",
   "execution_count": 57,
   "id": "506213aa",
   "metadata": {},
   "outputs": [
    {
     "data": {
      "text/plain": [
       "[False, True, False, True, False, True, False, True]"
      ]
     },
     "execution_count": 57,
     "metadata": {},
     "output_type": "execute_result"
    }
   ],
   "source": [
    "list(map(even_odd,l))"
   ]
  },
  {
   "cell_type": "code",
   "execution_count": null,
   "id": "af203387",
   "metadata": {},
   "outputs": [],
   "source": []
  },
  {
   "cell_type": "code",
   "execution_count": 60,
   "id": "e04b54b4",
   "metadata": {},
   "outputs": [],
   "source": [
    "def multipies(num):\n",
    "    return num * 2\n",
    "l = [4, 5, 8, 9 ,10]"
   ]
  },
  {
   "cell_type": "code",
   "execution_count": 61,
   "id": "af5d93ac",
   "metadata": {},
   "outputs": [
    {
     "data": {
      "text/plain": [
       "[8, 10, 16, 18, 20]"
      ]
     },
     "execution_count": 61,
     "metadata": {},
     "output_type": "execute_result"
    }
   ],
   "source": [
    "list(map(multipies, l))"
   ]
  },
  {
   "cell_type": "markdown",
   "id": "12c4525f",
   "metadata": {},
   "source": [
    "#### 1. Write a Python program to triple all numbers of a given list of integers.\n",
    "   Use Python map\n"
   ]
  },
  {
   "cell_type": "code",
   "execution_count": 62,
   "id": "f79d3567",
   "metadata": {},
   "outputs": [],
   "source": [
    "def triple(num):\n",
    "    return num**3\n",
    "l=[1,2,3,4,5]"
   ]
  },
  {
   "cell_type": "code",
   "execution_count": 63,
   "id": "e7eddce4",
   "metadata": {},
   "outputs": [
    {
     "data": {
      "text/plain": [
       "[1, 8, 27, 64, 125]"
      ]
     },
     "execution_count": 63,
     "metadata": {},
     "output_type": "execute_result"
    }
   ],
   "source": [
    "list(map(triple,l))"
   ]
  },
  {
   "cell_type": "code",
   "execution_count": null,
   "id": "ebfc9fa7",
   "metadata": {},
   "outputs": [],
   "source": [
    "2. Write a Python program to add three given lists using Python map\n"
   ]
  },
  {
   "cell_type": "code",
   "execution_count": 64,
   "id": "2a06ab95",
   "metadata": {},
   "outputs": [],
   "source": [
    "def add_3(num):\n",
    "    return num+3\n",
    "\n",
    "l = [1,2,3]\n",
    "\n"
   ]
  },
  {
   "cell_type": "code",
   "execution_count": 65,
   "id": "ba620534",
   "metadata": {},
   "outputs": [
    {
     "data": {
      "text/plain": [
       "[4, 5, 6]"
      ]
     },
     "execution_count": 65,
     "metadata": {},
     "output_type": "execute_result"
    }
   ],
   "source": [
    "list(map(add_3,l))"
   ]
  },
  {
   "cell_type": "code",
   "execution_count": null,
   "id": "230af6a7",
   "metadata": {},
   "outputs": [],
   "source": []
  }
 ],
 "metadata": {
  "kernelspec": {
   "display_name": "Python 3 (ipykernel)",
   "language": "python",
   "name": "python3"
  },
  "language_info": {
   "codemirror_mode": {
    "name": "ipython",
    "version": 3
   },
   "file_extension": ".py",
   "mimetype": "text/x-python",
   "name": "python",
   "nbconvert_exporter": "python",
   "pygments_lexer": "ipython3",
   "version": "3.9.7"
  }
 },
 "nbformat": 4,
 "nbformat_minor": 5
}
