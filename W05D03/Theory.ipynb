{
 "cells": [
  {
   "cell_type": "markdown",
   "id": "42dd9320",
   "metadata": {},
   "source": [
    "### A module is a file containing Python code. A package, however, is like a directory that holds sub-packages and modules.\n",
    "### As your program gets longer, you may want to split it into several files for easier maintenance. You may also want to use a handy function that you’ve written in several programs without copying its definition into each program.\n",
    "### definitions from a module can be imported into other modules or into the main module (the collection of variables that you have access to in a script executed at the top level and in calculator mode).\n",
    "### A module can contain executable statements as well as function definitions"
   ]
  },
  {
   "cell_type": "markdown",
   "id": "9e31dc30",
   "metadata": {},
   "source": [
    "### The built-in function dir() is used to find out which names a module defines¶"
   ]
  },
  {
   "cell_type": "code",
   "execution_count": null,
   "id": "60b56e98",
   "metadata": {},
   "outputs": [],
   "source": []
  }
 ],
 "metadata": {
  "kernelspec": {
   "display_name": "Python 3 (ipykernel)",
   "language": "python",
   "name": "python3"
  },
  "language_info": {
   "codemirror_mode": {
    "name": "ipython",
    "version": 3
   },
   "file_extension": ".py",
   "mimetype": "text/x-python",
   "name": "python",
   "nbconvert_exporter": "python",
   "pygments_lexer": "ipython3",
   "version": "3.9.7"
  }
 },
 "nbformat": 4,
 "nbformat_minor": 5
}
