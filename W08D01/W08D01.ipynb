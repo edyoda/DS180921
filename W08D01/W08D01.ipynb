{
 "cells": [
  {
   "cell_type": "code",
   "execution_count": 1,
   "id": "56f1b1a3",
   "metadata": {},
   "outputs": [],
   "source": [
    "class Animal: \n",
    "    def __init__(self, name, weight,height):\n",
    "        self.name = name\n",
    "        self.weight = weight\n",
    "        self.height = height\n",
    "        \n",
    "#     def set_name(self):\n",
    "#         self.name = name\n",
    "#     def set_weight(self):\n",
    "#         self.weight = weight\n",
    "#     def set_height(self):\n",
    "#         self.height = height\n",
    "        \n",
    "    def get_name(self):\n",
    "        return self.name\n",
    "    def get_weight(self):\n",
    "        return self.weight\n",
    "    def get_height(self):\n",
    "        return self.height\n",
    "    \n",
    "    def eat(self):\n",
    "        print(self.name,'is eating')\n",
    "    def sleep(self):\n",
    "        print(self.name,'is sleeping')"
   ]
  },
  {
   "cell_type": "code",
   "execution_count": 8,
   "id": "370fe2b9",
   "metadata": {},
   "outputs": [],
   "source": [
    "class Dog(Animal):\n",
    "    def __init__(self, name, weight,height):\n",
    "        super().__init__(name, weight,height)\n",
    "    def eat(self):\n",
    "        print(self.name,'is eating really fast')\n",
    "        super().sleep()"
   ]
  },
  {
   "cell_type": "code",
   "execution_count": 9,
   "id": "d6e58fa1",
   "metadata": {},
   "outputs": [],
   "source": [
    "d = Dog('Tommy',25,50)"
   ]
  },
  {
   "cell_type": "code",
   "execution_count": 10,
   "id": "9b325294",
   "metadata": {},
   "outputs": [
    {
     "name": "stdout",
     "output_type": "stream",
     "text": [
      "Tommy is eating really fast\n",
      "Tommy is sleeping\n"
     ]
    }
   ],
   "source": [
    "d.eat()"
   ]
  },
  {
   "cell_type": "code",
   "execution_count": 14,
   "id": "343148ba",
   "metadata": {},
   "outputs": [],
   "source": [
    "class A:\n",
    "    def money(self):\n",
    "        print(\"I've got dollars$$\")\n",
    "class B(A):\n",
    "    def values(self):\n",
    "        super().money()\n",
    "        print(\"I've got values\")\n",
    "class C(B):\n",
    "    def Getabove(self):\n",
    "        super().values()\n",
    "        "
   ]
  },
  {
   "cell_type": "code",
   "execution_count": 15,
   "id": "6e6609e3",
   "metadata": {},
   "outputs": [],
   "source": [
    "c = C()"
   ]
  },
  {
   "cell_type": "code",
   "execution_count": 16,
   "id": "50297635",
   "metadata": {},
   "outputs": [
    {
     "name": "stdout",
     "output_type": "stream",
     "text": [
      "I've got dollars$$\n",
      "I've got values\n"
     ]
    }
   ],
   "source": [
    "c.Getabove()"
   ]
  },
  {
   "cell_type": "code",
   "execution_count": 23,
   "id": "797c027f",
   "metadata": {},
   "outputs": [
    {
     "name": "stdout",
     "output_type": "stream",
     "text": [
      "swift is moving\n",
      "Vehicle is moving\n"
     ]
    }
   ],
   "source": [
    "class Vehicle:\n",
    "    def move(self):\n",
    "        print(\"Vehicle is moving\")\n",
    "        \n",
    "class swift_Dzire(Vehicle):\n",
    "    def move2(self):\n",
    "        super().move()\n",
    "        print(\"Swift Dzire is moving\")\n",
    "        super().move()\n",
    "        \n",
    "class swift(swift_Dzire):\n",
    "    def move(self):\n",
    "        print(\"swift is moving\")\n",
    "        super().move()\n",
    "c=swift()\n",
    "c.move()\n"
   ]
  },
  {
   "cell_type": "code",
   "execution_count": 18,
   "id": "07b26fc8",
   "metadata": {},
   "outputs": [
    {
     "name": "stdout",
     "output_type": "stream",
     "text": [
      "Help on swift_Dzire in module __main__ object:\n",
      "\n",
      "class swift_Dzire(Vehicle)\n",
      " |  Method resolution order:\n",
      " |      swift_Dzire\n",
      " |      Vehicle\n",
      " |      builtins.object\n",
      " |  \n",
      " |  Methods defined here:\n",
      " |  \n",
      " |  move(self)\n",
      " |  \n",
      " |  ----------------------------------------------------------------------\n",
      " |  Data descriptors inherited from Vehicle:\n",
      " |  \n",
      " |  __dict__\n",
      " |      dictionary for instance variables (if defined)\n",
      " |  \n",
      " |  __weakref__\n",
      " |      list of weak references to the object (if defined)\n",
      "\n"
     ]
    }
   ],
   "source": [
    "help(c)"
   ]
  },
  {
   "cell_type": "code",
   "execution_count": 25,
   "id": "2161542e",
   "metadata": {},
   "outputs": [
    {
     "name": "stdout",
     "output_type": "stream",
     "text": [
      "Rahul is driving\n"
     ]
    }
   ],
   "source": [
    "class car:\n",
    "    def carname(self,name):\n",
    "        self.name=name\n",
    "        \n",
    "    def carcost(self,cost):\n",
    "        self.cost=cost\n",
    "        \n",
    "        \n",
    "        \n",
    "class specs(car):\n",
    "    def __init__(self,name,cost):\n",
    "        super().carname(name)\n",
    "        super().carcost(cost)\n",
    "        \n",
    "    def driver_name(self,drivername):\n",
    "        self.drivername=drivername\n",
    "        print(self.drivername,'is driving')\n",
    "        \n",
    "        \n",
    "        \n",
    "class driverage(specs):\n",
    "    def __init__(self,drivername):\n",
    "        super().driver_name(drivername)\n",
    "        \n",
    "    def age(self,driverage):\n",
    "        self.driverage=driverage\n",
    "        print(self.driverage,'is fine')\n",
    "a = driverage('Rahul')"
   ]
  },
  {
   "cell_type": "code",
   "execution_count": 26,
   "id": "7788b30d",
   "metadata": {},
   "outputs": [
    {
     "name": "stdout",
     "output_type": "stream",
     "text": [
      "milage is about 12 kmpl\n"
     ]
    }
   ],
   "source": [
    "class car:\n",
    "    def __init__(self,milage,horn,fuel_type):\n",
    "        self.milage=milage\n",
    "        self.horn=horn\n",
    "        self.fuel_type=fuel_type\n",
    "    def horn(self):\n",
    "        print('sound of horn is pom pom')\n",
    "    def fuel_type(self):\n",
    "        print('fuel type is petrol')\n",
    "    def milage(self):\n",
    "        print('milage is about 12 kmpl')\n",
    "        \n",
    "class lorry(car):\n",
    "    def getabove(self):\n",
    "        super().horn()\n",
    "        super().fuel_type()\n",
    "        \n",
    "class auto(lorry):\n",
    "    def get_above(self):\n",
    "        super().milage()\n",
    "bmw=auto(12,'pom pom','petrol')\n",
    "bmw.get_above()"
   ]
  },
  {
   "cell_type": "code",
   "execution_count": 27,
   "id": "471e0744",
   "metadata": {},
   "outputs": [
    {
     "name": "stdout",
     "output_type": "stream",
     "text": [
      "Help on auto in module __main__ object:\n",
      "\n",
      "class auto(lorry)\n",
      " |  auto(milage, horn, fuel_type)\n",
      " |  \n",
      " |  Method resolution order:\n",
      " |      auto\n",
      " |      lorry\n",
      " |      car\n",
      " |      builtins.object\n",
      " |  \n",
      " |  Methods defined here:\n",
      " |  \n",
      " |  get_above(self)\n",
      " |  \n",
      " |  ----------------------------------------------------------------------\n",
      " |  Methods inherited from lorry:\n",
      " |  \n",
      " |  getabove(self)\n",
      " |  \n",
      " |  ----------------------------------------------------------------------\n",
      " |  Methods inherited from car:\n",
      " |  \n",
      " |  __init__(self, milage, horn, fuel_type)\n",
      " |      Initialize self.  See help(type(self)) for accurate signature.\n",
      " |  \n",
      " |  fuel_type(self)\n",
      " |  \n",
      " |  horn(self)\n",
      " |  \n",
      " |  milage(self)\n",
      " |  \n",
      " |  ----------------------------------------------------------------------\n",
      " |  Data descriptors inherited from car:\n",
      " |  \n",
      " |  __dict__\n",
      " |      dictionary for instance variables (if defined)\n",
      " |  \n",
      " |  __weakref__\n",
      " |      list of weak references to the object (if defined)\n",
      "\n"
     ]
    }
   ],
   "source": [
    "help(bmw)"
   ]
  },
  {
   "cell_type": "code",
   "execution_count": 28,
   "id": "f380c364",
   "metadata": {},
   "outputs": [],
   "source": [
    "c = car(75,'peep peep','electric')"
   ]
  },
  {
   "cell_type": "code",
   "execution_count": 29,
   "id": "c2197c2a",
   "metadata": {},
   "outputs": [
    {
     "name": "stdout",
     "output_type": "stream",
     "text": [
      "Help on car in module __main__ object:\n",
      "\n",
      "class car(builtins.object)\n",
      " |  car(milage, horn, fuel_type)\n",
      " |  \n",
      " |  Methods defined here:\n",
      " |  \n",
      " |  __init__(self, milage, horn, fuel_type)\n",
      " |      Initialize self.  See help(type(self)) for accurate signature.\n",
      " |  \n",
      " |  fuel_type(self)\n",
      " |  \n",
      " |  horn(self)\n",
      " |  \n",
      " |  milage(self)\n",
      " |  \n",
      " |  ----------------------------------------------------------------------\n",
      " |  Data descriptors defined here:\n",
      " |  \n",
      " |  __dict__\n",
      " |      dictionary for instance variables (if defined)\n",
      " |  \n",
      " |  __weakref__\n",
      " |      list of weak references to the object (if defined)\n",
      "\n"
     ]
    }
   ],
   "source": [
    "help(c)"
   ]
  },
  {
   "cell_type": "code",
   "execution_count": 1,
   "id": "b3bcaa43",
   "metadata": {},
   "outputs": [],
   "source": [
    "class A:\n",
    "    def __init__(self):\n",
    "        print('A')\n",
    "        \n",
    "class B:\n",
    "    def __init__(self):\n",
    "        print('B')\n",
    "        super().__init__()\n",
    "        \n",
    "class C:\n",
    "    def __init__(self):\n",
    "        super().__init__()\n",
    "        print('C')\n",
    "        \n",
    "class X(B,A,C):\n",
    "    def func(self):\n",
    "        super().__init__()"
   ]
  },
  {
   "cell_type": "code",
   "execution_count": 2,
   "id": "c0d5b91e",
   "metadata": {},
   "outputs": [
    {
     "name": "stdout",
     "output_type": "stream",
     "text": [
      "B\n"
     ]
    }
   ],
   "source": [
    "x = B()"
   ]
  },
  {
   "cell_type": "code",
   "execution_count": 55,
   "id": "7bef759c",
   "metadata": {},
   "outputs": [
    {
     "name": "stdout",
     "output_type": "stream",
     "text": [
      "A\n"
     ]
    }
   ],
   "source": [
    "x = X()"
   ]
  },
  {
   "cell_type": "code",
   "execution_count": 40,
   "id": "b5a0f34e",
   "metadata": {},
   "outputs": [
    {
     "name": "stdout",
     "output_type": "stream",
     "text": [
      "C\n"
     ]
    }
   ],
   "source": [
    "x.func()"
   ]
  },
  {
   "cell_type": "code",
   "execution_count": 41,
   "id": "28ae1861",
   "metadata": {},
   "outputs": [
    {
     "name": "stdout",
     "output_type": "stream",
     "text": [
      "Help on X in module __main__ object:\n",
      "\n",
      "class X(C, B, A)\n",
      " |  Method resolution order:\n",
      " |      X\n",
      " |      C\n",
      " |      B\n",
      " |      A\n",
      " |      builtins.object\n",
      " |  \n",
      " |  Methods defined here:\n",
      " |  \n",
      " |  func(self)\n",
      " |  \n",
      " |  ----------------------------------------------------------------------\n",
      " |  Methods inherited from C:\n",
      " |  \n",
      " |  __init__(self)\n",
      " |      Initialize self.  See help(type(self)) for accurate signature.\n",
      " |  \n",
      " |  ----------------------------------------------------------------------\n",
      " |  Data descriptors inherited from C:\n",
      " |  \n",
      " |  __dict__\n",
      " |      dictionary for instance variables (if defined)\n",
      " |  \n",
      " |  __weakref__\n",
      " |      list of weak references to the object (if defined)\n",
      "\n"
     ]
    }
   ],
   "source": [
    "help(x)"
   ]
  },
  {
   "cell_type": "code",
   "execution_count": 59,
   "id": "f84340a1",
   "metadata": {},
   "outputs": [],
   "source": [
    "class A:\n",
    "    def __init__(self):\n",
    "        print('A')\n",
    "class B(A):\n",
    "    def __init__(self):\n",
    "        print(\"B\")\n",
    "class C(B):\n",
    "    def __init__(self):\n",
    "        print('C')\n",
    "class D(B):\n",
    "    def __init__(self):\n",
    "        print('D')\n",
    "class P(A):\n",
    "    def __init__(self):\n",
    "        print('P')\n",
    "class G(P):\n",
    "    def __init__(self):\n",
    "        print('G')\n",
    "class E(A):\n",
    "    def __init__(self):\n",
    "        print('E')\n",
    "class F(E):\n",
    "    def __init__(self):\n",
    "        print('F')\n",
    "class Child(C,D,G,F):\n",
    "    def __init__(self):\n",
    "        print('Child')"
   ]
  },
  {
   "cell_type": "code",
   "execution_count": 60,
   "id": "bc78acc5",
   "metadata": {},
   "outputs": [
    {
     "name": "stdout",
     "output_type": "stream",
     "text": [
      "Child\n"
     ]
    }
   ],
   "source": [
    "X = Child()"
   ]
  },
  {
   "cell_type": "code",
   "execution_count": 61,
   "id": "21a3ebcd",
   "metadata": {},
   "outputs": [
    {
     "name": "stdout",
     "output_type": "stream",
     "text": [
      "Help on Child in module __main__ object:\n",
      "\n",
      "class Child(C, D, G, F)\n",
      " |  Method resolution order:\n",
      " |      Child\n",
      " |      C\n",
      " |      D\n",
      " |      B\n",
      " |      G\n",
      " |      P\n",
      " |      F\n",
      " |      E\n",
      " |      A\n",
      " |      builtins.object\n",
      " |  \n",
      " |  Methods defined here:\n",
      " |  \n",
      " |  __init__(self)\n",
      " |      Initialize self.  See help(type(self)) for accurate signature.\n",
      " |  \n",
      " |  ----------------------------------------------------------------------\n",
      " |  Data descriptors inherited from A:\n",
      " |  \n",
      " |  __dict__\n",
      " |      dictionary for instance variables (if defined)\n",
      " |  \n",
      " |  __weakref__\n",
      " |      list of weak references to the object (if defined)\n",
      "\n"
     ]
    }
   ],
   "source": [
    "help(X)"
   ]
  },
  {
   "cell_type": "code",
   "execution_count": null,
   "id": "3c1c6edf",
   "metadata": {},
   "outputs": [],
   "source": []
  }
 ],
 "metadata": {
  "kernelspec": {
   "display_name": "Python 3 (ipykernel)",
   "language": "python",
   "name": "python3"
  },
  "language_info": {
   "codemirror_mode": {
    "name": "ipython",
    "version": 3
   },
   "file_extension": ".py",
   "mimetype": "text/x-python",
   "name": "python",
   "nbconvert_exporter": "python",
   "pygments_lexer": "ipython3",
   "version": "3.9.7"
  }
 },
 "nbformat": 4,
 "nbformat_minor": 5
}
